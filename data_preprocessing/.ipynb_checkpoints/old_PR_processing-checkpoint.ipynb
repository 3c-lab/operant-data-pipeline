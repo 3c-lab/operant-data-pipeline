{
 "cells": [
  {
   "cell_type": "code",
   "execution_count": 173,
   "id": "3c73382e",
   "metadata": {},
   "outputs": [],
   "source": [
    "import re\n",
    "import numpy as np\n",
    "import pandas as pd\n",
    "import warnings\n",
    "warnings.filterwarnings('ignore')\n",
    "import xlrd\n",
    "from openpyxl import load_workbook\n",
    "import os\n",
    "from datetime import datetime"
   ]
  },
  {
   "cell_type": "code",
   "execution_count": 174,
   "id": "00f9b7c9",
   "metadata": {},
   "outputs": [],
   "source": [
    "characteristics_PR = ['rfid', 'subject', 'room', 'cohort', 'trial_id', 'drug', 'box','start_time', 'end_time', \n",
    " 'start_date', 'end_date', 'last_ratio', 'breakpoint', 'active_lever_presses', 'inactive_lever_presses',\n",
    " 'reward_presses', 'reward_points']"
   ]
  },
  {
   "cell_type": "code",
   "execution_count": 175,
   "id": "e4cd2f88",
   "metadata": {
    "scrolled": true
   },
   "outputs": [
    {
     "data": {
      "text/plain": [
       "{0: 0,\n",
       " 1: 1,\n",
       " 2: 2,\n",
       " 3: 4,\n",
       " 4: 6,\n",
       " 5: 9,\n",
       " 6: 12,\n",
       " 7: 15,\n",
       " 8: 20,\n",
       " 9: 25,\n",
       " 10: 32,\n",
       " 11: 40,\n",
       " 12: 50,\n",
       " 13: 62,\n",
       " 14: 77,\n",
       " 15: 95,\n",
       " 16: 118,\n",
       " 17: 145,\n",
       " 18: 178}"
      ]
     },
     "execution_count": 175,
     "metadata": {},
     "output_type": "execute_result"
    }
   ],
   "source": [
    "coc_rewards = np.arange(19)\n",
    "coc_lr = [0,1,2,4,6,9,12,15,20,25,32,40,50,62,77,95,118,145,178]\n",
    "coc_lr_dict = dict(zip(coc_rewards,coc_lr))\n",
    "coc_lr_dict"
   ]
  },
  {
   "cell_type": "code",
   "execution_count": 176,
   "id": "b1c0e97e",
   "metadata": {
    "scrolled": true
   },
   "outputs": [
    {
     "data": {
      "text/plain": [
       "{0: 0,\n",
       " 1: 1,\n",
       " 2: 1,\n",
       " 3: 2,\n",
       " 4: 2,\n",
       " 5: 3,\n",
       " 6: 3,\n",
       " 7: 4,\n",
       " 8: 4,\n",
       " 9: 5,\n",
       " 10: 5,\n",
       " 11: 6,\n",
       " 12: 6,\n",
       " 13: 7,\n",
       " 14: 7,\n",
       " 15: 8,\n",
       " 16: 8,\n",
       " 17: 9,\n",
       " 18: 9,\n",
       " 19: 10,\n",
       " 20: 10,\n",
       " 21: 11,\n",
       " 22: 12,\n",
       " 23: 13,\n",
       " 24: 14,\n",
       " 25: 15,\n",
       " 26: 16,\n",
       " 27: 17,\n",
       " 28: 18,\n",
       " 29: 19,\n",
       " 30: 20,\n",
       " 31: 21,\n",
       " 32: 22,\n",
       " 33: 23,\n",
       " 34: 24,\n",
       " 35: 25,\n",
       " 36: 26,\n",
       " 37: 27,\n",
       " 38: 28,\n",
       " 39: 29,\n",
       " 40: 30,\n",
       " 41: 31,\n",
       " 42: 32,\n",
       " 43: 33,\n",
       " 44: 34,\n",
       " 45: 35,\n",
       " 46: 36,\n",
       " 47: 37,\n",
       " 48: 38,\n",
       " 49: 39,\n",
       " 50: 40,\n",
       " 51: 41,\n",
       " 52: 42,\n",
       " 53: 43,\n",
       " 54: 44,\n",
       " 55: 45,\n",
       " 56: 46,\n",
       " 57: 47,\n",
       " 58: 48,\n",
       " 59: 50,\n",
       " 60: 60,\n",
       " 61: 70,\n",
       " 62: 80,\n",
       " 63: 90,\n",
       " 64: 100,\n",
       " 65: 100,\n",
       " 66: 100,\n",
       " 67: 100,\n",
       " 68: 100}"
      ]
     },
     "execution_count": 176,
     "metadata": {},
     "output_type": "execute_result"
    }
   ],
   "source": [
    "oxy_rewards = np.arange(69)\n",
    "oxy_lr = [0,1,1,2,2,3,3,4,4,5,5,6,6,7,7,8,8,9,9,10] + np.arange(10,49).tolist() + [50,60,70,80,90,100,100,100,100,100]\n",
    "oxy_lr_dict = dict(zip(oxy_rewards,oxy_lr))\n",
    "oxy_lr_dict"
   ]
  },
  {
   "cell_type": "code",
   "execution_count": 177,
   "id": "6efcee1c",
   "metadata": {},
   "outputs": [],
   "source": [
    "rfid_coc = pd.read_csv('/Users/yunyihuang/Desktop/gl_data/rfid_cocaine.csv', index_col=0)\n",
    "rfid_oxy = pd.read_csv('/Users/yunyihuang/Desktop/gl_data/rfid_oxycodone.csv', index_col=0)"
   ]
  },
  {
   "cell_type": "code",
   "execution_count": 178,
   "id": "0fc8d323",
   "metadata": {},
   "outputs": [],
   "source": [
    "# get all the sheetnames in one excel workbook\n",
    "def get_sheetnames_xlsx(file_name):\n",
    "    wb = load_workbook(file_name, read_only=True, keep_links=False)\n",
    "    return wb.sheetnames\n",
    "\n",
    "# clean subject id\n",
    "def clean_subject_id(sid):\n",
    "    sid = sid.upper()\n",
    "    if 'F' in sid:\n",
    "        char = 'F'\n",
    "    if 'M' in sid:\n",
    "        char = 'M'\n",
    "        \n",
    "    idx = sid.index(char)\n",
    "    return sid[idx:].split('.')[0]\n",
    "\n",
    "# convert column names into correct format\n",
    "def clean_cols(s):\n",
    "    if 'U' in s:\n",
    "        return s.replace('U','Active ')\n",
    "    elif 'V' in s:\n",
    "        return s.replace('V','Inactive ')\n",
    "    elif 'Y' in s:\n",
    "        return s.replace('Y','Reward ')\n",
    "    else:\n",
    "        return s"
   ]
  },
  {
   "cell_type": "markdown",
   "id": "840b821b",
   "metadata": {},
   "source": [
    "### COCAINE PR"
   ]
  },
  {
   "cell_type": "code",
   "execution_count": 179,
   "id": "d6489337",
   "metadata": {},
   "outputs": [
    {
     "data": {
      "text/plain": [
       "['/Users/yunyihuang/George Lab Dropbox/George_Lab/Team GWAS/SA data/Cocaine/allnonmedpc/C01GWASCocaine_allnonMEDPCsessions_modified_final.xlsx',\n",
       " '/Users/yunyihuang/George Lab Dropbox/George_Lab/Team GWAS/SA data/Cocaine/allnonmedpc/C02GWASCocaine_allnonMEDPCsessions_modified_final.xlsx',\n",
       " '/Users/yunyihuang/George Lab Dropbox/George_Lab/Team GWAS/SA data/Cocaine/allnonmedpc/C03GWASCocaine_allnonMEDPCsessions_modified_final.xlsx',\n",
       " '/Users/yunyihuang/George Lab Dropbox/George_Lab/Team GWAS/SA data/Cocaine/allnonmedpc/C04GWASCocaine_allnonMEDPCsessions_modified_final.xlsx',\n",
       " '/Users/yunyihuang/George Lab Dropbox/George_Lab/Team GWAS/SA data/Cocaine/allnonmedpc/C05GWASCocaine_allnonMEDPCsessions_modified_final.xlsx']"
      ]
     },
     "execution_count": 179,
     "metadata": {},
     "output_type": "execute_result"
    }
   ],
   "source": [
    "input_path = '/Users/yunyihuang/George Lab Dropbox/George_Lab/Team GWAS/SA data/Cocaine/allnonmedpc'\n",
    "workbooks = [os.path.join(input_path, i) for i in sorted(os.listdir(input_path)) if ('modified_final' in i)]\n",
    "workbooks"
   ]
  },
  {
   "cell_type": "code",
   "execution_count": 180,
   "id": "3c3bb93a",
   "metadata": {},
   "outputs": [
    {
     "name": "stdout",
     "output_type": "stream",
     "text": [
      "/Users/yunyihuang/George Lab Dropbox/George_Lab/Team GWAS/SA data/Cocaine/allnonmedpc/C01GWASCocaine_allnonMEDPCsessions_modified_final.xlsx 3\n",
      "C01HSPR01-20170814.xlsx\n",
      "C01HSPR02-20170905.xlsx\n",
      "C01HSPR03-20170908.xlsx\n",
      "/Users/yunyihuang/George Lab Dropbox/George_Lab/Team GWAS/SA data/Cocaine/allnonmedpc/C02GWASCocaine_allnonMEDPCsessions_modified_final.xlsx 3\n",
      "C02HSPR01-20171031.xlsx\n",
      "C02HSPR02-20171122.xlsx\n",
      "C02HSPR03-20171130.xlsx\n",
      "/Users/yunyihuang/George Lab Dropbox/George_Lab/Team GWAS/SA data/Cocaine/allnonmedpc/C03GWASCocaine_allnonMEDPCsessions_modified_final.xlsx 3\n",
      "C03HSPR01-20180220.xlsx\n",
      "C03HSPR02-20180314.xlsx\n",
      "C03HSPR03-20180319.xlsx\n",
      "/Users/yunyihuang/George Lab Dropbox/George_Lab/Team GWAS/SA data/Cocaine/allnonmedpc/C04GWASCocaine_allnonMEDPCsessions_modified_final.xlsx 3\n",
      "C04HSPR01-20180430\n",
      "C04HSPR02-20180522\n",
      "C04HSPR03-20180525\n",
      "/Users/yunyihuang/George Lab Dropbox/George_Lab/Team GWAS/SA data/Cocaine/allnonmedpc/C05GWASCocaine_allnonMEDPCsessions_modified_final.xlsx 3\n",
      "C05HSPR01-20180813\n",
      "C05HSPR02-20180905\n",
      "C05HSPR03-20180910\n"
     ]
    }
   ],
   "source": [
    "for wb in workbooks:\n",
    "    worksheets = sorted(get_sheetnames_xlsx(wb))\n",
    "    worksheets = [ws for ws in worksheets if 'PR' in ws]\n",
    "    print(wb, len(worksheets))\n",
    "    for ws in worksheets:\n",
    "        print(ws)"
   ]
  },
  {
   "cell_type": "code",
   "execution_count": 181,
   "id": "42721379",
   "metadata": {},
   "outputs": [
    {
     "name": "stdout",
     "output_type": "stream",
     "text": [
      "3\n",
      "C01HSPR01-20170814.xlsx\n",
      "C01HSPR02-20170905.xlsx\n",
      "C01HSPR03-20170908.xlsx\n",
      "3\n",
      "C02HSPR01-20171031.xlsx\n",
      "C02HSPR02-20171122.xlsx\n",
      "C02HSPR03-20171130.xlsx\n",
      "3\n",
      "C03HSPR01-20180220.xlsx\n",
      "C03HSPR02-20180314.xlsx\n",
      "C03HSPR03-20180319.xlsx\n",
      "3\n",
      "C04HSPR01-20180430\n",
      "C04HSPR02-20180522\n",
      "C04HSPR03-20180525\n",
      "3\n",
      "C05HSPR01-20180813\n",
      "C05HSPR02-20180905\n",
      "C05HSPR03-20180910\n"
     ]
    }
   ],
   "source": [
    "for wb in workbooks:\n",
    "    worksheets = sorted(get_sheetnames_xlsx(wb))\n",
    "    worksheets = [ws for ws in worksheets if 'PR' in ws]\n",
    "    print(len(worksheets))\n",
    "    for ws in worksheets:\n",
    "        print(ws)\n",
    "        transform_old_pr(wb, ws, input_path)"
   ]
  },
  {
   "cell_type": "code",
   "execution_count": null,
   "id": "044bb3b2",
   "metadata": {},
   "outputs": [],
   "source": []
  },
  {
   "cell_type": "markdown",
   "id": "f375d0a8",
   "metadata": {},
   "source": [
    "### OXYCODONE PR"
   ]
  },
  {
   "cell_type": "code",
   "execution_count": 143,
   "id": "af5796e9",
   "metadata": {},
   "outputs": [
    {
     "data": {
      "text/plain": [
       "['/Users/yunyihuang/George Lab Dropbox/George_Lab/Team GWAS/SA data/Oxycodone/allnonmedpc/C01GWASoxy_allnonMEDPCsessions_modified.xlsx']"
      ]
     },
     "execution_count": 143,
     "metadata": {},
     "output_type": "execute_result"
    }
   ],
   "source": [
    "input_path = '/Users/yunyihuang/George Lab Dropbox/George_Lab/Team GWAS/SA data/Oxycodone/allnonmedpc'\n",
    "workbooks = [os.path.join(input_path, i) for i in sorted(os.listdir(input_path)) if ('modified' in i)]\n",
    "workbooks"
   ]
  },
  {
   "cell_type": "code",
   "execution_count": 144,
   "id": "28cb00b7",
   "metadata": {},
   "outputs": [
    {
     "data": {
      "text/plain": [
       "['C01HSOXYPR01-20180813',\n",
       " 'C01HSOXYPR02-20180905',\n",
       " 'C01HSOXYPR03T1-20180907',\n",
       " 'C01HSOXYPR04T2-20180911',\n",
       " 'C01HSOXYPR05T3-20180913',\n",
       " 'C01HSOXYPR06T4-20180917']"
      ]
     },
     "execution_count": 144,
     "metadata": {},
     "output_type": "execute_result"
    }
   ],
   "source": [
    "wb = workbooks[0]\n",
    "worksheets = sorted(get_sheetnames_xlsx(wb))\n",
    "worksheets = [ws for ws in worksheets if 'PR' in ws]\n",
    "worksheets"
   ]
  },
  {
   "cell_type": "code",
   "execution_count": 109,
   "id": "76bb6938",
   "metadata": {},
   "outputs": [
    {
     "data": {
      "text/plain": [
       "'C01HSOXYPR01-20180813'"
      ]
     },
     "execution_count": 109,
     "metadata": {},
     "output_type": "execute_result"
    }
   ],
   "source": [
    "ws = worksheets[0]\n",
    "ws"
   ]
  },
  {
   "cell_type": "code",
   "execution_count": 145,
   "id": "caac587b",
   "metadata": {},
   "outputs": [
    {
     "name": "stdout",
     "output_type": "stream",
     "text": [
      "6\n",
      "C01HSOXYPR01-20180813\n",
      "C01HSOXYPR02-20180905\n",
      "C01HSOXYPR03T1-20180907\n",
      "C01HSOXYPR04T2-20180911\n",
      "C01HSOXYPR05T3-20180913\n",
      "C01HSOXYPR06T4-20180917\n"
     ]
    }
   ],
   "source": [
    "for wb in workbooks:\n",
    "    worksheets = sorted(get_sheetnames_xlsx(wb))\n",
    "    worksheets = [ws for ws in worksheets if 'PR' in ws]\n",
    "    print(len(worksheets))\n",
    "    for ws in worksheets:\n",
    "        print(ws)\n",
    "        transform_old_pr(wb, ws, input_path)"
   ]
  },
  {
   "cell_type": "code",
   "execution_count": 172,
   "id": "e631163f",
   "metadata": {},
   "outputs": [],
   "source": [
    "def transform_old_pr(wb,ws,input_path):\n",
    "    filepath = os.path.join(input_path, wb)\n",
    "    df_raw = pd.read_excel(filepath, sheet_name = ws).T.reset_index()\n",
    "\n",
    "    # modify the header\n",
    "    new_header = df_raw.iloc[0]     #grab the first row for the header\n",
    "    df = df_raw[1:]                 #take the data except the header row\n",
    "    df.columns = new_header \n",
    "\n",
    "    # get rid of 0s\n",
    "    df.replace(0, np.nan, inplace=True)\n",
    "    df.dropna(how='all', axis=1, inplace=True)\n",
    "    df.fillna(0,inplace=True)\n",
    "    \n",
    "    # transform columns names\n",
    "    ID_col = df.columns.tolist()[0]\n",
    "    filtered_cols = [i for i in df.columns if i[0] in ['Y'] or \n",
    "                     i in [ID_col, 'Active Lever Presses', 'Inactive Lever Presses', 'Reward']]\n",
    "    dff = df[filtered_cols]\n",
    "    new_cols = [clean_cols(i) for i in dff.columns]\n",
    "    dff.columns = new_cols\n",
    "    \n",
    "    # add extra info\n",
    "    if 'OXY' in ws:\n",
    "        drug = 'Oxycodone'\n",
    "        parser = r'(\\AC[0-9]{2})HS[OXY]*((?:PR)[0-9]+)'\n",
    "        rfid_to_merge = rfid_oxy\n",
    "        output_path = '/Users/yunyihuang/Desktop/gl_data/GEORGE/OXY_PR'\n",
    "        lr_dict = oxy_lr_dict\n",
    "    else:\n",
    "        drug = 'Cocaine'\n",
    "        parser = r'(C[0-9]{2})HS((?:PR)[0-9]{2})'\n",
    "        rfid_to_merge = rfid_coc\n",
    "        output_path = '/Users/yunyihuang/Desktop/gl_data/GEORGE/COC_PR'\n",
    "        lr_dict = coc_lr_dict\n",
    "\n",
    "    if '-' in ws:\n",
    "            to_split = '-'\n",
    "    if '_' in ws:\n",
    "        to_split = '_'\n",
    "        \n",
    "    info, date = ws.split('.')[0].split(to_split)\n",
    "    cohort, trial_id = re.findall(parser, ws)[0]\n",
    "    dt = pd.to_datetime(date, format='%Y%m%d', errors='ignore')\n",
    "    \n",
    "    dff['room'] = ['N/A'] * len(dff)\n",
    "    dff['cohort'] = [cohort[1:]] * len(dff)\n",
    "    dff['trial_id'] = [trial_id] * len(dff)\n",
    "    dff['drug'] = [drug] * len(dff)\n",
    "    dff['box'] = [-999] * len(dff)\n",
    "    dff['start_time'] = [datetime.min.time()] * len(dff)\n",
    "    dff['end_time'] = [datetime.min.time()] * len(dff)\n",
    "    dff['start_date'] = [dt] * len(dff)\n",
    "    dff['end_date'] = [datetime.min.date()] * len(dff)\n",
    "    \n",
    "    # reorganize the columns\n",
    "    colnames = dff.columns.tolist()\n",
    "    reward_col_begin = colnames.index('Reward 0')\n",
    "    reward_col_end = colnames.index('room')\n",
    "    dff['Reward Points'] = dff.iloc[:, reward_col_begin:reward_col_end].values.tolist()\n",
    "    dff.drop(dff.iloc[:, reward_col_begin:reward_col_end], inplace=True, axis=1)\n",
    "    dff.rename(columns={\"Reward\": \"Reward Presses\", ID_col:\"subject\"}, inplace=True)\n",
    "    \n",
    "    dff['Reward Points'] = dff['Reward Points'].apply(lambda x: [i for i in x if i > 0])\n",
    "    dff['Breakpoint'] = dff['Reward Points'].apply(lambda lst: lst[-1] if len(lst) > 0 else 0)\n",
    "    dff['last_ratio'] = dff['Reward Presses'].apply(lambda x: lr_dict[x] if x in lr_dict else -999)\n",
    "    \n",
    "    dff = pd.merge(dff, rfid_to_merge,  how='left', on = ['subject'])\n",
    "    dff.rename(columns=str.lower,inplace=True)\n",
    "    dff.columns = dff.columns.str.replace(' ','_')\n",
    "    dff.fillna({'rfid':-999}, inplace=True)\n",
    "    dff = dff[characteristics_PR]\n",
    "    \n",
    "    filename = ws.split('.')[0]+'_transformed.csv'\n",
    "    dff.to_csv(os.path.join(output_path, filename))"
   ]
  },
  {
   "cell_type": "code",
   "execution_count": 123,
   "id": "8ac57fd3",
   "metadata": {},
   "outputs": [
    {
     "data": {
      "text/plain": [
       "'C01HSOXYPR01-20180813_transformed.csv'"
      ]
     },
     "execution_count": 123,
     "metadata": {},
     "output_type": "execute_result"
    }
   ],
   "source": [
    "filename = ws.split('.')[0]+'_transformed.csv'\n",
    "filename"
   ]
  },
  {
   "cell_type": "code",
   "execution_count": 124,
   "id": "c86502f6",
   "metadata": {},
   "outputs": [],
   "source": [
    "dff.to_csv(os.path.join(output_path, filename))"
   ]
  },
  {
   "cell_type": "code",
   "execution_count": null,
   "id": "8a97f3c8",
   "metadata": {},
   "outputs": [],
   "source": []
  },
  {
   "cell_type": "code",
   "execution_count": null,
   "id": "70a8d2b4",
   "metadata": {},
   "outputs": [],
   "source": []
  },
  {
   "cell_type": "code",
   "execution_count": null,
   "id": "15432e35",
   "metadata": {},
   "outputs": [],
   "source": []
  },
  {
   "cell_type": "code",
   "execution_count": null,
   "id": "8c2b9ed5",
   "metadata": {},
   "outputs": [],
   "source": []
  },
  {
   "cell_type": "code",
   "execution_count": null,
   "id": "7c00cc11",
   "metadata": {},
   "outputs": [],
   "source": []
  },
  {
   "cell_type": "code",
   "execution_count": null,
   "id": "80bffc38",
   "metadata": {},
   "outputs": [],
   "source": []
  }
 ],
 "metadata": {
  "kernelspec": {
   "display_name": "Python 3 (ipykernel)",
   "language": "python",
   "name": "python3"
  },
  "language_info": {
   "codemirror_mode": {
    "name": "ipython",
    "version": 3
   },
   "file_extension": ".py",
   "mimetype": "text/x-python",
   "name": "python",
   "nbconvert_exporter": "python",
   "pygments_lexer": "ipython3",
   "version": "3.9.7"
  }
 },
 "nbformat": 4,
 "nbformat_minor": 5
}
