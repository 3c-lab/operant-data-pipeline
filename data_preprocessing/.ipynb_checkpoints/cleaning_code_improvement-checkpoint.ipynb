{
 "cells": [
  {
   "cell_type": "code",
   "execution_count": 4,
   "id": "63c2a4c8",
   "metadata": {},
   "outputs": [],
   "source": [
    "import numpy as np\n",
    "import pandas as pd\n",
    "import re\n",
    "from datetime import datetime\n",
    "import warnings\n",
    "warnings.filterwarnings('ignore')\n",
    "import os\n",
    "from tqdm import tqdm"
   ]
  },
  {
   "cell_type": "code",
   "execution_count": 5,
   "id": "4515acde",
   "metadata": {},
   "outputs": [
    {
     "data": {
      "text/html": [
       "<div>\n",
       "<style scoped>\n",
       "    .dataframe tbody tr th:only-of-type {\n",
       "        vertical-align: middle;\n",
       "    }\n",
       "\n",
       "    .dataframe tbody tr th {\n",
       "        vertical-align: top;\n",
       "    }\n",
       "\n",
       "    .dataframe thead th {\n",
       "        text-align: right;\n",
       "    }\n",
       "</style>\n",
       "<table border=\"1\" class=\"dataframe\">\n",
       "  <thead>\n",
       "    <tr style=\"text-align: right;\">\n",
       "      <th></th>\n",
       "      <th>subject</th>\n",
       "      <th>rfid</th>\n",
       "    </tr>\n",
       "  </thead>\n",
       "  <tbody>\n",
       "    <tr>\n",
       "      <th>0</th>\n",
       "      <td>F1</td>\n",
       "      <td>933000120124701</td>\n",
       "    </tr>\n",
       "    <tr>\n",
       "      <th>1</th>\n",
       "      <td>F2</td>\n",
       "      <td>933000120124703</td>\n",
       "    </tr>\n",
       "    <tr>\n",
       "      <th>2</th>\n",
       "      <td>F3</td>\n",
       "      <td>933000120117342</td>\n",
       "    </tr>\n",
       "    <tr>\n",
       "      <th>3</th>\n",
       "      <td>F4</td>\n",
       "      <td>933000120117333</td>\n",
       "    </tr>\n",
       "    <tr>\n",
       "      <th>4</th>\n",
       "      <td>F5</td>\n",
       "      <td>933000120117347</td>\n",
       "    </tr>\n",
       "  </tbody>\n",
       "</table>\n",
       "</div>"
      ],
      "text/plain": [
       "  subject             rfid\n",
       "0      F1  933000120124701\n",
       "1      F2  933000120124703\n",
       "2      F3  933000120117342\n",
       "3      F4  933000120117333\n",
       "4      F5  933000120117347"
      ]
     },
     "execution_count": 5,
     "metadata": {},
     "output_type": "execute_result"
    }
   ],
   "source": [
    "RFID_COC = pd.read_csv('rfid_cocaine.csv', index_col=0)\n",
    "RFID_COC.head()"
   ]
  },
  {
   "cell_type": "code",
   "execution_count": 6,
   "id": "1aaa1e7e",
   "metadata": {},
   "outputs": [
    {
     "data": {
      "text/html": [
       "<div>\n",
       "<style scoped>\n",
       "    .dataframe tbody tr th:only-of-type {\n",
       "        vertical-align: middle;\n",
       "    }\n",
       "\n",
       "    .dataframe tbody tr th {\n",
       "        vertical-align: top;\n",
       "    }\n",
       "\n",
       "    .dataframe thead th {\n",
       "        text-align: right;\n",
       "    }\n",
       "</style>\n",
       "<table border=\"1\" class=\"dataframe\">\n",
       "  <thead>\n",
       "    <tr style=\"text-align: right;\">\n",
       "      <th></th>\n",
       "      <th>subject</th>\n",
       "      <th>rfid</th>\n",
       "    </tr>\n",
       "  </thead>\n",
       "  <tbody>\n",
       "    <tr>\n",
       "      <th>0</th>\n",
       "      <td>F101</td>\n",
       "      <td>9.330001e+14</td>\n",
       "    </tr>\n",
       "    <tr>\n",
       "      <th>1</th>\n",
       "      <td>F102</td>\n",
       "      <td>9.330001e+14</td>\n",
       "    </tr>\n",
       "    <tr>\n",
       "      <th>2</th>\n",
       "      <td>F103</td>\n",
       "      <td>9.330001e+14</td>\n",
       "    </tr>\n",
       "    <tr>\n",
       "      <th>3</th>\n",
       "      <td>F104</td>\n",
       "      <td>9.330001e+14</td>\n",
       "    </tr>\n",
       "    <tr>\n",
       "      <th>4</th>\n",
       "      <td>F105</td>\n",
       "      <td>9.330001e+14</td>\n",
       "    </tr>\n",
       "  </tbody>\n",
       "</table>\n",
       "</div>"
      ],
      "text/plain": [
       "  subject          rfid\n",
       "0    F101  9.330001e+14\n",
       "1    F102  9.330001e+14\n",
       "2    F103  9.330001e+14\n",
       "3    F104  9.330001e+14\n",
       "4    F105  9.330001e+14"
      ]
     },
     "execution_count": 6,
     "metadata": {},
     "output_type": "execute_result"
    }
   ],
   "source": [
    "RFID_OXY = pd.read_csv('rfid_oxycodone.csv', index_col=0)\n",
    "RFID_OXY.head()"
   ]
  },
  {
   "cell_type": "code",
   "execution_count": 49,
   "id": "fe076854",
   "metadata": {},
   "outputs": [],
   "source": [
    "input_path = '/Users/yunyihuang/Desktop/gl_data/OXYCODONE/RAW_NEW_LGA'\n",
    "output_path = '/Users/yunyihuang/Desktop/gl_data/OXYCODONE/NEW_LGA'\n",
    "\n",
    "parsers = [r\"(\\A[A-Z]+[0-9]+[A-Z|0-9]{1})(C[0-9]{2})HS[OXY]*((?:LGA|SHA)[0-9]{2})\",\n",
    "           r\"(\\AC[0-9]{2})HS[OXY]*((?:LGA|SHA)[0-9]{2})\"]\n",
    "drug = 'oxycodone'"
   ]
  },
  {
   "cell_type": "code",
   "execution_count": 50,
   "id": "8b430ce6",
   "metadata": {
    "scrolled": true
   },
   "outputs": [
    {
     "data": {
      "text/plain": [
       "['MED1110C03HSOXYLGA08_output.xlsx',\n",
       " 'MED1112C03HSOXYLGA08_output.xlsx',\n",
       " 'MED1113C03HSOXYLGA08_output.xlsx',\n",
       " 'MED1114C03HSOXYLGA08_output.xlsx',\n",
       " 'MTF124DC18HSOXYLGA16_output.xlsx',\n",
       " 'MTF134BC17HSOXYLGA04_output.xlsx',\n",
       " 'MTF134BC17HSOXYLGA06_output.xlsx',\n",
       " 'MTF134BC18HSOXYLGA02_output.xlsx',\n",
       " 'MTF134BC18HSOXYLGA03_output.xlsx',\n",
       " 'MTF134BC18HSOXYLGA04_output.xlsx',\n",
       " 'MTF134BC18HSOXYLGA05_output.xlsx',\n",
       " 'MTF134BC18HSOXYLGA06_output.xlsx',\n",
       " 'MTF134BC18HSOXYLGA07_output.xlsx',\n",
       " 'MTF134BC18HSOXYLGA08_output.xlsx',\n",
       " 'MTF134BC18HSOXYLGA09_output.xlsx',\n",
       " 'MTF134BC18HSOXYLGA10_output.xlsx',\n",
       " 'MTF134BC18HSOXYLGA11_output.xlsx',\n",
       " 'MTF134BC18HSOXYLGA12_output.xlsx',\n",
       " 'MTF134BC18HSOXYLGA13_output.xlsx',\n",
       " 'MTF134BC18HSOXYLGA14_output.xlsx',\n",
       " 'MTF134BC18HSOXYLGA15_output.xlsx',\n",
       " 'MTF134BC18HSOXYLGA16_output.xlsx',\n",
       " 'MTF134BC18HSOXYLGA17_output.xlsx',\n",
       " 'MTF134BC18HSOXYLGA18_output.xlsx',\n",
       " 'MTF134BC18HSOXYLGA19_output.xlsx',\n",
       " 'MTF134BC18HSOXYLGA20_output.xlsx',\n",
       " 'MTF134BC18HSOXYLGA21_output.xlsx',\n",
       " 'MTF134CC16HSOXYLGA10_output.xlsx',\n",
       " 'MTF134CC16HSOXYLGA11_output.xlsx',\n",
       " 'MTF134CC17HSOXYLGA04_output.xlsx',\n",
       " 'MTF134CC17HSOXYLGA06_output.xlsx',\n",
       " 'MTF134CC18HSOXYLGA02_output.xlsx',\n",
       " 'MTF134CC18HSOXYLGA03_output.xlsx',\n",
       " 'MTF134CC18HSOXYLGA04_output.xlsx',\n",
       " 'MTF134CC18HSOXYLGA05_output.xlsx',\n",
       " 'MTF134CC18HSOXYLGA06_output.xlsx',\n",
       " 'MTF134CC18HSOXYLGA07_output.xlsx',\n",
       " 'MTF134CC18HSOXYLGA08_output.xlsx',\n",
       " 'MTF134CC18HSOXYLGA09_output.xlsx',\n",
       " 'MTF134CC18HSOXYLGA10_output.xlsx',\n",
       " 'MTF134CC18HSOXYLGA11_output.xlsx',\n",
       " 'MTF134CC18HSOXYLGA12_output.xlsx',\n",
       " 'MTF134CC18HSOXYLGA13_output.xlsx',\n",
       " 'MTF134CC18HSOXYLGA14_output.xlsx',\n",
       " 'MTF134CC18HSOXYLGA15_output.xlsx',\n",
       " 'MTF134CC18HSOXYLGA16_output.xlsx',\n",
       " 'MTF134CC18HSOXYLGA17_output.xlsx',\n",
       " 'MTF134CC18HSOXYLGA18_output.xlsx',\n",
       " 'MTF134CC18HSOXYLGA19_output.xlsx',\n",
       " 'MTF134CC18HSOXYLGA20_output.xlsx',\n",
       " 'MTF134CC18HSOXYLGA21_output.xlsx',\n",
       " 'MTF134DC17HSOXYLGA04_output.xlsx',\n",
       " 'MTF134DC17HSOXYLGA06_output.xlsx',\n",
       " 'MTF134DC18HSOXYLGA02_output.xlsx',\n",
       " 'MTF134DC18HSOXYLGA03_output.xlsx',\n",
       " 'MTF134DC18HSOXYLGA04_output.xlsx',\n",
       " 'MTF134DC18HSOXYLGA05_output.xlsx',\n",
       " 'MTF134DC18HSOXYLGA06_output.xlsx',\n",
       " 'MTF134DC18HSOXYLGA07_output.xlsx',\n",
       " 'MTF134DC18HSOXYLGA08_output.xlsx',\n",
       " 'MTF134DC18HSOXYLGA09_output.xlsx',\n",
       " 'MTF134DC18HSOXYLGA10_output.xlsx',\n",
       " 'MTF134DC18HSOXYLGA11_output.xlsx',\n",
       " 'MTF134DC18HSOXYLGA13_output.xlsx',\n",
       " 'MTF134DC18HSOXYLGA14_output.xlsx',\n",
       " 'MTF134DC18HSOXYLGA15_output.xlsx',\n",
       " 'MTF134DC18HSOXYLGA18_output.xlsx',\n",
       " 'MTF134DC18HSOXYLGA19_output.xlsx',\n",
       " 'MTF134DC18HSOXYLGA20_output.xlsx',\n",
       " 'MTF134DC18HSOXYLGA21_output.xlsx',\n",
       " 'MTF134EC17HSOXYLGA04_output.xlsx',\n",
       " 'MTF134EC17HSOXYLGA06_output.xlsx']"
      ]
     },
     "execution_count": 50,
     "metadata": {},
     "output_type": "execute_result"
    }
   ],
   "source": [
    "files = [i for i in sorted(os.listdir(input_path)) if i != '.DS_Store']\n",
    "files"
   ]
  },
  {
   "cell_type": "code",
   "execution_count": 28,
   "id": "51697d2d",
   "metadata": {},
   "outputs": [],
   "source": [
    "file = files[0]"
   ]
  },
  {
   "cell_type": "code",
   "execution_count": 29,
   "id": "d58a3f3d",
   "metadata": {},
   "outputs": [],
   "source": [
    "transform_data(file, input_path, output_path, parsers, drug)"
   ]
  },
  {
   "cell_type": "code",
   "execution_count": 51,
   "id": "a33f7099",
   "metadata": {},
   "outputs": [],
   "source": [
    "def transform_data(file, input_path, output_path, parsers, drug):\n",
    "    # import data and transpose\n",
    "    filepath = os.path.join(input_path, file)\n",
    "    df_raw = pd.read_excel(filepath).T\n",
    "    df_raw.reset_index(inplace=True)\n",
    "\n",
    "    # modify the header\n",
    "    new_header = df_raw.iloc[0]   #grab the first row for the header\n",
    "    df = df_raw[1:]               #take the data except the header row\n",
    "    df.columns = new_header \n",
    "    df.reset_index(drop=True, inplace=True)\n",
    "    df.drop(['Filename', 'Experiment', 'Group', 'MSN', 'FR'], axis=1, inplace=True)\n",
    "    df.drop_duplicates(inplace=True)\n",
    "\n",
    "    # change data types\n",
    "    cols = df.columns.tolist()\n",
    "    for col in cols:\n",
    "        name = col.lower()\n",
    "        if ('active' in name) or ('reward' in name) or ('timeout' in name) or (name == 'box'):\n",
    "            df[col] = df[col].astype('int32')\n",
    "        elif ('date' in name):\n",
    "            df[col] = df[col].apply(lambda x: datetime.strptime(x, \"%Y-%m-%d\").date())\n",
    "        elif ('time' in name):\n",
    "            df[col] = df[col].apply(lambda x: datetime.strptime(x, \"%H:%M:%S\").time())\n",
    "        else:\n",
    "            pass\n",
    "        \n",
    "    # group the timestamps\n",
    "    colnames = df.columns.tolist()\n",
    "    active_col_begin = colnames.index('Active 1')\n",
    "    inactive_col_begin = colnames.index('Inactive 1')\n",
    "    reward_col_begin = colnames.index('Reward 1')\n",
    "    timeout_col_begin = colnames.index('Timeout Press 1')\n",
    "    idx_end = df.shape[1]\n",
    "    df['Active Timestamps'] = df.iloc[:, active_col_begin:inactive_col_begin].values.tolist()\n",
    "    df['Inactive Timestamps'] = df.iloc[:, inactive_col_begin:reward_col_begin].values.tolist()\n",
    "    df['Reward Timestamps'] = df.iloc[:, reward_col_begin:timeout_col_begin].values.tolist()\n",
    "    df['Timeout Timestamps'] = df.iloc[:, timeout_col_begin:idx_end].values.tolist()\n",
    "    \n",
    "    # reorganize the columns\n",
    "    timestamp_col_begin = df.columns.tolist().index('Active Timestamps')\n",
    "    df.drop(df.iloc[:, active_col_begin:timestamp_col_begin], inplace=True, axis=1)\n",
    "    df.rename(columns={\"Reward\": \"Reward Presses\"}, inplace=True)\n",
    "    df['Timeout Presses'] = df['Timeout Timestamps'].apply(lambda x: len([i for i in x if i != 0]))\n",
    "\n",
    "    # parse the filename\n",
    "    if file[0] == 'C':\n",
    "        parser = parsers[1]\n",
    "        cohort, trial_id = re.findall(parser, file)[0]\n",
    "        room = 'N/A'\n",
    "    else:\n",
    "        parser = parsers[0]\n",
    "        room, cohort, trial_id = re.findall(parser, file)[0]\n",
    "\n",
    "    df['Room'] = [room] * len(df)\n",
    "    df['Cohort'] = [cohort] * len(df)\n",
    "    df['Cohort'] = df['Cohort'].apply(lambda x: int(x[1:]))\n",
    "    df['Trial ID'] = [trial_id] * len(df)\n",
    "    df['Drug'] = [drug] * len(df)\n",
    "\n",
    "    # get the final output\n",
    "    new_columns = ['Subject','Room','Cohort','Trial ID','Drug','Box','Start Time','End Time','Start Date','End Date',\n",
    "                   'Active Lever Presses','Inactive Lever Presses','Reward Presses','Timeout Presses',\n",
    "                   'Active Timestamps','Inactive Timestamps','Reward Timestamps','Timeout Timestamps']\n",
    "    df = df[new_columns]\n",
    "    \n",
    "    # merge in the RFID and reorganize the column formats\n",
    "    df.rename(columns=str.lower,inplace=True)\n",
    "    if drug.lower() == 'cocaine':\n",
    "        rfid_to_merge = RFID_COC\n",
    "    if drug.lower() == 'oxycodone':\n",
    "        rfid_to_merge = RFID_OXY\n",
    "\n",
    "    df = pd.merge(df, rfid_to_merge,  how='left', on = ['subject'])\n",
    "    old_columns = df.columns.tolist()\n",
    "    new_columns = [old_columns[-1]] + old_columns[:-1]\n",
    "    df = df[new_columns]\n",
    "    df.columns = df.columns.str.replace(' ','_')\n",
    "    df.fillna({'rfid':-999}, inplace=True)\n",
    "    \n",
    "    filename = file[:-11] + 'transformed.csv'\n",
    "    df.to_csv(os.path.join(output_path, filename))"
   ]
  },
  {
   "cell_type": "code",
   "execution_count": 52,
   "id": "bfa5d641",
   "metadata": {},
   "outputs": [
    {
     "name": "stderr",
     "output_type": "stream",
     "text": [
      " 38%|████████████████▏                          | 27/72 [01:03<01:46,  2.36s/it]\n"
     ]
    },
    {
     "ename": "ValueError",
     "evalue": "'Timeout Press 1' is not in list",
     "output_type": "error",
     "traceback": [
      "\u001b[0;31m---------------------------------------------------------------------------\u001b[0m",
      "\u001b[0;31mValueError\u001b[0m                                Traceback (most recent call last)",
      "\u001b[0;32m/var/folders/6r/ljk6dgwn77q618x071444l0r0000gn/T/ipykernel_30468/738897481.py\u001b[0m in \u001b[0;36m<module>\u001b[0;34m\u001b[0m\n\u001b[1;32m      1\u001b[0m \u001b[0;32mfor\u001b[0m \u001b[0mi\u001b[0m \u001b[0;32min\u001b[0m \u001b[0mtqdm\u001b[0m\u001b[0;34m(\u001b[0m\u001b[0mrange\u001b[0m\u001b[0;34m(\u001b[0m\u001b[0mlen\u001b[0m\u001b[0;34m(\u001b[0m\u001b[0mfiles\u001b[0m\u001b[0;34m)\u001b[0m\u001b[0;34m)\u001b[0m\u001b[0;34m)\u001b[0m\u001b[0;34m:\u001b[0m\u001b[0;34m\u001b[0m\u001b[0;34m\u001b[0m\u001b[0m\n\u001b[0;32m----> 2\u001b[0;31m     \u001b[0mtransform_data\u001b[0m\u001b[0;34m(\u001b[0m\u001b[0mfiles\u001b[0m\u001b[0;34m[\u001b[0m\u001b[0mi\u001b[0m\u001b[0;34m]\u001b[0m\u001b[0;34m,\u001b[0m \u001b[0minput_path\u001b[0m\u001b[0;34m,\u001b[0m \u001b[0moutput_path\u001b[0m\u001b[0;34m,\u001b[0m \u001b[0mparsers\u001b[0m\u001b[0;34m,\u001b[0m \u001b[0mdrug\u001b[0m\u001b[0;34m)\u001b[0m\u001b[0;34m\u001b[0m\u001b[0;34m\u001b[0m\u001b[0m\n\u001b[0m",
      "\u001b[0;32m/var/folders/6r/ljk6dgwn77q618x071444l0r0000gn/T/ipykernel_30468/2056407714.py\u001b[0m in \u001b[0;36mtransform_data\u001b[0;34m(file, input_path, output_path, parsers, drug)\u001b[0m\n\u001b[1;32m     31\u001b[0m     \u001b[0minactive_col_begin\u001b[0m \u001b[0;34m=\u001b[0m \u001b[0mcolnames\u001b[0m\u001b[0;34m.\u001b[0m\u001b[0mindex\u001b[0m\u001b[0;34m(\u001b[0m\u001b[0;34m'Inactive 1'\u001b[0m\u001b[0;34m)\u001b[0m\u001b[0;34m\u001b[0m\u001b[0;34m\u001b[0m\u001b[0m\n\u001b[1;32m     32\u001b[0m     \u001b[0mreward_col_begin\u001b[0m \u001b[0;34m=\u001b[0m \u001b[0mcolnames\u001b[0m\u001b[0;34m.\u001b[0m\u001b[0mindex\u001b[0m\u001b[0;34m(\u001b[0m\u001b[0;34m'Reward 1'\u001b[0m\u001b[0;34m)\u001b[0m\u001b[0;34m\u001b[0m\u001b[0;34m\u001b[0m\u001b[0m\n\u001b[0;32m---> 33\u001b[0;31m     \u001b[0mtimeout_col_begin\u001b[0m \u001b[0;34m=\u001b[0m \u001b[0mcolnames\u001b[0m\u001b[0;34m.\u001b[0m\u001b[0mindex\u001b[0m\u001b[0;34m(\u001b[0m\u001b[0;34m'Timeout Press 1'\u001b[0m\u001b[0;34m)\u001b[0m\u001b[0;34m\u001b[0m\u001b[0;34m\u001b[0m\u001b[0m\n\u001b[0m\u001b[1;32m     34\u001b[0m     \u001b[0midx_end\u001b[0m \u001b[0;34m=\u001b[0m \u001b[0mdf\u001b[0m\u001b[0;34m.\u001b[0m\u001b[0mshape\u001b[0m\u001b[0;34m[\u001b[0m\u001b[0;36m1\u001b[0m\u001b[0;34m]\u001b[0m\u001b[0;34m\u001b[0m\u001b[0;34m\u001b[0m\u001b[0m\n\u001b[1;32m     35\u001b[0m     \u001b[0mdf\u001b[0m\u001b[0;34m[\u001b[0m\u001b[0;34m'Active Timestamps'\u001b[0m\u001b[0;34m]\u001b[0m \u001b[0;34m=\u001b[0m \u001b[0mdf\u001b[0m\u001b[0;34m.\u001b[0m\u001b[0miloc\u001b[0m\u001b[0;34m[\u001b[0m\u001b[0;34m:\u001b[0m\u001b[0;34m,\u001b[0m \u001b[0mactive_col_begin\u001b[0m\u001b[0;34m:\u001b[0m\u001b[0minactive_col_begin\u001b[0m\u001b[0;34m]\u001b[0m\u001b[0;34m.\u001b[0m\u001b[0mvalues\u001b[0m\u001b[0;34m.\u001b[0m\u001b[0mtolist\u001b[0m\u001b[0;34m(\u001b[0m\u001b[0;34m)\u001b[0m\u001b[0;34m\u001b[0m\u001b[0;34m\u001b[0m\u001b[0m\n",
      "\u001b[0;31mValueError\u001b[0m: 'Timeout Press 1' is not in list"
     ]
    }
   ],
   "source": [
    "for i in tqdm(range(len(files))):\n",
    "    transform_data(files[i], input_path, output_path, parsers, drug)"
   ]
  },
  {
   "cell_type": "code",
   "execution_count": null,
   "id": "4a01520a",
   "metadata": {},
   "outputs": [],
   "source": []
  }
 ],
 "metadata": {
  "kernelspec": {
   "display_name": "Python 3 (ipykernel)",
   "language": "python",
   "name": "python3"
  },
  "language_info": {
   "codemirror_mode": {
    "name": "ipython",
    "version": 3
   },
   "file_extension": ".py",
   "mimetype": "text/x-python",
   "name": "python",
   "nbconvert_exporter": "python",
   "pygments_lexer": "ipython3",
   "version": "3.9.7"
  },
  "vscode": {
   "interpreter": {
    "hash": "8735e7f24135915d1e80394d946b089f0c8b7600ad457bd89eb7fde80e5c34a2"
   }
  }
 },
 "nbformat": 4,
 "nbformat_minor": 5
}
