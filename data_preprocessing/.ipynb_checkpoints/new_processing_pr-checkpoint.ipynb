{
 "cells": [
  {
   "cell_type": "code",
   "execution_count": 1,
   "id": "ede1b1ba",
   "metadata": {},
   "outputs": [],
   "source": [
    "import numpy as np\n",
    "import pandas as pd\n",
    "import re\n",
    "from datetime import datetime\n",
    "import warnings\n",
    "warnings.filterwarnings('ignore')\n",
    "import os\n",
    "from tqdm import tqdm"
   ]
  },
  {
   "cell_type": "code",
   "execution_count": 4,
   "id": "37e20045",
   "metadata": {},
   "outputs": [],
   "source": [
    "input_path = '/Users/yunyihuang/Desktop/gl_data/OXYCODONE/RAW_NEW_PR'\n",
    "output_path = '/Users/yunyihuang/Desktop/gl_data/OXYCODONE/NEW_PR'\n",
    "\n",
    "parsers = [r\"(\\A[A-Z]+[0-9]+[A-Z|0-9]{1})(C[0-9]{2})HS[OXY]*((?:LGA|SHA|PR|TREATMENT)[0-9]+)_output\",\n",
    "               r\"(\\AC[0-9]{2})HS[OXY]*((?:LGA|SHA|PR|TREATMENT)[0-9]+)_output\"]\n",
    "drugA = 'Cocaine'\n",
    "drugB = 'Oxycodone'"
   ]
  },
  {
   "cell_type": "code",
   "execution_count": 5,
   "id": "3f68b5fc",
   "metadata": {},
   "outputs": [
    {
     "data": {
      "text/plain": [
       "['MTF134BC18HSOXYPR02_output.xlsx',\n",
       " 'MTF134CC18HSOXYPR02_output.xlsx',\n",
       " 'MTF134DC18HSOXYPR02_output.xlsx']"
      ]
     },
     "execution_count": 5,
     "metadata": {},
     "output_type": "execute_result"
    }
   ],
   "source": [
    "oxy_files = [i for i in sorted(os.listdir(input_path)) if i != '.DS_Store']\n",
    "oxy_files"
   ]
  },
  {
   "cell_type": "code",
   "execution_count": 6,
   "id": "fc6ceb8f",
   "metadata": {},
   "outputs": [],
   "source": [
    "RFID_OXY = pd.read_csv('rfid_oxycodone.csv', index_col=0)"
   ]
  },
  {
   "cell_type": "code",
   "execution_count": 7,
   "id": "5e437a6d",
   "metadata": {},
   "outputs": [],
   "source": [
    "def transform_pr(input_path, output_path, file, parsers, drug):\n",
    "    # import data and transpose\n",
    "    filepath = os.path.join(input_path, file)\n",
    "    df_raw = pd.read_excel(filepath)\n",
    "    num_subjects = len(set([i for i in df_raw.iloc[5,:].values if isinstance(i, int)]))\n",
    "\n",
    "    if df_raw.shape[1] > num_subjects+1:\n",
    "        df_raw = df_raw.iloc[:,:num_subjects+1]\n",
    "\n",
    "    df_raw = df_raw.T\n",
    "    df_raw.reset_index(inplace=True)\n",
    "\n",
    "    # modify the header\n",
    "    new_header = df_raw.iloc[0]   #grab the first row for the header\n",
    "    df = df_raw[1:]               #take the data except the header row\n",
    "    df.columns = new_header \n",
    "    df.reset_index(drop=True, inplace=True)\n",
    "    df.drop(['Filename', 'Experiment', 'Group', 'MSN', 'FR'], axis=1, inplace=True)\n",
    "\n",
    "    # change data types\n",
    "    cols = df.columns.tolist()\n",
    "    int_columns = ['box','last ratio']\n",
    "\n",
    "    for col in cols:\n",
    "        name = col.lower()\n",
    "        if ('active' in name) or ('reward' in name) or (name in int_columns):\n",
    "            df[col] = df[col].astype('int32')\n",
    "        elif ('date' in name):\n",
    "            df[col] = df[col].apply(lambda x: datetime.strptime(x, \"%Y-%m-%d\").date())\n",
    "        elif ('time' in name):\n",
    "            df[col] = df[col].apply(lambda x: datetime.strptime(x, \"%H:%M:%S\").time())\n",
    "        else:\n",
    "            pass\n",
    "\n",
    "    # reorganize the columns\n",
    "    colnames = df.columns.tolist()\n",
    "    reward_col_begin = colnames.index('Reward 1')\n",
    "    df['Reward Points'] = df.iloc[:, reward_col_begin:].values.tolist()\n",
    "    points_col_begin = df.columns.tolist().index('Reward Points')\n",
    "    df.drop(df.iloc[:, reward_col_begin:points_col_begin], inplace=True, axis=1)\n",
    "    df.rename(columns={\"Reward\": \"Reward Presses\"}, inplace=True)\n",
    "    df['Reward Points'] = df['Reward Points'].apply(lambda x: [i for i in x if i > 0])\n",
    "    df['Breakpoint'] = df['Reward Points'].apply(lambda lst: lst[-1] if len(lst) > 0 else 0)\n",
    "\n",
    "    # parse the file name\n",
    "    if file[0] == 'C':\n",
    "        parser = parsers[1]\n",
    "        cohort, trial_id = re.findall(parser, file)[0]\n",
    "        room = 'N/A'\n",
    "    else:\n",
    "        parser = parsers[0]\n",
    "        room, cohort, trial_id = re.findall(parser, file)[0]\n",
    "\n",
    "    df['Room'] = [room] * len(df)\n",
    "    df['Cohort'] = [cohort] * len(df)\n",
    "    df['Cohort'] = df['Cohort'].apply(lambda x: int(x[1:]))\n",
    "    df['Trial ID'] = [trial_id] * len(df)\n",
    "    df['Drug'] = [drug] * len(df)\n",
    "\n",
    "    # get the final output\n",
    "    new_columns = ['Subject','Room','Cohort','Trial ID','Drug','Box','Start Time','End Time','Start Date','End Date',\n",
    "               'Last Ratio','Breakpoint','Active Lever Presses','Inactive Lever Presses','Reward Presses','Reward Points']\n",
    "    df = df[new_columns]\n",
    "\n",
    "    # merge in the RFID and reorganize the column formats\n",
    "    df.rename(columns=str.lower,inplace=True)\n",
    "    if drug.lower() == 'cocaine':\n",
    "        rfid_to_merge = RFID_COC\n",
    "    if drug.lower() == 'oxycodone':\n",
    "        rfid_to_merge = RFID_OXY\n",
    "\n",
    "    df = pd.merge(df, rfid_to_merge,  how='left', on = ['subject'])\n",
    "    old_columns = df.columns.tolist()\n",
    "    new_columns = [old_columns[-1]] + old_columns[:-1]\n",
    "    df = df[new_columns]\n",
    "    df.columns = df.columns.str.replace(' ','_')\n",
    "    df.fillna({'rfid':-999}, inplace=True)\n",
    "\n",
    "    filename = file[:-11] + 'transformed.csv'\n",
    "    df.to_csv(os.path.join(output_path, filename))"
   ]
  },
  {
   "cell_type": "code",
   "execution_count": 8,
   "id": "b8e82981",
   "metadata": {},
   "outputs": [],
   "source": [
    "file = oxy_files[0]"
   ]
  },
  {
   "cell_type": "code",
   "execution_count": 9,
   "id": "05d3d427",
   "metadata": {},
   "outputs": [],
   "source": [
    "transform_pr(input_path, output_path, file, parsers, drugB)"
   ]
  },
  {
   "cell_type": "code",
   "execution_count": 10,
   "id": "5f4f45d1",
   "metadata": {},
   "outputs": [
    {
     "name": "stderr",
     "output_type": "stream",
     "text": [
      "100%|█████████████████████████████████████████████| 3/3 [00:00<00:00, 10.75it/s]\n"
     ]
    }
   ],
   "source": [
    "for i in tqdm(range(len(oxy_files))):\n",
    "    transform_pr(input_path, output_path, oxy_files[i], parsers, drugB)"
   ]
  },
  {
   "cell_type": "code",
   "execution_count": null,
   "id": "b2dd01fc",
   "metadata": {},
   "outputs": [],
   "source": []
  }
 ],
 "metadata": {
  "kernelspec": {
   "display_name": "Python 3 (ipykernel)",
   "language": "python",
   "name": "python3"
  },
  "language_info": {
   "codemirror_mode": {
    "name": "ipython",
    "version": 3
   },
   "file_extension": ".py",
   "mimetype": "text/x-python",
   "name": "python",
   "nbconvert_exporter": "python",
   "pygments_lexer": "ipython3",
   "version": "3.9.7"
  }
 },
 "nbformat": 4,
 "nbformat_minor": 5
}
