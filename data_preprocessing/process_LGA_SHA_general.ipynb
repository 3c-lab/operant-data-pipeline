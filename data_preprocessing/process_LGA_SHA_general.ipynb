{
 "cells": [
  {
   "cell_type": "code",
   "execution_count": 15,
   "id": "63c2a4c8",
   "metadata": {},
   "outputs": [],
   "source": [
    "import numpy as np\n",
    "import pandas as pd\n",
    "import re\n",
    "from datetime import datetime\n",
    "import warnings\n",
    "warnings.filterwarnings('ignore')\n",
    "import os\n",
    "from tqdm import tqdm"
   ]
  },
  {
   "cell_type": "code",
   "execution_count": 16,
   "id": "7edccd37",
   "metadata": {},
   "outputs": [],
   "source": [
    "characteristics_LGA_SHA = ['rfid','subject','room','cohort','trial_id','drug','box', 'start_time', 'end_time',\n",
    "'start_date','end_date','active_lever_presses','inactive_lever_presses','reward_presses','timeout_presses',\n",
    "'active_timestamps','inactive_timestamps','reward_timestamps','timeout_timestamps']"
   ]
  },
  {
   "cell_type": "code",
   "execution_count": 17,
   "id": "4515acde",
   "metadata": {},
   "outputs": [],
   "source": [
    "RFID_COC = pd.read_csv('rfid_cocaine.csv', index_col=0)"
   ]
  },
  {
   "cell_type": "code",
   "execution_count": 18,
   "id": "1aaa1e7e",
   "metadata": {},
   "outputs": [],
   "source": [
    "RFID_OXY = pd.read_csv('rfid_oxycodone.csv', index_col=0)"
   ]
  },
  {
   "cell_type": "code",
   "execution_count": 19,
   "id": "af77accf",
   "metadata": {},
   "outputs": [],
   "source": [
    "# return valid list of datapoints\n",
    "def process_datapoints(lst):\n",
    "    while lst and lst[-1] == 0:\n",
    "        lst.pop()\n",
    "        \n",
    "    if len(lst) == 0:\n",
    "        return None\n",
    "    else:\n",
    "        return lst\n",
    "\n",
    "# count valid data points\n",
    "def count_datapoints(lst):\n",
    "    while lst and lst[-1] == 0:\n",
    "        lst.pop()\n",
    "        \n",
    "    if len(lst) == 0:\n",
    "        return None\n",
    "    else:\n",
    "        return len(lst)"
   ]
  },
  {
   "cell_type": "code",
   "execution_count": 20,
   "id": "fe076854",
   "metadata": {},
   "outputs": [],
   "source": [
    "# coc lga\n",
    "input_path = '/Users/yunyihuang/George Lab Dropbox/George_Lab/Experiments/DataStream/DataSource/excel_output_files/COCAINE/LGA'\n",
    "output_path = '/Users/yunyihuang/Desktop/gl_data/TRIAL/COC_LGA'\n",
    "\n",
    "parsers = [r\"(\\A[A-Z]+[0-9]+[A-Z|0-9]{1})(C[0-9]{2})HS[OXY|COCAINE]*((?:LGA|SHA)[0-9]{2})\",\n",
    "           r\"(\\AC[0-9]{2})HS[OXY]*((?:LGA|SHA)[0-9]{2})\"]\n",
    "drug = 'cocaine'"
   ]
  },
  {
   "cell_type": "code",
   "execution_count": 21,
   "id": "6192eb52",
   "metadata": {},
   "outputs": [
    {
     "data": {
      "text/plain": [
       "['BSB273BC14HSLGA07_output.xlsx',\n",
       " 'BSB273CC08HSLGA02_output.xlsx',\n",
       " 'BSB273CC08HSLGA08_output.xlsx',\n",
       " 'BSB273EC09HSLGA02_output.xlsx',\n",
       " 'C04HSLGA08_output.xlsx',\n",
       " 'C04HSLGA19_output.xlsx',\n",
       " 'MED1110C05HSLGA22_output.xlsx',\n",
       " 'MTF134CC21HSCOCAINELGA02_output.xlsx']"
      ]
     },
     "execution_count": 21,
     "metadata": {},
     "output_type": "execute_result"
    }
   ],
   "source": [
    "# reingest these\n",
    "problem_fp_coc = '/Users/yunyihuang/George Lab Dropbox/George_Lab/Experiments/DataStream/DataSource/excel_output_files/COCAINE/LGA/problem_original'\n",
    "files_to_reingest_coc = [i for i in sorted(os.listdir(problem_fp_coc))]\n",
    "files_to_reingest_coc"
   ]
  },
  {
   "cell_type": "code",
   "execution_count": 22,
   "id": "2250fd06",
   "metadata": {},
   "outputs": [
    {
     "name": "stdout",
     "output_type": "stream",
     "text": [
      "7\n"
     ]
    },
    {
     "data": {
      "text/plain": [
       "['BSB273BC14HSLGA07_output.xlsx',\n",
       " 'BSB273CC08HSLGA02_output.xlsx',\n",
       " 'BSB273CC08HSLGA08_output.xlsx',\n",
       " 'BSB273EC09HSLGA02_output.xlsx',\n",
       " 'C04HSLGA08_output.xlsx',\n",
       " 'C04HSLGA19_output.xlsx',\n",
       " 'MED1110C05HSLGA22_output.xlsx']"
      ]
     },
     "execution_count": 22,
     "metadata": {},
     "output_type": "execute_result"
    }
   ],
   "source": [
    "files = sorted([i for i in sorted(os.listdir(input_path)) if i != '.DS_Store' and ('C21' not in i)\n",
    "        and ('duplicates' not in i) and ('problem' not in i) and ('LGA' in i) and (i in files_to_reingest_coc)])\n",
    "print(len(files))\n",
    "files"
   ]
  },
  {
   "cell_type": "code",
   "execution_count": 23,
   "id": "1313415c",
   "metadata": {},
   "outputs": [
    {
     "name": "stderr",
     "output_type": "stream",
     "text": [
      "100%|████████████████████████████████████████████████████████████████████████████████| 7/7 [00:16<00:00,  2.38s/it]\n"
     ]
    }
   ],
   "source": [
    "for i in tqdm(range(len(files))):\n",
    "    transform_data(files[i], input_path, output_path, parsers, drug)"
   ]
  },
  {
   "cell_type": "code",
   "execution_count": 26,
   "id": "8e88775a",
   "metadata": {},
   "outputs": [],
   "source": [
    "# oxy lga\n",
    "input_path = '/Users/yunyihuang/George Lab Dropbox/George_Lab/Experiments/DataStream/DataSource/excel_output_files/OXYCODONE/LGA'\n",
    "output_path = '/Users/yunyihuang/Desktop/gl_data/TRIAL/OXY_LGA'\n",
    "\n",
    "parsers = [r\"(\\A[A-Z]+[0-9]+[A-Z|0-9]{1})(C[0-9]{2})HS[OXY|COCAINE]*((?:LGA|SHA)[0-9]{2})\",\n",
    "           r\"(\\AC[0-9]{2})HS[OXY]*((?:LGA|SHA)[0-9]{2})\"]\n",
    "drug = 'oxycodone'"
   ]
  },
  {
   "cell_type": "code",
   "execution_count": 27,
   "id": "faf6eb25",
   "metadata": {
    "scrolled": true
   },
   "outputs": [
    {
     "data": {
      "text/plain": [
       "['.DS_Store',\n",
       " 'BSB273CC06HSOXYLGA10_output.xlsx',\n",
       " 'BSB273CC07HSOXYLGA14_output.xlsx',\n",
       " 'BSB273CC07HSOXYLGA18_output.xlsx',\n",
       " 'BSB273CC09HSOXYLGA15_output.xlsx',\n",
       " 'BSB273CC12HSOXYLGA24_output.xlsx',\n",
       " 'BSB273CC12HSOXYLGA28_output.xlsx',\n",
       " 'BSB273DC07HSOXYLGA09_output.xlsx',\n",
       " 'BSB273DC09HSOXYLGA14_output.xlsx',\n",
       " 'BSB273DC13HSOXYLGA26_output.xlsx',\n",
       " 'MED1112C03HSOXYLGA07_output.xlsx',\n",
       " 'MED1112C03HSOXYLGA08_output.xlsx',\n",
       " 'MED1113C01HSOXYLGA08_output.xlsx',\n",
       " 'MED1113C03HSOXYLGA04_output.xlsx',\n",
       " 'MED1114C03HSOXYLGA08_output.xlsx',\n",
       " 'MTF134BC17HSOXYLGA06_output.xlsx',\n",
       " 'MTF134CC17HSOXYLGA04_output.xlsx',\n",
       " 'MTF134CC17HSOXYLGA06_output.xlsx',\n",
       " 'MTF134CC18HSOXYLGA02_output.xlsx',\n",
       " 'MTF134CC18HSOXYLGA03_output.xlsx',\n",
       " 'MTF134CC18HSOXYLGA04_output.xlsx',\n",
       " 'MTF134DC14HSOXYLGA18_output.xlsx',\n",
       " 'MTF134DC17HSOXYLGA04_output.xlsx',\n",
       " 'MTF134DC17HSOXYLGA06_output.xlsx',\n",
       " 'MTF134EC17HSOXYLGA04_output.xlsx',\n",
       " 'MTF134EC17HSOXYLGA06_output.xlsx',\n",
       " 'MTF134EC17HSOXYLGA12_output.xlsx']"
      ]
     },
     "execution_count": 27,
     "metadata": {},
     "output_type": "execute_result"
    }
   ],
   "source": [
    "# reingest these\n",
    "problem_fp_oxy = '/Users/yunyihuang/George Lab Dropbox/George_Lab/Experiments/DataStream/DataSource/excel_output_files/OXYCODONE/LGA/problem_original'\n",
    "files_to_reingest_oxy = [i for i in sorted(os.listdir(problem_fp_oxy))]\n",
    "files_to_reingest_oxy"
   ]
  },
  {
   "cell_type": "code",
   "execution_count": 28,
   "id": "7503d0bb",
   "metadata": {
    "scrolled": true
   },
   "outputs": [
    {
     "name": "stdout",
     "output_type": "stream",
     "text": [
      "26\n"
     ]
    },
    {
     "data": {
      "text/plain": [
       "['BSB273CC06HSOXYLGA10_output.xlsx',\n",
       " 'BSB273CC07HSOXYLGA14_output.xlsx',\n",
       " 'BSB273CC07HSOXYLGA18_output.xlsx',\n",
       " 'BSB273CC09HSOXYLGA15_output.xlsx',\n",
       " 'BSB273CC12HSOXYLGA24_output.xlsx',\n",
       " 'BSB273CC12HSOXYLGA28_output.xlsx',\n",
       " 'BSB273DC07HSOXYLGA09_output.xlsx',\n",
       " 'BSB273DC09HSOXYLGA14_output.xlsx',\n",
       " 'BSB273DC13HSOXYLGA26_output.xlsx',\n",
       " 'MED1112C03HSOXYLGA07_output.xlsx',\n",
       " 'MED1112C03HSOXYLGA08_output.xlsx',\n",
       " 'MED1113C01HSOXYLGA08_output.xlsx',\n",
       " 'MED1113C03HSOXYLGA04_output.xlsx',\n",
       " 'MED1114C03HSOXYLGA08_output.xlsx',\n",
       " 'MTF134BC17HSOXYLGA06_output.xlsx',\n",
       " 'MTF134CC17HSOXYLGA04_output.xlsx',\n",
       " 'MTF134CC17HSOXYLGA06_output.xlsx',\n",
       " 'MTF134CC18HSOXYLGA02_output.xlsx',\n",
       " 'MTF134CC18HSOXYLGA03_output.xlsx',\n",
       " 'MTF134CC18HSOXYLGA04_output.xlsx',\n",
       " 'MTF134DC14HSOXYLGA18_output.xlsx',\n",
       " 'MTF134DC17HSOXYLGA04_output.xlsx',\n",
       " 'MTF134DC17HSOXYLGA06_output.xlsx',\n",
       " 'MTF134EC17HSOXYLGA04_output.xlsx',\n",
       " 'MTF134EC17HSOXYLGA06_output.xlsx',\n",
       " 'MTF134EC17HSOXYLGA12_output.xlsx']"
      ]
     },
     "execution_count": 28,
     "metadata": {},
     "output_type": "execute_result"
    }
   ],
   "source": [
    "files = sorted([i for i in sorted(os.listdir(input_path)) if i != '.DS_Store' and ('C21' not in i)\n",
    "        and ('duplicates' not in i) and ('problem' not in i) and ('LGA' in i) and (i in files_to_reingest_oxy)])\n",
    "print(len(files))\n",
    "files"
   ]
  },
  {
   "cell_type": "code",
   "execution_count": 29,
   "id": "2890cd41",
   "metadata": {},
   "outputs": [
    {
     "name": "stderr",
     "output_type": "stream",
     "text": [
      "100%|██████████████████████████████████████████████████████████████████████████████| 26/26 [01:07<00:00,  2.59s/it]\n"
     ]
    }
   ],
   "source": [
    "for i in tqdm(range(len(files))):\n",
    "    transform_data(files[i], input_path, output_path, parsers, drug)"
   ]
  },
  {
   "cell_type": "code",
   "execution_count": 30,
   "id": "85d9523e",
   "metadata": {},
   "outputs": [],
   "source": [
    "# coc sha\n",
    "input_path = '/Users/yunyihuang/George Lab Dropbox/George_Lab/Experiments/DataStream/DataSource/excel_output_files/COCAINE/SHA'\n",
    "output_path = '/Users/yunyihuang/Desktop/gl_data/TRIAL/COC_SHA'\n",
    "\n",
    "parsers = [r\"(\\A[A-Z]+[0-9]+[A-Z|0-9]{1})(C[0-9]{2})HS[OXY|COCAINE]*((?:LGA|SHA)[0-9]{2})\",\n",
    "           r\"(\\AC[0-9]{2})HS[OXY]*((?:LGA|SHA)[0-9]{2})\"]\n",
    "drug = 'cocaine'"
   ]
  },
  {
   "cell_type": "code",
   "execution_count": 31,
   "id": "c22059e8",
   "metadata": {},
   "outputs": [
    {
     "data": {
      "text/plain": [
       "['BSB273BC11HSSHA02_output.xlsx',\n",
       " 'BSB273BC14HSSHA05_output.xlsx',\n",
       " 'BSB273CC08HSSHA06_output.xlsx',\n",
       " 'BSB273CC10HSCOCAINESHA03_output.xlsx',\n",
       " 'BSB273CC10HSCOCAINESHA06_output.xlsx',\n",
       " 'BSB273CC11HSSHA01_output.xlsx',\n",
       " 'BSB273CC13HSSHA05_output.xlsx',\n",
       " 'BSB273CC13HSSHA09_output.xlsx',\n",
       " 'BSB273CC14HSSHA04_output.xlsx',\n",
       " 'BSB273CC14HSSHA10_output.xlsx',\n",
       " 'C04HSSHA02_output.xlsx',\n",
       " 'C04HSSHA04_output.xlsx',\n",
       " 'C04HSSHA05_output.xlsx',\n",
       " 'C04HSSHA09_output.xlsx',\n",
       " 'MED1112C07HSSHA01_output.xlsx',\n",
       " 'MTF134CC19HSSHA07_output.xlsx']"
      ]
     },
     "execution_count": 31,
     "metadata": {},
     "output_type": "execute_result"
    }
   ],
   "source": [
    "# reingest these\n",
    "problem_fp_coc = '/Users/yunyihuang/George Lab Dropbox/George_Lab/Experiments/DataStream/DataSource/excel_output_files/COCAINE/SHA/problem_original'\n",
    "files_to_reingest_coc = [i for i in sorted(os.listdir(problem_fp_coc))]\n",
    "files_to_reingest_coc"
   ]
  },
  {
   "cell_type": "code",
   "execution_count": 33,
   "id": "53175c68",
   "metadata": {},
   "outputs": [
    {
     "name": "stdout",
     "output_type": "stream",
     "text": [
      "16\n"
     ]
    },
    {
     "data": {
      "text/plain": [
       "['BSB273BC11HSSHA02_output.xlsx',\n",
       " 'BSB273BC14HSSHA05_output.xlsx',\n",
       " 'BSB273CC08HSSHA06_output.xlsx',\n",
       " 'BSB273CC10HSCOCAINESHA03_output.xlsx',\n",
       " 'BSB273CC10HSCOCAINESHA06_output.xlsx',\n",
       " 'BSB273CC11HSSHA01_output.xlsx',\n",
       " 'BSB273CC13HSSHA05_output.xlsx',\n",
       " 'BSB273CC13HSSHA09_output.xlsx',\n",
       " 'BSB273CC14HSSHA04_output.xlsx',\n",
       " 'BSB273CC14HSSHA10_output.xlsx',\n",
       " 'C04HSSHA02_output.xlsx',\n",
       " 'C04HSSHA04_output.xlsx',\n",
       " 'C04HSSHA05_output.xlsx',\n",
       " 'C04HSSHA09_output.xlsx',\n",
       " 'MED1112C07HSSHA01_output.xlsx',\n",
       " 'MTF134CC19HSSHA07_output.xlsx']"
      ]
     },
     "execution_count": 33,
     "metadata": {},
     "output_type": "execute_result"
    }
   ],
   "source": [
    "files = sorted([i for i in sorted(os.listdir(input_path)) if i != '.DS_Store' and ('C21' not in i)\n",
    "        and ('duplicates' not in i) and ('problem' not in i) and ('SHA' in i) and (i in files_to_reingest_coc)])\n",
    "print(len(files))\n",
    "files"
   ]
  },
  {
   "cell_type": "code",
   "execution_count": 34,
   "id": "e4280756",
   "metadata": {},
   "outputs": [
    {
     "name": "stderr",
     "output_type": "stream",
     "text": [
      "100%|██████████████████████████████████████████████████████████████████████████████| 16/16 [00:37<00:00,  2.34s/it]\n"
     ]
    }
   ],
   "source": [
    "for i in tqdm(range(len(files))):\n",
    "    transform_data(files[i], input_path, output_path, parsers, drug)"
   ]
  },
  {
   "cell_type": "code",
   "execution_count": 35,
   "id": "79960491",
   "metadata": {},
   "outputs": [],
   "source": [
    "# oxy sha\n",
    "input_path = '/Users/yunyihuang/George Lab Dropbox/George_Lab/Experiments/DataStream/DataSource/excel_output_files/OXYCODONE/SHA'\n",
    "output_path = '/Users/yunyihuang/Desktop/gl_data/TRIAL/OXY_SHA'\n",
    "\n",
    "parsers = [r\"(\\A[A-Z]+[0-9]+[A-Z|0-9]{1})(C[0-9]{2})HS[OXY|COCAINE]*((?:LGA|SHA)[0-9]{2})\",\n",
    "           r\"(\\AC[0-9]{2})HS[OXY]*((?:LGA|SHA)[0-9]{2})\"]\n",
    "drug = 'oxycodone'"
   ]
  },
  {
   "cell_type": "code",
   "execution_count": 36,
   "id": "39dfc25b",
   "metadata": {},
   "outputs": [
    {
     "data": {
      "text/plain": [
       "['BSB273CC04HSOXYSHA01_output.xlsx',\n",
       " 'MED1112C03HSOXYSHA01_output.xlsx',\n",
       " 'MTF134BC17HSOXYSHA03_output.xlsx',\n",
       " 'MTF134DC17HSOXYSHA02_output.xlsx']"
      ]
     },
     "execution_count": 36,
     "metadata": {},
     "output_type": "execute_result"
    }
   ],
   "source": [
    "# reingest these\n",
    "problem_fp_oxy = '/Users/yunyihuang/George Lab Dropbox/George_Lab/Experiments/DataStream/DataSource/excel_output_files/OXYCODONE/SHA/problem_original'\n",
    "files_to_reingest_oxy = [i for i in sorted(os.listdir(problem_fp_oxy))]\n",
    "files_to_reingest_oxy"
   ]
  },
  {
   "cell_type": "code",
   "execution_count": 37,
   "id": "1dac34d5",
   "metadata": {},
   "outputs": [
    {
     "name": "stdout",
     "output_type": "stream",
     "text": [
      "4\n"
     ]
    },
    {
     "data": {
      "text/plain": [
       "['BSB273CC04HSOXYSHA01_output.xlsx',\n",
       " 'MED1112C03HSOXYSHA01_output.xlsx',\n",
       " 'MTF134BC17HSOXYSHA03_output.xlsx',\n",
       " 'MTF134DC17HSOXYSHA02_output.xlsx']"
      ]
     },
     "execution_count": 37,
     "metadata": {},
     "output_type": "execute_result"
    }
   ],
   "source": [
    "files = sorted([i for i in sorted(os.listdir(input_path)) if i != '.DS_Store' and ('C21' not in i)\n",
    "        and ('duplicates' not in i) and ('problem' not in i) and ('SHA' in i) and (i in files_to_reingest_oxy)])\n",
    "print(len(files))\n",
    "files"
   ]
  },
  {
   "cell_type": "code",
   "execution_count": 39,
   "id": "b3903708",
   "metadata": {},
   "outputs": [
    {
     "name": "stderr",
     "output_type": "stream",
     "text": [
      "100%|████████████████████████████████████████████████████████████████████████████████| 4/4 [00:09<00:00,  2.37s/it]\n"
     ]
    }
   ],
   "source": [
    "for i in tqdm(range(len(files))):\n",
    "    transform_data(files[i], input_path, output_path, parsers, drug)"
   ]
  },
  {
   "cell_type": "code",
   "execution_count": 172,
   "id": "adabb5cc",
   "metadata": {},
   "outputs": [
    {
     "data": {
      "text/plain": [
       "'MTF134EC14HSOXYSHA01_output.xlsx'"
      ]
     },
     "execution_count": 172,
     "metadata": {},
     "output_type": "execute_result"
    }
   ],
   "source": [
    "files[249]"
   ]
  },
  {
   "cell_type": "markdown",
   "id": "f2f2618f",
   "metadata": {},
   "source": [
    "## Main Code"
   ]
  },
  {
   "cell_type": "code",
   "execution_count": 7,
   "id": "a33f7099",
   "metadata": {},
   "outputs": [],
   "source": [
    "def transform_data(file, input_path, output_path, parsers, drug):\n",
    "    # import data and transpose\n",
    "    filepath = os.path.join(input_path, file)\n",
    "    df_raw = pd.read_excel(filepath).T\n",
    "    df_raw.reset_index(inplace=True)\n",
    "\n",
    "    # modify the header\n",
    "    new_header = df_raw.iloc[0]   #grab the first row for the header\n",
    "    df = df_raw[1:]               #take the data except the header row\n",
    "    df.columns = new_header \n",
    "    df.reset_index(drop=True, inplace=True)\n",
    "    df.drop(['Filename', 'Experiment', 'Group', 'MSN', 'FR'], axis=1, inplace=True)\n",
    "    df.drop_duplicates(inplace=True)\n",
    "    \n",
    "    # patch\n",
    "    if ('Timeout Press 1') not in df.columns:\n",
    "        df['Timeout Press 1'] = [0] * len(df)\n",
    "        \n",
    "    # change data types\n",
    "    cols = df.columns.tolist()\n",
    "    for col in cols:\n",
    "        name = col.lower()\n",
    "        if ('active' in name) or ('reward' in name) or ('timeout' in name) or (name == 'box'):\n",
    "            df[col] = df[col].astype('int32')\n",
    "        elif ('date' in name):\n",
    "            df[col] = df[col].apply(lambda x: pd.to_datetime(x, format='%Y-%m-%d', errors='ignore'))\n",
    "        elif ('time' in name):\n",
    "            df[col] = df[col].apply(lambda x: datetime.strptime(x, \"%H:%M:%S\").time())\n",
    "        else:\n",
    "            pass\n",
    "        \n",
    "    # group the timestamps\n",
    "    colnames = df.columns.tolist()\n",
    "    active_col_begin = colnames.index('Active 1')\n",
    "    inactive_col_begin = colnames.index('Inactive 1')\n",
    "    reward_col_begin = colnames.index('Reward 1')\n",
    "    timeout_col_begin = colnames.index('Timeout Press 1')\n",
    "    idx_end = df.shape[1]\n",
    "    df['Active Timestamps'] = df.iloc[:, active_col_begin:inactive_col_begin].values.tolist()\n",
    "    df['Active Timestamps'] = df['Active Timestamps'].apply(process_datapoints)\n",
    "    df['Inactive Timestamps'] = df.iloc[:, inactive_col_begin:reward_col_begin].values.tolist()\n",
    "    df['Inactive Timestamps'] = df['Inactive Timestamps'].apply(process_datapoints)\n",
    "    df['Reward Timestamps'] = df.iloc[:, reward_col_begin:timeout_col_begin].values.tolist()\n",
    "    df['Reward Timestamps'] = df['Reward Timestamps'].apply(process_datapoints)\n",
    "    df['Timeout Timestamps'] = df.iloc[:, timeout_col_begin:idx_end].values.tolist()\n",
    "    df['Timeout Timestamps'] = df['Timeout Timestamps'].apply(process_datapoints)\n",
    "    \n",
    "    # reorganize the columns\n",
    "    timestamp_col_begin = df.columns.tolist().index('Active Timestamps')\n",
    "    df.drop(df.iloc[:, active_col_begin:timestamp_col_begin], inplace=True, axis=1)\n",
    "    df.rename(columns={\"Reward\": \"Reward Presses\"}, inplace=True)\n",
    "    df['Timeout Presses'] = df['Active Lever Presses'] - df['Reward Presses']\n",
    "\n",
    "    # parse the filename\n",
    "    if file[0] == 'C':\n",
    "        parser = parsers[1]\n",
    "        cohort, trial_id = re.findall(parser, file)[0]\n",
    "        room = None\n",
    "    else:\n",
    "        parser = parsers[0]\n",
    "        room, cohort, trial_id = re.findall(parser, file)[0]\n",
    "\n",
    "    df['room'] = [room] * len(df)\n",
    "    cohort = int(cohort[1:])\n",
    "    df['cohort'] = [cohort] * len(df)\n",
    "    df['trial_id'] = [trial_id] * len(df)\n",
    "    df['drug'] = [drug] * len(df)\n",
    "    \n",
    "    # merge in the RFID and reorganize the column formats\n",
    "    df.rename(columns=str.lower,inplace=True)\n",
    "    if drug.lower() == 'cocaine':\n",
    "        rfid_to_merge = RFID_COC\n",
    "    if drug.lower() == 'oxycodone':\n",
    "        rfid_to_merge = RFID_OXY\n",
    "\n",
    "    df = pd.merge(df, rfid_to_merge,  how='left', on = ['subject'])\n",
    "    df.columns = df.columns.str.replace(' ','_')\n",
    "    df.fillna({'rfid':-999}, inplace=True)\n",
    "    df['rfid'] = df['rfid'].astype('int64')\n",
    "    df = df[characteristics_LGA_SHA]\n",
    "    \n",
    "    filename = file[:-11] + 'transformed.csv'\n",
    "    df.to_csv(os.path.join(output_path, filename))"
   ]
  },
  {
   "cell_type": "code",
   "execution_count": 150,
   "id": "ca564ed5",
   "metadata": {},
   "outputs": [
    {
     "name": "stdout",
     "output_type": "stream",
     "text": [
      "0\n"
     ]
    },
    {
     "data": {
      "text/plain": [
       "[]"
      ]
     },
     "execution_count": 150,
     "metadata": {},
     "output_type": "execute_result"
    }
   ],
   "source": [
    "files = sorted([i for i in sorted(os.listdir(input_path)) if i != '.DS_Store' and ('C21' not in i)\n",
    "        and ('duplicates' not in i) and ('problem' not in i) and ('SHA' in i)])\n",
    "print(len(files))\n",
    "files"
   ]
  },
  {
   "cell_type": "code",
   "execution_count": 118,
   "id": "bfa5d641",
   "metadata": {},
   "outputs": [
    {
     "name": "stderr",
     "output_type": "stream",
     "text": [
      "100%|███████████████████████████████████████████| 565/565 [20:58<00:00,  2.23s/it]\n"
     ]
    }
   ],
   "source": [
    "for i in tqdm(range(len(files))):\n",
    "    transform_data(files[i], input_path, output_path, parsers, drug)"
   ]
  },
  {
   "cell_type": "code",
   "execution_count": null,
   "id": "ddad3216",
   "metadata": {},
   "outputs": [],
   "source": []
  }
 ],
 "metadata": {
  "kernelspec": {
   "display_name": "Python 3 (ipykernel)",
   "language": "python",
   "name": "python3"
  },
  "language_info": {
   "codemirror_mode": {
    "name": "ipython",
    "version": 3
   },
   "file_extension": ".py",
   "mimetype": "text/x-python",
   "name": "python",
   "nbconvert_exporter": "python",
   "pygments_lexer": "ipython3",
   "version": "3.9.7"
  },
  "vscode": {
   "interpreter": {
    "hash": "8735e7f24135915d1e80394d946b089f0c8b7600ad457bd89eb7fde80e5c34a2"
   }
  }
 },
 "nbformat": 4,
 "nbformat_minor": 5
}
