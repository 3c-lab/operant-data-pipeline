{
 "cells": [
  {
   "cell_type": "code",
   "execution_count": 49,
   "id": "b2151ffd",
   "metadata": {},
   "outputs": [],
   "source": [
    "import numpy as np\n",
    "import pandas as pd"
   ]
  },
  {
   "cell_type": "markdown",
   "id": "7a981ff1",
   "metadata": {},
   "source": [
    "## Avoiding the problem of making None value into 0"
   ]
  },
  {
   "cell_type": "code",
   "execution_count": 62,
   "id": "74ff1566",
   "metadata": {},
   "outputs": [],
   "source": [
    "test1 = [0,0,0,0,0,0]\n",
    "test2 = [1,2,3,4,5,0,0,0]"
   ]
  },
  {
   "cell_type": "code",
   "execution_count": 65,
   "id": "3daea955",
   "metadata": {},
   "outputs": [],
   "source": [
    "def count_datapoints(lst):\n",
    "    while lst and lst[-1] == 0:\n",
    "        lst.pop()\n",
    "        \n",
    "    if len(lst) == 0:\n",
    "        return None\n",
    "    else:\n",
    "        return len(lst)"
   ]
  },
  {
   "cell_type": "code",
   "execution_count": 64,
   "id": "b2c75d7f",
   "metadata": {},
   "outputs": [],
   "source": [
    "count_timestamps(test1)"
   ]
  },
  {
   "cell_type": "code",
   "execution_count": 14,
   "id": "c91cf9fe",
   "metadata": {},
   "outputs": [
    {
     "data": {
      "text/plain": [
       "5"
      ]
     },
     "execution_count": 14,
     "metadata": {},
     "output_type": "execute_result"
    }
   ],
   "source": [
    "count_timestamps(test2)"
   ]
  },
  {
   "cell_type": "code",
   "execution_count": 66,
   "id": "423aa367",
   "metadata": {},
   "outputs": [],
   "source": [
    "# return valid list of datapoints\n",
    "def process_datapoints(lst):\n",
    "    while lst and lst[-1] == 0:\n",
    "        lst.pop()\n",
    "        \n",
    "    if len(lst) == 0:\n",
    "        return None\n",
    "    else:\n",
    "        return list"
   ]
  },
  {
   "cell_type": "code",
   "execution_count": 68,
   "id": "11ecfeb3",
   "metadata": {},
   "outputs": [],
   "source": [
    "process_datapoints([0,0])"
   ]
  },
  {
   "cell_type": "markdown",
   "id": "97da2a08",
   "metadata": {},
   "source": [
    "## Standardize trial id"
   ]
  },
  {
   "cell_type": "code",
   "execution_count": 69,
   "id": "04f132dc",
   "metadata": {},
   "outputs": [],
   "source": [
    "test = 'PR1'"
   ]
  },
  {
   "cell_type": "code",
   "execution_count": 70,
   "id": "9a32417b",
   "metadata": {},
   "outputs": [],
   "source": [
    "i = 0\n",
    "while not (test[i].isdigit()):\n",
    "    i += 1"
   ]
  },
  {
   "cell_type": "code",
   "execution_count": 73,
   "id": "0b66f363",
   "metadata": {},
   "outputs": [],
   "source": [
    "name = test[:i]\n",
    "num = test[i:]"
   ]
  },
  {
   "cell_type": "code",
   "execution_count": 74,
   "id": "a594307f",
   "metadata": {},
   "outputs": [
    {
     "data": {
      "text/plain": [
       "('PR', '1')"
      ]
     },
     "execution_count": 74,
     "metadata": {},
     "output_type": "execute_result"
    }
   ],
   "source": [
    "name, num"
   ]
  },
  {
   "cell_type": "code",
   "execution_count": 77,
   "id": "0556d7f0",
   "metadata": {},
   "outputs": [
    {
     "data": {
      "text/plain": [
       "'PR01'"
      ]
     },
     "execution_count": 77,
     "metadata": {},
     "output_type": "execute_result"
    }
   ],
   "source": [
    "res = name + num.rjust(2, \"0\")\n",
    "res"
   ]
  },
  {
   "cell_type": "code",
   "execution_count": 79,
   "id": "5b5a0b22",
   "metadata": {},
   "outputs": [],
   "source": [
    "def process_trial_id(tid):\n",
    "    i = 0\n",
    "    while not (tid[i].isdigit()):\n",
    "        i += 1\n",
    "    name,num = tid[:i],tid[i:]\n",
    "    res = name + num.rjust(2, \"0\")\n",
    "    return res"
   ]
  },
  {
   "cell_type": "markdown",
   "id": "fe155ac0",
   "metadata": {},
   "source": [
    "## Get breakpoint, last ratio for SA data"
   ]
  },
  {
   "cell_type": "code",
   "execution_count": 28,
   "id": "7774c24a",
   "metadata": {},
   "outputs": [
    {
     "data": {
      "text/plain": [
       "{0: 0,\n",
       " 1: 1,\n",
       " 2: 2,\n",
       " 3: 4,\n",
       " 4: 6,\n",
       " 5: 9,\n",
       " 6: 12,\n",
       " 7: 15,\n",
       " 8: 20,\n",
       " 9: 25,\n",
       " 10: 32,\n",
       " 11: 40,\n",
       " 12: 50,\n",
       " 13: 62,\n",
       " 14: 77,\n",
       " 15: 95,\n",
       " 16: 118,\n",
       " 17: 145,\n",
       " 18: 178}"
      ]
     },
     "execution_count": 28,
     "metadata": {},
     "output_type": "execute_result"
    }
   ],
   "source": [
    "coc_rewards = np.arange(19)\n",
    "coc_lr = [0,1,2,4,6,9,12,15,20,25,32,40,50,62,77,95,118,145,178]\n",
    "coc_lr_dict = dict(zip(coc_rewards,coc_lr))\n",
    "coc_lr_dict"
   ]
  },
  {
   "cell_type": "code",
   "execution_count": 58,
   "id": "71f164e0",
   "metadata": {},
   "outputs": [
    {
     "data": {
      "text/plain": [
       "15"
      ]
     },
     "execution_count": 58,
     "metadata": {},
     "output_type": "execute_result"
    }
   ],
   "source": [
    "reward_press = 7\n",
    "breakpoint = coc_lr_dict[reward_press]\n",
    "breakpoint"
   ]
  },
  {
   "cell_type": "code",
   "execution_count": 59,
   "id": "a875aea1",
   "metadata": {},
   "outputs": [
    {
     "data": {
      "text/plain": [
       "20"
      ]
     },
     "execution_count": 59,
     "metadata": {},
     "output_type": "execute_result"
    }
   ],
   "source": [
    "get_breakpoint(coc_lr_dict, breakpoint)"
   ]
  },
  {
   "cell_type": "code",
   "execution_count": 80,
   "id": "cfb8a5e2",
   "metadata": {},
   "outputs": [],
   "source": [
    "def get_last_ratio(lr_dict, breakpoint):\n",
    "    if (not lr_dict) or (not breakpoint):\n",
    "        return None\n",
    "    lr_list = list(coc_lr_dict.values())\n",
    "    idx = lr_list.index(breakpoint) + 1\n",
    "    return lr_list[idx]"
   ]
  },
  {
   "cell_type": "code",
   "execution_count": 40,
   "id": "6fec6c77",
   "metadata": {},
   "outputs": [
    {
     "data": {
      "text/plain": [
       "12"
      ]
     },
     "execution_count": 40,
     "metadata": {},
     "output_type": "execute_result"
    }
   ],
   "source": [
    "list(coc_lr_dict.values())[(list(coc_lr_dict.values()).index(last_ratio) - 1)]"
   ]
  },
  {
   "cell_type": "markdown",
   "id": "d2e852d0",
   "metadata": {},
   "source": [
    "## Get breakpoint, last ratio for NEWER data"
   ]
  },
  {
   "cell_type": "code",
   "execution_count": null,
   "id": "f8dec1e1",
   "metadata": {},
   "outputs": [],
   "source": []
  },
  {
   "cell_type": "markdown",
   "id": "f8cfcd60",
   "metadata": {},
   "source": [
    "## Convert RFID to string"
   ]
  },
  {
   "cell_type": "code",
   "execution_count": 16,
   "id": "3274198e",
   "metadata": {},
   "outputs": [
    {
     "data": {
      "text/plain": [
       "'11'"
      ]
     },
     "execution_count": 16,
     "metadata": {},
     "output_type": "execute_result"
    }
   ],
   "source": [
    "str(int(11.0))"
   ]
  },
  {
   "cell_type": "markdown",
   "id": "0591bf61",
   "metadata": {},
   "source": [
    "## Convert np.Nan to None"
   ]
  },
  {
   "cell_type": "code",
   "execution_count": 25,
   "id": "a44e7ebb",
   "metadata": {},
   "outputs": [],
   "source": [
    "test_nan = [np.nan, np.nan]"
   ]
  },
  {
   "cell_type": "code",
   "execution_count": 26,
   "id": "409e0976",
   "metadata": {},
   "outputs": [],
   "source": [
    "for i in range(len(test_nan)):\n",
    "    if np.isnan(test_nan[i]):\n",
    "        test_nan[i] = None"
   ]
  },
  {
   "cell_type": "code",
   "execution_count": 27,
   "id": "22aa4f5a",
   "metadata": {},
   "outputs": [
    {
     "data": {
      "text/plain": [
       "[None, None]"
      ]
     },
     "execution_count": 27,
     "metadata": {},
     "output_type": "execute_result"
    }
   ],
   "source": [
    "test_nan"
   ]
  },
  {
   "cell_type": "markdown",
   "id": "58e62eae",
   "metadata": {},
   "source": [
    "## Check if np.nan"
   ]
  },
  {
   "cell_type": "code",
   "execution_count": 60,
   "id": "edda9edd",
   "metadata": {
    "scrolled": true
   },
   "outputs": [
    {
     "data": {
      "text/html": [
       "<div>\n",
       "<style scoped>\n",
       "    .dataframe tbody tr th:only-of-type {\n",
       "        vertical-align: middle;\n",
       "    }\n",
       "\n",
       "    .dataframe tbody tr th {\n",
       "        vertical-align: top;\n",
       "    }\n",
       "\n",
       "    .dataframe thead th {\n",
       "        text-align: right;\n",
       "    }\n",
       "</style>\n",
       "<table border=\"1\" class=\"dataframe\">\n",
       "  <thead>\n",
       "    <tr style=\"text-align: right;\">\n",
       "      <th></th>\n",
       "      <th>rfid</th>\n",
       "      <th>subject</th>\n",
       "      <th>room</th>\n",
       "      <th>cohort</th>\n",
       "      <th>trial_id</th>\n",
       "      <th>drug</th>\n",
       "      <th>box</th>\n",
       "      <th>start_time</th>\n",
       "      <th>end_time</th>\n",
       "      <th>start_date</th>\n",
       "      <th>end_date</th>\n",
       "      <th>last_ratio</th>\n",
       "      <th>breakpoint</th>\n",
       "      <th>active_lever_presses</th>\n",
       "      <th>inactive_lever_presses</th>\n",
       "      <th>reward_presses</th>\n",
       "      <th>reward_points</th>\n",
       "    </tr>\n",
       "  </thead>\n",
       "  <tbody>\n",
       "    <tr>\n",
       "      <th>0</th>\n",
       "      <td>933000120138410</td>\n",
       "      <td>F518</td>\n",
       "      <td>NaN</td>\n",
       "      <td>5</td>\n",
       "      <td>PR03</td>\n",
       "      <td>cocaine</td>\n",
       "      <td>NaN</td>\n",
       "      <td>00:00:00</td>\n",
       "      <td>00:00:00</td>\n",
       "      <td>2018-09-10</td>\n",
       "      <td>0001-01-01</td>\n",
       "      <td>62.0</td>\n",
       "      <td>50</td>\n",
       "      <td>277.0</td>\n",
       "      <td>3.0</td>\n",
       "      <td>12.0</td>\n",
       "      <td>NaN</td>\n",
       "    </tr>\n",
       "    <tr>\n",
       "      <th>1</th>\n",
       "      <td>933000120138712</td>\n",
       "      <td>F519</td>\n",
       "      <td>NaN</td>\n",
       "      <td>5</td>\n",
       "      <td>PR03</td>\n",
       "      <td>cocaine</td>\n",
       "      <td>NaN</td>\n",
       "      <td>00:00:00</td>\n",
       "      <td>00:00:00</td>\n",
       "      <td>2018-09-10</td>\n",
       "      <td>0001-01-01</td>\n",
       "      <td>32.0</td>\n",
       "      <td>25</td>\n",
       "      <td>116.0</td>\n",
       "      <td>0.0</td>\n",
       "      <td>9.0</td>\n",
       "      <td>NaN</td>\n",
       "    </tr>\n",
       "    <tr>\n",
       "      <th>2</th>\n",
       "      <td>933000120138722</td>\n",
       "      <td>F520</td>\n",
       "      <td>NaN</td>\n",
       "      <td>5</td>\n",
       "      <td>PR03</td>\n",
       "      <td>cocaine</td>\n",
       "      <td>NaN</td>\n",
       "      <td>00:00:00</td>\n",
       "      <td>00:00:00</td>\n",
       "      <td>2018-09-10</td>\n",
       "      <td>0001-01-01</td>\n",
       "      <td>95.0</td>\n",
       "      <td>77</td>\n",
       "      <td>451.0</td>\n",
       "      <td>29.0</td>\n",
       "      <td>14.0</td>\n",
       "      <td>NaN</td>\n",
       "    </tr>\n",
       "    <tr>\n",
       "      <th>3</th>\n",
       "      <td>933000120138711</td>\n",
       "      <td>F521</td>\n",
       "      <td>NaN</td>\n",
       "      <td>5</td>\n",
       "      <td>PR03</td>\n",
       "      <td>cocaine</td>\n",
       "      <td>NaN</td>\n",
       "      <td>00:00:00</td>\n",
       "      <td>00:00:00</td>\n",
       "      <td>2018-09-10</td>\n",
       "      <td>0001-01-01</td>\n",
       "      <td>20.0</td>\n",
       "      <td>15</td>\n",
       "      <td>68.0</td>\n",
       "      <td>40.0</td>\n",
       "      <td>7.0</td>\n",
       "      <td>NaN</td>\n",
       "    </tr>\n",
       "    <tr>\n",
       "      <th>4</th>\n",
       "      <td>933000120138715</td>\n",
       "      <td>F522</td>\n",
       "      <td>NaN</td>\n",
       "      <td>5</td>\n",
       "      <td>PR03</td>\n",
       "      <td>cocaine</td>\n",
       "      <td>NaN</td>\n",
       "      <td>00:00:00</td>\n",
       "      <td>00:00:00</td>\n",
       "      <td>2018-09-10</td>\n",
       "      <td>0001-01-01</td>\n",
       "      <td>77.0</td>\n",
       "      <td>62</td>\n",
       "      <td>316.0</td>\n",
       "      <td>8.0</td>\n",
       "      <td>13.0</td>\n",
       "      <td>NaN</td>\n",
       "    </tr>\n",
       "    <tr>\n",
       "      <th>5</th>\n",
       "      <td>933000120138754</td>\n",
       "      <td>F523</td>\n",
       "      <td>NaN</td>\n",
       "      <td>5</td>\n",
       "      <td>PR03</td>\n",
       "      <td>cocaine</td>\n",
       "      <td>NaN</td>\n",
       "      <td>00:00:00</td>\n",
       "      <td>00:00:00</td>\n",
       "      <td>2018-09-10</td>\n",
       "      <td>0001-01-01</td>\n",
       "      <td>62.0</td>\n",
       "      <td>50</td>\n",
       "      <td>278.0</td>\n",
       "      <td>13.0</td>\n",
       "      <td>12.0</td>\n",
       "      <td>NaN</td>\n",
       "    </tr>\n",
       "    <tr>\n",
       "      <th>6</th>\n",
       "      <td>933000120138743</td>\n",
       "      <td>F524</td>\n",
       "      <td>NaN</td>\n",
       "      <td>5</td>\n",
       "      <td>PR03</td>\n",
       "      <td>cocaine</td>\n",
       "      <td>NaN</td>\n",
       "      <td>00:00:00</td>\n",
       "      <td>00:00:00</td>\n",
       "      <td>2018-09-10</td>\n",
       "      <td>0001-01-01</td>\n",
       "      <td>50.0</td>\n",
       "      <td>40</td>\n",
       "      <td>206.0</td>\n",
       "      <td>9.0</td>\n",
       "      <td>11.0</td>\n",
       "      <td>NaN</td>\n",
       "    </tr>\n",
       "    <tr>\n",
       "      <th>7</th>\n",
       "      <td>933000120138748</td>\n",
       "      <td>F526</td>\n",
       "      <td>NaN</td>\n",
       "      <td>5</td>\n",
       "      <td>PR03</td>\n",
       "      <td>cocaine</td>\n",
       "      <td>NaN</td>\n",
       "      <td>00:00:00</td>\n",
       "      <td>00:00:00</td>\n",
       "      <td>2018-09-10</td>\n",
       "      <td>0001-01-01</td>\n",
       "      <td>145.0</td>\n",
       "      <td>118</td>\n",
       "      <td>724.0</td>\n",
       "      <td>12.0</td>\n",
       "      <td>16.0</td>\n",
       "      <td>NaN</td>\n",
       "    </tr>\n",
       "    <tr>\n",
       "      <th>8</th>\n",
       "      <td>933000120138454</td>\n",
       "      <td>F527</td>\n",
       "      <td>NaN</td>\n",
       "      <td>5</td>\n",
       "      <td>PR03</td>\n",
       "      <td>cocaine</td>\n",
       "      <td>NaN</td>\n",
       "      <td>00:00:00</td>\n",
       "      <td>00:00:00</td>\n",
       "      <td>2018-09-10</td>\n",
       "      <td>0001-01-01</td>\n",
       "      <td>25.0</td>\n",
       "      <td>20</td>\n",
       "      <td>94.0</td>\n",
       "      <td>0.0</td>\n",
       "      <td>8.0</td>\n",
       "      <td>NaN</td>\n",
       "    </tr>\n",
       "    <tr>\n",
       "      <th>9</th>\n",
       "      <td>933000120138707</td>\n",
       "      <td>F528</td>\n",
       "      <td>NaN</td>\n",
       "      <td>5</td>\n",
       "      <td>PR03</td>\n",
       "      <td>cocaine</td>\n",
       "      <td>NaN</td>\n",
       "      <td>00:00:00</td>\n",
       "      <td>00:00:00</td>\n",
       "      <td>2018-09-10</td>\n",
       "      <td>0001-01-01</td>\n",
       "      <td>77.0</td>\n",
       "      <td>62</td>\n",
       "      <td>321.0</td>\n",
       "      <td>0.0</td>\n",
       "      <td>13.0</td>\n",
       "      <td>NaN</td>\n",
       "    </tr>\n",
       "    <tr>\n",
       "      <th>10</th>\n",
       "      <td>933000120138447</td>\n",
       "      <td>F529</td>\n",
       "      <td>NaN</td>\n",
       "      <td>5</td>\n",
       "      <td>PR03</td>\n",
       "      <td>cocaine</td>\n",
       "      <td>NaN</td>\n",
       "      <td>00:00:00</td>\n",
       "      <td>00:00:00</td>\n",
       "      <td>2018-09-10</td>\n",
       "      <td>0001-01-01</td>\n",
       "      <td>145.0</td>\n",
       "      <td>118</td>\n",
       "      <td>776.0</td>\n",
       "      <td>52.0</td>\n",
       "      <td>16.0</td>\n",
       "      <td>NaN</td>\n",
       "    </tr>\n",
       "    <tr>\n",
       "      <th>11</th>\n",
       "      <td>933000120138440</td>\n",
       "      <td>F530</td>\n",
       "      <td>NaN</td>\n",
       "      <td>5</td>\n",
       "      <td>PR03</td>\n",
       "      <td>cocaine</td>\n",
       "      <td>NaN</td>\n",
       "      <td>00:00:00</td>\n",
       "      <td>00:00:00</td>\n",
       "      <td>2018-09-10</td>\n",
       "      <td>0001-01-01</td>\n",
       "      <td>95.0</td>\n",
       "      <td>77</td>\n",
       "      <td>440.0</td>\n",
       "      <td>44.0</td>\n",
       "      <td>14.0</td>\n",
       "      <td>NaN</td>\n",
       "    </tr>\n",
       "    <tr>\n",
       "      <th>12</th>\n",
       "      <td>933000120138504</td>\n",
       "      <td>M551</td>\n",
       "      <td>NaN</td>\n",
       "      <td>5</td>\n",
       "      <td>PR03</td>\n",
       "      <td>cocaine</td>\n",
       "      <td>NaN</td>\n",
       "      <td>00:00:00</td>\n",
       "      <td>00:00:00</td>\n",
       "      <td>2018-09-10</td>\n",
       "      <td>0001-01-01</td>\n",
       "      <td>32.0</td>\n",
       "      <td>25</td>\n",
       "      <td>103.0</td>\n",
       "      <td>43.0</td>\n",
       "      <td>9.0</td>\n",
       "      <td>NaN</td>\n",
       "    </tr>\n",
       "    <tr>\n",
       "      <th>13</th>\n",
       "      <td>933000120138500</td>\n",
       "      <td>M552</td>\n",
       "      <td>NaN</td>\n",
       "      <td>5</td>\n",
       "      <td>PR03</td>\n",
       "      <td>cocaine</td>\n",
       "      <td>NaN</td>\n",
       "      <td>00:00:00</td>\n",
       "      <td>00:00:00</td>\n",
       "      <td>2018-09-10</td>\n",
       "      <td>0001-01-01</td>\n",
       "      <td>NaN</td>\n",
       "      <td>0</td>\n",
       "      <td>0.0</td>\n",
       "      <td>0.0</td>\n",
       "      <td>0.0</td>\n",
       "      <td>NaN</td>\n",
       "    </tr>\n",
       "    <tr>\n",
       "      <th>14</th>\n",
       "      <td>933000120138700</td>\n",
       "      <td>M553</td>\n",
       "      <td>NaN</td>\n",
       "      <td>5</td>\n",
       "      <td>PR03</td>\n",
       "      <td>cocaine</td>\n",
       "      <td>NaN</td>\n",
       "      <td>00:00:00</td>\n",
       "      <td>00:00:00</td>\n",
       "      <td>2018-09-10</td>\n",
       "      <td>0001-01-01</td>\n",
       "      <td>15.0</td>\n",
       "      <td>12</td>\n",
       "      <td>44.0</td>\n",
       "      <td>0.0</td>\n",
       "      <td>6.0</td>\n",
       "      <td>NaN</td>\n",
       "    </tr>\n",
       "    <tr>\n",
       "      <th>15</th>\n",
       "      <td>933000120138689</td>\n",
       "      <td>M554</td>\n",
       "      <td>NaN</td>\n",
       "      <td>5</td>\n",
       "      <td>PR03</td>\n",
       "      <td>cocaine</td>\n",
       "      <td>NaN</td>\n",
       "      <td>00:00:00</td>\n",
       "      <td>00:00:00</td>\n",
       "      <td>2018-09-10</td>\n",
       "      <td>0001-01-01</td>\n",
       "      <td>118.0</td>\n",
       "      <td>95</td>\n",
       "      <td>522.0</td>\n",
       "      <td>3.0</td>\n",
       "      <td>15.0</td>\n",
       "      <td>NaN</td>\n",
       "    </tr>\n",
       "    <tr>\n",
       "      <th>16</th>\n",
       "      <td>933000120138750</td>\n",
       "      <td>M575</td>\n",
       "      <td>NaN</td>\n",
       "      <td>5</td>\n",
       "      <td>PR03</td>\n",
       "      <td>cocaine</td>\n",
       "      <td>NaN</td>\n",
       "      <td>00:00:00</td>\n",
       "      <td>00:00:00</td>\n",
       "      <td>2018-09-10</td>\n",
       "      <td>0001-01-01</td>\n",
       "      <td>20.0</td>\n",
       "      <td>15</td>\n",
       "      <td>58.0</td>\n",
       "      <td>1.0</td>\n",
       "      <td>7.0</td>\n",
       "      <td>NaN</td>\n",
       "    </tr>\n",
       "    <tr>\n",
       "      <th>17</th>\n",
       "      <td>933000120138734</td>\n",
       "      <td>M576</td>\n",
       "      <td>NaN</td>\n",
       "      <td>5</td>\n",
       "      <td>PR03</td>\n",
       "      <td>cocaine</td>\n",
       "      <td>NaN</td>\n",
       "      <td>00:00:00</td>\n",
       "      <td>00:00:00</td>\n",
       "      <td>2018-09-10</td>\n",
       "      <td>0001-01-01</td>\n",
       "      <td>40.0</td>\n",
       "      <td>32</td>\n",
       "      <td>155.0</td>\n",
       "      <td>4.0</td>\n",
       "      <td>10.0</td>\n",
       "      <td>NaN</td>\n",
       "    </tr>\n",
       "    <tr>\n",
       "      <th>18</th>\n",
       "      <td>933000120138744</td>\n",
       "      <td>M577</td>\n",
       "      <td>NaN</td>\n",
       "      <td>5</td>\n",
       "      <td>PR03</td>\n",
       "      <td>cocaine</td>\n",
       "      <td>NaN</td>\n",
       "      <td>00:00:00</td>\n",
       "      <td>00:00:00</td>\n",
       "      <td>2018-09-10</td>\n",
       "      <td>0001-01-01</td>\n",
       "      <td>62.0</td>\n",
       "      <td>50</td>\n",
       "      <td>255.0</td>\n",
       "      <td>3.0</td>\n",
       "      <td>12.0</td>\n",
       "      <td>NaN</td>\n",
       "    </tr>\n",
       "    <tr>\n",
       "      <th>19</th>\n",
       "      <td>933000120138736</td>\n",
       "      <td>M578</td>\n",
       "      <td>NaN</td>\n",
       "      <td>5</td>\n",
       "      <td>PR03</td>\n",
       "      <td>cocaine</td>\n",
       "      <td>NaN</td>\n",
       "      <td>00:00:00</td>\n",
       "      <td>00:00:00</td>\n",
       "      <td>2018-09-10</td>\n",
       "      <td>0001-01-01</td>\n",
       "      <td>62.0</td>\n",
       "      <td>50</td>\n",
       "      <td>256.0</td>\n",
       "      <td>14.0</td>\n",
       "      <td>12.0</td>\n",
       "      <td>NaN</td>\n",
       "    </tr>\n",
       "    <tr>\n",
       "      <th>20</th>\n",
       "      <td>933000120138455</td>\n",
       "      <td>M579</td>\n",
       "      <td>NaN</td>\n",
       "      <td>5</td>\n",
       "      <td>PR03</td>\n",
       "      <td>cocaine</td>\n",
       "      <td>NaN</td>\n",
       "      <td>00:00:00</td>\n",
       "      <td>00:00:00</td>\n",
       "      <td>2018-09-10</td>\n",
       "      <td>0001-01-01</td>\n",
       "      <td>2.0</td>\n",
       "      <td>1</td>\n",
       "      <td>3.0</td>\n",
       "      <td>0.0</td>\n",
       "      <td>1.0</td>\n",
       "      <td>NaN</td>\n",
       "    </tr>\n",
       "    <tr>\n",
       "      <th>21</th>\n",
       "      <td>933000120138437</td>\n",
       "      <td>M580</td>\n",
       "      <td>NaN</td>\n",
       "      <td>5</td>\n",
       "      <td>PR03</td>\n",
       "      <td>cocaine</td>\n",
       "      <td>NaN</td>\n",
       "      <td>00:00:00</td>\n",
       "      <td>00:00:00</td>\n",
       "      <td>2018-09-10</td>\n",
       "      <td>0001-01-01</td>\n",
       "      <td>50.0</td>\n",
       "      <td>40</td>\n",
       "      <td>194.0</td>\n",
       "      <td>74.0</td>\n",
       "      <td>11.0</td>\n",
       "      <td>NaN</td>\n",
       "    </tr>\n",
       "  </tbody>\n",
       "</table>\n",
       "</div>"
      ],
      "text/plain": [
       "               rfid subject  room  cohort trial_id     drug  box start_time  \\\n",
       "0   933000120138410    F518   NaN       5     PR03  cocaine  NaN   00:00:00   \n",
       "1   933000120138712    F519   NaN       5     PR03  cocaine  NaN   00:00:00   \n",
       "2   933000120138722    F520   NaN       5     PR03  cocaine  NaN   00:00:00   \n",
       "3   933000120138711    F521   NaN       5     PR03  cocaine  NaN   00:00:00   \n",
       "4   933000120138715    F522   NaN       5     PR03  cocaine  NaN   00:00:00   \n",
       "5   933000120138754    F523   NaN       5     PR03  cocaine  NaN   00:00:00   \n",
       "6   933000120138743    F524   NaN       5     PR03  cocaine  NaN   00:00:00   \n",
       "7   933000120138748    F526   NaN       5     PR03  cocaine  NaN   00:00:00   \n",
       "8   933000120138454    F527   NaN       5     PR03  cocaine  NaN   00:00:00   \n",
       "9   933000120138707    F528   NaN       5     PR03  cocaine  NaN   00:00:00   \n",
       "10  933000120138447    F529   NaN       5     PR03  cocaine  NaN   00:00:00   \n",
       "11  933000120138440    F530   NaN       5     PR03  cocaine  NaN   00:00:00   \n",
       "12  933000120138504    M551   NaN       5     PR03  cocaine  NaN   00:00:00   \n",
       "13  933000120138500    M552   NaN       5     PR03  cocaine  NaN   00:00:00   \n",
       "14  933000120138700    M553   NaN       5     PR03  cocaine  NaN   00:00:00   \n",
       "15  933000120138689    M554   NaN       5     PR03  cocaine  NaN   00:00:00   \n",
       "16  933000120138750    M575   NaN       5     PR03  cocaine  NaN   00:00:00   \n",
       "17  933000120138734    M576   NaN       5     PR03  cocaine  NaN   00:00:00   \n",
       "18  933000120138744    M577   NaN       5     PR03  cocaine  NaN   00:00:00   \n",
       "19  933000120138736    M578   NaN       5     PR03  cocaine  NaN   00:00:00   \n",
       "20  933000120138455    M579   NaN       5     PR03  cocaine  NaN   00:00:00   \n",
       "21  933000120138437    M580   NaN       5     PR03  cocaine  NaN   00:00:00   \n",
       "\n",
       "    end_time  start_date    end_date  last_ratio  breakpoint  \\\n",
       "0   00:00:00  2018-09-10  0001-01-01        62.0          50   \n",
       "1   00:00:00  2018-09-10  0001-01-01        32.0          25   \n",
       "2   00:00:00  2018-09-10  0001-01-01        95.0          77   \n",
       "3   00:00:00  2018-09-10  0001-01-01        20.0          15   \n",
       "4   00:00:00  2018-09-10  0001-01-01        77.0          62   \n",
       "5   00:00:00  2018-09-10  0001-01-01        62.0          50   \n",
       "6   00:00:00  2018-09-10  0001-01-01        50.0          40   \n",
       "7   00:00:00  2018-09-10  0001-01-01       145.0         118   \n",
       "8   00:00:00  2018-09-10  0001-01-01        25.0          20   \n",
       "9   00:00:00  2018-09-10  0001-01-01        77.0          62   \n",
       "10  00:00:00  2018-09-10  0001-01-01       145.0         118   \n",
       "11  00:00:00  2018-09-10  0001-01-01        95.0          77   \n",
       "12  00:00:00  2018-09-10  0001-01-01        32.0          25   \n",
       "13  00:00:00  2018-09-10  0001-01-01         NaN           0   \n",
       "14  00:00:00  2018-09-10  0001-01-01        15.0          12   \n",
       "15  00:00:00  2018-09-10  0001-01-01       118.0          95   \n",
       "16  00:00:00  2018-09-10  0001-01-01        20.0          15   \n",
       "17  00:00:00  2018-09-10  0001-01-01        40.0          32   \n",
       "18  00:00:00  2018-09-10  0001-01-01        62.0          50   \n",
       "19  00:00:00  2018-09-10  0001-01-01        62.0          50   \n",
       "20  00:00:00  2018-09-10  0001-01-01         2.0           1   \n",
       "21  00:00:00  2018-09-10  0001-01-01        50.0          40   \n",
       "\n",
       "    active_lever_presses  inactive_lever_presses  reward_presses  \\\n",
       "0                  277.0                     3.0            12.0   \n",
       "1                  116.0                     0.0             9.0   \n",
       "2                  451.0                    29.0            14.0   \n",
       "3                   68.0                    40.0             7.0   \n",
       "4                  316.0                     8.0            13.0   \n",
       "5                  278.0                    13.0            12.0   \n",
       "6                  206.0                     9.0            11.0   \n",
       "7                  724.0                    12.0            16.0   \n",
       "8                   94.0                     0.0             8.0   \n",
       "9                  321.0                     0.0            13.0   \n",
       "10                 776.0                    52.0            16.0   \n",
       "11                 440.0                    44.0            14.0   \n",
       "12                 103.0                    43.0             9.0   \n",
       "13                   0.0                     0.0             0.0   \n",
       "14                  44.0                     0.0             6.0   \n",
       "15                 522.0                     3.0            15.0   \n",
       "16                  58.0                     1.0             7.0   \n",
       "17                 155.0                     4.0            10.0   \n",
       "18                 255.0                     3.0            12.0   \n",
       "19                 256.0                    14.0            12.0   \n",
       "20                   3.0                     0.0             1.0   \n",
       "21                 194.0                    74.0            11.0   \n",
       "\n",
       "    reward_points  \n",
       "0             NaN  \n",
       "1             NaN  \n",
       "2             NaN  \n",
       "3             NaN  \n",
       "4             NaN  \n",
       "5             NaN  \n",
       "6             NaN  \n",
       "7             NaN  \n",
       "8             NaN  \n",
       "9             NaN  \n",
       "10            NaN  \n",
       "11            NaN  \n",
       "12            NaN  \n",
       "13            NaN  \n",
       "14            NaN  \n",
       "15            NaN  \n",
       "16            NaN  \n",
       "17            NaN  \n",
       "18            NaN  \n",
       "19            NaN  \n",
       "20            NaN  \n",
       "21            NaN  "
      ]
     },
     "execution_count": 60,
     "metadata": {},
     "output_type": "execute_result"
    }
   ],
   "source": [
    "fp = '/Users/yunyihuang/Desktop/gl_data/GEORGE/COC_PR/C05HSPR03-20180910_transformed.csv'\n",
    "data = pd.read_csv(fp,index_col=0)\n",
    "data"
   ]
  },
  {
   "cell_type": "code",
   "execution_count": 61,
   "id": "842cef4a",
   "metadata": {},
   "outputs": [
    {
     "name": "stdout",
     "output_type": "stream",
     "text": [
      "<class 'pandas.core.frame.DataFrame'>\n",
      "Int64Index: 22 entries, 0 to 21\n",
      "Data columns (total 17 columns):\n",
      " #   Column                  Non-Null Count  Dtype  \n",
      "---  ------                  --------------  -----  \n",
      " 0   rfid                    22 non-null     int64  \n",
      " 1   subject                 22 non-null     object \n",
      " 2   room                    0 non-null      float64\n",
      " 3   cohort                  22 non-null     int64  \n",
      " 4   trial_id                22 non-null     object \n",
      " 5   drug                    22 non-null     object \n",
      " 6   box                     0 non-null      float64\n",
      " 7   start_time              22 non-null     object \n",
      " 8   end_time                22 non-null     object \n",
      " 9   start_date              22 non-null     object \n",
      " 10  end_date                22 non-null     object \n",
      " 11  last_ratio              21 non-null     float64\n",
      " 12  breakpoint              22 non-null     int64  \n",
      " 13  active_lever_presses    22 non-null     float64\n",
      " 14  inactive_lever_presses  22 non-null     float64\n",
      " 15  reward_presses          22 non-null     float64\n",
      " 16  reward_points           0 non-null      float64\n",
      "dtypes: float64(7), int64(3), object(7)\n",
      "memory usage: 3.1+ KB\n"
     ]
    }
   ],
   "source": [
    "data.info()"
   ]
  },
  {
   "cell_type": "code",
   "execution_count": null,
   "id": "e271877c",
   "metadata": {},
   "outputs": [],
   "source": []
  }
 ],
 "metadata": {
  "kernelspec": {
   "display_name": "Python 3 (ipykernel)",
   "language": "python",
   "name": "python3"
  },
  "language_info": {
   "codemirror_mode": {
    "name": "ipython",
    "version": 3
   },
   "file_extension": ".py",
   "mimetype": "text/x-python",
   "name": "python",
   "nbconvert_exporter": "python",
   "pygments_lexer": "ipython3",
   "version": "3.9.7"
  }
 },
 "nbformat": 4,
 "nbformat_minor": 5
}
