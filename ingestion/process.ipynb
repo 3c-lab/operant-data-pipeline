{
 "cells": [
  {
   "cell_type": "code",
   "execution_count": null,
   "metadata": {},
   "outputs": [],
   "source": [
    "import pandas as pd\n",
    "import os\n",
    "import config\n",
    "import cohort_process\n"
   ]
  },
  {
   "cell_type": "code",
   "execution_count": null,
   "metadata": {},
   "outputs": [],
   "source": [
    "cols_integer = ['rfid', 'cohort', 'age at lga', 'age at sha', 'age at dissection', 'litter number', 'litter size', 'shipping box', 'age at surgery', 'days of experiment']\n",
    "pd.set_option('display.max_rows', 999)\n",
    "pd.set_option(\"display.max_seq_items\", 300)"
   ]
  },
  {
   "cell_type": "code",
   "execution_count": null,
   "metadata": {},
   "outputs": [],
   "source": [
    "c9 = cohort_process.CohortProcess(config.OXYCODONE_COHORT_ALL[0], \"cocaine\")\n",
    "print(c9.df_final.columns)"
   ]
  },
  {
   "cell_type": "code",
   "execution_count": null,
   "metadata": {},
   "outputs": [],
   "source": []
  },
  {
   "cell_type": "code",
   "execution_count": 18,
   "metadata": {},
   "outputs": [
    {
     "name": "stdout",
     "output_type": "stream",
     "text": [
      "Index(['rat', 'experiment group', 'drug group', 'cohort', 'sex', 'rfid',\n",
      "       'd.o.b', 'date of wean', 'date of ship', 'litter number', 'litter size',\n",
      "       'coat color', 'ear punch', 'shipping box', 'rack', 'arrival date',\n",
      "       'handled collection', 'surgery date', 'surgeon', 'surgery assist',\n",
      "       'date of eye bleed', 'short access start date', 'short access end date',\n",
      "       'long access start date', 'long access end date', 'lga15 date',\n",
      "       'lga16 date', 'lga17 date', 'lga18 date', 'lga19 date', 'lga20 date',\n",
      "       'brevital', 'brevital date', 'brevital collection',\n",
      "       'progressive ratio 1 date', 'progressive ratio 2 date',\n",
      "       'progressive ratio 3 date', 'pre-shock date', 'shock (0.1ma) date',\n",
      "       'shock (0.2ma) date', 'shock (0.3ma) date', 'urine 1 collection',\n",
      "       'urine 1 date', 'urine 2 date', 'urine 2 collection', 'weight 1 value',\n",
      "       'weight 1 date', 'weight 2 value', 'weight 2 date', 'weight 3 value',\n",
      "       'weight 3 date', 'weight 4 value', 'weight 4 date', 'weight 5 value',\n",
      "       'weight 5 date', 'weight 6 value', 'weight 6 date', 'weight 7 value',\n",
      "       'weight 7 date', 'weight 8 value', 'weight 8 date', 'weight 9 value',\n",
      "       'weight 9 date', 'weight 10 value', 'weight 10 date',\n",
      "       'feces 1 collection', 'feces 1 date', 'feces 2 collection',\n",
      "       'feces 2 date', 'feces 3 collection', 'feces 3 date',\n",
      "       'feces 4 collection', 'feces 4 date', 'female swab 1 collection',\n",
      "       'female swab 1 date', 'female swab 2 collection', 'female swab 2 date',\n",
      "       'female swab 3 collection', 'female swab 3 date', 'group for pre-shock',\n",
      "       'group for shock', 'irritability 1 collection', 'irritability 1 date',\n",
      "       'irritability 2 collection', 'irritability 2 date',\n",
      "       'recatheter surgeon', 'recatheter surgery date', 'dissection',\n",
      "       'dissection date', 'date of death', 'unnamed: 90', 'unnamed: 91',\n",
      "       'unnamed: 92', 'unnamed: 93', 'unnamed: 94', 'unnamed: 95',\n",
      "       'unnamed: 96', 'unnamed: 97', 'unnamed: 98', 'unnamed: 99', 'exit day',\n",
      "       'last good session', 'exit code', 'complete', 'tissue collected',\n",
      "       'exit notes', 'replaced by'],\n",
      "      dtype='object')\n"
     ]
    }
   ],
   "source": [
    "c4 = cohort_process.CohortProcess(config.COCAINE_COHORT_04, \"cocaine\")\n",
    "# c4.df_final.columns = c4.df_final.columns.str.lower()\n",
    "print(c4.df_final.columns)\n",
    "\n"
   ]
  },
  {
   "cell_type": "code",
   "execution_count": 19,
   "metadata": {},
   "outputs": [
    {
     "name": "stdout",
     "output_type": "stream",
     "text": [
      "<class 'pandas.core.frame.DataFrame'>\n",
      "Int64Index: 59 entries, 0 to 58\n",
      "Data columns (total 107 columns):\n",
      " #    Column                     Dtype         \n",
      "---   ------                     -----         \n",
      " 0    rat                        object        \n",
      " 1    experiment group           object        \n",
      " 2    drug group                 object        \n",
      " 3    cohort                     int64         \n",
      " 4    sex                        object        \n",
      " 5    rfid                       object        \n",
      " 6    d.o.b                      datetime64[ns]\n",
      " 7    date of wean               datetime64[ns]\n",
      " 8    date of ship               datetime64[ns]\n",
      " 9    litter number              object        \n",
      " 10   litter size                object        \n",
      " 11   coat color                 object        \n",
      " 12   ear punch                  object        \n",
      " 13   shipping box               object        \n",
      " 14   rack                       float64       \n",
      " 15   arrival date               datetime64[ns]\n",
      " 16   handled collection         object        \n",
      " 17   surgery date               datetime64[ns]\n",
      " 18   surgeon                    object        \n",
      " 19   surgery assist             object        \n",
      " 20   date of eye bleed          datetime64[ns]\n",
      " 21   short access start date    datetime64[ns]\n",
      " 22   short access end date      datetime64[ns]\n",
      " 23   long access start date     datetime64[ns]\n",
      " 24   long access end date       datetime64[ns]\n",
      " 25   lga15 date                 datetime64[ns]\n",
      " 26   lga16 date                 datetime64[ns]\n",
      " 27   lga17 date                 datetime64[ns]\n",
      " 28   lga18 date                 datetime64[ns]\n",
      " 29   lga19 date                 datetime64[ns]\n",
      " 30   lga20 date                 datetime64[ns]\n",
      " 31   brevital                   object        \n",
      " 32   brevital date              datetime64[ns]\n",
      " 33   brevital collection        object        \n",
      " 34   progressive ratio 1 date   datetime64[ns]\n",
      " 35   progressive ratio 2 date   datetime64[ns]\n",
      " 36   progressive ratio 3 date   datetime64[ns]\n",
      " 37   pre-shock date             datetime64[ns]\n",
      " 38   shock (0.1ma) date         datetime64[ns]\n",
      " 39   shock (0.2ma) date         datetime64[ns]\n",
      " 40   shock (0.3ma) date         datetime64[ns]\n",
      " 41   urine 1 collection         object        \n",
      " 42   urine 1 date               datetime64[ns]\n",
      " 43   urine 2 date               datetime64[ns]\n",
      " 44   urine 2 collection         object        \n",
      " 45   weight 1 value             int64         \n",
      " 46   weight 1 date              datetime64[ns]\n",
      " 47   weight 2 value             float64       \n",
      " 48   weight 2 date              datetime64[ns]\n",
      " 49   weight 3 value             float64       \n",
      " 50   weight 3 date              datetime64[ns]\n",
      " 51   weight 4 value             float64       \n",
      " 52   weight 4 date              datetime64[ns]\n",
      " 53   weight 5 value             float64       \n",
      " 54   weight 5 date              datetime64[ns]\n",
      " 55   weight 6 value             float64       \n",
      " 56   weight 6 date              datetime64[ns]\n",
      " 57   weight 7 value             float64       \n",
      " 58   weight 7 date              datetime64[ns]\n",
      " 59   weight 8 value             float64       \n",
      " 60   weight 8 date              datetime64[ns]\n",
      " 61   weight 9 value             float64       \n",
      " 62   weight 9 date              datetime64[ns]\n",
      " 63   weight 10 value            float64       \n",
      " 64   weight 10 date             datetime64[ns]\n",
      " 65   feces 1 collection         object        \n",
      " 66   feces 1 date               datetime64[ns]\n",
      " 67   feces 2 collection         object        \n",
      " 68   feces 2 date               datetime64[ns]\n",
      " 69   feces 3 collection         object        \n",
      " 70   feces 3 date               datetime64[ns]\n",
      " 71   feces 4 collection         object        \n",
      " 72   feces 4 date               datetime64[ns]\n",
      " 73   female swab 1 collection   object        \n",
      " 74   female swab 1 date         datetime64[ns]\n",
      " 75   female swab 2 collection   object        \n",
      " 76   female swab 2 date         datetime64[ns]\n",
      " 77   female swab 3 collection   object        \n",
      " 78   female swab 3 date         datetime64[ns]\n",
      " 79   group for pre-shock        object        \n",
      " 80   group for shock            object        \n",
      " 81   irritability 1 collection  object        \n",
      " 82   irritability 1 date        datetime64[ns]\n",
      " 83   irritability 2 collection  object        \n",
      " 84   irritability 2 date        datetime64[ns]\n",
      " 85   recatheter surgeon         object        \n",
      " 86   recatheter surgery date    datetime64[ns]\n",
      " 87   dissection                 object        \n",
      " 88   dissection date            datetime64[ns]\n",
      " 89   date of death              datetime64[ns]\n",
      " 90   unnamed: 90                float64       \n",
      " 91   unnamed: 91                object        \n",
      " 92   unnamed: 92                float64       \n",
      " 93   unnamed: 93                float64       \n",
      " 94   unnamed: 94                float64       \n",
      " 95   unnamed: 95                float64       \n",
      " 96   unnamed: 96                float64       \n",
      " 97   unnamed: 97                float64       \n",
      " 98   unnamed: 98                float64       \n",
      " 99   unnamed: 99                object        \n",
      " 100  exit day                   datetime64[ns]\n",
      " 101  last good session          object        \n",
      " 102  exit code                  object        \n",
      " 103  complete                   object        \n",
      " 104  tissue collected           object        \n",
      " 105  exit notes                 object        \n",
      " 106  replaced by                object        \n",
      "dtypes: datetime64[ns](49), float64(18), int64(2), object(38)\n",
      "memory usage: 49.8+ KB\n"
     ]
    }
   ],
   "source": [
    "c4.df_final.info(verbose=True)"
   ]
  },
  {
   "cell_type": "code",
   "execution_count": null,
   "metadata": {},
   "outputs": [],
   "source": [
    "c18 = cohort_process.CohortProcess(config.COCAINE_COHORT_18, \"cocaine\")\n",
    "# c4.df_final.columns = c4.df_final.columns.str.lower()\n",
    "print(c18.df_final.columns)\n"
   ]
  },
  {
   "cell_type": "code",
   "execution_count": null,
   "metadata": {},
   "outputs": [],
   "source": []
  },
  {
   "cell_type": "code",
   "execution_count": null,
   "metadata": {},
   "outputs": [],
   "source": [
    "for col in cols_integer:\n",
    "    print(f'Col is {col}` and val is {c4.df_final[col]}')"
   ]
  },
  {
   "cell_type": "code",
   "execution_count": null,
   "metadata": {},
   "outputs": [],
   "source": [
    "print(c4.df_final[cols_integer])"
   ]
  },
  {
   "cell_type": "code",
   "execution_count": null,
   "metadata": {},
   "outputs": [],
   "source": []
  },
  {
   "cell_type": "code",
   "execution_count": null,
   "metadata": {},
   "outputs": [],
   "source": [
    "cocaine_master_template_path = '/Users/haltand/George Lab Dropbox/George_Lab/Team GWAS/1. Cocaine GWAS/Cocaine Homogenized Information Sheet/Cocaine C07 Cohort Updated Information.xlsx'\n",
    "oxycodone_master_template_path = '/Users/haltand/George Lab Dropbox/George_Lab/Team GWAS/2. Oxycodone GWAS/Oxy Rat information/Oxycodone Info Sheets - Homogenized/Oxycodone C15 Cohort Information - Homogenized.xlsx'"
   ]
  },
  {
   "cell_type": "code",
   "execution_count": null,
   "metadata": {},
   "outputs": [],
   "source": [
    "oxy_df_sheets = pd.read_excel(oxycodone_master_template_path, sheet_name = None)\n",
    "oxy_df_sheets"
   ]
  },
  {
   "cell_type": "code",
   "execution_count": null,
   "metadata": {},
   "outputs": [],
   "source": [
    "timeline_df = oxy_df_sheets['Timeline']\n",
    "exit_df = oxy_df_sheets['Exit Tab']\n",
    "exit_df = exit_df.drop(['RAT', 'Cohort'], axis=1)"
   ]
  },
  {
   "cell_type": "code",
   "execution_count": null,
   "metadata": {},
   "outputs": [],
   "source": [
    "exit_df"
   ]
  },
  {
   "cell_type": "code",
   "execution_count": null,
   "metadata": {},
   "outputs": [],
   "source": [
    "timeline_df"
   ]
  },
  {
   "cell_type": "code",
   "execution_count": null,
   "metadata": {},
   "outputs": [],
   "source": [
    "merge_df = pd.merge(timeline_df, exit_df, how='left', on='RFID')\n",
    "merge_df"
   ]
  },
  {
   "cell_type": "code",
   "execution_count": null,
   "metadata": {},
   "outputs": [],
   "source": []
  },
  {
   "cell_type": "code",
   "execution_count": null,
   "metadata": {},
   "outputs": [],
   "source": [
    "test = 'date day test'\n",
    "if any(c in test for c in ['date', 'day']):\n",
    "    print('true')"
   ]
  },
  {
   "cell_type": "code",
   "execution_count": null,
   "metadata": {},
   "outputs": [],
   "source": [
    "cocaine_df = pd.read_excel(cocaine_master_template_path)\n",
    "oxycodone_df = pd.read_excel(oxycodone_master_template_path)"
   ]
  },
  {
   "cell_type": "code",
   "execution_count": null,
   "metadata": {},
   "outputs": [],
   "source": [
    "cocaine_df.columns = cocaine_df.columns.str.lower()\n",
    "cocaine_df"
   ]
  },
  {
   "cell_type": "code",
   "execution_count": null,
   "metadata": {},
   "outputs": [],
   "source": []
  },
  {
   "cell_type": "markdown",
   "metadata": {},
   "source": [
    "# Fixing data format in the cocaine files\n"
   ]
  },
  {
   "cell_type": "code",
   "execution_count": null,
   "metadata": {},
   "outputs": [],
   "source": [
    "cocaine_files_to_fix = [file for file in COCAINE_COHORT_ALL for valid in ['08', '09', '10', '11', '13', '15', '16', '18'] if valid in file]\n",
    "print(cocaine_files_to_fix)\n",
    "df = pd.read_excel(cocaine_files_to_fix[0])\n",
    "df.columns = (df.columns.str.replace(u'\\xa0', u'')).str.strip()\n",
    "df.columns = df.columns.str.lower()\n",
    "cols_to_fix = [col for col in df.columns if any(match in col.lower() or col.lower() == 'd.o.b' for match in ['date'])]\n",
    "print(cols_to_fix)"
   ]
  },
  {
   "cell_type": "code",
   "execution_count": null,
   "metadata": {},
   "outputs": [],
   "source": [
    "df"
   ]
  },
  {
   "cell_type": "code",
   "execution_count": null,
   "metadata": {},
   "outputs": [],
   "source": [
    "def date_format(d):\n",
    "    if isinstance(d, float):\n",
    "        return None\n",
    "    else:\n",
    "        date_vals = d.str.split('/')\n",
    "        # print(date_vals)\n",
    "        month, day, year = date_vals[1], date_vals[0], date_vals[2]\n",
    "        new_date_vals = [month, day, year]\n",
    "        print(new_date_vals)\n",
    "        return new_date_vals\n",
    "df[cols_to_fix] = df[cols_to_fix].astype(str)\n",
    "df[cols_to_fix] = df[cols_to_fix].apply(date_format)\n",
    "# df[cols_to_fix] = df[cols_to_fix].apply(lambda x: x.str.split('/') if (not isinstance(x, float)) else None)\n",
    "df"
   ]
  },
  {
   "cell_type": "code",
   "execution_count": null,
   "metadata": {},
   "outputs": [],
   "source": [
    "df['feces 4 date']"
   ]
  },
  {
   "cell_type": "code",
   "execution_count": null,
   "metadata": {},
   "outputs": [],
   "source": []
  },
  {
   "cell_type": "code",
   "execution_count": null,
   "metadata": {},
   "outputs": [],
   "source": []
  }
 ],
 "metadata": {
  "kernelspec": {
   "display_name": "Python 3.8.9 ('venv': venv)",
   "language": "python",
   "name": "python3"
  },
  "language_info": {
   "codemirror_mode": {
    "name": "ipython",
    "version": 3
   },
   "file_extension": ".py",
   "mimetype": "text/x-python",
   "name": "python",
   "nbconvert_exporter": "python",
   "pygments_lexer": "ipython3",
   "version": "3.8.9"
  },
  "orig_nbformat": 4,
  "vscode": {
   "interpreter": {
    "hash": "a7c12ac32000a18cc573b1a86afe2945a3da1c17a0ae7b9fa3a80d46e5ff8641"
   }
  }
 },
 "nbformat": 4,
 "nbformat_minor": 2
}
