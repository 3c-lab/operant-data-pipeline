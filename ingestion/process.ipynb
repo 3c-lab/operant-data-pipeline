{
 "cells": [
  {
   "cell_type": "code",
   "execution_count": 1,
   "metadata": {},
   "outputs": [],
   "source": [
    "import pandas as pd\n",
    "import os\n",
    "import config\n"
   ]
  },
  {
   "cell_type": "code",
   "execution_count": 2,
   "metadata": {},
   "outputs": [],
   "source": [
    "cocaine_master_template_path = '/Users/haltand/George Lab Dropbox/George_Lab/Team GWAS/1. Cocaine GWAS/Cocaine Homogenized Information Sheet/Cocaine C07 Cohort Updated Information.xlsx'\n",
    "oxycodone_master_template_path = '/Users/haltand/George Lab Dropbox/George_Lab/Team GWAS/2. Oxycodone GWAS/Oxy Rat information/Oxycodone Info Sheets - Homogenized/Oxycodone C15 Cohort Information - Homogenized.xlsx'"
   ]
  },
  {
   "cell_type": "code",
   "execution_count": 3,
   "metadata": {},
   "outputs": [
    {
     "data": {
      "text/plain": [
       "85"
      ]
     },
     "execution_count": 3,
     "metadata": {},
     "output_type": "execute_result"
    }
   ],
   "source": [
    "len(config.final_charactersitics_list)"
   ]
  },
  {
   "cell_type": "code",
   "execution_count": 4,
   "metadata": {},
   "outputs": [],
   "source": [
    "cocaine_df = pd.read_excel(cocaine_master_template_path)\n",
    "oxycodone_df = pd.read_excel(oxycodone_master_template_path)"
   ]
  },
  {
   "cell_type": "code",
   "execution_count": 5,
   "metadata": {},
   "outputs": [],
   "source": [
    "# len(config.cocaine_characteristics_list)\n",
    "# ori_list = set(config.cocaine_characteristics_list)\n",
    "# len(config.new_cocaine_characteristics_list)\n",
    "# new_list = set(config.new_cocaine_characteristics_list)\n",
    "# print(ori_list)\n",
    "# print(new_list)\n",
    "# new_list.difference(ori_list)"
   ]
  },
  {
   "cell_type": "code",
   "execution_count": 6,
   "metadata": {},
   "outputs": [],
   "source": [
    "cocaine_characteristics = config.cocaine_characteristics_list\n",
    "oxycodone_characteristics = config.oxycodone_characteristics_list"
   ]
  },
  {
   "cell_type": "code",
   "execution_count": 7,
   "metadata": {},
   "outputs": [
    {
     "data": {
      "text/plain": [
       "['RFID',\n",
       " 'Rat',\n",
       " 'Experiment Group',\n",
       " 'Drug Group',\n",
       " 'Sex',\n",
       " 'D.O.B',\n",
       " 'Date of Wean',\n",
       " 'Date of Ship',\n",
       " 'Litter Number',\n",
       " 'Litter Size',\n",
       " 'Coat Color',\n",
       " 'Ear Punch',\n",
       " 'Shipping Box',\n",
       " 'Rack',\n",
       " 'Arrival Date',\n",
       " 'Handled By',\n",
       " 'Surgery Date',\n",
       " 'Surgeon',\n",
       " 'Surgery Assist',\n",
       " 'Date of Eye Bleed',\n",
       " 'Short Access Start Date',\n",
       " 'Short Access End Date',\n",
       " 'Long Access Start Date',\n",
       " 'Long Access End Date',\n",
       " 'LgA15 Date',\n",
       " 'LgA16 Date',\n",
       " 'LgA17 Date',\n",
       " 'LgA18 Date',\n",
       " 'LgA19 Date',\n",
       " 'LgA20 Date',\n",
       " 'Irritability 1 By',\n",
       " 'Irritability 1 Date',\n",
       " 'Irritability 2 By',\n",
       " 'Irritability 2 Date',\n",
       " 'Progressive Ratio 1 Date',\n",
       " 'Progressive Ratio 2 Date',\n",
       " 'Progressive Ratio 3 DateBrevital',\n",
       " 'Brevital Date',\n",
       " 'Brevital By',\n",
       " 'Pre-Shock Date',\n",
       " 'Shock (0.1mA) Date',\n",
       " 'Shock (0.2mA) Date',\n",
       " 'Shock (0.3mA) Date',\n",
       " 'Group for Pre-Shock',\n",
       " 'Group for Shock',\n",
       " 'Recatheter Surgeon',\n",
       " 'Recatheter Surgery Date',\n",
       " 'Dissection',\n",
       " 'Dissection Date',\n",
       " 'Date of Death']"
      ]
     },
     "execution_count": 7,
     "metadata": {},
     "output_type": "execute_result"
    }
   ],
   "source": [
    "cocaine_characteristics"
   ]
  },
  {
   "cell_type": "code",
   "execution_count": 8,
   "metadata": {},
   "outputs": [],
   "source": [
    "cocaine_set = set(cocaine_characteristics)\n",
    "oxycodone_set = set(oxycodone_characteristics)"
   ]
  },
  {
   "cell_type": "code",
   "execution_count": 9,
   "metadata": {},
   "outputs": [
    {
     "data": {
      "text/plain": [
       "50"
      ]
     },
     "execution_count": 9,
     "metadata": {},
     "output_type": "execute_result"
    }
   ],
   "source": [
    "len(cocaine_set)"
   ]
  },
  {
   "cell_type": "code",
   "execution_count": null,
   "metadata": {},
   "outputs": [],
   "source": [
    "union_sorted = sorted(oxycodone_set.union(cocaine_set))\n",
    "', '.join(f\"\\'{c}\\'\" for c in union_sorted)"
   ]
  },
  {
   "cell_type": "code",
   "execution_count": null,
   "metadata": {},
   "outputs": [],
   "source": [
    "len(union_sorted)"
   ]
  },
  {
   "cell_type": "code",
   "execution_count": null,
   "metadata": {},
   "outputs": [],
   "source": [
    "csv = 'a,b,c,d,e'\n",
    "\n",
    "print(csv.split(','))\n"
   ]
  },
  {
   "cell_type": "code",
   "execution_count": null,
   "metadata": {},
   "outputs": [],
   "source": [
    "csv_formatted = ','.join([f'\\\"{value}\\\"' for value in csv.split(',')])"
   ]
  },
  {
   "cell_type": "code",
   "execution_count": null,
   "metadata": {},
   "outputs": [],
   "source": [
    "test = f'\\'{{{csv_formatted}}}\\''\n",
    "print(test)"
   ]
  },
  {
   "cell_type": "code",
   "execution_count": null,
   "metadata": {},
   "outputs": [],
   "source": [
    "print(type(test))"
   ]
  }
 ],
 "metadata": {
  "kernelspec": {
   "display_name": "Python 3.8.9 ('venv': venv)",
   "language": "python",
   "name": "python3"
  },
  "language_info": {
   "codemirror_mode": {
    "name": "ipython",
    "version": 3
   },
   "file_extension": ".py",
   "mimetype": "text/x-python",
   "name": "python",
   "nbconvert_exporter": "python",
   "pygments_lexer": "ipython3",
   "version": "3.8.9"
  },
  "orig_nbformat": 4,
  "vscode": {
   "interpreter": {
    "hash": "a7c12ac32000a18cc573b1a86afe2945a3da1c17a0ae7b9fa3a80d46e5ff8641"
   }
  }
 },
 "nbformat": 4,
 "nbformat_minor": 2
}
