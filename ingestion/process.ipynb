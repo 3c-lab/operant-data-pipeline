{
 "cells": [
  {
   "cell_type": "code",
   "execution_count": null,
   "metadata": {},
   "outputs": [],
   "source": [
    "import pandas as pd\n",
    "import os\n",
    "import config\n"
   ]
  },
  {
   "cell_type": "code",
   "execution_count": null,
   "metadata": {},
   "outputs": [],
   "source": [
    "cocaine_master_template_path = '/Users/haltand/George Lab Dropbox/George_Lab/Team GWAS/1. Cocaine GWAS/Cocaine Homogenized Information Sheet/Cocaine C07 Cohort Updated Information.xlsx'\n",
    "oxycodone_master_template_path = '/Users/haltand/George Lab Dropbox/George_Lab/Team GWAS/2. Oxycodone GWAS/Oxy Rat information/Oxycodone Info Sheets - Homogenized/Oxycodone C15 Cohort Information - Homogenized.xlsx'"
   ]
  },
  {
   "cell_type": "code",
   "execution_count": 16,
   "metadata": {},
   "outputs": [
    {
     "data": {
      "text/plain": [
       "85"
      ]
     },
     "execution_count": 16,
     "metadata": {},
     "output_type": "execute_result"
    }
   ],
   "source": [
    "len(config.final_charactersitics_list)"
   ]
  },
  {
   "cell_type": "code",
   "execution_count": null,
   "metadata": {},
   "outputs": [],
   "source": [
    "cocaine_df = pd.read_excel(cocaine_master_template_path)\n",
    "oxycodone_df = pd.read_excel(oxycodone_master_template_path)"
   ]
  },
  {
   "cell_type": "code",
   "execution_count": null,
   "metadata": {},
   "outputs": [],
   "source": [
    "cocaine_df.columns = cocaine_df.columns.str.lower()\n",
    "cocaine_df"
   ]
  },
  {
   "cell_type": "code",
   "execution_count": null,
   "metadata": {},
   "outputs": [],
   "source": []
  }
 ],
 "metadata": {
  "kernelspec": {
   "display_name": "Python 3.8.9 ('venv': venv)",
   "language": "python",
   "name": "python3"
  },
  "language_info": {
   "codemirror_mode": {
    "name": "ipython",
    "version": 3
   },
   "file_extension": ".py",
   "mimetype": "text/x-python",
   "name": "python",
   "nbconvert_exporter": "python",
   "pygments_lexer": "ipython3",
   "version": "3.8.9"
  },
  "orig_nbformat": 4,
  "vscode": {
   "interpreter": {
    "hash": "a7c12ac32000a18cc573b1a86afe2945a3da1c17a0ae7b9fa3a80d46e5ff8641"
   }
  }
 },
 "nbformat": 4,
 "nbformat_minor": 2
}
