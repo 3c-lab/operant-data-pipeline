{
 "cells": [
  {
   "cell_type": "code",
   "execution_count": 25,
   "metadata": {},
   "outputs": [],
   "source": [
    "import pandas as pd\n",
    "import os\n",
    "import config\n",
    "import cohort_process\n"
   ]
  },
  {
   "cell_type": "code",
   "execution_count": 26,
   "metadata": {},
   "outputs": [],
   "source": [
    "cols_integer = ['rfid', 'cohort', 'age at lga', 'age at sha', 'age at dissection', 'litter number', 'litter size', 'shipping box', 'age at surgery', 'days of experiment']"
   ]
  },
  {
   "cell_type": "code",
   "execution_count": 27,
   "metadata": {},
   "outputs": [
    {
     "name": "stdout",
     "output_type": "stream",
     "text": [
      "Index(['rat', 'experiment group', 'drug group', 'cohort', 'sex', 'rfid',\n",
      "       'd.o.b', 'date of wean', 'date of ship', 'litter number', 'litter size',\n",
      "       'coat color', 'ear punch', 'shipping box', 'rack', 'arrival date',\n",
      "       'handled collection', 'surgery date', 'surgeon', 'surgery assist',\n",
      "       'date of eye bleed', 'short access start date', 'short access end date',\n",
      "       'long access start date', 'long access end date', 'lga15 date',\n",
      "       'lga16 date', 'lga17 date', 'lga18 date', 'lga19 date', 'lga20 date',\n",
      "       'brevital', 'brevital date', 'brevital collection',\n",
      "       'progressive ratio 1 date', 'progressive ratio 2 date',\n",
      "       'progressive ratio 3 date', 'pre-shock date', 'shock (0.1ma) date',\n",
      "       'shock (0.2ma) date', 'shock (0.3ma) date', 'urine 1 collection',\n",
      "       'urine 1 date', 'urine 2 date', 'urine 2 collection', 'weight 1 value',\n",
      "       'weight 1 date', 'weight 2 value', 'weight 2 date', 'weight 3 value',\n",
      "       'weight 3 date', 'weight 4 value', 'weight 4 date', 'weight 5 value',\n",
      "       'weight 5 date', 'weight 6 value', 'weight 6 date', 'weight 7 value',\n",
      "       'weight 7 date', 'weight 8 value', 'weight 8 date', 'weight 9 value',\n",
      "       'weight 9 date', 'weight 10 value', 'weight 10 date',\n",
      "       'feces 1 collection', 'feces 1 date', 'feces 2 collection',\n",
      "       'feces 2 date', 'feces 3 collection', 'feces 3 date',\n",
      "       'feces 4 collection', 'feces 4 date', 'female swab 1 collection',\n",
      "       'female swab 1 date', 'female swab 2 collection', 'female swab 2 date',\n",
      "       'female swab 3 collection', 'female swab 3 date', 'group for pre-shock',\n",
      "       'group for shock', 'irritability 1 collection', 'irritability 1 date',\n",
      "       'irritability 2 collection', 'irritability 2 date',\n",
      "       'recatheter surgeon', 'recatheter surgery date', 'dissection',\n",
      "       'dissection date', 'date of death', 'unnamed: 90', 'unnamed: 91',\n",
      "       'exit day', 'last good session', 'exit code', 'complete',\n",
      "       'tissue collected', 'exit notes', 'replaced by'],\n",
      "      dtype='object')\n"
     ]
    }
   ],
   "source": [
    "c4 = cohort_process.CohortProcess(config.COCAINE_COHORT_04)\n",
    "# c4.df_final.columns = c4.df_final.columns.str.lower()\n",
    "print(c4.df_final.columns)\n",
    "\n"
   ]
  },
  {
   "cell_type": "code",
   "execution_count": 28,
   "metadata": {},
   "outputs": [
    {
     "name": "stdout",
     "output_type": "stream",
     "text": [
      "Col is rfid and val is 0     933000120138679\n",
      "1     933000120138591\n",
      "2     933000120138391\n",
      "3     933000120138660\n",
      "4     933000120138604\n",
      "5     933000120138582\n",
      "6     933000120138594\n",
      "7     933000120138619\n",
      "8     933000120138675\n",
      "9     933000120138674\n",
      "10    933000120138677\n",
      "11    933000120138666\n",
      "12    933000120138663\n",
      "13    933000120138583\n",
      "14    933000120138387\n",
      "15    933000120138405\n",
      "16    933000120138390\n",
      "17    933000120138396\n",
      "18    933000120138605\n",
      "19    933000120138596\n",
      "20    933000120138680\n",
      "21    933000120138672\n",
      "22    933000120138585\n",
      "23    933000120138584\n",
      "24    933000120138601\n",
      "25    933000120138665\n",
      "26    933000120138669\n",
      "27    933000120138662\n",
      "28    933000120138661\n",
      "29    933000120138589\n",
      "30    933000120138629\n",
      "31    933000120138598\n",
      "32    933000120138603\n",
      "33    933000120138657\n",
      "34    933000120138670\n",
      "35    933000120138402\n",
      "36    933000120138671\n",
      "37    933000120138393\n",
      "38    933000120138399\n",
      "39    933000120138592\n",
      "40    933000120138599\n",
      "41    933000120138668\n",
      "42    933000120138667\n",
      "43    933000120138656\n",
      "44    933000120138673\n",
      "45    933000120138600\n",
      "46    933000120138587\n",
      "47    933000120138676\n",
      "48    933000120138658\n",
      "49    933000120138595\n",
      "50    933000120138586\n",
      "51    933000120138404\n",
      "52    933000120138383\n",
      "53    933000120138588\n",
      "54    933000120138602\n",
      "55    933000120138581\n",
      "56    933000120138664\n",
      "57    933000120138659\n",
      "58    933000120138597\n",
      "Name: rfid, dtype: int64\n",
      "Col is cohort and val is 0     4\n",
      "1     4\n",
      "2     4\n",
      "3     4\n",
      "4     4\n",
      "5     4\n",
      "6     4\n",
      "7     4\n",
      "8     4\n",
      "9     4\n",
      "10    4\n",
      "11    4\n",
      "12    4\n",
      "13    4\n",
      "14    4\n",
      "15    4\n",
      "16    4\n",
      "17    4\n",
      "18    4\n",
      "19    4\n",
      "20    4\n",
      "21    4\n",
      "22    4\n",
      "23    4\n",
      "24    4\n",
      "25    4\n",
      "26    4\n",
      "27    4\n",
      "28    4\n",
      "29    4\n",
      "30    4\n",
      "31    4\n",
      "32    4\n",
      "33    4\n",
      "34    4\n",
      "35    4\n",
      "36    4\n",
      "37    4\n",
      "38    4\n",
      "39    4\n",
      "40    4\n",
      "41    4\n",
      "42    4\n",
      "43    4\n",
      "44    4\n",
      "45    4\n",
      "46    4\n",
      "47    4\n",
      "48    4\n",
      "49    4\n",
      "50    4\n",
      "51    4\n",
      "52    4\n",
      "53    4\n",
      "54    4\n",
      "55    4\n",
      "56    4\n",
      "57    4\n",
      "58    4\n",
      "Name: cohort, dtype: int64\n"
     ]
    },
    {
     "ename": "KeyError",
     "evalue": "'age at lga'",
     "output_type": "error",
     "traceback": [
      "\u001b[0;31m---------------------------------------------------------------------------\u001b[0m",
      "\u001b[0;31mKeyError\u001b[0m                                  Traceback (most recent call last)",
      "File \u001b[0;32m~/Documents/DataStream/venv/lib/python3.8/site-packages/pandas/core/indexes/base.py:3621\u001b[0m, in \u001b[0;36mIndex.get_loc\u001b[0;34m(self, key, method, tolerance)\u001b[0m\n\u001b[1;32m   3620\u001b[0m \u001b[39mtry\u001b[39;00m:\n\u001b[0;32m-> 3621\u001b[0m     \u001b[39mreturn\u001b[39;00m \u001b[39mself\u001b[39;49m\u001b[39m.\u001b[39;49m_engine\u001b[39m.\u001b[39;49mget_loc(casted_key)\n\u001b[1;32m   3622\u001b[0m \u001b[39mexcept\u001b[39;00m \u001b[39mKeyError\u001b[39;00m \u001b[39mas\u001b[39;00m err:\n",
      "File \u001b[0;32m~/Documents/DataStream/venv/lib/python3.8/site-packages/pandas/_libs/index.pyx:136\u001b[0m, in \u001b[0;36mpandas._libs.index.IndexEngine.get_loc\u001b[0;34m()\u001b[0m\n",
      "File \u001b[0;32m~/Documents/DataStream/venv/lib/python3.8/site-packages/pandas/_libs/index.pyx:163\u001b[0m, in \u001b[0;36mpandas._libs.index.IndexEngine.get_loc\u001b[0;34m()\u001b[0m\n",
      "File \u001b[0;32mpandas/_libs/hashtable_class_helper.pxi:5198\u001b[0m, in \u001b[0;36mpandas._libs.hashtable.PyObjectHashTable.get_item\u001b[0;34m()\u001b[0m\n",
      "File \u001b[0;32mpandas/_libs/hashtable_class_helper.pxi:5206\u001b[0m, in \u001b[0;36mpandas._libs.hashtable.PyObjectHashTable.get_item\u001b[0;34m()\u001b[0m\n",
      "\u001b[0;31mKeyError\u001b[0m: 'age at lga'",
      "\nThe above exception was the direct cause of the following exception:\n",
      "\u001b[0;31mKeyError\u001b[0m                                  Traceback (most recent call last)",
      "\u001b[1;32m/Users/haltand/Documents/DataStream/ingestion/process.ipynb Cell 4\u001b[0m in \u001b[0;36m<cell line: 1>\u001b[0;34m()\u001b[0m\n\u001b[1;32m      <a href='vscode-notebook-cell:/Users/haltand/Documents/DataStream/ingestion/process.ipynb#X24sZmlsZQ%3D%3D?line=0'>1</a>\u001b[0m \u001b[39mfor\u001b[39;00m col \u001b[39min\u001b[39;00m cols_integer:\n\u001b[0;32m----> <a href='vscode-notebook-cell:/Users/haltand/Documents/DataStream/ingestion/process.ipynb#X24sZmlsZQ%3D%3D?line=1'>2</a>\u001b[0m     \u001b[39mprint\u001b[39m(\u001b[39mf\u001b[39m\u001b[39m'\u001b[39m\u001b[39mCol is \u001b[39m\u001b[39m{\u001b[39;00mcol\u001b[39m}\u001b[39;00m\u001b[39m and val is \u001b[39m\u001b[39m{\u001b[39;00mc4\u001b[39m.\u001b[39mdf_final[col]\u001b[39m}\u001b[39;00m\u001b[39m'\u001b[39m)\n",
      "File \u001b[0;32m~/Documents/DataStream/venv/lib/python3.8/site-packages/pandas/core/frame.py:3505\u001b[0m, in \u001b[0;36mDataFrame.__getitem__\u001b[0;34m(self, key)\u001b[0m\n\u001b[1;32m   3503\u001b[0m \u001b[39mif\u001b[39;00m \u001b[39mself\u001b[39m\u001b[39m.\u001b[39mcolumns\u001b[39m.\u001b[39mnlevels \u001b[39m>\u001b[39m \u001b[39m1\u001b[39m:\n\u001b[1;32m   3504\u001b[0m     \u001b[39mreturn\u001b[39;00m \u001b[39mself\u001b[39m\u001b[39m.\u001b[39m_getitem_multilevel(key)\n\u001b[0;32m-> 3505\u001b[0m indexer \u001b[39m=\u001b[39m \u001b[39mself\u001b[39;49m\u001b[39m.\u001b[39;49mcolumns\u001b[39m.\u001b[39;49mget_loc(key)\n\u001b[1;32m   3506\u001b[0m \u001b[39mif\u001b[39;00m is_integer(indexer):\n\u001b[1;32m   3507\u001b[0m     indexer \u001b[39m=\u001b[39m [indexer]\n",
      "File \u001b[0;32m~/Documents/DataStream/venv/lib/python3.8/site-packages/pandas/core/indexes/base.py:3623\u001b[0m, in \u001b[0;36mIndex.get_loc\u001b[0;34m(self, key, method, tolerance)\u001b[0m\n\u001b[1;32m   3621\u001b[0m     \u001b[39mreturn\u001b[39;00m \u001b[39mself\u001b[39m\u001b[39m.\u001b[39m_engine\u001b[39m.\u001b[39mget_loc(casted_key)\n\u001b[1;32m   3622\u001b[0m \u001b[39mexcept\u001b[39;00m \u001b[39mKeyError\u001b[39;00m \u001b[39mas\u001b[39;00m err:\n\u001b[0;32m-> 3623\u001b[0m     \u001b[39mraise\u001b[39;00m \u001b[39mKeyError\u001b[39;00m(key) \u001b[39mfrom\u001b[39;00m \u001b[39merr\u001b[39;00m\n\u001b[1;32m   3624\u001b[0m \u001b[39mexcept\u001b[39;00m \u001b[39mTypeError\u001b[39;00m:\n\u001b[1;32m   3625\u001b[0m     \u001b[39m# If we have a listlike key, _check_indexing_error will raise\u001b[39;00m\n\u001b[1;32m   3626\u001b[0m     \u001b[39m#  InvalidIndexError. Otherwise we fall through and re-raise\u001b[39;00m\n\u001b[1;32m   3627\u001b[0m     \u001b[39m#  the TypeError.\u001b[39;00m\n\u001b[1;32m   3628\u001b[0m     \u001b[39mself\u001b[39m\u001b[39m.\u001b[39m_check_indexing_error(key)\n",
      "\u001b[0;31mKeyError\u001b[0m: 'age at lga'"
     ]
    }
   ],
   "source": [
    "for col in cols_integer:\n",
    "    print(f'Col is {col} and val is {c4.df_final[col]}')"
   ]
  },
  {
   "cell_type": "code",
   "execution_count": null,
   "metadata": {},
   "outputs": [],
   "source": [
    "print(c4.df_final[cols_integer])"
   ]
  },
  {
   "cell_type": "code",
   "execution_count": null,
   "metadata": {},
   "outputs": [],
   "source": []
  },
  {
   "cell_type": "code",
   "execution_count": null,
   "metadata": {},
   "outputs": [],
   "source": [
    "cocaine_master_template_path = '/Users/haltand/George Lab Dropbox/George_Lab/Team GWAS/1. Cocaine GWAS/Cocaine Homogenized Information Sheet/Cocaine C07 Cohort Updated Information.xlsx'\n",
    "oxycodone_master_template_path = '/Users/haltand/George Lab Dropbox/George_Lab/Team GWAS/2. Oxycodone GWAS/Oxy Rat information/Oxycodone Info Sheets - Homogenized/Oxycodone C15 Cohort Information - Homogenized.xlsx'"
   ]
  },
  {
   "cell_type": "code",
   "execution_count": null,
   "metadata": {},
   "outputs": [],
   "source": [
    "oxy_df_sheets = pd.read_excel(oxycodone_master_template_path, sheet_name = None)\n",
    "oxy_df_sheets"
   ]
  },
  {
   "cell_type": "code",
   "execution_count": null,
   "metadata": {},
   "outputs": [],
   "source": [
    "timeline_df = oxy_df_sheets['Timeline']\n",
    "exit_df = oxy_df_sheets['Exit Tab']\n",
    "exit_df = exit_df.drop(['RAT', 'Cohort'], axis=1)"
   ]
  },
  {
   "cell_type": "code",
   "execution_count": null,
   "metadata": {},
   "outputs": [],
   "source": [
    "exit_df"
   ]
  },
  {
   "cell_type": "code",
   "execution_count": null,
   "metadata": {},
   "outputs": [],
   "source": [
    "timeline_df"
   ]
  },
  {
   "cell_type": "code",
   "execution_count": null,
   "metadata": {},
   "outputs": [],
   "source": [
    "merge_df = pd.merge(timeline_df, exit_df, how='left', on='RFID')\n",
    "merge_df"
   ]
  },
  {
   "cell_type": "code",
   "execution_count": null,
   "metadata": {},
   "outputs": [],
   "source": []
  },
  {
   "cell_type": "code",
   "execution_count": null,
   "metadata": {},
   "outputs": [],
   "source": [
    "test = 'date day test'\n",
    "if any(c in test for c in ['date', 'day']):\n",
    "    print('true')"
   ]
  },
  {
   "cell_type": "code",
   "execution_count": null,
   "metadata": {},
   "outputs": [],
   "source": [
    "cocaine_df = pd.read_excel(cocaine_master_template_path)\n",
    "oxycodone_df = pd.read_excel(oxycodone_master_template_path)"
   ]
  },
  {
   "cell_type": "code",
   "execution_count": null,
   "metadata": {},
   "outputs": [],
   "source": [
    "cocaine_df.columns = cocaine_df.columns.str.lower()\n",
    "cocaine_df"
   ]
  },
  {
   "cell_type": "code",
   "execution_count": null,
   "metadata": {},
   "outputs": [],
   "source": []
  }
 ],
 "metadata": {
  "kernelspec": {
   "display_name": "Python 3.8.9 ('venv': venv)",
   "language": "python",
   "name": "python3"
  },
  "language_info": {
   "codemirror_mode": {
    "name": "ipython",
    "version": 3
   },
   "file_extension": ".py",
   "mimetype": "text/x-python",
   "name": "python",
   "nbconvert_exporter": "python",
   "pygments_lexer": "ipython3",
   "version": "3.8.9"
  },
  "orig_nbformat": 4,
  "vscode": {
   "interpreter": {
    "hash": "a7c12ac32000a18cc573b1a86afe2945a3da1c17a0ae7b9fa3a80d46e5ff8641"
   }
  }
 },
 "nbformat": 4,
 "nbformat_minor": 2
}
