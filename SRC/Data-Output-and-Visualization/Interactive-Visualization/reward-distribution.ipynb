{
 "cells": [
  {
   "cell_type": "code",
   "execution_count": 22,
   "id": "ef41b002",
   "metadata": {},
   "outputs": [],
   "source": [
    "import numpy as np\n",
    "import pandas as pd\n",
    "import seaborn as sns\n",
    "import matplotlib.pyplot as plt\n",
    "import itertools"
   ]
  },
  {
   "cell_type": "code",
   "execution_count": 4,
   "id": "c27cedf6",
   "metadata": {},
   "outputs": [],
   "source": [
    "from data_processing_helper import *"
   ]
  },
  {
   "cell_type": "code",
   "execution_count": 5,
   "id": "2a17bd92",
   "metadata": {},
   "outputs": [],
   "source": [
    "import warnings\n",
    "warnings.filterwarnings('ignore')"
   ]
  },
  {
   "cell_type": "code",
   "execution_count": 30,
   "id": "a22c2e4c",
   "metadata": {
    "scrolled": false
   },
   "outputs": [
    {
     "name": "stdout",
     "output_type": "stream",
     "text": [
      "/Users/yunyihuang/Desktop/georgelab/gl_local/data/BSB273EC13HSOXYLGA14_output.xlsx\n",
      "CLEANING COMPLETED\n"
     ]
    },
    {
     "data": {
      "application/vnd.plotly.v1+json": {
       "config": {
        "plotlyServerURL": "https://plot.ly"
       },
       "data": [
        {
         "alignmentgroup": "True",
         "bingroup": "x",
         "hovertemplate": "ID=M1369<br>Second=%{x}<br>count=%{y}<extra></extra>",
         "legendgroup": "M1369",
         "marker": {
          "color": "#2E91E5",
          "pattern": {
           "shape": ""
          }
         },
         "name": "M1369",
         "nbinsx": 646,
         "offsetgroup": "M1369",
         "orientation": "v",
         "showlegend": true,
         "type": "histogram",
         "x": [
          98,
          190,
          67,
          76,
          432,
          658,
          45,
          537,
          66,
          966,
          805,
          147,
          852,
          51,
          124,
          67,
          946,
          22,
          396,
          154,
          24,
          130,
          1229,
          44,
          21,
          20,
          22,
          1645,
          51,
          1101,
          190,
          77,
          442,
          40,
          51,
          167,
          86,
          1093,
          45,
          203,
          1194,
          55,
          88,
          87,
          113,
          1432,
          34,
          173,
          875,
          24,
          36,
          21,
          250,
          1438,
          43,
          25,
          24,
          259,
          42,
          24,
          1202,
          26,
          196,
          49,
          1098,
          20,
          481,
          27,
          831,
          38,
          184,
          897,
          24,
          20,
          197,
          133,
          895,
          740,
          126,
          218,
          69,
          768,
          847,
          41,
          28,
          903,
          143,
          1049,
          38,
          98,
          106,
          46,
          77,
          66,
          122,
          74,
          144,
          61,
          1665,
          116,
          246,
          993,
          26,
          28,
          26,
          32,
          115,
          61,
          1502,
          61,
          254,
          797,
          25,
          93,
          158
         ],
         "xaxis": "x",
         "yaxis": "y"
        },
        {
         "alignmentgroup": "True",
         "bingroup": "x",
         "hovertemplate": "ID=M1370<br>Second=%{x}<br>count=%{y}<extra></extra>",
         "legendgroup": "M1370",
         "marker": {
          "color": "#E15F99",
          "pattern": {
           "shape": ""
          }
         },
         "name": "M1370",
         "nbinsx": 646,
         "offsetgroup": "M1370",
         "orientation": "v",
         "showlegend": true,
         "type": "histogram",
         "x": [
          1005,
          154,
          2608,
          26,
          1994,
          2174,
          1297,
          30,
          714,
          163,
          2409,
          32,
          2175,
          2856,
          43,
          1775,
          49,
          1451,
          1057,
          1510,
          25,
          1468,
          1368,
          977,
          43,
          7233
         ],
         "xaxis": "x",
         "yaxis": "y"
        },
        {
         "alignmentgroup": "True",
         "bingroup": "x",
         "hovertemplate": "ID=M1371<br>Second=%{x}<br>count=%{y}<extra></extra>",
         "legendgroup": "M1371",
         "marker": {
          "color": "#1CA71C",
          "pattern": {
           "shape": ""
          }
         },
         "name": "M1371",
         "nbinsx": 646,
         "offsetgroup": "M1371",
         "orientation": "v",
         "showlegend": true,
         "type": "histogram",
         "x": [
          1600,
          1056,
          227,
          55,
          1080,
          312,
          23,
          38,
          756,
          21,
          607,
          191,
          732,
          817,
          524,
          899,
          1622,
          295,
          369,
          910,
          517,
          223,
          915,
          963,
          112,
          1355,
          69,
          1509,
          445,
          195,
          1146,
          804,
          791,
          90,
          1178,
          932,
          441,
          941,
          845,
          289,
          785,
          542,
          765,
          923,
          807,
          931,
          851,
          694,
          1106,
          2402,
          35,
          35,
          81,
          605,
          527
         ],
         "xaxis": "x",
         "yaxis": "y"
        },
        {
         "alignmentgroup": "True",
         "bingroup": "x",
         "hovertemplate": "ID=M1372<br>Second=%{x}<br>count=%{y}<extra></extra>",
         "legendgroup": "M1372",
         "marker": {
          "color": "#FB0D0D",
          "pattern": {
           "shape": ""
          }
         },
         "name": "M1372",
         "nbinsx": 646,
         "offsetgroup": "M1372",
         "orientation": "v",
         "showlegend": true,
         "type": "histogram",
         "x": [
          372,
          1443,
          1430,
          1804,
          1468,
          1812,
          24,
          2294,
          23,
          1932,
          1406,
          1597,
          1154,
          45,
          2232,
          1690,
          22,
          2285,
          20,
          42,
          2337,
          60,
          2046
         ],
         "xaxis": "x",
         "yaxis": "y"
        },
        {
         "alignmentgroup": "True",
         "bingroup": "x",
         "hovertemplate": "ID=M1373<br>Second=%{x}<br>count=%{y}<extra></extra>",
         "legendgroup": "M1373",
         "marker": {
          "color": "#DA16FF",
          "pattern": {
           "shape": ""
          }
         },
         "name": "M1373",
         "nbinsx": 646,
         "offsetgroup": "M1373",
         "orientation": "v",
         "showlegend": true,
         "type": "histogram",
         "x": [
          297,
          603,
          815,
          105,
          895,
          311,
          372,
          495,
          767,
          27,
          1322,
          302,
          49,
          26,
          61,
          120,
          1306,
          777,
          544,
          674,
          733,
          718,
          515,
          475,
          842,
          669,
          517,
          720,
          297,
          651,
          642,
          552,
          650,
          470,
          670,
          375,
          531,
          508,
          646,
          648,
          702,
          535,
          447,
          596,
          594,
          622,
          644,
          2569,
          8726,
          864,
          35,
          507,
          813,
          459,
          497,
          576,
          471,
          671
         ],
         "xaxis": "x",
         "yaxis": "y"
        },
        {
         "alignmentgroup": "True",
         "bingroup": "x",
         "hovertemplate": "ID=M1374<br>Second=%{x}<br>count=%{y}<extra></extra>",
         "legendgroup": "M1374",
         "marker": {
          "color": "#222A2A",
          "pattern": {
           "shape": ""
          }
         },
         "name": "M1374",
         "nbinsx": 646,
         "offsetgroup": "M1374",
         "orientation": "v",
         "showlegend": true,
         "type": "histogram",
         "x": [
          38,
          470,
          471,
          662,
          54,
          21,
          23,
          21,
          26,
          23,
          25,
          26,
          24,
          34,
          20,
          26,
          2612,
          1810,
          2782,
          2691,
          3612,
          233,
          30,
          24,
          48,
          1038,
          193,
          300,
          276,
          1958,
          36,
          2482,
          7950,
          1785,
          4372,
          2544
         ],
         "xaxis": "x",
         "yaxis": "y"
        },
        {
         "alignmentgroup": "True",
         "bingroup": "x",
         "hovertemplate": "ID=M1375<br>Second=%{x}<br>count=%{y}<extra></extra>",
         "legendgroup": "M1375",
         "marker": {
          "color": "#B68100",
          "pattern": {
           "shape": ""
          }
         },
         "name": "M1375",
         "nbinsx": 646,
         "offsetgroup": "M1375",
         "orientation": "v",
         "showlegend": true,
         "type": "histogram",
         "x": [
          179,
          680,
          780,
          570,
          791,
          562,
          623,
          684,
          777,
          1001,
          794,
          646,
          828,
          905,
          646,
          778,
          810,
          536,
          580,
          668,
          667,
          920,
          557,
          597,
          337,
          525,
          618,
          789,
          643,
          695,
          895,
          3974,
          670,
          412,
          629,
          586,
          672,
          832,
          853,
          565,
          548,
          708,
          739,
          748,
          839,
          3809,
          502,
          535,
          515,
          696,
          675
         ],
         "xaxis": "x",
         "yaxis": "y"
        },
        {
         "alignmentgroup": "True",
         "bingroup": "x",
         "hovertemplate": "ID=M1376<br>Second=%{x}<br>count=%{y}<extra></extra>",
         "legendgroup": "M1376",
         "marker": {
          "color": "#750D86",
          "pattern": {
           "shape": ""
          }
         },
         "name": "M1376",
         "nbinsx": 646,
         "offsetgroup": "M1376",
         "orientation": "v",
         "showlegend": true,
         "type": "histogram",
         "x": [
          545,
          660,
          145,
          54,
          6451,
          809,
          6998,
          46,
          9946,
          10127
         ],
         "xaxis": "x",
         "yaxis": "y"
        },
        {
         "alignmentgroup": "True",
         "bingroup": "x",
         "hovertemplate": "ID=M1377<br>Second=%{x}<br>count=%{y}<extra></extra>",
         "legendgroup": "M1377",
         "marker": {
          "color": "#EB663B",
          "pattern": {
           "shape": ""
          }
         },
         "name": "M1377",
         "nbinsx": 646,
         "offsetgroup": "M1377",
         "orientation": "v",
         "showlegend": true,
         "type": "histogram",
         "x": [
          820,
          23,
          540,
          29,
          654,
          34,
          31,
          692,
          24,
          81,
          30,
          100,
          1421,
          22,
          25,
          25,
          454,
          159,
          26,
          579,
          247,
          827,
          25,
          85,
          196,
          826,
          69,
          804,
          519,
          50,
          300,
          559,
          540,
          82,
          1004,
          51,
          40,
          200,
          328,
          864,
          27,
          407,
          116,
          885,
          1034,
          307,
          28,
          183,
          58,
          1588,
          24,
          349,
          778,
          51,
          22,
          576,
          67,
          1801,
          25,
          38,
          1399,
          44,
          32,
          114,
          1529,
          318,
          32,
          1002,
          50,
          42,
          1177,
          24,
          30,
          54,
          28,
          2349,
          28,
          21,
          49,
          580,
          29,
          1689,
          4255,
          51,
          521,
          186,
          32,
          34,
          972,
          44,
          25,
          108,
          1335,
          30,
          23,
          1435
         ],
         "xaxis": "x",
         "yaxis": "y"
        },
        {
         "alignmentgroup": "True",
         "bingroup": "x",
         "hovertemplate": "ID=M1378<br>Second=%{x}<br>count=%{y}<extra></extra>",
         "legendgroup": "M1378",
         "marker": {
          "color": "#511CFB",
          "pattern": {
           "shape": ""
          }
         },
         "name": "M1378",
         "nbinsx": 646,
         "offsetgroup": "M1378",
         "orientation": "v",
         "showlegend": true,
         "type": "histogram",
         "x": [
          71,
          189,
          86,
          791,
          1017,
          413,
          56,
          495,
          374,
          626,
          757,
          291,
          1155,
          718,
          31,
          571,
          1121,
          867,
          12913,
          39,
          443,
          455,
          113,
          412,
          355,
          839,
          555,
          718,
          496,
          324,
          351,
          1135,
          28,
          28,
          906,
          1689,
          274,
          426,
          599,
          918,
          25,
          604,
          717,
          3259,
          26,
          541,
          126,
          1145,
          550,
          182,
          775,
          332,
          78
         ],
         "xaxis": "x",
         "yaxis": "y"
        },
        {
         "alignmentgroup": "True",
         "bingroup": "x",
         "hovertemplate": "ID=M1379<br>Second=%{x}<br>count=%{y}<extra></extra>",
         "legendgroup": "M1379",
         "marker": {
          "color": "#00A08B",
          "pattern": {
           "shape": ""
          }
         },
         "name": "M1379",
         "nbinsx": 646,
         "offsetgroup": "M1379",
         "orientation": "v",
         "showlegend": true,
         "type": "histogram",
         "x": [
          31,
          571,
          411,
          1370,
          38,
          1119,
          112,
          42,
          39,
          1757,
          36,
          3165,
          34,
          787,
          35,
          40,
          49,
          36,
          36,
          1974,
          2001,
          44,
          29,
          29,
          1042,
          853,
          555,
          1077,
          2404,
          112,
          84,
          29,
          1360,
          2169,
          1809,
          35,
          48,
          25,
          1284,
          44,
          4706,
          56,
          38,
          1520,
          60,
          35,
          40,
          869,
          151,
          1024
         ],
         "xaxis": "x",
         "yaxis": "y"
        },
        {
         "alignmentgroup": "True",
         "bingroup": "x",
         "hovertemplate": "ID=M1380<br>Second=%{x}<br>count=%{y}<extra></extra>",
         "legendgroup": "M1380",
         "marker": {
          "color": "#FB00D1",
          "pattern": {
           "shape": ""
          }
         },
         "name": "M1380",
         "nbinsx": 646,
         "offsetgroup": "M1380",
         "orientation": "v",
         "showlegend": true,
         "type": "histogram",
         "x": [
          390,
          23,
          26,
          32,
          387,
          53,
          431,
          712,
          117,
          778,
          93,
          439,
          888,
          23,
          283,
          24,
          549,
          742,
          28,
          684,
          401,
          652,
          40,
          477,
          175,
          530,
          431,
          37,
          615,
          349,
          1044,
          76,
          157,
          689,
          38,
          127,
          491,
          160,
          1093,
          63,
          357,
          188,
          1026,
          21,
          134,
          58,
          511,
          274,
          753,
          38,
          894,
          76,
          59,
          841,
          24,
          343,
          522,
          306,
          179,
          221,
          1000,
          60,
          803,
          28,
          448,
          805,
          83,
          721,
          39,
          216,
          695,
          188,
          118,
          1261,
          96,
          93,
          326,
          421,
          423,
          308,
          331,
          474,
          112,
          434,
          320,
          584,
          109,
          221,
          558,
          57,
          458,
          1130,
          34,
          21,
          239,
          321,
          525,
          796,
          35,
          346,
          791,
          74,
          563,
          396,
          350,
          140,
          524,
          394,
          658,
          638,
          95,
          879,
          144
         ],
         "xaxis": "x",
         "yaxis": "y"
        }
       ],
       "layout": {
        "autosize": false,
        "barmode": "relative",
        "height": 700,
        "legend": {
         "title": {
          "text": "ID"
         },
         "tracegroupgap": 0
        },
        "margin": {
         "b": 100,
         "l": 50,
         "pad": 4,
         "r": 50,
         "t": 100
        },
        "template": {
         "data": {
          "bar": [
           {
            "error_x": {
             "color": "#2a3f5f"
            },
            "error_y": {
             "color": "#2a3f5f"
            },
            "marker": {
             "line": {
              "color": "#E5ECF6",
              "width": 0.5
             },
             "pattern": {
              "fillmode": "overlay",
              "size": 10,
              "solidity": 0.2
             }
            },
            "type": "bar"
           }
          ],
          "barpolar": [
           {
            "marker": {
             "line": {
              "color": "#E5ECF6",
              "width": 0.5
             },
             "pattern": {
              "fillmode": "overlay",
              "size": 10,
              "solidity": 0.2
             }
            },
            "type": "barpolar"
           }
          ],
          "carpet": [
           {
            "aaxis": {
             "endlinecolor": "#2a3f5f",
             "gridcolor": "white",
             "linecolor": "white",
             "minorgridcolor": "white",
             "startlinecolor": "#2a3f5f"
            },
            "baxis": {
             "endlinecolor": "#2a3f5f",
             "gridcolor": "white",
             "linecolor": "white",
             "minorgridcolor": "white",
             "startlinecolor": "#2a3f5f"
            },
            "type": "carpet"
           }
          ],
          "choropleth": [
           {
            "colorbar": {
             "outlinewidth": 0,
             "ticks": ""
            },
            "type": "choropleth"
           }
          ],
          "contour": [
           {
            "colorbar": {
             "outlinewidth": 0,
             "ticks": ""
            },
            "colorscale": [
             [
              0,
              "#0d0887"
             ],
             [
              0.1111111111111111,
              "#46039f"
             ],
             [
              0.2222222222222222,
              "#7201a8"
             ],
             [
              0.3333333333333333,
              "#9c179e"
             ],
             [
              0.4444444444444444,
              "#bd3786"
             ],
             [
              0.5555555555555556,
              "#d8576b"
             ],
             [
              0.6666666666666666,
              "#ed7953"
             ],
             [
              0.7777777777777778,
              "#fb9f3a"
             ],
             [
              0.8888888888888888,
              "#fdca26"
             ],
             [
              1,
              "#f0f921"
             ]
            ],
            "type": "contour"
           }
          ],
          "contourcarpet": [
           {
            "colorbar": {
             "outlinewidth": 0,
             "ticks": ""
            },
            "type": "contourcarpet"
           }
          ],
          "heatmap": [
           {
            "colorbar": {
             "outlinewidth": 0,
             "ticks": ""
            },
            "colorscale": [
             [
              0,
              "#0d0887"
             ],
             [
              0.1111111111111111,
              "#46039f"
             ],
             [
              0.2222222222222222,
              "#7201a8"
             ],
             [
              0.3333333333333333,
              "#9c179e"
             ],
             [
              0.4444444444444444,
              "#bd3786"
             ],
             [
              0.5555555555555556,
              "#d8576b"
             ],
             [
              0.6666666666666666,
              "#ed7953"
             ],
             [
              0.7777777777777778,
              "#fb9f3a"
             ],
             [
              0.8888888888888888,
              "#fdca26"
             ],
             [
              1,
              "#f0f921"
             ]
            ],
            "type": "heatmap"
           }
          ],
          "heatmapgl": [
           {
            "colorbar": {
             "outlinewidth": 0,
             "ticks": ""
            },
            "colorscale": [
             [
              0,
              "#0d0887"
             ],
             [
              0.1111111111111111,
              "#46039f"
             ],
             [
              0.2222222222222222,
              "#7201a8"
             ],
             [
              0.3333333333333333,
              "#9c179e"
             ],
             [
              0.4444444444444444,
              "#bd3786"
             ],
             [
              0.5555555555555556,
              "#d8576b"
             ],
             [
              0.6666666666666666,
              "#ed7953"
             ],
             [
              0.7777777777777778,
              "#fb9f3a"
             ],
             [
              0.8888888888888888,
              "#fdca26"
             ],
             [
              1,
              "#f0f921"
             ]
            ],
            "type": "heatmapgl"
           }
          ],
          "histogram": [
           {
            "marker": {
             "pattern": {
              "fillmode": "overlay",
              "size": 10,
              "solidity": 0.2
             }
            },
            "type": "histogram"
           }
          ],
          "histogram2d": [
           {
            "colorbar": {
             "outlinewidth": 0,
             "ticks": ""
            },
            "colorscale": [
             [
              0,
              "#0d0887"
             ],
             [
              0.1111111111111111,
              "#46039f"
             ],
             [
              0.2222222222222222,
              "#7201a8"
             ],
             [
              0.3333333333333333,
              "#9c179e"
             ],
             [
              0.4444444444444444,
              "#bd3786"
             ],
             [
              0.5555555555555556,
              "#d8576b"
             ],
             [
              0.6666666666666666,
              "#ed7953"
             ],
             [
              0.7777777777777778,
              "#fb9f3a"
             ],
             [
              0.8888888888888888,
              "#fdca26"
             ],
             [
              1,
              "#f0f921"
             ]
            ],
            "type": "histogram2d"
           }
          ],
          "histogram2dcontour": [
           {
            "colorbar": {
             "outlinewidth": 0,
             "ticks": ""
            },
            "colorscale": [
             [
              0,
              "#0d0887"
             ],
             [
              0.1111111111111111,
              "#46039f"
             ],
             [
              0.2222222222222222,
              "#7201a8"
             ],
             [
              0.3333333333333333,
              "#9c179e"
             ],
             [
              0.4444444444444444,
              "#bd3786"
             ],
             [
              0.5555555555555556,
              "#d8576b"
             ],
             [
              0.6666666666666666,
              "#ed7953"
             ],
             [
              0.7777777777777778,
              "#fb9f3a"
             ],
             [
              0.8888888888888888,
              "#fdca26"
             ],
             [
              1,
              "#f0f921"
             ]
            ],
            "type": "histogram2dcontour"
           }
          ],
          "mesh3d": [
           {
            "colorbar": {
             "outlinewidth": 0,
             "ticks": ""
            },
            "type": "mesh3d"
           }
          ],
          "parcoords": [
           {
            "line": {
             "colorbar": {
              "outlinewidth": 0,
              "ticks": ""
             }
            },
            "type": "parcoords"
           }
          ],
          "pie": [
           {
            "automargin": true,
            "type": "pie"
           }
          ],
          "scatter": [
           {
            "marker": {
             "colorbar": {
              "outlinewidth": 0,
              "ticks": ""
             }
            },
            "type": "scatter"
           }
          ],
          "scatter3d": [
           {
            "line": {
             "colorbar": {
              "outlinewidth": 0,
              "ticks": ""
             }
            },
            "marker": {
             "colorbar": {
              "outlinewidth": 0,
              "ticks": ""
             }
            },
            "type": "scatter3d"
           }
          ],
          "scattercarpet": [
           {
            "marker": {
             "colorbar": {
              "outlinewidth": 0,
              "ticks": ""
             }
            },
            "type": "scattercarpet"
           }
          ],
          "scattergeo": [
           {
            "marker": {
             "colorbar": {
              "outlinewidth": 0,
              "ticks": ""
             }
            },
            "type": "scattergeo"
           }
          ],
          "scattergl": [
           {
            "marker": {
             "colorbar": {
              "outlinewidth": 0,
              "ticks": ""
             }
            },
            "type": "scattergl"
           }
          ],
          "scattermapbox": [
           {
            "marker": {
             "colorbar": {
              "outlinewidth": 0,
              "ticks": ""
             }
            },
            "type": "scattermapbox"
           }
          ],
          "scatterpolar": [
           {
            "marker": {
             "colorbar": {
              "outlinewidth": 0,
              "ticks": ""
             }
            },
            "type": "scatterpolar"
           }
          ],
          "scatterpolargl": [
           {
            "marker": {
             "colorbar": {
              "outlinewidth": 0,
              "ticks": ""
             }
            },
            "type": "scatterpolargl"
           }
          ],
          "scatterternary": [
           {
            "marker": {
             "colorbar": {
              "outlinewidth": 0,
              "ticks": ""
             }
            },
            "type": "scatterternary"
           }
          ],
          "surface": [
           {
            "colorbar": {
             "outlinewidth": 0,
             "ticks": ""
            },
            "colorscale": [
             [
              0,
              "#0d0887"
             ],
             [
              0.1111111111111111,
              "#46039f"
             ],
             [
              0.2222222222222222,
              "#7201a8"
             ],
             [
              0.3333333333333333,
              "#9c179e"
             ],
             [
              0.4444444444444444,
              "#bd3786"
             ],
             [
              0.5555555555555556,
              "#d8576b"
             ],
             [
              0.6666666666666666,
              "#ed7953"
             ],
             [
              0.7777777777777778,
              "#fb9f3a"
             ],
             [
              0.8888888888888888,
              "#fdca26"
             ],
             [
              1,
              "#f0f921"
             ]
            ],
            "type": "surface"
           }
          ],
          "table": [
           {
            "cells": {
             "fill": {
              "color": "#EBF0F8"
             },
             "line": {
              "color": "white"
             }
            },
            "header": {
             "fill": {
              "color": "#C8D4E3"
             },
             "line": {
              "color": "white"
             }
            },
            "type": "table"
           }
          ]
         },
         "layout": {
          "annotationdefaults": {
           "arrowcolor": "#2a3f5f",
           "arrowhead": 0,
           "arrowwidth": 1
          },
          "autotypenumbers": "strict",
          "coloraxis": {
           "colorbar": {
            "outlinewidth": 0,
            "ticks": ""
           }
          },
          "colorscale": {
           "diverging": [
            [
             0,
             "#8e0152"
            ],
            [
             0.1,
             "#c51b7d"
            ],
            [
             0.2,
             "#de77ae"
            ],
            [
             0.3,
             "#f1b6da"
            ],
            [
             0.4,
             "#fde0ef"
            ],
            [
             0.5,
             "#f7f7f7"
            ],
            [
             0.6,
             "#e6f5d0"
            ],
            [
             0.7,
             "#b8e186"
            ],
            [
             0.8,
             "#7fbc41"
            ],
            [
             0.9,
             "#4d9221"
            ],
            [
             1,
             "#276419"
            ]
           ],
           "sequential": [
            [
             0,
             "#0d0887"
            ],
            [
             0.1111111111111111,
             "#46039f"
            ],
            [
             0.2222222222222222,
             "#7201a8"
            ],
            [
             0.3333333333333333,
             "#9c179e"
            ],
            [
             0.4444444444444444,
             "#bd3786"
            ],
            [
             0.5555555555555556,
             "#d8576b"
            ],
            [
             0.6666666666666666,
             "#ed7953"
            ],
            [
             0.7777777777777778,
             "#fb9f3a"
            ],
            [
             0.8888888888888888,
             "#fdca26"
            ],
            [
             1,
             "#f0f921"
            ]
           ],
           "sequentialminus": [
            [
             0,
             "#0d0887"
            ],
            [
             0.1111111111111111,
             "#46039f"
            ],
            [
             0.2222222222222222,
             "#7201a8"
            ],
            [
             0.3333333333333333,
             "#9c179e"
            ],
            [
             0.4444444444444444,
             "#bd3786"
            ],
            [
             0.5555555555555556,
             "#d8576b"
            ],
            [
             0.6666666666666666,
             "#ed7953"
            ],
            [
             0.7777777777777778,
             "#fb9f3a"
            ],
            [
             0.8888888888888888,
             "#fdca26"
            ],
            [
             1,
             "#f0f921"
            ]
           ]
          },
          "colorway": [
           "#636efa",
           "#EF553B",
           "#00cc96",
           "#ab63fa",
           "#FFA15A",
           "#19d3f3",
           "#FF6692",
           "#B6E880",
           "#FF97FF",
           "#FECB52"
          ],
          "font": {
           "color": "#2a3f5f"
          },
          "geo": {
           "bgcolor": "white",
           "lakecolor": "white",
           "landcolor": "#E5ECF6",
           "showlakes": true,
           "showland": true,
           "subunitcolor": "white"
          },
          "hoverlabel": {
           "align": "left"
          },
          "hovermode": "closest",
          "mapbox": {
           "style": "light"
          },
          "paper_bgcolor": "white",
          "plot_bgcolor": "#E5ECF6",
          "polar": {
           "angularaxis": {
            "gridcolor": "white",
            "linecolor": "white",
            "ticks": ""
           },
           "bgcolor": "#E5ECF6",
           "radialaxis": {
            "gridcolor": "white",
            "linecolor": "white",
            "ticks": ""
           }
          },
          "scene": {
           "xaxis": {
            "backgroundcolor": "#E5ECF6",
            "gridcolor": "white",
            "gridwidth": 2,
            "linecolor": "white",
            "showbackground": true,
            "ticks": "",
            "zerolinecolor": "white"
           },
           "yaxis": {
            "backgroundcolor": "#E5ECF6",
            "gridcolor": "white",
            "gridwidth": 2,
            "linecolor": "white",
            "showbackground": true,
            "ticks": "",
            "zerolinecolor": "white"
           },
           "zaxis": {
            "backgroundcolor": "#E5ECF6",
            "gridcolor": "white",
            "gridwidth": 2,
            "linecolor": "white",
            "showbackground": true,
            "ticks": "",
            "zerolinecolor": "white"
           }
          },
          "shapedefaults": {
           "line": {
            "color": "#2a3f5f"
           }
          },
          "ternary": {
           "aaxis": {
            "gridcolor": "white",
            "linecolor": "white",
            "ticks": ""
           },
           "baxis": {
            "gridcolor": "white",
            "linecolor": "white",
            "ticks": ""
           },
           "bgcolor": "#E5ECF6",
           "caxis": {
            "gridcolor": "white",
            "linecolor": "white",
            "ticks": ""
           }
          },
          "title": {
           "x": 0.05
          },
          "xaxis": {
           "automargin": true,
           "gridcolor": "white",
           "linecolor": "white",
           "ticks": "",
           "title": {
            "standoff": 15
           },
           "zerolinecolor": "white",
           "zerolinewidth": 2
          },
          "yaxis": {
           "automargin": true,
           "gridcolor": "white",
           "linecolor": "white",
           "ticks": "",
           "title": {
            "standoff": 15
           },
           "zerolinecolor": "white",
           "zerolinewidth": 2
          }
         }
        },
        "title": {
         "text": "Inter-Reward Interval Distribution"
        },
        "width": 900,
        "xaxis": {
         "anchor": "y",
         "domain": [
          0,
          1
         ],
         "title": {
          "text": "Second"
         }
        },
        "yaxis": {
         "anchor": "x",
         "domain": [
          0,
          1
         ],
         "title": {
          "text": "count"
         }
        }
       }
      },
      "text/html": [
       "<div>                            <div id=\"449d20bf-ed59-4ecb-8f0b-2eec20e2f673\" class=\"plotly-graph-div\" style=\"height:700px; width:900px;\"></div>            <script type=\"text/javascript\">                require([\"plotly\"], function(Plotly) {                    window.PLOTLYENV=window.PLOTLYENV || {};                                    if (document.getElementById(\"449d20bf-ed59-4ecb-8f0b-2eec20e2f673\")) {                    Plotly.newPlot(                        \"449d20bf-ed59-4ecb-8f0b-2eec20e2f673\",                        [{\"alignmentgroup\":\"True\",\"bingroup\":\"x\",\"hovertemplate\":\"ID=M1369<br>Second=%{x}<br>count=%{y}<extra></extra>\",\"legendgroup\":\"M1369\",\"marker\":{\"color\":\"#2E91E5\",\"pattern\":{\"shape\":\"\"}},\"name\":\"M1369\",\"nbinsx\":646,\"offsetgroup\":\"M1369\",\"orientation\":\"v\",\"showlegend\":true,\"x\":[98.0,190.0,67.0,76.0,432.0,658.0,45.0,537.0,66.0,966.0,805.0,147.0,852.0,51.0,124.0,67.0,946.0,22.0,396.0,154.0,24.0,130.0,1229.0,44.0,21.0,20.0,22.0,1645.0,51.0,1101.0,190.0,77.0,442.0,40.0,51.0,167.0,86.0,1093.0,45.0,203.0,1194.0,55.0,88.0,87.0,113.0,1432.0,34.0,173.0,875.0,24.0,36.0,21.0,250.0,1438.0,43.0,25.0,24.0,259.0,42.0,24.0,1202.0,26.0,196.0,49.0,1098.0,20.0,481.0,27.0,831.0,38.0,184.0,897.0,24.0,20.0,197.0,133.0,895.0,740.0,126.0,218.0,69.0,768.0,847.0,41.0,28.0,903.0,143.0,1049.0,38.0,98.0,106.0,46.0,77.0,66.0,122.0,74.0,144.0,61.0,1665.0,116.0,246.0,993.0,26.0,28.0,26.0,32.0,115.0,61.0,1502.0,61.0,254.0,797.0,25.0,93.0,158.0],\"xaxis\":\"x\",\"yaxis\":\"y\",\"type\":\"histogram\"},{\"alignmentgroup\":\"True\",\"bingroup\":\"x\",\"hovertemplate\":\"ID=M1370<br>Second=%{x}<br>count=%{y}<extra></extra>\",\"legendgroup\":\"M1370\",\"marker\":{\"color\":\"#E15F99\",\"pattern\":{\"shape\":\"\"}},\"name\":\"M1370\",\"nbinsx\":646,\"offsetgroup\":\"M1370\",\"orientation\":\"v\",\"showlegend\":true,\"x\":[1005.0,154.0,2608.0,26.0,1994.0,2174.0,1297.0,30.0,714.0,163.0,2409.0,32.0,2175.0,2856.0,43.0,1775.0,49.0,1451.0,1057.0,1510.0,25.0,1468.0,1368.0,977.0,43.0,7233.0],\"xaxis\":\"x\",\"yaxis\":\"y\",\"type\":\"histogram\"},{\"alignmentgroup\":\"True\",\"bingroup\":\"x\",\"hovertemplate\":\"ID=M1371<br>Second=%{x}<br>count=%{y}<extra></extra>\",\"legendgroup\":\"M1371\",\"marker\":{\"color\":\"#1CA71C\",\"pattern\":{\"shape\":\"\"}},\"name\":\"M1371\",\"nbinsx\":646,\"offsetgroup\":\"M1371\",\"orientation\":\"v\",\"showlegend\":true,\"x\":[1600.0,1056.0,227.0,55.0,1080.0,312.0,23.0,38.0,756.0,21.0,607.0,191.0,732.0,817.0,524.0,899.0,1622.0,295.0,369.0,910.0,517.0,223.0,915.0,963.0,112.0,1355.0,69.0,1509.0,445.0,195.0,1146.0,804.0,791.0,90.0,1178.0,932.0,441.0,941.0,845.0,289.0,785.0,542.0,765.0,923.0,807.0,931.0,851.0,694.0,1106.0,2402.0,35.0,35.0,81.0,605.0,527.0],\"xaxis\":\"x\",\"yaxis\":\"y\",\"type\":\"histogram\"},{\"alignmentgroup\":\"True\",\"bingroup\":\"x\",\"hovertemplate\":\"ID=M1372<br>Second=%{x}<br>count=%{y}<extra></extra>\",\"legendgroup\":\"M1372\",\"marker\":{\"color\":\"#FB0D0D\",\"pattern\":{\"shape\":\"\"}},\"name\":\"M1372\",\"nbinsx\":646,\"offsetgroup\":\"M1372\",\"orientation\":\"v\",\"showlegend\":true,\"x\":[372.0,1443.0,1430.0,1804.0,1468.0,1812.0,24.0,2294.0,23.0,1932.0,1406.0,1597.0,1154.0,45.0,2232.0,1690.0,22.0,2285.0,20.0,42.0,2337.0,60.0,2046.0],\"xaxis\":\"x\",\"yaxis\":\"y\",\"type\":\"histogram\"},{\"alignmentgroup\":\"True\",\"bingroup\":\"x\",\"hovertemplate\":\"ID=M1373<br>Second=%{x}<br>count=%{y}<extra></extra>\",\"legendgroup\":\"M1373\",\"marker\":{\"color\":\"#DA16FF\",\"pattern\":{\"shape\":\"\"}},\"name\":\"M1373\",\"nbinsx\":646,\"offsetgroup\":\"M1373\",\"orientation\":\"v\",\"showlegend\":true,\"x\":[297.0,603.0,815.0,105.0,895.0,311.0,372.0,495.0,767.0,27.0,1322.0,302.0,49.0,26.0,61.0,120.0,1306.0,777.0,544.0,674.0,733.0,718.0,515.0,475.0,842.0,669.0,517.0,720.0,297.0,651.0,642.0,552.0,650.0,470.0,670.0,375.0,531.0,508.0,646.0,648.0,702.0,535.0,447.0,596.0,594.0,622.0,644.0,2569.0,8726.0,864.0,35.0,507.0,813.0,459.0,497.0,576.0,471.0,671.0],\"xaxis\":\"x\",\"yaxis\":\"y\",\"type\":\"histogram\"},{\"alignmentgroup\":\"True\",\"bingroup\":\"x\",\"hovertemplate\":\"ID=M1374<br>Second=%{x}<br>count=%{y}<extra></extra>\",\"legendgroup\":\"M1374\",\"marker\":{\"color\":\"#222A2A\",\"pattern\":{\"shape\":\"\"}},\"name\":\"M1374\",\"nbinsx\":646,\"offsetgroup\":\"M1374\",\"orientation\":\"v\",\"showlegend\":true,\"x\":[38.0,470.0,471.0,662.0,54.0,21.0,23.0,21.0,26.0,23.0,25.0,26.0,24.0,34.0,20.0,26.0,2612.0,1810.0,2782.0,2691.0,3612.0,233.0,30.0,24.0,48.0,1038.0,193.0,300.0,276.0,1958.0,36.0,2482.0,7950.0,1785.0,4372.0,2544.0],\"xaxis\":\"x\",\"yaxis\":\"y\",\"type\":\"histogram\"},{\"alignmentgroup\":\"True\",\"bingroup\":\"x\",\"hovertemplate\":\"ID=M1375<br>Second=%{x}<br>count=%{y}<extra></extra>\",\"legendgroup\":\"M1375\",\"marker\":{\"color\":\"#B68100\",\"pattern\":{\"shape\":\"\"}},\"name\":\"M1375\",\"nbinsx\":646,\"offsetgroup\":\"M1375\",\"orientation\":\"v\",\"showlegend\":true,\"x\":[179.0,680.0,780.0,570.0,791.0,562.0,623.0,684.0,777.0,1001.0,794.0,646.0,828.0,905.0,646.0,778.0,810.0,536.0,580.0,668.0,667.0,920.0,557.0,597.0,337.0,525.0,618.0,789.0,643.0,695.0,895.0,3974.0,670.0,412.0,629.0,586.0,672.0,832.0,853.0,565.0,548.0,708.0,739.0,748.0,839.0,3809.0,502.0,535.0,515.0,696.0,675.0],\"xaxis\":\"x\",\"yaxis\":\"y\",\"type\":\"histogram\"},{\"alignmentgroup\":\"True\",\"bingroup\":\"x\",\"hovertemplate\":\"ID=M1376<br>Second=%{x}<br>count=%{y}<extra></extra>\",\"legendgroup\":\"M1376\",\"marker\":{\"color\":\"#750D86\",\"pattern\":{\"shape\":\"\"}},\"name\":\"M1376\",\"nbinsx\":646,\"offsetgroup\":\"M1376\",\"orientation\":\"v\",\"showlegend\":true,\"x\":[545.0,660.0,145.0,54.0,6451.0,809.0,6998.0,46.0,9946.0,10127.0],\"xaxis\":\"x\",\"yaxis\":\"y\",\"type\":\"histogram\"},{\"alignmentgroup\":\"True\",\"bingroup\":\"x\",\"hovertemplate\":\"ID=M1377<br>Second=%{x}<br>count=%{y}<extra></extra>\",\"legendgroup\":\"M1377\",\"marker\":{\"color\":\"#EB663B\",\"pattern\":{\"shape\":\"\"}},\"name\":\"M1377\",\"nbinsx\":646,\"offsetgroup\":\"M1377\",\"orientation\":\"v\",\"showlegend\":true,\"x\":[820.0,23.0,540.0,29.0,654.0,34.0,31.0,692.0,24.0,81.0,30.0,100.0,1421.0,22.0,25.0,25.0,454.0,159.0,26.0,579.0,247.0,827.0,25.0,85.0,196.0,826.0,69.0,804.0,519.0,50.0,300.0,559.0,540.0,82.0,1004.0,51.0,40.0,200.0,328.0,864.0,27.0,407.0,116.0,885.0,1034.0,307.0,28.0,183.0,58.0,1588.0,24.0,349.0,778.0,51.0,22.0,576.0,67.0,1801.0,25.0,38.0,1399.0,44.0,32.0,114.0,1529.0,318.0,32.0,1002.0,50.0,42.0,1177.0,24.0,30.0,54.0,28.0,2349.0,28.0,21.0,49.0,580.0,29.0,1689.0,4255.0,51.0,521.0,186.0,32.0,34.0,972.0,44.0,25.0,108.0,1335.0,30.0,23.0,1435.0],\"xaxis\":\"x\",\"yaxis\":\"y\",\"type\":\"histogram\"},{\"alignmentgroup\":\"True\",\"bingroup\":\"x\",\"hovertemplate\":\"ID=M1378<br>Second=%{x}<br>count=%{y}<extra></extra>\",\"legendgroup\":\"M1378\",\"marker\":{\"color\":\"#511CFB\",\"pattern\":{\"shape\":\"\"}},\"name\":\"M1378\",\"nbinsx\":646,\"offsetgroup\":\"M1378\",\"orientation\":\"v\",\"showlegend\":true,\"x\":[71.0,189.0,86.0,791.0,1017.0,413.0,56.0,495.0,374.0,626.0,757.0,291.0,1155.0,718.0,31.0,571.0,1121.0,867.0,12913.0,39.0,443.0,455.0,113.0,412.0,355.0,839.0,555.0,718.0,496.0,324.0,351.0,1135.0,28.0,28.0,906.0,1689.0,274.0,426.0,599.0,918.0,25.0,604.0,717.0,3259.0,26.0,541.0,126.0,1145.0,550.0,182.0,775.0,332.0,78.0],\"xaxis\":\"x\",\"yaxis\":\"y\",\"type\":\"histogram\"},{\"alignmentgroup\":\"True\",\"bingroup\":\"x\",\"hovertemplate\":\"ID=M1379<br>Second=%{x}<br>count=%{y}<extra></extra>\",\"legendgroup\":\"M1379\",\"marker\":{\"color\":\"#00A08B\",\"pattern\":{\"shape\":\"\"}},\"name\":\"M1379\",\"nbinsx\":646,\"offsetgroup\":\"M1379\",\"orientation\":\"v\",\"showlegend\":true,\"x\":[31.0,571.0,411.0,1370.0,38.0,1119.0,112.0,42.0,39.0,1757.0,36.0,3165.0,34.0,787.0,35.0,40.0,49.0,36.0,36.0,1974.0,2001.0,44.0,29.0,29.0,1042.0,853.0,555.0,1077.0,2404.0,112.0,84.0,29.0,1360.0,2169.0,1809.0,35.0,48.0,25.0,1284.0,44.0,4706.0,56.0,38.0,1520.0,60.0,35.0,40.0,869.0,151.0,1024.0],\"xaxis\":\"x\",\"yaxis\":\"y\",\"type\":\"histogram\"},{\"alignmentgroup\":\"True\",\"bingroup\":\"x\",\"hovertemplate\":\"ID=M1380<br>Second=%{x}<br>count=%{y}<extra></extra>\",\"legendgroup\":\"M1380\",\"marker\":{\"color\":\"#FB00D1\",\"pattern\":{\"shape\":\"\"}},\"name\":\"M1380\",\"nbinsx\":646,\"offsetgroup\":\"M1380\",\"orientation\":\"v\",\"showlegend\":true,\"x\":[390.0,23.0,26.0,32.0,387.0,53.0,431.0,712.0,117.0,778.0,93.0,439.0,888.0,23.0,283.0,24.0,549.0,742.0,28.0,684.0,401.0,652.0,40.0,477.0,175.0,530.0,431.0,37.0,615.0,349.0,1044.0,76.0,157.0,689.0,38.0,127.0,491.0,160.0,1093.0,63.0,357.0,188.0,1026.0,21.0,134.0,58.0,511.0,274.0,753.0,38.0,894.0,76.0,59.0,841.0,24.0,343.0,522.0,306.0,179.0,221.0,1000.0,60.0,803.0,28.0,448.0,805.0,83.0,721.0,39.0,216.0,695.0,188.0,118.0,1261.0,96.0,93.0,326.0,421.0,423.0,308.0,331.0,474.0,112.0,434.0,320.0,584.0,109.0,221.0,558.0,57.0,458.0,1130.0,34.0,21.0,239.0,321.0,525.0,796.0,35.0,346.0,791.0,74.0,563.0,396.0,350.0,140.0,524.0,394.0,658.0,638.0,95.0,879.0,144.0],\"xaxis\":\"x\",\"yaxis\":\"y\",\"type\":\"histogram\"}],                        {\"template\":{\"data\":{\"bar\":[{\"error_x\":{\"color\":\"#2a3f5f\"},\"error_y\":{\"color\":\"#2a3f5f\"},\"marker\":{\"line\":{\"color\":\"#E5ECF6\",\"width\":0.5},\"pattern\":{\"fillmode\":\"overlay\",\"size\":10,\"solidity\":0.2}},\"type\":\"bar\"}],\"barpolar\":[{\"marker\":{\"line\":{\"color\":\"#E5ECF6\",\"width\":0.5},\"pattern\":{\"fillmode\":\"overlay\",\"size\":10,\"solidity\":0.2}},\"type\":\"barpolar\"}],\"carpet\":[{\"aaxis\":{\"endlinecolor\":\"#2a3f5f\",\"gridcolor\":\"white\",\"linecolor\":\"white\",\"minorgridcolor\":\"white\",\"startlinecolor\":\"#2a3f5f\"},\"baxis\":{\"endlinecolor\":\"#2a3f5f\",\"gridcolor\":\"white\",\"linecolor\":\"white\",\"minorgridcolor\":\"white\",\"startlinecolor\":\"#2a3f5f\"},\"type\":\"carpet\"}],\"choropleth\":[{\"colorbar\":{\"outlinewidth\":0,\"ticks\":\"\"},\"type\":\"choropleth\"}],\"contour\":[{\"colorbar\":{\"outlinewidth\":0,\"ticks\":\"\"},\"colorscale\":[[0.0,\"#0d0887\"],[0.1111111111111111,\"#46039f\"],[0.2222222222222222,\"#7201a8\"],[0.3333333333333333,\"#9c179e\"],[0.4444444444444444,\"#bd3786\"],[0.5555555555555556,\"#d8576b\"],[0.6666666666666666,\"#ed7953\"],[0.7777777777777778,\"#fb9f3a\"],[0.8888888888888888,\"#fdca26\"],[1.0,\"#f0f921\"]],\"type\":\"contour\"}],\"contourcarpet\":[{\"colorbar\":{\"outlinewidth\":0,\"ticks\":\"\"},\"type\":\"contourcarpet\"}],\"heatmap\":[{\"colorbar\":{\"outlinewidth\":0,\"ticks\":\"\"},\"colorscale\":[[0.0,\"#0d0887\"],[0.1111111111111111,\"#46039f\"],[0.2222222222222222,\"#7201a8\"],[0.3333333333333333,\"#9c179e\"],[0.4444444444444444,\"#bd3786\"],[0.5555555555555556,\"#d8576b\"],[0.6666666666666666,\"#ed7953\"],[0.7777777777777778,\"#fb9f3a\"],[0.8888888888888888,\"#fdca26\"],[1.0,\"#f0f921\"]],\"type\":\"heatmap\"}],\"heatmapgl\":[{\"colorbar\":{\"outlinewidth\":0,\"ticks\":\"\"},\"colorscale\":[[0.0,\"#0d0887\"],[0.1111111111111111,\"#46039f\"],[0.2222222222222222,\"#7201a8\"],[0.3333333333333333,\"#9c179e\"],[0.4444444444444444,\"#bd3786\"],[0.5555555555555556,\"#d8576b\"],[0.6666666666666666,\"#ed7953\"],[0.7777777777777778,\"#fb9f3a\"],[0.8888888888888888,\"#fdca26\"],[1.0,\"#f0f921\"]],\"type\":\"heatmapgl\"}],\"histogram\":[{\"marker\":{\"pattern\":{\"fillmode\":\"overlay\",\"size\":10,\"solidity\":0.2}},\"type\":\"histogram\"}],\"histogram2d\":[{\"colorbar\":{\"outlinewidth\":0,\"ticks\":\"\"},\"colorscale\":[[0.0,\"#0d0887\"],[0.1111111111111111,\"#46039f\"],[0.2222222222222222,\"#7201a8\"],[0.3333333333333333,\"#9c179e\"],[0.4444444444444444,\"#bd3786\"],[0.5555555555555556,\"#d8576b\"],[0.6666666666666666,\"#ed7953\"],[0.7777777777777778,\"#fb9f3a\"],[0.8888888888888888,\"#fdca26\"],[1.0,\"#f0f921\"]],\"type\":\"histogram2d\"}],\"histogram2dcontour\":[{\"colorbar\":{\"outlinewidth\":0,\"ticks\":\"\"},\"colorscale\":[[0.0,\"#0d0887\"],[0.1111111111111111,\"#46039f\"],[0.2222222222222222,\"#7201a8\"],[0.3333333333333333,\"#9c179e\"],[0.4444444444444444,\"#bd3786\"],[0.5555555555555556,\"#d8576b\"],[0.6666666666666666,\"#ed7953\"],[0.7777777777777778,\"#fb9f3a\"],[0.8888888888888888,\"#fdca26\"],[1.0,\"#f0f921\"]],\"type\":\"histogram2dcontour\"}],\"mesh3d\":[{\"colorbar\":{\"outlinewidth\":0,\"ticks\":\"\"},\"type\":\"mesh3d\"}],\"parcoords\":[{\"line\":{\"colorbar\":{\"outlinewidth\":0,\"ticks\":\"\"}},\"type\":\"parcoords\"}],\"pie\":[{\"automargin\":true,\"type\":\"pie\"}],\"scatter\":[{\"marker\":{\"colorbar\":{\"outlinewidth\":0,\"ticks\":\"\"}},\"type\":\"scatter\"}],\"scatter3d\":[{\"line\":{\"colorbar\":{\"outlinewidth\":0,\"ticks\":\"\"}},\"marker\":{\"colorbar\":{\"outlinewidth\":0,\"ticks\":\"\"}},\"type\":\"scatter3d\"}],\"scattercarpet\":[{\"marker\":{\"colorbar\":{\"outlinewidth\":0,\"ticks\":\"\"}},\"type\":\"scattercarpet\"}],\"scattergeo\":[{\"marker\":{\"colorbar\":{\"outlinewidth\":0,\"ticks\":\"\"}},\"type\":\"scattergeo\"}],\"scattergl\":[{\"marker\":{\"colorbar\":{\"outlinewidth\":0,\"ticks\":\"\"}},\"type\":\"scattergl\"}],\"scattermapbox\":[{\"marker\":{\"colorbar\":{\"outlinewidth\":0,\"ticks\":\"\"}},\"type\":\"scattermapbox\"}],\"scatterpolar\":[{\"marker\":{\"colorbar\":{\"outlinewidth\":0,\"ticks\":\"\"}},\"type\":\"scatterpolar\"}],\"scatterpolargl\":[{\"marker\":{\"colorbar\":{\"outlinewidth\":0,\"ticks\":\"\"}},\"type\":\"scatterpolargl\"}],\"scatterternary\":[{\"marker\":{\"colorbar\":{\"outlinewidth\":0,\"ticks\":\"\"}},\"type\":\"scatterternary\"}],\"surface\":[{\"colorbar\":{\"outlinewidth\":0,\"ticks\":\"\"},\"colorscale\":[[0.0,\"#0d0887\"],[0.1111111111111111,\"#46039f\"],[0.2222222222222222,\"#7201a8\"],[0.3333333333333333,\"#9c179e\"],[0.4444444444444444,\"#bd3786\"],[0.5555555555555556,\"#d8576b\"],[0.6666666666666666,\"#ed7953\"],[0.7777777777777778,\"#fb9f3a\"],[0.8888888888888888,\"#fdca26\"],[1.0,\"#f0f921\"]],\"type\":\"surface\"}],\"table\":[{\"cells\":{\"fill\":{\"color\":\"#EBF0F8\"},\"line\":{\"color\":\"white\"}},\"header\":{\"fill\":{\"color\":\"#C8D4E3\"},\"line\":{\"color\":\"white\"}},\"type\":\"table\"}]},\"layout\":{\"annotationdefaults\":{\"arrowcolor\":\"#2a3f5f\",\"arrowhead\":0,\"arrowwidth\":1},\"autotypenumbers\":\"strict\",\"coloraxis\":{\"colorbar\":{\"outlinewidth\":0,\"ticks\":\"\"}},\"colorscale\":{\"diverging\":[[0,\"#8e0152\"],[0.1,\"#c51b7d\"],[0.2,\"#de77ae\"],[0.3,\"#f1b6da\"],[0.4,\"#fde0ef\"],[0.5,\"#f7f7f7\"],[0.6,\"#e6f5d0\"],[0.7,\"#b8e186\"],[0.8,\"#7fbc41\"],[0.9,\"#4d9221\"],[1,\"#276419\"]],\"sequential\":[[0.0,\"#0d0887\"],[0.1111111111111111,\"#46039f\"],[0.2222222222222222,\"#7201a8\"],[0.3333333333333333,\"#9c179e\"],[0.4444444444444444,\"#bd3786\"],[0.5555555555555556,\"#d8576b\"],[0.6666666666666666,\"#ed7953\"],[0.7777777777777778,\"#fb9f3a\"],[0.8888888888888888,\"#fdca26\"],[1.0,\"#f0f921\"]],\"sequentialminus\":[[0.0,\"#0d0887\"],[0.1111111111111111,\"#46039f\"],[0.2222222222222222,\"#7201a8\"],[0.3333333333333333,\"#9c179e\"],[0.4444444444444444,\"#bd3786\"],[0.5555555555555556,\"#d8576b\"],[0.6666666666666666,\"#ed7953\"],[0.7777777777777778,\"#fb9f3a\"],[0.8888888888888888,\"#fdca26\"],[1.0,\"#f0f921\"]]},\"colorway\":[\"#636efa\",\"#EF553B\",\"#00cc96\",\"#ab63fa\",\"#FFA15A\",\"#19d3f3\",\"#FF6692\",\"#B6E880\",\"#FF97FF\",\"#FECB52\"],\"font\":{\"color\":\"#2a3f5f\"},\"geo\":{\"bgcolor\":\"white\",\"lakecolor\":\"white\",\"landcolor\":\"#E5ECF6\",\"showlakes\":true,\"showland\":true,\"subunitcolor\":\"white\"},\"hoverlabel\":{\"align\":\"left\"},\"hovermode\":\"closest\",\"mapbox\":{\"style\":\"light\"},\"paper_bgcolor\":\"white\",\"plot_bgcolor\":\"#E5ECF6\",\"polar\":{\"angularaxis\":{\"gridcolor\":\"white\",\"linecolor\":\"white\",\"ticks\":\"\"},\"bgcolor\":\"#E5ECF6\",\"radialaxis\":{\"gridcolor\":\"white\",\"linecolor\":\"white\",\"ticks\":\"\"}},\"scene\":{\"xaxis\":{\"backgroundcolor\":\"#E5ECF6\",\"gridcolor\":\"white\",\"gridwidth\":2,\"linecolor\":\"white\",\"showbackground\":true,\"ticks\":\"\",\"zerolinecolor\":\"white\"},\"yaxis\":{\"backgroundcolor\":\"#E5ECF6\",\"gridcolor\":\"white\",\"gridwidth\":2,\"linecolor\":\"white\",\"showbackground\":true,\"ticks\":\"\",\"zerolinecolor\":\"white\"},\"zaxis\":{\"backgroundcolor\":\"#E5ECF6\",\"gridcolor\":\"white\",\"gridwidth\":2,\"linecolor\":\"white\",\"showbackground\":true,\"ticks\":\"\",\"zerolinecolor\":\"white\"}},\"shapedefaults\":{\"line\":{\"color\":\"#2a3f5f\"}},\"ternary\":{\"aaxis\":{\"gridcolor\":\"white\",\"linecolor\":\"white\",\"ticks\":\"\"},\"baxis\":{\"gridcolor\":\"white\",\"linecolor\":\"white\",\"ticks\":\"\"},\"bgcolor\":\"#E5ECF6\",\"caxis\":{\"gridcolor\":\"white\",\"linecolor\":\"white\",\"ticks\":\"\"}},\"title\":{\"x\":0.05},\"xaxis\":{\"automargin\":true,\"gridcolor\":\"white\",\"linecolor\":\"white\",\"ticks\":\"\",\"title\":{\"standoff\":15},\"zerolinecolor\":\"white\",\"zerolinewidth\":2},\"yaxis\":{\"automargin\":true,\"gridcolor\":\"white\",\"linecolor\":\"white\",\"ticks\":\"\",\"title\":{\"standoff\":15},\"zerolinecolor\":\"white\",\"zerolinewidth\":2}}},\"xaxis\":{\"anchor\":\"y\",\"domain\":[0.0,1.0],\"title\":{\"text\":\"Second\"}},\"yaxis\":{\"anchor\":\"x\",\"domain\":[0.0,1.0],\"title\":{\"text\":\"count\"}},\"legend\":{\"title\":{\"text\":\"ID\"},\"tracegroupgap\":0},\"title\":{\"text\":\"Inter-Reward Interval Distribution\"},\"barmode\":\"relative\",\"margin\":{\"l\":50,\"r\":50,\"b\":100,\"t\":100,\"pad\":4},\"autosize\":false,\"width\":900,\"height\":700},                        {\"responsive\": true}                    ).then(function(){\n",
       "                            \n",
       "var gd = document.getElementById('449d20bf-ed59-4ecb-8f0b-2eec20e2f673');\n",
       "var x = new MutationObserver(function (mutations, observer) {{\n",
       "        var display = window.getComputedStyle(gd).display;\n",
       "        if (!display || display === 'none') {{\n",
       "            console.log([gd, 'removed!']);\n",
       "            Plotly.purge(gd);\n",
       "            observer.disconnect();\n",
       "        }}\n",
       "}});\n",
       "\n",
       "// Listen for the removal of the full notebook cells\n",
       "var notebookContainer = gd.closest('#notebook-container');\n",
       "if (notebookContainer) {{\n",
       "    x.observe(notebookContainer, {childList: true});\n",
       "}}\n",
       "\n",
       "// Listen for the clearing of the current output cell\n",
       "var outputEl = gd.closest('.output');\n",
       "if (outputEl) {{\n",
       "    x.observe(outputEl, {childList: true});\n",
       "}}\n",
       "\n",
       "                        })                };                });            </script>        </div>"
      ]
     },
     "metadata": {},
     "output_type": "display_data"
    }
   ],
   "source": [
    "filepath = '/Users/yunyihuang/Desktop/georgelab/gl_local/data/BSB273EC13HSOXYLGA14_output.xlsx'\n",
    "df = cleanup(filepath)\n",
    "df_filtered = filtered_reward(df)\n",
    "reward_histogram(df_filtered)"
   ]
  },
  {
   "cell_type": "code",
   "execution_count": 32,
   "id": "e8085621",
   "metadata": {
    "scrolled": false
   },
   "outputs": [
    {
     "name": "stdout",
     "output_type": "stream",
     "text": [
      "Inter-Reward-Intervals Dataframe\n"
     ]
    },
    {
     "data": {
      "text/html": [
       "<div>\n",
       "<style scoped>\n",
       "    .dataframe tbody tr th:only-of-type {\n",
       "        vertical-align: middle;\n",
       "    }\n",
       "\n",
       "    .dataframe tbody tr th {\n",
       "        vertical-align: top;\n",
       "    }\n",
       "\n",
       "    .dataframe thead th {\n",
       "        text-align: right;\n",
       "    }\n",
       "</style>\n",
       "<table border=\"1\" class=\"dataframe\">\n",
       "  <thead>\n",
       "    <tr style=\"text-align: right;\">\n",
       "      <th></th>\n",
       "      <th>Subject</th>\n",
       "      <th>Latency</th>\n",
       "      <th>cleanedIntervals</th>\n",
       "      <th>meanInterval</th>\n",
       "      <th>stdInterval</th>\n",
       "    </tr>\n",
       "  </thead>\n",
       "  <tbody>\n",
       "    <tr>\n",
       "      <th>0</th>\n",
       "      <td>M1369</td>\n",
       "      <td>18</td>\n",
       "      <td>[98.0, 190.0, 67.0, 76.0, 432.0, 658.0, 45.0, ...</td>\n",
       "      <td>329.54</td>\n",
       "      <td>432.24</td>\n",
       "    </tr>\n",
       "    <tr>\n",
       "      <th>1</th>\n",
       "      <td>M1370</td>\n",
       "      <td>425</td>\n",
       "      <td>[1005.0, 154.0, 2608.0, 26.0, 1994.0, 2174.0, ...</td>\n",
       "      <td>1332.15</td>\n",
       "      <td>1484.10</td>\n",
       "    </tr>\n",
       "    <tr>\n",
       "      <th>2</th>\n",
       "      <td>M1371</td>\n",
       "      <td>3596</td>\n",
       "      <td>[1600.0, 1056.0, 227.0, 55.0, 1080.0, 312.0, 2...</td>\n",
       "      <td>672.42</td>\n",
       "      <td>485.51</td>\n",
       "    </tr>\n",
       "    <tr>\n",
       "      <th>3</th>\n",
       "      <td>M1372</td>\n",
       "      <td>450</td>\n",
       "      <td>[372.0, 1443.0, 1430.0, 1804.0, 1468.0, 1812.0...</td>\n",
       "      <td>1197.30</td>\n",
       "      <td>873.70</td>\n",
       "    </tr>\n",
       "    <tr>\n",
       "      <th>4</th>\n",
       "      <td>M1373</td>\n",
       "      <td>1</td>\n",
       "      <td>[297.0, 603.0, 815.0, 105.0, 895.0, 311.0, 372...</td>\n",
       "      <td>724.57</td>\n",
       "      <td>1123.04</td>\n",
       "    </tr>\n",
       "    <tr>\n",
       "      <th>5</th>\n",
       "      <td>M1374</td>\n",
       "      <td>369</td>\n",
       "      <td>[38.0, 470.0, 471.0, 662.0, 54.0, 21.0, 23.0, ...</td>\n",
       "      <td>1076.11</td>\n",
       "      <td>1671.98</td>\n",
       "    </tr>\n",
       "    <tr>\n",
       "      <th>6</th>\n",
       "      <td>M1375</td>\n",
       "      <td>12</td>\n",
       "      <td>[179.0, 680.0, 780.0, 570.0, 791.0, 562.0, 623...</td>\n",
       "      <td>795.84</td>\n",
       "      <td>642.96</td>\n",
       "    </tr>\n",
       "    <tr>\n",
       "      <th>7</th>\n",
       "      <td>M1376</td>\n",
       "      <td>43</td>\n",
       "      <td>[545.0, 660.0, 145.0, 54.0, 6451.0, 809.0, 699...</td>\n",
       "      <td>3578.10</td>\n",
       "      <td>4067.57</td>\n",
       "    </tr>\n",
       "    <tr>\n",
       "      <th>8</th>\n",
       "      <td>M1377</td>\n",
       "      <td>1351</td>\n",
       "      <td>[820.0, 23.0, 540.0, 29.0, 654.0, 34.0, 31.0, ...</td>\n",
       "      <td>431.46</td>\n",
       "      <td>640.25</td>\n",
       "    </tr>\n",
       "    <tr>\n",
       "      <th>9</th>\n",
       "      <td>M1378</td>\n",
       "      <td>47</td>\n",
       "      <td>[71.0, 189.0, 86.0, 791.0, 1017.0, 413.0, 56.0...</td>\n",
       "      <td>792.55</td>\n",
       "      <td>1760.50</td>\n",
       "    </tr>\n",
       "    <tr>\n",
       "      <th>10</th>\n",
       "      <td>M1379</td>\n",
       "      <td>445</td>\n",
       "      <td>[31.0, 571.0, 411.0, 1370.0, 38.0, 1119.0, 112...</td>\n",
       "      <td>704.28</td>\n",
       "      <td>973.00</td>\n",
       "    </tr>\n",
       "    <tr>\n",
       "      <th>11</th>\n",
       "      <td>M1380</td>\n",
       "      <td>27</td>\n",
       "      <td>[390.0, 23.0, 26.0, 32.0, 387.0, 53.0, 431.0, ...</td>\n",
       "      <td>372.17</td>\n",
       "      <td>306.21</td>\n",
       "    </tr>\n",
       "  </tbody>\n",
       "</table>\n",
       "</div>"
      ],
      "text/plain": [
       "0  Subject  Latency                                   cleanedIntervals  \\\n",
       "0    M1369       18  [98.0, 190.0, 67.0, 76.0, 432.0, 658.0, 45.0, ...   \n",
       "1    M1370      425  [1005.0, 154.0, 2608.0, 26.0, 1994.0, 2174.0, ...   \n",
       "2    M1371     3596  [1600.0, 1056.0, 227.0, 55.0, 1080.0, 312.0, 2...   \n",
       "3    M1372      450  [372.0, 1443.0, 1430.0, 1804.0, 1468.0, 1812.0...   \n",
       "4    M1373        1  [297.0, 603.0, 815.0, 105.0, 895.0, 311.0, 372...   \n",
       "5    M1374      369  [38.0, 470.0, 471.0, 662.0, 54.0, 21.0, 23.0, ...   \n",
       "6    M1375       12  [179.0, 680.0, 780.0, 570.0, 791.0, 562.0, 623...   \n",
       "7    M1376       43  [545.0, 660.0, 145.0, 54.0, 6451.0, 809.0, 699...   \n",
       "8    M1377     1351  [820.0, 23.0, 540.0, 29.0, 654.0, 34.0, 31.0, ...   \n",
       "9    M1378       47  [71.0, 189.0, 86.0, 791.0, 1017.0, 413.0, 56.0...   \n",
       "10   M1379      445  [31.0, 571.0, 411.0, 1370.0, 38.0, 1119.0, 112...   \n",
       "11   M1380       27  [390.0, 23.0, 26.0, 32.0, 387.0, 53.0, 431.0, ...   \n",
       "\n",
       "0   meanInterval  stdInterval  \n",
       "0         329.54       432.24  \n",
       "1        1332.15      1484.10  \n",
       "2         672.42       485.51  \n",
       "3        1197.30       873.70  \n",
       "4         724.57      1123.04  \n",
       "5        1076.11      1671.98  \n",
       "6         795.84       642.96  \n",
       "7        3578.10      4067.57  \n",
       "8         431.46       640.25  \n",
       "9         792.55      1760.50  \n",
       "10        704.28       973.00  \n",
       "11        372.17       306.21  "
      ]
     },
     "execution_count": 32,
     "metadata": {},
     "output_type": "execute_result"
    }
   ],
   "source": [
    "print('Inter-Reward-Intervals Dataframe')\n",
    "df_filtered[['Subject', 'Latency', 'cleanedIntervals','meanInterval', 'stdInterval']]"
   ]
  },
  {
   "cell_type": "code",
   "execution_count": 24,
   "id": "5415bd13",
   "metadata": {
    "scrolled": true
   },
   "outputs": [
    {
     "name": "stdout",
     "output_type": "stream",
     "text": [
      "cohort mean: 663.0932944606413\n",
      "cohort std: 1126.19883906679\n"
     ]
    }
   ],
   "source": [
    "intervals_cohort = list(itertools.chain.from_iterable(df_filtered.cleanedIntervals.tolist()))\n",
    "print('cohort mean: ' + str(np.mean(intervals_cohort)))\n",
    "print('cohort std: ' + str(np.std(intervals_cohort)))"
   ]
  },
  {
   "cell_type": "code",
   "execution_count": 28,
   "id": "8d5781d0",
   "metadata": {},
   "outputs": [],
   "source": [
    "# return a df that contains reward latency, all rewards, intervals, and cleaned intervals\n",
    "def filtered_reward(df):\n",
    "    filtered_cols = ['Subject'] + [col for col in df.columns if 'Reward ' in col]\n",
    "    df_reward = df[filtered_cols].sort_values('Subject').reset_index().drop('index',axis=1)\n",
    "    df_reward['allRewards'] = df_reward.iloc[:,1:].values.tolist()\n",
    "    df_reward['Latency'] = df_reward['Reward 1']\n",
    "    df_filtered = df_reward[['Subject', 'Latency', 'allRewards']]\n",
    "    df_filtered['Intervals'] = df_filtered['allRewards'].apply(lambda lst:[j-i for i, j in zip(lst[:-1], lst[1:])])\n",
    "    df_filtered['cleanedIntervals'] = df_filtered['Intervals'].apply(lambda lst: [lst[0]]+[val for val in lst[1:] if val > 0][:-1])\n",
    "    df_filtered['meanInterval'] = df_filtered['cleanedIntervals'].apply(lambda x: round(np.mean(x), 2))\n",
    "    df_filtered['stdInterval'] = df_filtered['cleanedIntervals'].apply(lambda x: round(np.std(x), 2))\n",
    "    \n",
    "    return df_filtered"
   ]
  },
  {
   "cell_type": "code",
   "execution_count": 29,
   "id": "79eb33e2",
   "metadata": {},
   "outputs": [],
   "source": [
    "# draw histogram of the filtered reward dataframe\n",
    "def reward_histogram(df_filtered):\n",
    "    data = []\n",
    "    for s in df_filtered['Subject']:\n",
    "        cl = df_filtered[df_filtered['Subject']==s]['cleanedIntervals'].values[0]\n",
    "        for val in cl:\n",
    "            data.append([s,val])\n",
    "    df_dist=pd.DataFrame(data,columns=['ID','Second'])\n",
    "    numBins = round(max(df_dist['Second'])/20)\n",
    "    \n",
    "    fig = px.histogram(df_dist, \n",
    "                   x=\"Second\", \n",
    "                   color=\"ID\", \n",
    "                   nbins = numBins,\n",
    "                   #marginal=\"box\", # can be `box`, `violin`\n",
    "                   hover_data=df_dist.columns,\n",
    "                   color_discrete_sequence=px.colors.qualitative.Dark24,\n",
    "                   title='Inter-Reward Interval Distribution')\n",
    "\n",
    "    fig.update_layout(autosize=False,\n",
    "                    width=900,\n",
    "                    height=700,\n",
    "                    margin=dict(l=50,\n",
    "                                r=50,\n",
    "                                b=100,\n",
    "                                t=100,\n",
    "                                pad=4))\n",
    "    fig.show()\n",
    "    \n",
    "    return None"
   ]
  },
  {
   "cell_type": "markdown",
   "id": "9f0fa4d9",
   "metadata": {},
   "source": [
    "### scratch"
   ]
  },
  {
   "cell_type": "code",
   "execution_count": 2,
   "id": "3228e8b1",
   "metadata": {
    "scrolled": true
   },
   "outputs": [
    {
     "ename": "NameError",
     "evalue": "name 'df' is not defined",
     "output_type": "error",
     "traceback": [
      "\u001b[0;31m---------------------------------------------------------------------------\u001b[0m",
      "\u001b[0;31mNameError\u001b[0m                                 Traceback (most recent call last)",
      "\u001b[0;32m/var/folders/6r/ljk6dgwn77q618x071444l0r0000gn/T/ipykernel_45753/1525770565.py\u001b[0m in \u001b[0;36m<module>\u001b[0;34m\u001b[0m\n\u001b[0;32m----> 1\u001b[0;31m \u001b[0mfiltered_cols\u001b[0m \u001b[0;34m=\u001b[0m \u001b[0;34m[\u001b[0m\u001b[0;34m'Subject'\u001b[0m\u001b[0;34m]\u001b[0m \u001b[0;34m+\u001b[0m \u001b[0;34m[\u001b[0m\u001b[0mcol\u001b[0m \u001b[0;32mfor\u001b[0m \u001b[0mcol\u001b[0m \u001b[0;32min\u001b[0m \u001b[0mdf\u001b[0m\u001b[0;34m.\u001b[0m\u001b[0mcolumns\u001b[0m \u001b[0;32mif\u001b[0m \u001b[0;34m'Reward '\u001b[0m \u001b[0;32min\u001b[0m \u001b[0mcol\u001b[0m\u001b[0;34m]\u001b[0m\u001b[0;34m\u001b[0m\u001b[0;34m\u001b[0m\u001b[0m\n\u001b[0m\u001b[1;32m      2\u001b[0m \u001b[0mdf_reward\u001b[0m \u001b[0;34m=\u001b[0m \u001b[0mdf\u001b[0m\u001b[0;34m[\u001b[0m\u001b[0mfiltered_cols\u001b[0m\u001b[0;34m]\u001b[0m\u001b[0;34m.\u001b[0m\u001b[0msort_values\u001b[0m\u001b[0;34m(\u001b[0m\u001b[0;34m'Subject'\u001b[0m\u001b[0;34m)\u001b[0m\u001b[0;34m.\u001b[0m\u001b[0mreset_index\u001b[0m\u001b[0;34m(\u001b[0m\u001b[0;34m)\u001b[0m\u001b[0;34m.\u001b[0m\u001b[0mdrop\u001b[0m\u001b[0;34m(\u001b[0m\u001b[0;34m'index'\u001b[0m\u001b[0;34m,\u001b[0m\u001b[0maxis\u001b[0m\u001b[0;34m=\u001b[0m\u001b[0;36m1\u001b[0m\u001b[0;34m)\u001b[0m\u001b[0;34m\u001b[0m\u001b[0;34m\u001b[0m\u001b[0m\n\u001b[1;32m      3\u001b[0m \u001b[0mdf_reward\u001b[0m\u001b[0;34m\u001b[0m\u001b[0;34m\u001b[0m\u001b[0m\n",
      "\u001b[0;31mNameError\u001b[0m: name 'df' is not defined"
     ]
    }
   ],
   "source": [
    "filtered_cols = ['Subject'] + [col for col in df.columns if 'Reward ' in col]\n",
    "df_reward = df[filtered_cols].sort_values('Subject').reset_index().drop('index',axis=1)\n",
    "df_reward"
   ]
  },
  {
   "cell_type": "code",
   "execution_count": 372,
   "id": "5b5e7574",
   "metadata": {},
   "outputs": [
    {
     "data": {
      "text/html": [
       "<div>\n",
       "<style scoped>\n",
       "    .dataframe tbody tr th:only-of-type {\n",
       "        vertical-align: middle;\n",
       "    }\n",
       "\n",
       "    .dataframe tbody tr th {\n",
       "        vertical-align: top;\n",
       "    }\n",
       "\n",
       "    .dataframe thead th {\n",
       "        text-align: right;\n",
       "    }\n",
       "</style>\n",
       "<table border=\"1\" class=\"dataframe\">\n",
       "  <thead>\n",
       "    <tr style=\"text-align: right;\">\n",
       "      <th></th>\n",
       "      <th>Subject</th>\n",
       "      <th>Reward 1</th>\n",
       "      <th>Reward 2</th>\n",
       "      <th>Reward 3</th>\n",
       "      <th>Reward 4</th>\n",
       "      <th>Reward 5</th>\n",
       "      <th>Reward 6</th>\n",
       "      <th>Reward 7</th>\n",
       "      <th>Reward 8</th>\n",
       "      <th>Reward 9</th>\n",
       "      <th>...</th>\n",
       "      <th>Reward 194</th>\n",
       "      <th>Reward 195</th>\n",
       "      <th>Reward 196</th>\n",
       "      <th>Reward 197</th>\n",
       "      <th>Reward 198</th>\n",
       "      <th>Reward 199</th>\n",
       "      <th>Reward 200</th>\n",
       "      <th>Reward 201</th>\n",
       "      <th>allRewards</th>\n",
       "      <th>Latency</th>\n",
       "    </tr>\n",
       "  </thead>\n",
       "  <tbody>\n",
       "    <tr>\n",
       "      <th>0</th>\n",
       "      <td>F1317</td>\n",
       "      <td>19</td>\n",
       "      <td>47</td>\n",
       "      <td>84</td>\n",
       "      <td>688</td>\n",
       "      <td>1046</td>\n",
       "      <td>1123</td>\n",
       "      <td>1504</td>\n",
       "      <td>2085</td>\n",
       "      <td>2117</td>\n",
       "      <td>...</td>\n",
       "      <td>0.0</td>\n",
       "      <td>0.0</td>\n",
       "      <td>0.0</td>\n",
       "      <td>0.0</td>\n",
       "      <td>0.0</td>\n",
       "      <td>0.0</td>\n",
       "      <td>0.0</td>\n",
       "      <td>0.0</td>\n",
       "      <td>[19.0, 47.0, 84.0, 688.0, 1046.0, 1123.0, 1504...</td>\n",
       "      <td>19</td>\n",
       "    </tr>\n",
       "    <tr>\n",
       "      <th>1</th>\n",
       "      <td>F1318</td>\n",
       "      <td>183</td>\n",
       "      <td>635</td>\n",
       "      <td>1210</td>\n",
       "      <td>1536</td>\n",
       "      <td>1781</td>\n",
       "      <td>1809</td>\n",
       "      <td>2447</td>\n",
       "      <td>2477</td>\n",
       "      <td>2954</td>\n",
       "      <td>...</td>\n",
       "      <td>0.0</td>\n",
       "      <td>0.0</td>\n",
       "      <td>0.0</td>\n",
       "      <td>0.0</td>\n",
       "      <td>0.0</td>\n",
       "      <td>0.0</td>\n",
       "      <td>0.0</td>\n",
       "      <td>0.0</td>\n",
       "      <td>[183.0, 635.0, 1210.0, 1536.0, 1781.0, 1809.0,...</td>\n",
       "      <td>183</td>\n",
       "    </tr>\n",
       "    <tr>\n",
       "      <th>2</th>\n",
       "      <td>F1319</td>\n",
       "      <td>57</td>\n",
       "      <td>95</td>\n",
       "      <td>235</td>\n",
       "      <td>608</td>\n",
       "      <td>713</td>\n",
       "      <td>1370</td>\n",
       "      <td>1459</td>\n",
       "      <td>2132</td>\n",
       "      <td>3009</td>\n",
       "      <td>...</td>\n",
       "      <td>0.0</td>\n",
       "      <td>0.0</td>\n",
       "      <td>0.0</td>\n",
       "      <td>0.0</td>\n",
       "      <td>0.0</td>\n",
       "      <td>0.0</td>\n",
       "      <td>0.0</td>\n",
       "      <td>0.0</td>\n",
       "      <td>[57.0, 95.0, 235.0, 608.0, 713.0, 1370.0, 1459...</td>\n",
       "      <td>57</td>\n",
       "    </tr>\n",
       "    <tr>\n",
       "      <th>3</th>\n",
       "      <td>F1321</td>\n",
       "      <td>13</td>\n",
       "      <td>622</td>\n",
       "      <td>657</td>\n",
       "      <td>1368</td>\n",
       "      <td>1504</td>\n",
       "      <td>2626</td>\n",
       "      <td>2776</td>\n",
       "      <td>3263</td>\n",
       "      <td>3287</td>\n",
       "      <td>...</td>\n",
       "      <td>0.0</td>\n",
       "      <td>0.0</td>\n",
       "      <td>0.0</td>\n",
       "      <td>0.0</td>\n",
       "      <td>0.0</td>\n",
       "      <td>0.0</td>\n",
       "      <td>0.0</td>\n",
       "      <td>0.0</td>\n",
       "      <td>[13.0, 622.0, 657.0, 1368.0, 1504.0, 2626.0, 2...</td>\n",
       "      <td>13</td>\n",
       "    </tr>\n",
       "    <tr>\n",
       "      <th>4</th>\n",
       "      <td>F1322</td>\n",
       "      <td>1489</td>\n",
       "      <td>3166</td>\n",
       "      <td>3240</td>\n",
       "      <td>3463</td>\n",
       "      <td>3494</td>\n",
       "      <td>5054</td>\n",
       "      <td>5385</td>\n",
       "      <td>5670</td>\n",
       "      <td>7896</td>\n",
       "      <td>...</td>\n",
       "      <td>0.0</td>\n",
       "      <td>0.0</td>\n",
       "      <td>0.0</td>\n",
       "      <td>0.0</td>\n",
       "      <td>0.0</td>\n",
       "      <td>0.0</td>\n",
       "      <td>0.0</td>\n",
       "      <td>0.0</td>\n",
       "      <td>[1489.0, 3166.0, 3240.0, 3463.0, 3494.0, 5054....</td>\n",
       "      <td>1489</td>\n",
       "    </tr>\n",
       "  </tbody>\n",
       "</table>\n",
       "<p>5 rows × 204 columns</p>\n",
       "</div>"
      ],
      "text/plain": [
       "0 Subject  Reward 1  Reward 2  Reward 3  Reward 4  Reward 5  Reward 6  \\\n",
       "0   F1317        19        47        84       688      1046      1123   \n",
       "1   F1318       183       635      1210      1536      1781      1809   \n",
       "2   F1319        57        95       235       608       713      1370   \n",
       "3   F1321        13       622       657      1368      1504      2626   \n",
       "4   F1322      1489      3166      3240      3463      3494      5054   \n",
       "\n",
       "0  Reward 7  Reward 8  Reward 9  ...  Reward 194  Reward 195  Reward 196  \\\n",
       "0      1504      2085      2117  ...         0.0         0.0         0.0   \n",
       "1      2447      2477      2954  ...         0.0         0.0         0.0   \n",
       "2      1459      2132      3009  ...         0.0         0.0         0.0   \n",
       "3      2776      3263      3287  ...         0.0         0.0         0.0   \n",
       "4      5385      5670      7896  ...         0.0         0.0         0.0   \n",
       "\n",
       "0  Reward 197  Reward 198  Reward 199  Reward 200  Reward 201  \\\n",
       "0         0.0         0.0         0.0         0.0         0.0   \n",
       "1         0.0         0.0         0.0         0.0         0.0   \n",
       "2         0.0         0.0         0.0         0.0         0.0   \n",
       "3         0.0         0.0         0.0         0.0         0.0   \n",
       "4         0.0         0.0         0.0         0.0         0.0   \n",
       "\n",
       "0                                         allRewards  Latency  \n",
       "0  [19.0, 47.0, 84.0, 688.0, 1046.0, 1123.0, 1504...       19  \n",
       "1  [183.0, 635.0, 1210.0, 1536.0, 1781.0, 1809.0,...      183  \n",
       "2  [57.0, 95.0, 235.0, 608.0, 713.0, 1370.0, 1459...       57  \n",
       "3  [13.0, 622.0, 657.0, 1368.0, 1504.0, 2626.0, 2...       13  \n",
       "4  [1489.0, 3166.0, 3240.0, 3463.0, 3494.0, 5054....     1489  \n",
       "\n",
       "[5 rows x 204 columns]"
      ]
     },
     "execution_count": 372,
     "metadata": {},
     "output_type": "execute_result"
    }
   ],
   "source": [
    "df_reward['allRewards'] = df_reward.iloc[:,1:].values.tolist()\n",
    "df_reward.head()"
   ]
  },
  {
   "cell_type": "code",
   "execution_count": 373,
   "id": "ac2769c5",
   "metadata": {
    "scrolled": true
   },
   "outputs": [
    {
     "data": {
      "text/html": [
       "<div>\n",
       "<style scoped>\n",
       "    .dataframe tbody tr th:only-of-type {\n",
       "        vertical-align: middle;\n",
       "    }\n",
       "\n",
       "    .dataframe tbody tr th {\n",
       "        vertical-align: top;\n",
       "    }\n",
       "\n",
       "    .dataframe thead th {\n",
       "        text-align: right;\n",
       "    }\n",
       "</style>\n",
       "<table border=\"1\" class=\"dataframe\">\n",
       "  <thead>\n",
       "    <tr style=\"text-align: right;\">\n",
       "      <th></th>\n",
       "      <th>Subject</th>\n",
       "      <th>Latency</th>\n",
       "      <th>allRewards</th>\n",
       "      <th>Intervals</th>\n",
       "      <th>cleanedIntervals</th>\n",
       "    </tr>\n",
       "  </thead>\n",
       "  <tbody>\n",
       "    <tr>\n",
       "      <th>0</th>\n",
       "      <td>F1317</td>\n",
       "      <td>19</td>\n",
       "      <td>[19.0, 47.0, 84.0, 688.0, 1046.0, 1123.0, 1504...</td>\n",
       "      <td>[28.0, 37.0, 604.0, 358.0, 77.0, 381.0, 581.0,...</td>\n",
       "      <td>[28.0, 37.0, 604.0, 358.0, 77.0, 381.0, 581.0,...</td>\n",
       "    </tr>\n",
       "    <tr>\n",
       "      <th>1</th>\n",
       "      <td>F1318</td>\n",
       "      <td>183</td>\n",
       "      <td>[183.0, 635.0, 1210.0, 1536.0, 1781.0, 1809.0,...</td>\n",
       "      <td>[452.0, 575.0, 326.0, 245.0, 28.0, 638.0, 30.0...</td>\n",
       "      <td>[452.0, 575.0, 326.0, 245.0, 28.0, 638.0, 30.0...</td>\n",
       "    </tr>\n",
       "    <tr>\n",
       "      <th>2</th>\n",
       "      <td>F1319</td>\n",
       "      <td>57</td>\n",
       "      <td>[57.0, 95.0, 235.0, 608.0, 713.0, 1370.0, 1459...</td>\n",
       "      <td>[38.0, 140.0, 373.0, 105.0, 657.0, 89.0, 673.0...</td>\n",
       "      <td>[38.0, 140.0, 373.0, 105.0, 657.0, 89.0, 673.0...</td>\n",
       "    </tr>\n",
       "    <tr>\n",
       "      <th>3</th>\n",
       "      <td>F1321</td>\n",
       "      <td>13</td>\n",
       "      <td>[13.0, 622.0, 657.0, 1368.0, 1504.0, 2626.0, 2...</td>\n",
       "      <td>[609.0, 35.0, 711.0, 136.0, 1122.0, 150.0, 487...</td>\n",
       "      <td>[609.0, 35.0, 711.0, 136.0, 1122.0, 150.0, 487...</td>\n",
       "    </tr>\n",
       "    <tr>\n",
       "      <th>4</th>\n",
       "      <td>F1322</td>\n",
       "      <td>1489</td>\n",
       "      <td>[1489.0, 3166.0, 3240.0, 3463.0, 3494.0, 5054....</td>\n",
       "      <td>[1677.0, 74.0, 223.0, 31.0, 1560.0, 331.0, 285...</td>\n",
       "      <td>[1677.0, 74.0, 223.0, 31.0, 1560.0, 331.0, 285...</td>\n",
       "    </tr>\n",
       "    <tr>\n",
       "      <th>5</th>\n",
       "      <td>F1323</td>\n",
       "      <td>454</td>\n",
       "      <td>[454.0, 3328.0, 3382.0, 4523.0, 4545.0, 4600.0...</td>\n",
       "      <td>[2874.0, 54.0, 1141.0, 22.0, 55.0, 2079.0, 50....</td>\n",
       "      <td>[2874.0, 54.0, 1141.0, 22.0, 55.0, 2079.0, 50....</td>\n",
       "    </tr>\n",
       "    <tr>\n",
       "      <th>6</th>\n",
       "      <td>F1324</td>\n",
       "      <td>19</td>\n",
       "      <td>[19.0, 103.0, 208.0, 1594.0, 1777.0, 1977.0, 2...</td>\n",
       "      <td>[84.0, 105.0, 1386.0, 183.0, 200.0, 58.0, 340....</td>\n",
       "      <td>[84.0, 105.0, 1386.0, 183.0, 200.0, 58.0, 340....</td>\n",
       "    </tr>\n",
       "    <tr>\n",
       "      <th>7</th>\n",
       "      <td>F1325</td>\n",
       "      <td>714</td>\n",
       "      <td>[714.0, 747.0, 1181.0, 1309.0, 1817.0, 1840.0,...</td>\n",
       "      <td>[33.0, 434.0, 128.0, 508.0, 23.0, 43.0, 22.0, ...</td>\n",
       "      <td>[33.0, 434.0, 128.0, 508.0, 23.0, 43.0, 22.0, ...</td>\n",
       "    </tr>\n",
       "    <tr>\n",
       "      <th>8</th>\n",
       "      <td>F1326</td>\n",
       "      <td>989</td>\n",
       "      <td>[989.0, 1030.0, 1399.0, 1422.0, 1496.0, 1519.0...</td>\n",
       "      <td>[41.0, 369.0, 23.0, 74.0, 23.0, 22.0, 893.0, 6...</td>\n",
       "      <td>[41.0, 369.0, 23.0, 74.0, 23.0, 22.0, 893.0, 6...</td>\n",
       "    </tr>\n",
       "    <tr>\n",
       "      <th>9</th>\n",
       "      <td>F1327</td>\n",
       "      <td>46</td>\n",
       "      <td>[46.0, 81.0, 459.0, 1478.0, 1761.0, 2218.0, 26...</td>\n",
       "      <td>[35.0, 378.0, 1019.0, 283.0, 457.0, 449.0, 571...</td>\n",
       "      <td>[35.0, 378.0, 1019.0, 283.0, 457.0, 449.0, 571...</td>\n",
       "    </tr>\n",
       "    <tr>\n",
       "      <th>10</th>\n",
       "      <td>F1328</td>\n",
       "      <td>86</td>\n",
       "      <td>[86.0, 164.0, 244.0, 649.0, 1004.0, 1317.0, 24...</td>\n",
       "      <td>[78.0, 80.0, 405.0, 355.0, 313.0, 1158.0, 31.0...</td>\n",
       "      <td>[78.0, 80.0, 405.0, 355.0, 313.0, 1158.0, 31.0...</td>\n",
       "    </tr>\n",
       "    <tr>\n",
       "      <th>11</th>\n",
       "      <td>F1329</td>\n",
       "      <td>56</td>\n",
       "      <td>[56.0, 80.0, 1299.0, 1333.0, 1923.0, 2065.0, 2...</td>\n",
       "      <td>[24.0, 1219.0, 34.0, 590.0, 142.0, 433.0, 30.0...</td>\n",
       "      <td>[24.0, 1219.0, 34.0, 590.0, 142.0, 433.0, 30.0...</td>\n",
       "    </tr>\n",
       "    <tr>\n",
       "      <th>12</th>\n",
       "      <td>F1330</td>\n",
       "      <td>5</td>\n",
       "      <td>[5.0, 38.0, 467.0, 488.0, 947.0, 1362.0, 1388....</td>\n",
       "      <td>[33.0, 429.0, 21.0, 459.0, 415.0, 26.0, 653.0,...</td>\n",
       "      <td>[33.0, 429.0, 21.0, 459.0, 415.0, 26.0, 653.0,...</td>\n",
       "    </tr>\n",
       "    <tr>\n",
       "      <th>13</th>\n",
       "      <td>F1338</td>\n",
       "      <td>274</td>\n",
       "      <td>[274.0, 1130.0, 1693.0, 2280.0, 2303.0, 2537.0...</td>\n",
       "      <td>[856.0, 563.0, 587.0, 23.0, 234.0, 27.0, 50.0,...</td>\n",
       "      <td>[856.0, 563.0, 587.0, 23.0, 234.0, 27.0, 50.0,...</td>\n",
       "    </tr>\n",
       "    <tr>\n",
       "      <th>14</th>\n",
       "      <td>M1351</td>\n",
       "      <td>82</td>\n",
       "      <td>[82.0, 789.0, 1382.0, 2317.0, 2399.0, 3306.0, ...</td>\n",
       "      <td>[707.0, 593.0, 935.0, 82.0, 907.0, 854.0, 34.0...</td>\n",
       "      <td>[707.0, 593.0, 935.0, 82.0, 907.0, 854.0, 34.0...</td>\n",
       "    </tr>\n",
       "    <tr>\n",
       "      <th>15</th>\n",
       "      <td>M1352</td>\n",
       "      <td>109</td>\n",
       "      <td>[109.0, 151.0, 760.0, 783.0, 811.0, 909.0, 102...</td>\n",
       "      <td>[42.0, 609.0, 23.0, 28.0, 98.0, 116.0, 26.0, 2...</td>\n",
       "      <td>[42.0, 609.0, 23.0, 28.0, 98.0, 116.0, 26.0, 2...</td>\n",
       "    </tr>\n",
       "  </tbody>\n",
       "</table>\n",
       "</div>"
      ],
      "text/plain": [
       "0  Subject  Latency                                         allRewards  \\\n",
       "0    F1317       19  [19.0, 47.0, 84.0, 688.0, 1046.0, 1123.0, 1504...   \n",
       "1    F1318      183  [183.0, 635.0, 1210.0, 1536.0, 1781.0, 1809.0,...   \n",
       "2    F1319       57  [57.0, 95.0, 235.0, 608.0, 713.0, 1370.0, 1459...   \n",
       "3    F1321       13  [13.0, 622.0, 657.0, 1368.0, 1504.0, 2626.0, 2...   \n",
       "4    F1322     1489  [1489.0, 3166.0, 3240.0, 3463.0, 3494.0, 5054....   \n",
       "5    F1323      454  [454.0, 3328.0, 3382.0, 4523.0, 4545.0, 4600.0...   \n",
       "6    F1324       19  [19.0, 103.0, 208.0, 1594.0, 1777.0, 1977.0, 2...   \n",
       "7    F1325      714  [714.0, 747.0, 1181.0, 1309.0, 1817.0, 1840.0,...   \n",
       "8    F1326      989  [989.0, 1030.0, 1399.0, 1422.0, 1496.0, 1519.0...   \n",
       "9    F1327       46  [46.0, 81.0, 459.0, 1478.0, 1761.0, 2218.0, 26...   \n",
       "10   F1328       86  [86.0, 164.0, 244.0, 649.0, 1004.0, 1317.0, 24...   \n",
       "11   F1329       56  [56.0, 80.0, 1299.0, 1333.0, 1923.0, 2065.0, 2...   \n",
       "12   F1330        5  [5.0, 38.0, 467.0, 488.0, 947.0, 1362.0, 1388....   \n",
       "13   F1338      274  [274.0, 1130.0, 1693.0, 2280.0, 2303.0, 2537.0...   \n",
       "14   M1351       82  [82.0, 789.0, 1382.0, 2317.0, 2399.0, 3306.0, ...   \n",
       "15   M1352      109  [109.0, 151.0, 760.0, 783.0, 811.0, 909.0, 102...   \n",
       "\n",
       "0                                           Intervals  \\\n",
       "0   [28.0, 37.0, 604.0, 358.0, 77.0, 381.0, 581.0,...   \n",
       "1   [452.0, 575.0, 326.0, 245.0, 28.0, 638.0, 30.0...   \n",
       "2   [38.0, 140.0, 373.0, 105.0, 657.0, 89.0, 673.0...   \n",
       "3   [609.0, 35.0, 711.0, 136.0, 1122.0, 150.0, 487...   \n",
       "4   [1677.0, 74.0, 223.0, 31.0, 1560.0, 331.0, 285...   \n",
       "5   [2874.0, 54.0, 1141.0, 22.0, 55.0, 2079.0, 50....   \n",
       "6   [84.0, 105.0, 1386.0, 183.0, 200.0, 58.0, 340....   \n",
       "7   [33.0, 434.0, 128.0, 508.0, 23.0, 43.0, 22.0, ...   \n",
       "8   [41.0, 369.0, 23.0, 74.0, 23.0, 22.0, 893.0, 6...   \n",
       "9   [35.0, 378.0, 1019.0, 283.0, 457.0, 449.0, 571...   \n",
       "10  [78.0, 80.0, 405.0, 355.0, 313.0, 1158.0, 31.0...   \n",
       "11  [24.0, 1219.0, 34.0, 590.0, 142.0, 433.0, 30.0...   \n",
       "12  [33.0, 429.0, 21.0, 459.0, 415.0, 26.0, 653.0,...   \n",
       "13  [856.0, 563.0, 587.0, 23.0, 234.0, 27.0, 50.0,...   \n",
       "14  [707.0, 593.0, 935.0, 82.0, 907.0, 854.0, 34.0...   \n",
       "15  [42.0, 609.0, 23.0, 28.0, 98.0, 116.0, 26.0, 2...   \n",
       "\n",
       "0                                    cleanedIntervals  \n",
       "0   [28.0, 37.0, 604.0, 358.0, 77.0, 381.0, 581.0,...  \n",
       "1   [452.0, 575.0, 326.0, 245.0, 28.0, 638.0, 30.0...  \n",
       "2   [38.0, 140.0, 373.0, 105.0, 657.0, 89.0, 673.0...  \n",
       "3   [609.0, 35.0, 711.0, 136.0, 1122.0, 150.0, 487...  \n",
       "4   [1677.0, 74.0, 223.0, 31.0, 1560.0, 331.0, 285...  \n",
       "5   [2874.0, 54.0, 1141.0, 22.0, 55.0, 2079.0, 50....  \n",
       "6   [84.0, 105.0, 1386.0, 183.0, 200.0, 58.0, 340....  \n",
       "7   [33.0, 434.0, 128.0, 508.0, 23.0, 43.0, 22.0, ...  \n",
       "8   [41.0, 369.0, 23.0, 74.0, 23.0, 22.0, 893.0, 6...  \n",
       "9   [35.0, 378.0, 1019.0, 283.0, 457.0, 449.0, 571...  \n",
       "10  [78.0, 80.0, 405.0, 355.0, 313.0, 1158.0, 31.0...  \n",
       "11  [24.0, 1219.0, 34.0, 590.0, 142.0, 433.0, 30.0...  \n",
       "12  [33.0, 429.0, 21.0, 459.0, 415.0, 26.0, 653.0,...  \n",
       "13  [856.0, 563.0, 587.0, 23.0, 234.0, 27.0, 50.0,...  \n",
       "14  [707.0, 593.0, 935.0, 82.0, 907.0, 854.0, 34.0...  \n",
       "15  [42.0, 609.0, 23.0, 28.0, 98.0, 116.0, 26.0, 2...  "
      ]
     },
     "execution_count": 373,
     "metadata": {},
     "output_type": "execute_result"
    }
   ],
   "source": [
    "df_filtered = df_reward[['Subject', 'Latency', 'allRewards']]\n",
    "df_filtered['Intervals'] = df_filtered['allRewards'].apply(lambda lst:[j-i for i, j in zip(lst[:-1], lst[1:])])\n",
    "df_filtered['cleanedIntervals'] = df_filtered['Intervals'].apply(lambda lst: [val for val in lst if val > 0][:-1])\n",
    "df_filtered"
   ]
  },
  {
   "cell_type": "code",
   "execution_count": 376,
   "id": "92122a25",
   "metadata": {},
   "outputs": [],
   "source": [
    "data = []\n",
    "for s in df_filtered['Subject']:\n",
    "    cl = df_filtered[df_filtered['Subject']==s]['cleanedIntervals'].values[0]\n",
    "    for val in cl:\n",
    "        data.append([s,val])"
   ]
  },
  {
   "cell_type": "code",
   "execution_count": 377,
   "id": "f997ac96",
   "metadata": {
    "scrolled": true
   },
   "outputs": [
    {
     "data": {
      "text/html": [
       "<div>\n",
       "<style scoped>\n",
       "    .dataframe tbody tr th:only-of-type {\n",
       "        vertical-align: middle;\n",
       "    }\n",
       "\n",
       "    .dataframe tbody tr th {\n",
       "        vertical-align: top;\n",
       "    }\n",
       "\n",
       "    .dataframe thead th {\n",
       "        text-align: right;\n",
       "    }\n",
       "</style>\n",
       "<table border=\"1\" class=\"dataframe\">\n",
       "  <thead>\n",
       "    <tr style=\"text-align: right;\">\n",
       "      <th></th>\n",
       "      <th>ID</th>\n",
       "      <th>Second</th>\n",
       "    </tr>\n",
       "  </thead>\n",
       "  <tbody>\n",
       "    <tr>\n",
       "      <th>0</th>\n",
       "      <td>F1317</td>\n",
       "      <td>28.0</td>\n",
       "    </tr>\n",
       "    <tr>\n",
       "      <th>1</th>\n",
       "      <td>F1317</td>\n",
       "      <td>37.0</td>\n",
       "    </tr>\n",
       "    <tr>\n",
       "      <th>2</th>\n",
       "      <td>F1317</td>\n",
       "      <td>604.0</td>\n",
       "    </tr>\n",
       "    <tr>\n",
       "      <th>3</th>\n",
       "      <td>F1317</td>\n",
       "      <td>358.0</td>\n",
       "    </tr>\n",
       "    <tr>\n",
       "      <th>4</th>\n",
       "      <td>F1317</td>\n",
       "      <td>77.0</td>\n",
       "    </tr>\n",
       "    <tr>\n",
       "      <th>...</th>\n",
       "      <td>...</td>\n",
       "      <td>...</td>\n",
       "    </tr>\n",
       "    <tr>\n",
       "      <th>1512</th>\n",
       "      <td>M1352</td>\n",
       "      <td>23.0</td>\n",
       "    </tr>\n",
       "    <tr>\n",
       "      <th>1513</th>\n",
       "      <td>M1352</td>\n",
       "      <td>130.0</td>\n",
       "    </tr>\n",
       "    <tr>\n",
       "      <th>1514</th>\n",
       "      <td>M1352</td>\n",
       "      <td>1610.0</td>\n",
       "    </tr>\n",
       "    <tr>\n",
       "      <th>1515</th>\n",
       "      <td>M1352</td>\n",
       "      <td>43.0</td>\n",
       "    </tr>\n",
       "    <tr>\n",
       "      <th>1516</th>\n",
       "      <td>M1352</td>\n",
       "      <td>22.0</td>\n",
       "    </tr>\n",
       "  </tbody>\n",
       "</table>\n",
       "<p>1517 rows × 2 columns</p>\n",
       "</div>"
      ],
      "text/plain": [
       "         ID  Second\n",
       "0     F1317    28.0\n",
       "1     F1317    37.0\n",
       "2     F1317   604.0\n",
       "3     F1317   358.0\n",
       "4     F1317    77.0\n",
       "...     ...     ...\n",
       "1512  M1352    23.0\n",
       "1513  M1352   130.0\n",
       "1514  M1352  1610.0\n",
       "1515  M1352    43.0\n",
       "1516  M1352    22.0\n",
       "\n",
       "[1517 rows x 2 columns]"
      ]
     },
     "execution_count": 377,
     "metadata": {},
     "output_type": "execute_result"
    }
   ],
   "source": [
    "df_dist=pd.DataFrame(data,columns=['ID','Second'])\n",
    "df_dist"
   ]
  },
  {
   "cell_type": "code",
   "execution_count": 380,
   "id": "a43ff9f8",
   "metadata": {},
   "outputs": [
    {
     "data": {
      "text/plain": [
       "288"
      ]
     },
     "execution_count": 380,
     "metadata": {},
     "output_type": "execute_result"
    }
   ],
   "source": [
    "numBins = round(max(df_dist['Second'])/20)\n",
    "numBins"
   ]
  },
  {
   "cell_type": "code",
   "execution_count": 388,
   "id": "8c2d0813",
   "metadata": {},
   "outputs": [
    {
     "data": {
      "application/vnd.plotly.v1+json": {
       "config": {
        "plotlyServerURL": "https://plot.ly"
       },
       "data": [
        {
         "alignmentgroup": "True",
         "bingroup": "x",
         "hovertemplate": "ID=F1317<br>Second=%{x}<br>count=%{y}<extra></extra>",
         "legendgroup": "F1317",
         "marker": {
          "color": "#2E91E5",
          "pattern": {
           "shape": ""
          }
         },
         "name": "F1317",
         "nbinsx": 288,
         "offsetgroup": "F1317",
         "orientation": "v",
         "showlegend": true,
         "type": "histogram",
         "x": [
          28,
          37,
          604,
          358,
          77,
          381,
          581,
          32,
          801,
          29,
          25,
          438,
          71,
          600,
          35,
          722,
          614,
          276,
          22,
          749,
          35,
          20,
          38,
          44,
          38,
          50,
          43,
          24,
          144,
          25,
          33,
          38,
          27,
          627,
          75,
          21,
          23,
          45,
          28,
          27,
          26,
          93,
          32,
          30,
          319,
          22,
          29,
          29,
          25,
          22,
          33,
          23,
          24,
          49,
          61,
          28,
          47,
          28,
          46,
          3782,
          34,
          29,
          56,
          3445,
          44,
          1018,
          23,
          52,
          57,
          28,
          123,
          1002,
          40,
          64,
          448,
          513,
          1967,
          55,
          2183,
          100,
          1236,
          582,
          108,
          39,
          83,
          26,
          54,
          48,
          5762,
          145,
          581,
          2839,
          41,
          903,
          974,
          46,
          2167,
          803,
          155
         ],
         "xaxis": "x",
         "yaxis": "y"
        },
        {
         "alignmentgroup": "True",
         "customdata": [
          [
           "F1317"
          ],
          [
           "F1317"
          ],
          [
           "F1317"
          ],
          [
           "F1317"
          ],
          [
           "F1317"
          ],
          [
           "F1317"
          ],
          [
           "F1317"
          ],
          [
           "F1317"
          ],
          [
           "F1317"
          ],
          [
           "F1317"
          ],
          [
           "F1317"
          ],
          [
           "F1317"
          ],
          [
           "F1317"
          ],
          [
           "F1317"
          ],
          [
           "F1317"
          ],
          [
           "F1317"
          ],
          [
           "F1317"
          ],
          [
           "F1317"
          ],
          [
           "F1317"
          ],
          [
           "F1317"
          ],
          [
           "F1317"
          ],
          [
           "F1317"
          ],
          [
           "F1317"
          ],
          [
           "F1317"
          ],
          [
           "F1317"
          ],
          [
           "F1317"
          ],
          [
           "F1317"
          ],
          [
           "F1317"
          ],
          [
           "F1317"
          ],
          [
           "F1317"
          ],
          [
           "F1317"
          ],
          [
           "F1317"
          ],
          [
           "F1317"
          ],
          [
           "F1317"
          ],
          [
           "F1317"
          ],
          [
           "F1317"
          ],
          [
           "F1317"
          ],
          [
           "F1317"
          ],
          [
           "F1317"
          ],
          [
           "F1317"
          ],
          [
           "F1317"
          ],
          [
           "F1317"
          ],
          [
           "F1317"
          ],
          [
           "F1317"
          ],
          [
           "F1317"
          ],
          [
           "F1317"
          ],
          [
           "F1317"
          ],
          [
           "F1317"
          ],
          [
           "F1317"
          ],
          [
           "F1317"
          ],
          [
           "F1317"
          ],
          [
           "F1317"
          ],
          [
           "F1317"
          ],
          [
           "F1317"
          ],
          [
           "F1317"
          ],
          [
           "F1317"
          ],
          [
           "F1317"
          ],
          [
           "F1317"
          ],
          [
           "F1317"
          ],
          [
           "F1317"
          ],
          [
           "F1317"
          ],
          [
           "F1317"
          ],
          [
           "F1317"
          ],
          [
           "F1317"
          ],
          [
           "F1317"
          ],
          [
           "F1317"
          ],
          [
           "F1317"
          ],
          [
           "F1317"
          ],
          [
           "F1317"
          ],
          [
           "F1317"
          ],
          [
           "F1317"
          ],
          [
           "F1317"
          ],
          [
           "F1317"
          ],
          [
           "F1317"
          ],
          [
           "F1317"
          ],
          [
           "F1317"
          ],
          [
           "F1317"
          ],
          [
           "F1317"
          ],
          [
           "F1317"
          ],
          [
           "F1317"
          ],
          [
           "F1317"
          ],
          [
           "F1317"
          ],
          [
           "F1317"
          ],
          [
           "F1317"
          ],
          [
           "F1317"
          ],
          [
           "F1317"
          ],
          [
           "F1317"
          ],
          [
           "F1317"
          ],
          [
           "F1317"
          ],
          [
           "F1317"
          ],
          [
           "F1317"
          ],
          [
           "F1317"
          ],
          [
           "F1317"
          ],
          [
           "F1317"
          ],
          [
           "F1317"
          ],
          [
           "F1317"
          ],
          [
           "F1317"
          ],
          [
           "F1317"
          ],
          [
           "F1317"
          ]
         ],
         "hovertemplate": "ID=%{customdata[0]}<br>Second=%{x}<extra></extra>",
         "legendgroup": "F1317",
         "marker": {
          "color": "#2E91E5"
         },
         "name": "F1317",
         "notched": true,
         "offsetgroup": "F1317",
         "showlegend": false,
         "type": "box",
         "x": [
          28,
          37,
          604,
          358,
          77,
          381,
          581,
          32,
          801,
          29,
          25,
          438,
          71,
          600,
          35,
          722,
          614,
          276,
          22,
          749,
          35,
          20,
          38,
          44,
          38,
          50,
          43,
          24,
          144,
          25,
          33,
          38,
          27,
          627,
          75,
          21,
          23,
          45,
          28,
          27,
          26,
          93,
          32,
          30,
          319,
          22,
          29,
          29,
          25,
          22,
          33,
          23,
          24,
          49,
          61,
          28,
          47,
          28,
          46,
          3782,
          34,
          29,
          56,
          3445,
          44,
          1018,
          23,
          52,
          57,
          28,
          123,
          1002,
          40,
          64,
          448,
          513,
          1967,
          55,
          2183,
          100,
          1236,
          582,
          108,
          39,
          83,
          26,
          54,
          48,
          5762,
          145,
          581,
          2839,
          41,
          903,
          974,
          46,
          2167,
          803,
          155
         ],
         "xaxis": "x2",
         "yaxis": "y2"
        },
        {
         "alignmentgroup": "True",
         "bingroup": "x",
         "hovertemplate": "ID=F1318<br>Second=%{x}<br>count=%{y}<extra></extra>",
         "legendgroup": "F1318",
         "marker": {
          "color": "#E15F99",
          "pattern": {
           "shape": ""
          }
         },
         "name": "F1318",
         "nbinsx": 288,
         "offsetgroup": "F1318",
         "orientation": "v",
         "showlegend": true,
         "type": "histogram",
         "x": [
          452,
          575,
          326,
          245,
          28,
          638,
          30,
          477,
          67,
          527,
          480,
          30,
          619,
          94,
          493,
          392,
          36,
          554,
          600,
          77,
          73,
          708,
          586,
          47,
          562,
          28,
          125,
          154,
          482,
          42,
          480,
          24,
          30,
          731,
          346,
          683,
          21,
          436,
          438,
          485,
          47,
          23,
          559,
          732,
          21,
          684,
          20,
          21,
          27,
          838,
          762,
          39,
          299,
          20,
          705,
          24,
          29,
          816,
          182,
          31,
          817,
          180,
          23,
          676,
          91,
          687,
          337,
          30,
          27,
          577,
          29,
          641,
          935,
          23,
          681,
          27,
          800,
          33,
          622,
          30,
          434,
          226,
          527,
          521,
          697,
          385,
          142,
          272,
          211,
          52,
          459,
          311,
          382,
          27,
          260,
          227,
          58,
          498,
          30,
          843,
          213,
          416,
          613,
          51,
          104,
          358,
          33,
          228,
          553,
          636,
          109,
          481,
          528,
          29,
          381,
          427,
          606,
          194,
          150,
          417,
          552,
          344,
          35,
          486,
          38,
          25,
          421,
          729,
          197,
          31,
          411
         ],
         "xaxis": "x",
         "yaxis": "y"
        },
        {
         "alignmentgroup": "True",
         "customdata": [
          [
           "F1318"
          ],
          [
           "F1318"
          ],
          [
           "F1318"
          ],
          [
           "F1318"
          ],
          [
           "F1318"
          ],
          [
           "F1318"
          ],
          [
           "F1318"
          ],
          [
           "F1318"
          ],
          [
           "F1318"
          ],
          [
           "F1318"
          ],
          [
           "F1318"
          ],
          [
           "F1318"
          ],
          [
           "F1318"
          ],
          [
           "F1318"
          ],
          [
           "F1318"
          ],
          [
           "F1318"
          ],
          [
           "F1318"
          ],
          [
           "F1318"
          ],
          [
           "F1318"
          ],
          [
           "F1318"
          ],
          [
           "F1318"
          ],
          [
           "F1318"
          ],
          [
           "F1318"
          ],
          [
           "F1318"
          ],
          [
           "F1318"
          ],
          [
           "F1318"
          ],
          [
           "F1318"
          ],
          [
           "F1318"
          ],
          [
           "F1318"
          ],
          [
           "F1318"
          ],
          [
           "F1318"
          ],
          [
           "F1318"
          ],
          [
           "F1318"
          ],
          [
           "F1318"
          ],
          [
           "F1318"
          ],
          [
           "F1318"
          ],
          [
           "F1318"
          ],
          [
           "F1318"
          ],
          [
           "F1318"
          ],
          [
           "F1318"
          ],
          [
           "F1318"
          ],
          [
           "F1318"
          ],
          [
           "F1318"
          ],
          [
           "F1318"
          ],
          [
           "F1318"
          ],
          [
           "F1318"
          ],
          [
           "F1318"
          ],
          [
           "F1318"
          ],
          [
           "F1318"
          ],
          [
           "F1318"
          ],
          [
           "F1318"
          ],
          [
           "F1318"
          ],
          [
           "F1318"
          ],
          [
           "F1318"
          ],
          [
           "F1318"
          ],
          [
           "F1318"
          ],
          [
           "F1318"
          ],
          [
           "F1318"
          ],
          [
           "F1318"
          ],
          [
           "F1318"
          ],
          [
           "F1318"
          ],
          [
           "F1318"
          ],
          [
           "F1318"
          ],
          [
           "F1318"
          ],
          [
           "F1318"
          ],
          [
           "F1318"
          ],
          [
           "F1318"
          ],
          [
           "F1318"
          ],
          [
           "F1318"
          ],
          [
           "F1318"
          ],
          [
           "F1318"
          ],
          [
           "F1318"
          ],
          [
           "F1318"
          ],
          [
           "F1318"
          ],
          [
           "F1318"
          ],
          [
           "F1318"
          ],
          [
           "F1318"
          ],
          [
           "F1318"
          ],
          [
           "F1318"
          ],
          [
           "F1318"
          ],
          [
           "F1318"
          ],
          [
           "F1318"
          ],
          [
           "F1318"
          ],
          [
           "F1318"
          ],
          [
           "F1318"
          ],
          [
           "F1318"
          ],
          [
           "F1318"
          ],
          [
           "F1318"
          ],
          [
           "F1318"
          ],
          [
           "F1318"
          ],
          [
           "F1318"
          ],
          [
           "F1318"
          ],
          [
           "F1318"
          ],
          [
           "F1318"
          ],
          [
           "F1318"
          ],
          [
           "F1318"
          ],
          [
           "F1318"
          ],
          [
           "F1318"
          ],
          [
           "F1318"
          ],
          [
           "F1318"
          ],
          [
           "F1318"
          ],
          [
           "F1318"
          ],
          [
           "F1318"
          ],
          [
           "F1318"
          ],
          [
           "F1318"
          ],
          [
           "F1318"
          ],
          [
           "F1318"
          ],
          [
           "F1318"
          ],
          [
           "F1318"
          ],
          [
           "F1318"
          ],
          [
           "F1318"
          ],
          [
           "F1318"
          ],
          [
           "F1318"
          ],
          [
           "F1318"
          ],
          [
           "F1318"
          ],
          [
           "F1318"
          ],
          [
           "F1318"
          ],
          [
           "F1318"
          ],
          [
           "F1318"
          ],
          [
           "F1318"
          ],
          [
           "F1318"
          ],
          [
           "F1318"
          ],
          [
           "F1318"
          ],
          [
           "F1318"
          ],
          [
           "F1318"
          ],
          [
           "F1318"
          ],
          [
           "F1318"
          ],
          [
           "F1318"
          ],
          [
           "F1318"
          ],
          [
           "F1318"
          ],
          [
           "F1318"
          ]
         ],
         "hovertemplate": "ID=%{customdata[0]}<br>Second=%{x}<extra></extra>",
         "legendgroup": "F1318",
         "marker": {
          "color": "#E15F99"
         },
         "name": "F1318",
         "notched": true,
         "offsetgroup": "F1318",
         "showlegend": false,
         "type": "box",
         "x": [
          452,
          575,
          326,
          245,
          28,
          638,
          30,
          477,
          67,
          527,
          480,
          30,
          619,
          94,
          493,
          392,
          36,
          554,
          600,
          77,
          73,
          708,
          586,
          47,
          562,
          28,
          125,
          154,
          482,
          42,
          480,
          24,
          30,
          731,
          346,
          683,
          21,
          436,
          438,
          485,
          47,
          23,
          559,
          732,
          21,
          684,
          20,
          21,
          27,
          838,
          762,
          39,
          299,
          20,
          705,
          24,
          29,
          816,
          182,
          31,
          817,
          180,
          23,
          676,
          91,
          687,
          337,
          30,
          27,
          577,
          29,
          641,
          935,
          23,
          681,
          27,
          800,
          33,
          622,
          30,
          434,
          226,
          527,
          521,
          697,
          385,
          142,
          272,
          211,
          52,
          459,
          311,
          382,
          27,
          260,
          227,
          58,
          498,
          30,
          843,
          213,
          416,
          613,
          51,
          104,
          358,
          33,
          228,
          553,
          636,
          109,
          481,
          528,
          29,
          381,
          427,
          606,
          194,
          150,
          417,
          552,
          344,
          35,
          486,
          38,
          25,
          421,
          729,
          197,
          31,
          411
         ],
         "xaxis": "x2",
         "yaxis": "y2"
        },
        {
         "alignmentgroup": "True",
         "bingroup": "x",
         "hovertemplate": "ID=F1319<br>Second=%{x}<br>count=%{y}<extra></extra>",
         "legendgroup": "F1319",
         "marker": {
          "color": "#1CA71C",
          "pattern": {
           "shape": ""
          }
         },
         "name": "F1319",
         "nbinsx": 288,
         "offsetgroup": "F1319",
         "orientation": "v",
         "showlegend": true,
         "type": "histogram",
         "x": [
          38,
          140,
          373,
          105,
          657,
          89,
          673,
          877,
          24,
          208,
          872,
          1066,
          32,
          994,
          617,
          52,
          220,
          774,
          359,
          613,
          21,
          1361,
          26,
          136,
          528,
          39,
          1511,
          543,
          599,
          1104,
          435,
          22,
          1061,
          684,
          31,
          662,
          560,
          747,
          83,
          575,
          818,
          43,
          1264,
          1430,
          40,
          689,
          43,
          1120,
          44,
          794,
          702,
          183,
          853,
          601,
          1220,
          169,
          278,
          727,
          554,
          476,
          583,
          636,
          724,
          43,
          725,
          289,
          745,
          498,
          4508
         ],
         "xaxis": "x",
         "yaxis": "y"
        },
        {
         "alignmentgroup": "True",
         "customdata": [
          [
           "F1319"
          ],
          [
           "F1319"
          ],
          [
           "F1319"
          ],
          [
           "F1319"
          ],
          [
           "F1319"
          ],
          [
           "F1319"
          ],
          [
           "F1319"
          ],
          [
           "F1319"
          ],
          [
           "F1319"
          ],
          [
           "F1319"
          ],
          [
           "F1319"
          ],
          [
           "F1319"
          ],
          [
           "F1319"
          ],
          [
           "F1319"
          ],
          [
           "F1319"
          ],
          [
           "F1319"
          ],
          [
           "F1319"
          ],
          [
           "F1319"
          ],
          [
           "F1319"
          ],
          [
           "F1319"
          ],
          [
           "F1319"
          ],
          [
           "F1319"
          ],
          [
           "F1319"
          ],
          [
           "F1319"
          ],
          [
           "F1319"
          ],
          [
           "F1319"
          ],
          [
           "F1319"
          ],
          [
           "F1319"
          ],
          [
           "F1319"
          ],
          [
           "F1319"
          ],
          [
           "F1319"
          ],
          [
           "F1319"
          ],
          [
           "F1319"
          ],
          [
           "F1319"
          ],
          [
           "F1319"
          ],
          [
           "F1319"
          ],
          [
           "F1319"
          ],
          [
           "F1319"
          ],
          [
           "F1319"
          ],
          [
           "F1319"
          ],
          [
           "F1319"
          ],
          [
           "F1319"
          ],
          [
           "F1319"
          ],
          [
           "F1319"
          ],
          [
           "F1319"
          ],
          [
           "F1319"
          ],
          [
           "F1319"
          ],
          [
           "F1319"
          ],
          [
           "F1319"
          ],
          [
           "F1319"
          ],
          [
           "F1319"
          ],
          [
           "F1319"
          ],
          [
           "F1319"
          ],
          [
           "F1319"
          ],
          [
           "F1319"
          ],
          [
           "F1319"
          ],
          [
           "F1319"
          ],
          [
           "F1319"
          ],
          [
           "F1319"
          ],
          [
           "F1319"
          ],
          [
           "F1319"
          ],
          [
           "F1319"
          ],
          [
           "F1319"
          ],
          [
           "F1319"
          ],
          [
           "F1319"
          ],
          [
           "F1319"
          ],
          [
           "F1319"
          ],
          [
           "F1319"
          ],
          [
           "F1319"
          ]
         ],
         "hovertemplate": "ID=%{customdata[0]}<br>Second=%{x}<extra></extra>",
         "legendgroup": "F1319",
         "marker": {
          "color": "#1CA71C"
         },
         "name": "F1319",
         "notched": true,
         "offsetgroup": "F1319",
         "showlegend": false,
         "type": "box",
         "x": [
          38,
          140,
          373,
          105,
          657,
          89,
          673,
          877,
          24,
          208,
          872,
          1066,
          32,
          994,
          617,
          52,
          220,
          774,
          359,
          613,
          21,
          1361,
          26,
          136,
          528,
          39,
          1511,
          543,
          599,
          1104,
          435,
          22,
          1061,
          684,
          31,
          662,
          560,
          747,
          83,
          575,
          818,
          43,
          1264,
          1430,
          40,
          689,
          43,
          1120,
          44,
          794,
          702,
          183,
          853,
          601,
          1220,
          169,
          278,
          727,
          554,
          476,
          583,
          636,
          724,
          43,
          725,
          289,
          745,
          498,
          4508
         ],
         "xaxis": "x2",
         "yaxis": "y2"
        },
        {
         "alignmentgroup": "True",
         "bingroup": "x",
         "hovertemplate": "ID=F1321<br>Second=%{x}<br>count=%{y}<extra></extra>",
         "legendgroup": "F1321",
         "marker": {
          "color": "#FB0D0D",
          "pattern": {
           "shape": ""
          }
         },
         "name": "F1321",
         "nbinsx": 288,
         "offsetgroup": "F1321",
         "orientation": "v",
         "showlegend": true,
         "type": "histogram",
         "x": [
          609,
          35,
          711,
          136,
          1122,
          150,
          487,
          24,
          532,
          199,
          37,
          431,
          540,
          22,
          4608,
          815,
          1083,
          889,
          44,
          1936,
          1324,
          1170,
          1140,
          1168,
          1114,
          36,
          1424,
          1077,
          24,
          1192,
          47,
          1445,
          838,
          922,
          861,
          1157,
          761,
          780,
          989,
          896,
          954,
          706,
          958,
          1031,
          46,
          1287,
          29,
          36,
          1429,
          1014,
          882,
          959
         ],
         "xaxis": "x",
         "yaxis": "y"
        },
        {
         "alignmentgroup": "True",
         "customdata": [
          [
           "F1321"
          ],
          [
           "F1321"
          ],
          [
           "F1321"
          ],
          [
           "F1321"
          ],
          [
           "F1321"
          ],
          [
           "F1321"
          ],
          [
           "F1321"
          ],
          [
           "F1321"
          ],
          [
           "F1321"
          ],
          [
           "F1321"
          ],
          [
           "F1321"
          ],
          [
           "F1321"
          ],
          [
           "F1321"
          ],
          [
           "F1321"
          ],
          [
           "F1321"
          ],
          [
           "F1321"
          ],
          [
           "F1321"
          ],
          [
           "F1321"
          ],
          [
           "F1321"
          ],
          [
           "F1321"
          ],
          [
           "F1321"
          ],
          [
           "F1321"
          ],
          [
           "F1321"
          ],
          [
           "F1321"
          ],
          [
           "F1321"
          ],
          [
           "F1321"
          ],
          [
           "F1321"
          ],
          [
           "F1321"
          ],
          [
           "F1321"
          ],
          [
           "F1321"
          ],
          [
           "F1321"
          ],
          [
           "F1321"
          ],
          [
           "F1321"
          ],
          [
           "F1321"
          ],
          [
           "F1321"
          ],
          [
           "F1321"
          ],
          [
           "F1321"
          ],
          [
           "F1321"
          ],
          [
           "F1321"
          ],
          [
           "F1321"
          ],
          [
           "F1321"
          ],
          [
           "F1321"
          ],
          [
           "F1321"
          ],
          [
           "F1321"
          ],
          [
           "F1321"
          ],
          [
           "F1321"
          ],
          [
           "F1321"
          ],
          [
           "F1321"
          ],
          [
           "F1321"
          ],
          [
           "F1321"
          ],
          [
           "F1321"
          ],
          [
           "F1321"
          ]
         ],
         "hovertemplate": "ID=%{customdata[0]}<br>Second=%{x}<extra></extra>",
         "legendgroup": "F1321",
         "marker": {
          "color": "#FB0D0D"
         },
         "name": "F1321",
         "notched": true,
         "offsetgroup": "F1321",
         "showlegend": false,
         "type": "box",
         "x": [
          609,
          35,
          711,
          136,
          1122,
          150,
          487,
          24,
          532,
          199,
          37,
          431,
          540,
          22,
          4608,
          815,
          1083,
          889,
          44,
          1936,
          1324,
          1170,
          1140,
          1168,
          1114,
          36,
          1424,
          1077,
          24,
          1192,
          47,
          1445,
          838,
          922,
          861,
          1157,
          761,
          780,
          989,
          896,
          954,
          706,
          958,
          1031,
          46,
          1287,
          29,
          36,
          1429,
          1014,
          882,
          959
         ],
         "xaxis": "x2",
         "yaxis": "y2"
        },
        {
         "alignmentgroup": "True",
         "bingroup": "x",
         "hovertemplate": "ID=F1322<br>Second=%{x}<br>count=%{y}<extra></extra>",
         "legendgroup": "F1322",
         "marker": {
          "color": "#DA16FF",
          "pattern": {
           "shape": ""
          }
         },
         "name": "F1322",
         "nbinsx": 288,
         "offsetgroup": "F1322",
         "orientation": "v",
         "showlegend": true,
         "type": "histogram",
         "x": [
          1677,
          74,
          223,
          31,
          1560,
          331,
          285,
          2226,
          20,
          311,
          1434,
          122,
          1452,
          547,
          503,
          374,
          1121,
          30,
          565,
          2207,
          40,
          1285,
          477,
          48,
          2819,
          38,
          4948,
          1896,
          26,
          71,
          85,
          2657,
          39,
          35,
          2186,
          64,
          1942
         ],
         "xaxis": "x",
         "yaxis": "y"
        },
        {
         "alignmentgroup": "True",
         "customdata": [
          [
           "F1322"
          ],
          [
           "F1322"
          ],
          [
           "F1322"
          ],
          [
           "F1322"
          ],
          [
           "F1322"
          ],
          [
           "F1322"
          ],
          [
           "F1322"
          ],
          [
           "F1322"
          ],
          [
           "F1322"
          ],
          [
           "F1322"
          ],
          [
           "F1322"
          ],
          [
           "F1322"
          ],
          [
           "F1322"
          ],
          [
           "F1322"
          ],
          [
           "F1322"
          ],
          [
           "F1322"
          ],
          [
           "F1322"
          ],
          [
           "F1322"
          ],
          [
           "F1322"
          ],
          [
           "F1322"
          ],
          [
           "F1322"
          ],
          [
           "F1322"
          ],
          [
           "F1322"
          ],
          [
           "F1322"
          ],
          [
           "F1322"
          ],
          [
           "F1322"
          ],
          [
           "F1322"
          ],
          [
           "F1322"
          ],
          [
           "F1322"
          ],
          [
           "F1322"
          ],
          [
           "F1322"
          ],
          [
           "F1322"
          ],
          [
           "F1322"
          ],
          [
           "F1322"
          ],
          [
           "F1322"
          ],
          [
           "F1322"
          ],
          [
           "F1322"
          ]
         ],
         "hovertemplate": "ID=%{customdata[0]}<br>Second=%{x}<extra></extra>",
         "legendgroup": "F1322",
         "marker": {
          "color": "#DA16FF"
         },
         "name": "F1322",
         "notched": true,
         "offsetgroup": "F1322",
         "showlegend": false,
         "type": "box",
         "x": [
          1677,
          74,
          223,
          31,
          1560,
          331,
          285,
          2226,
          20,
          311,
          1434,
          122,
          1452,
          547,
          503,
          374,
          1121,
          30,
          565,
          2207,
          40,
          1285,
          477,
          48,
          2819,
          38,
          4948,
          1896,
          26,
          71,
          85,
          2657,
          39,
          35,
          2186,
          64,
          1942
         ],
         "xaxis": "x2",
         "yaxis": "y2"
        },
        {
         "alignmentgroup": "True",
         "bingroup": "x",
         "hovertemplate": "ID=F1323<br>Second=%{x}<br>count=%{y}<extra></extra>",
         "legendgroup": "F1323",
         "marker": {
          "color": "#222A2A",
          "pattern": {
           "shape": ""
          }
         },
         "name": "F1323",
         "nbinsx": 288,
         "offsetgroup": "F1323",
         "orientation": "v",
         "showlegend": true,
         "type": "histogram",
         "x": [
          2874,
          54,
          1141,
          22,
          55,
          2079,
          50,
          910,
          706,
          40,
          867,
          25,
          1528,
          135,
          32,
          29,
          1220,
          33,
          364,
          472,
          831,
          1561,
          943,
          1227,
          403,
          50,
          1247,
          58,
          1498,
          2067,
          29,
          1023,
          1197,
          172,
          1432,
          1194,
          60,
          196,
          55,
          945,
          2498,
          152,
          1444,
          56,
          711,
          1145
         ],
         "xaxis": "x",
         "yaxis": "y"
        },
        {
         "alignmentgroup": "True",
         "customdata": [
          [
           "F1323"
          ],
          [
           "F1323"
          ],
          [
           "F1323"
          ],
          [
           "F1323"
          ],
          [
           "F1323"
          ],
          [
           "F1323"
          ],
          [
           "F1323"
          ],
          [
           "F1323"
          ],
          [
           "F1323"
          ],
          [
           "F1323"
          ],
          [
           "F1323"
          ],
          [
           "F1323"
          ],
          [
           "F1323"
          ],
          [
           "F1323"
          ],
          [
           "F1323"
          ],
          [
           "F1323"
          ],
          [
           "F1323"
          ],
          [
           "F1323"
          ],
          [
           "F1323"
          ],
          [
           "F1323"
          ],
          [
           "F1323"
          ],
          [
           "F1323"
          ],
          [
           "F1323"
          ],
          [
           "F1323"
          ],
          [
           "F1323"
          ],
          [
           "F1323"
          ],
          [
           "F1323"
          ],
          [
           "F1323"
          ],
          [
           "F1323"
          ],
          [
           "F1323"
          ],
          [
           "F1323"
          ],
          [
           "F1323"
          ],
          [
           "F1323"
          ],
          [
           "F1323"
          ],
          [
           "F1323"
          ],
          [
           "F1323"
          ],
          [
           "F1323"
          ],
          [
           "F1323"
          ],
          [
           "F1323"
          ],
          [
           "F1323"
          ],
          [
           "F1323"
          ],
          [
           "F1323"
          ],
          [
           "F1323"
          ],
          [
           "F1323"
          ],
          [
           "F1323"
          ],
          [
           "F1323"
          ]
         ],
         "hovertemplate": "ID=%{customdata[0]}<br>Second=%{x}<extra></extra>",
         "legendgroup": "F1323",
         "marker": {
          "color": "#222A2A"
         },
         "name": "F1323",
         "notched": true,
         "offsetgroup": "F1323",
         "showlegend": false,
         "type": "box",
         "x": [
          2874,
          54,
          1141,
          22,
          55,
          2079,
          50,
          910,
          706,
          40,
          867,
          25,
          1528,
          135,
          32,
          29,
          1220,
          33,
          364,
          472,
          831,
          1561,
          943,
          1227,
          403,
          50,
          1247,
          58,
          1498,
          2067,
          29,
          1023,
          1197,
          172,
          1432,
          1194,
          60,
          196,
          55,
          945,
          2498,
          152,
          1444,
          56,
          711,
          1145
         ],
         "xaxis": "x2",
         "yaxis": "y2"
        },
        {
         "alignmentgroup": "True",
         "bingroup": "x",
         "hovertemplate": "ID=F1324<br>Second=%{x}<br>count=%{y}<extra></extra>",
         "legendgroup": "F1324",
         "marker": {
          "color": "#B68100",
          "pattern": {
           "shape": ""
          }
         },
         "name": "F1324",
         "nbinsx": 288,
         "offsetgroup": "F1324",
         "orientation": "v",
         "showlegend": true,
         "type": "histogram",
         "x": [
          84,
          105,
          1386,
          183,
          200,
          58,
          340,
          648,
          527,
          335,
          54,
          1175,
          387,
          322,
          142,
          903,
          47,
          490,
          24,
          34,
          1493,
          41,
          1397,
          172,
          981,
          84,
          214,
          368,
          901,
          34,
          1518,
          239,
          24,
          1498,
          402,
          60,
          1065,
          1332,
          37,
          1157,
          902,
          64,
          422,
          1420,
          137,
          37,
          1577,
          1329,
          99,
          1160,
          237,
          659,
          1719,
          33,
          62,
          1196,
          785,
          481,
          29,
          30,
          1600,
          56,
          980,
          28,
          1133,
          21,
          810,
          66,
          1856,
          54,
          97,
          20,
          1127,
          39,
          929,
          49,
          590
         ],
         "xaxis": "x",
         "yaxis": "y"
        },
        {
         "alignmentgroup": "True",
         "customdata": [
          [
           "F1324"
          ],
          [
           "F1324"
          ],
          [
           "F1324"
          ],
          [
           "F1324"
          ],
          [
           "F1324"
          ],
          [
           "F1324"
          ],
          [
           "F1324"
          ],
          [
           "F1324"
          ],
          [
           "F1324"
          ],
          [
           "F1324"
          ],
          [
           "F1324"
          ],
          [
           "F1324"
          ],
          [
           "F1324"
          ],
          [
           "F1324"
          ],
          [
           "F1324"
          ],
          [
           "F1324"
          ],
          [
           "F1324"
          ],
          [
           "F1324"
          ],
          [
           "F1324"
          ],
          [
           "F1324"
          ],
          [
           "F1324"
          ],
          [
           "F1324"
          ],
          [
           "F1324"
          ],
          [
           "F1324"
          ],
          [
           "F1324"
          ],
          [
           "F1324"
          ],
          [
           "F1324"
          ],
          [
           "F1324"
          ],
          [
           "F1324"
          ],
          [
           "F1324"
          ],
          [
           "F1324"
          ],
          [
           "F1324"
          ],
          [
           "F1324"
          ],
          [
           "F1324"
          ],
          [
           "F1324"
          ],
          [
           "F1324"
          ],
          [
           "F1324"
          ],
          [
           "F1324"
          ],
          [
           "F1324"
          ],
          [
           "F1324"
          ],
          [
           "F1324"
          ],
          [
           "F1324"
          ],
          [
           "F1324"
          ],
          [
           "F1324"
          ],
          [
           "F1324"
          ],
          [
           "F1324"
          ],
          [
           "F1324"
          ],
          [
           "F1324"
          ],
          [
           "F1324"
          ],
          [
           "F1324"
          ],
          [
           "F1324"
          ],
          [
           "F1324"
          ],
          [
           "F1324"
          ],
          [
           "F1324"
          ],
          [
           "F1324"
          ],
          [
           "F1324"
          ],
          [
           "F1324"
          ],
          [
           "F1324"
          ],
          [
           "F1324"
          ],
          [
           "F1324"
          ],
          [
           "F1324"
          ],
          [
           "F1324"
          ],
          [
           "F1324"
          ],
          [
           "F1324"
          ],
          [
           "F1324"
          ],
          [
           "F1324"
          ],
          [
           "F1324"
          ],
          [
           "F1324"
          ],
          [
           "F1324"
          ],
          [
           "F1324"
          ],
          [
           "F1324"
          ],
          [
           "F1324"
          ],
          [
           "F1324"
          ],
          [
           "F1324"
          ],
          [
           "F1324"
          ],
          [
           "F1324"
          ],
          [
           "F1324"
          ]
         ],
         "hovertemplate": "ID=%{customdata[0]}<br>Second=%{x}<extra></extra>",
         "legendgroup": "F1324",
         "marker": {
          "color": "#B68100"
         },
         "name": "F1324",
         "notched": true,
         "offsetgroup": "F1324",
         "showlegend": false,
         "type": "box",
         "x": [
          84,
          105,
          1386,
          183,
          200,
          58,
          340,
          648,
          527,
          335,
          54,
          1175,
          387,
          322,
          142,
          903,
          47,
          490,
          24,
          34,
          1493,
          41,
          1397,
          172,
          981,
          84,
          214,
          368,
          901,
          34,
          1518,
          239,
          24,
          1498,
          402,
          60,
          1065,
          1332,
          37,
          1157,
          902,
          64,
          422,
          1420,
          137,
          37,
          1577,
          1329,
          99,
          1160,
          237,
          659,
          1719,
          33,
          62,
          1196,
          785,
          481,
          29,
          30,
          1600,
          56,
          980,
          28,
          1133,
          21,
          810,
          66,
          1856,
          54,
          97,
          20,
          1127,
          39,
          929,
          49,
          590
         ],
         "xaxis": "x2",
         "yaxis": "y2"
        },
        {
         "alignmentgroup": "True",
         "bingroup": "x",
         "hovertemplate": "ID=F1325<br>Second=%{x}<br>count=%{y}<extra></extra>",
         "legendgroup": "F1325",
         "marker": {
          "color": "#750D86",
          "pattern": {
           "shape": ""
          }
         },
         "name": "F1325",
         "nbinsx": 288,
         "offsetgroup": "F1325",
         "orientation": "v",
         "showlegend": true,
         "type": "histogram",
         "x": [
          33,
          434,
          128,
          508,
          23,
          43,
          22,
          22,
          21,
          22,
          23,
          29,
          726,
          22,
          874,
          27,
          21,
          34,
          101,
          980,
          23,
          811,
          23,
          20,
          1107,
          37,
          998,
          21,
          598,
          767,
          23,
          29,
          2146,
          32,
          20,
          21,
          22,
          20,
          23,
          22,
          22,
          309,
          1657,
          33,
          24,
          33,
          234,
          91,
          140,
          68,
          1138,
          37,
          1297,
          28,
          22,
          21,
          22,
          36,
          482,
          1194,
          21,
          39,
          1241,
          22,
          24,
          22,
          21,
          26,
          21,
          22,
          1451,
          45,
          22,
          168,
          106,
          154,
          87,
          993,
          23,
          1063,
          73,
          40,
          1188,
          23,
          24,
          22,
          22,
          20,
          253,
          938,
          37,
          24,
          23,
          20,
          23,
          1155,
          23,
          866,
          72,
          21,
          31,
          170,
          1122,
          23,
          21,
          33,
          35,
          1365,
          30,
          25,
          36,
          1130,
          24,
          22,
          31,
          308,
          81,
          27,
          1022,
          23,
          511,
          26,
          95,
          870,
          21,
          22,
          358,
          205
         ],
         "xaxis": "x",
         "yaxis": "y"
        },
        {
         "alignmentgroup": "True",
         "customdata": [
          [
           "F1325"
          ],
          [
           "F1325"
          ],
          [
           "F1325"
          ],
          [
           "F1325"
          ],
          [
           "F1325"
          ],
          [
           "F1325"
          ],
          [
           "F1325"
          ],
          [
           "F1325"
          ],
          [
           "F1325"
          ],
          [
           "F1325"
          ],
          [
           "F1325"
          ],
          [
           "F1325"
          ],
          [
           "F1325"
          ],
          [
           "F1325"
          ],
          [
           "F1325"
          ],
          [
           "F1325"
          ],
          [
           "F1325"
          ],
          [
           "F1325"
          ],
          [
           "F1325"
          ],
          [
           "F1325"
          ],
          [
           "F1325"
          ],
          [
           "F1325"
          ],
          [
           "F1325"
          ],
          [
           "F1325"
          ],
          [
           "F1325"
          ],
          [
           "F1325"
          ],
          [
           "F1325"
          ],
          [
           "F1325"
          ],
          [
           "F1325"
          ],
          [
           "F1325"
          ],
          [
           "F1325"
          ],
          [
           "F1325"
          ],
          [
           "F1325"
          ],
          [
           "F1325"
          ],
          [
           "F1325"
          ],
          [
           "F1325"
          ],
          [
           "F1325"
          ],
          [
           "F1325"
          ],
          [
           "F1325"
          ],
          [
           "F1325"
          ],
          [
           "F1325"
          ],
          [
           "F1325"
          ],
          [
           "F1325"
          ],
          [
           "F1325"
          ],
          [
           "F1325"
          ],
          [
           "F1325"
          ],
          [
           "F1325"
          ],
          [
           "F1325"
          ],
          [
           "F1325"
          ],
          [
           "F1325"
          ],
          [
           "F1325"
          ],
          [
           "F1325"
          ],
          [
           "F1325"
          ],
          [
           "F1325"
          ],
          [
           "F1325"
          ],
          [
           "F1325"
          ],
          [
           "F1325"
          ],
          [
           "F1325"
          ],
          [
           "F1325"
          ],
          [
           "F1325"
          ],
          [
           "F1325"
          ],
          [
           "F1325"
          ],
          [
           "F1325"
          ],
          [
           "F1325"
          ],
          [
           "F1325"
          ],
          [
           "F1325"
          ],
          [
           "F1325"
          ],
          [
           "F1325"
          ],
          [
           "F1325"
          ],
          [
           "F1325"
          ],
          [
           "F1325"
          ],
          [
           "F1325"
          ],
          [
           "F1325"
          ],
          [
           "F1325"
          ],
          [
           "F1325"
          ],
          [
           "F1325"
          ],
          [
           "F1325"
          ],
          [
           "F1325"
          ],
          [
           "F1325"
          ],
          [
           "F1325"
          ],
          [
           "F1325"
          ],
          [
           "F1325"
          ],
          [
           "F1325"
          ],
          [
           "F1325"
          ],
          [
           "F1325"
          ],
          [
           "F1325"
          ],
          [
           "F1325"
          ],
          [
           "F1325"
          ],
          [
           "F1325"
          ],
          [
           "F1325"
          ],
          [
           "F1325"
          ],
          [
           "F1325"
          ],
          [
           "F1325"
          ],
          [
           "F1325"
          ],
          [
           "F1325"
          ],
          [
           "F1325"
          ],
          [
           "F1325"
          ],
          [
           "F1325"
          ],
          [
           "F1325"
          ],
          [
           "F1325"
          ],
          [
           "F1325"
          ],
          [
           "F1325"
          ],
          [
           "F1325"
          ],
          [
           "F1325"
          ],
          [
           "F1325"
          ],
          [
           "F1325"
          ],
          [
           "F1325"
          ],
          [
           "F1325"
          ],
          [
           "F1325"
          ],
          [
           "F1325"
          ],
          [
           "F1325"
          ],
          [
           "F1325"
          ],
          [
           "F1325"
          ],
          [
           "F1325"
          ],
          [
           "F1325"
          ],
          [
           "F1325"
          ],
          [
           "F1325"
          ],
          [
           "F1325"
          ],
          [
           "F1325"
          ],
          [
           "F1325"
          ],
          [
           "F1325"
          ],
          [
           "F1325"
          ],
          [
           "F1325"
          ],
          [
           "F1325"
          ],
          [
           "F1325"
          ],
          [
           "F1325"
          ],
          [
           "F1325"
          ],
          [
           "F1325"
          ]
         ],
         "hovertemplate": "ID=%{customdata[0]}<br>Second=%{x}<extra></extra>",
         "legendgroup": "F1325",
         "marker": {
          "color": "#750D86"
         },
         "name": "F1325",
         "notched": true,
         "offsetgroup": "F1325",
         "showlegend": false,
         "type": "box",
         "x": [
          33,
          434,
          128,
          508,
          23,
          43,
          22,
          22,
          21,
          22,
          23,
          29,
          726,
          22,
          874,
          27,
          21,
          34,
          101,
          980,
          23,
          811,
          23,
          20,
          1107,
          37,
          998,
          21,
          598,
          767,
          23,
          29,
          2146,
          32,
          20,
          21,
          22,
          20,
          23,
          22,
          22,
          309,
          1657,
          33,
          24,
          33,
          234,
          91,
          140,
          68,
          1138,
          37,
          1297,
          28,
          22,
          21,
          22,
          36,
          482,
          1194,
          21,
          39,
          1241,
          22,
          24,
          22,
          21,
          26,
          21,
          22,
          1451,
          45,
          22,
          168,
          106,
          154,
          87,
          993,
          23,
          1063,
          73,
          40,
          1188,
          23,
          24,
          22,
          22,
          20,
          253,
          938,
          37,
          24,
          23,
          20,
          23,
          1155,
          23,
          866,
          72,
          21,
          31,
          170,
          1122,
          23,
          21,
          33,
          35,
          1365,
          30,
          25,
          36,
          1130,
          24,
          22,
          31,
          308,
          81,
          27,
          1022,
          23,
          511,
          26,
          95,
          870,
          21,
          22,
          358,
          205
         ],
         "xaxis": "x2",
         "yaxis": "y2"
        },
        {
         "alignmentgroup": "True",
         "bingroup": "x",
         "hovertemplate": "ID=F1326<br>Second=%{x}<br>count=%{y}<extra></extra>",
         "legendgroup": "F1326",
         "marker": {
          "color": "#EB663B",
          "pattern": {
           "shape": ""
          }
         },
         "name": "F1326",
         "nbinsx": 288,
         "offsetgroup": "F1326",
         "orientation": "v",
         "showlegend": true,
         "type": "histogram",
         "x": [
          41,
          369,
          23,
          74,
          23,
          22,
          893,
          66,
          45,
          73,
          238,
          26,
          24,
          35,
          38,
          64,
          30,
          54,
          20,
          25,
          25,
          88,
          25,
          85,
          641,
          36,
          25,
          1304,
          122,
          29,
          20,
          203,
          26,
          39,
          34,
          22,
          83,
          20,
          68,
          32,
          78,
          318,
          27,
          21,
          152,
          36,
          108,
          35,
          71,
          21,
          132,
          44,
          1709,
          287,
          160,
          195,
          70,
          205,
          230,
          57,
          25,
          36,
          35,
          799,
          205,
          51,
          65,
          104,
          40,
          25,
          29,
          40,
          50,
          26,
          21,
          30,
          152,
          740,
          44,
          29,
          34,
          49,
          25,
          1124,
          32,
          44,
          75,
          27,
          48,
          36,
          51,
          30,
          23,
          96,
          52,
          110,
          45,
          52,
          22,
          1522,
          22,
          46,
          27,
          39,
          64,
          36,
          63,
          51,
          883,
          34,
          25,
          32,
          46,
          21,
          50,
          773,
          23,
          20,
          33,
          154,
          24,
          34,
          34,
          45,
          46,
          32,
          25,
          56,
          854,
          34,
          93,
          21,
          45,
          66,
          28,
          27,
          160,
          29,
          23,
          83,
          31,
          23,
          92,
          393,
          73,
          367,
          57,
          45,
          40,
          31,
          234,
          873,
          28,
          34,
          117,
          62,
          60,
          47,
          171,
          23,
          156,
          46,
          21,
          128,
          169,
          30,
          171,
          187,
          29,
          49,
          70,
          98,
          77,
          114,
          60,
          186,
          166,
          44,
          36,
          59,
          21,
          33,
          57,
          44,
          202,
          104,
          41,
          140,
          30,
          29,
          103,
          43,
          26,
          27,
          166,
          103,
          1252,
          229,
          37
         ],
         "xaxis": "x",
         "yaxis": "y"
        },
        {
         "alignmentgroup": "True",
         "customdata": [
          [
           "F1326"
          ],
          [
           "F1326"
          ],
          [
           "F1326"
          ],
          [
           "F1326"
          ],
          [
           "F1326"
          ],
          [
           "F1326"
          ],
          [
           "F1326"
          ],
          [
           "F1326"
          ],
          [
           "F1326"
          ],
          [
           "F1326"
          ],
          [
           "F1326"
          ],
          [
           "F1326"
          ],
          [
           "F1326"
          ],
          [
           "F1326"
          ],
          [
           "F1326"
          ],
          [
           "F1326"
          ],
          [
           "F1326"
          ],
          [
           "F1326"
          ],
          [
           "F1326"
          ],
          [
           "F1326"
          ],
          [
           "F1326"
          ],
          [
           "F1326"
          ],
          [
           "F1326"
          ],
          [
           "F1326"
          ],
          [
           "F1326"
          ],
          [
           "F1326"
          ],
          [
           "F1326"
          ],
          [
           "F1326"
          ],
          [
           "F1326"
          ],
          [
           "F1326"
          ],
          [
           "F1326"
          ],
          [
           "F1326"
          ],
          [
           "F1326"
          ],
          [
           "F1326"
          ],
          [
           "F1326"
          ],
          [
           "F1326"
          ],
          [
           "F1326"
          ],
          [
           "F1326"
          ],
          [
           "F1326"
          ],
          [
           "F1326"
          ],
          [
           "F1326"
          ],
          [
           "F1326"
          ],
          [
           "F1326"
          ],
          [
           "F1326"
          ],
          [
           "F1326"
          ],
          [
           "F1326"
          ],
          [
           "F1326"
          ],
          [
           "F1326"
          ],
          [
           "F1326"
          ],
          [
           "F1326"
          ],
          [
           "F1326"
          ],
          [
           "F1326"
          ],
          [
           "F1326"
          ],
          [
           "F1326"
          ],
          [
           "F1326"
          ],
          [
           "F1326"
          ],
          [
           "F1326"
          ],
          [
           "F1326"
          ],
          [
           "F1326"
          ],
          [
           "F1326"
          ],
          [
           "F1326"
          ],
          [
           "F1326"
          ],
          [
           "F1326"
          ],
          [
           "F1326"
          ],
          [
           "F1326"
          ],
          [
           "F1326"
          ],
          [
           "F1326"
          ],
          [
           "F1326"
          ],
          [
           "F1326"
          ],
          [
           "F1326"
          ],
          [
           "F1326"
          ],
          [
           "F1326"
          ],
          [
           "F1326"
          ],
          [
           "F1326"
          ],
          [
           "F1326"
          ],
          [
           "F1326"
          ],
          [
           "F1326"
          ],
          [
           "F1326"
          ],
          [
           "F1326"
          ],
          [
           "F1326"
          ],
          [
           "F1326"
          ],
          [
           "F1326"
          ],
          [
           "F1326"
          ],
          [
           "F1326"
          ],
          [
           "F1326"
          ],
          [
           "F1326"
          ],
          [
           "F1326"
          ],
          [
           "F1326"
          ],
          [
           "F1326"
          ],
          [
           "F1326"
          ],
          [
           "F1326"
          ],
          [
           "F1326"
          ],
          [
           "F1326"
          ],
          [
           "F1326"
          ],
          [
           "F1326"
          ],
          [
           "F1326"
          ],
          [
           "F1326"
          ],
          [
           "F1326"
          ],
          [
           "F1326"
          ],
          [
           "F1326"
          ],
          [
           "F1326"
          ],
          [
           "F1326"
          ],
          [
           "F1326"
          ],
          [
           "F1326"
          ],
          [
           "F1326"
          ],
          [
           "F1326"
          ],
          [
           "F1326"
          ],
          [
           "F1326"
          ],
          [
           "F1326"
          ],
          [
           "F1326"
          ],
          [
           "F1326"
          ],
          [
           "F1326"
          ],
          [
           "F1326"
          ],
          [
           "F1326"
          ],
          [
           "F1326"
          ],
          [
           "F1326"
          ],
          [
           "F1326"
          ],
          [
           "F1326"
          ],
          [
           "F1326"
          ],
          [
           "F1326"
          ],
          [
           "F1326"
          ],
          [
           "F1326"
          ],
          [
           "F1326"
          ],
          [
           "F1326"
          ],
          [
           "F1326"
          ],
          [
           "F1326"
          ],
          [
           "F1326"
          ],
          [
           "F1326"
          ],
          [
           "F1326"
          ],
          [
           "F1326"
          ],
          [
           "F1326"
          ],
          [
           "F1326"
          ],
          [
           "F1326"
          ],
          [
           "F1326"
          ],
          [
           "F1326"
          ],
          [
           "F1326"
          ],
          [
           "F1326"
          ],
          [
           "F1326"
          ],
          [
           "F1326"
          ],
          [
           "F1326"
          ],
          [
           "F1326"
          ],
          [
           "F1326"
          ],
          [
           "F1326"
          ],
          [
           "F1326"
          ],
          [
           "F1326"
          ],
          [
           "F1326"
          ],
          [
           "F1326"
          ],
          [
           "F1326"
          ],
          [
           "F1326"
          ],
          [
           "F1326"
          ],
          [
           "F1326"
          ],
          [
           "F1326"
          ],
          [
           "F1326"
          ],
          [
           "F1326"
          ],
          [
           "F1326"
          ],
          [
           "F1326"
          ],
          [
           "F1326"
          ],
          [
           "F1326"
          ],
          [
           "F1326"
          ],
          [
           "F1326"
          ],
          [
           "F1326"
          ],
          [
           "F1326"
          ],
          [
           "F1326"
          ],
          [
           "F1326"
          ],
          [
           "F1326"
          ],
          [
           "F1326"
          ],
          [
           "F1326"
          ],
          [
           "F1326"
          ],
          [
           "F1326"
          ],
          [
           "F1326"
          ],
          [
           "F1326"
          ],
          [
           "F1326"
          ],
          [
           "F1326"
          ],
          [
           "F1326"
          ],
          [
           "F1326"
          ],
          [
           "F1326"
          ],
          [
           "F1326"
          ],
          [
           "F1326"
          ],
          [
           "F1326"
          ],
          [
           "F1326"
          ],
          [
           "F1326"
          ],
          [
           "F1326"
          ],
          [
           "F1326"
          ],
          [
           "F1326"
          ],
          [
           "F1326"
          ],
          [
           "F1326"
          ],
          [
           "F1326"
          ],
          [
           "F1326"
          ],
          [
           "F1326"
          ],
          [
           "F1326"
          ],
          [
           "F1326"
          ],
          [
           "F1326"
          ],
          [
           "F1326"
          ],
          [
           "F1326"
          ],
          [
           "F1326"
          ],
          [
           "F1326"
          ],
          [
           "F1326"
          ],
          [
           "F1326"
          ],
          [
           "F1326"
          ]
         ],
         "hovertemplate": "ID=%{customdata[0]}<br>Second=%{x}<extra></extra>",
         "legendgroup": "F1326",
         "marker": {
          "color": "#EB663B"
         },
         "name": "F1326",
         "notched": true,
         "offsetgroup": "F1326",
         "showlegend": false,
         "type": "box",
         "x": [
          41,
          369,
          23,
          74,
          23,
          22,
          893,
          66,
          45,
          73,
          238,
          26,
          24,
          35,
          38,
          64,
          30,
          54,
          20,
          25,
          25,
          88,
          25,
          85,
          641,
          36,
          25,
          1304,
          122,
          29,
          20,
          203,
          26,
          39,
          34,
          22,
          83,
          20,
          68,
          32,
          78,
          318,
          27,
          21,
          152,
          36,
          108,
          35,
          71,
          21,
          132,
          44,
          1709,
          287,
          160,
          195,
          70,
          205,
          230,
          57,
          25,
          36,
          35,
          799,
          205,
          51,
          65,
          104,
          40,
          25,
          29,
          40,
          50,
          26,
          21,
          30,
          152,
          740,
          44,
          29,
          34,
          49,
          25,
          1124,
          32,
          44,
          75,
          27,
          48,
          36,
          51,
          30,
          23,
          96,
          52,
          110,
          45,
          52,
          22,
          1522,
          22,
          46,
          27,
          39,
          64,
          36,
          63,
          51,
          883,
          34,
          25,
          32,
          46,
          21,
          50,
          773,
          23,
          20,
          33,
          154,
          24,
          34,
          34,
          45,
          46,
          32,
          25,
          56,
          854,
          34,
          93,
          21,
          45,
          66,
          28,
          27,
          160,
          29,
          23,
          83,
          31,
          23,
          92,
          393,
          73,
          367,
          57,
          45,
          40,
          31,
          234,
          873,
          28,
          34,
          117,
          62,
          60,
          47,
          171,
          23,
          156,
          46,
          21,
          128,
          169,
          30,
          171,
          187,
          29,
          49,
          70,
          98,
          77,
          114,
          60,
          186,
          166,
          44,
          36,
          59,
          21,
          33,
          57,
          44,
          202,
          104,
          41,
          140,
          30,
          29,
          103,
          43,
          26,
          27,
          166,
          103,
          1252,
          229,
          37
         ],
         "xaxis": "x2",
         "yaxis": "y2"
        },
        {
         "alignmentgroup": "True",
         "bingroup": "x",
         "hovertemplate": "ID=F1327<br>Second=%{x}<br>count=%{y}<extra></extra>",
         "legendgroup": "F1327",
         "marker": {
          "color": "#511CFB",
          "pattern": {
           "shape": ""
          }
         },
         "name": "F1327",
         "nbinsx": 288,
         "offsetgroup": "F1327",
         "orientation": "v",
         "showlegend": true,
         "type": "histogram",
         "x": [
          35,
          378,
          1019,
          283,
          457,
          449,
          571,
          599,
          130,
          66,
          568,
          1165,
          417,
          75,
          35,
          1335,
          261,
          655,
          743,
          295,
          1214,
          654,
          396,
          441,
          54,
          653,
          805,
          738,
          1198,
          291,
          571,
          31,
          21,
          739,
          802,
          3999,
          25,
          490,
          38,
          22,
          183,
          859,
          440,
          121,
          373,
          137,
          527,
          794,
          89,
          813,
          440,
          701,
          1058,
          27,
          652,
          608,
          203,
          716,
          100
         ],
         "xaxis": "x",
         "yaxis": "y"
        },
        {
         "alignmentgroup": "True",
         "customdata": [
          [
           "F1327"
          ],
          [
           "F1327"
          ],
          [
           "F1327"
          ],
          [
           "F1327"
          ],
          [
           "F1327"
          ],
          [
           "F1327"
          ],
          [
           "F1327"
          ],
          [
           "F1327"
          ],
          [
           "F1327"
          ],
          [
           "F1327"
          ],
          [
           "F1327"
          ],
          [
           "F1327"
          ],
          [
           "F1327"
          ],
          [
           "F1327"
          ],
          [
           "F1327"
          ],
          [
           "F1327"
          ],
          [
           "F1327"
          ],
          [
           "F1327"
          ],
          [
           "F1327"
          ],
          [
           "F1327"
          ],
          [
           "F1327"
          ],
          [
           "F1327"
          ],
          [
           "F1327"
          ],
          [
           "F1327"
          ],
          [
           "F1327"
          ],
          [
           "F1327"
          ],
          [
           "F1327"
          ],
          [
           "F1327"
          ],
          [
           "F1327"
          ],
          [
           "F1327"
          ],
          [
           "F1327"
          ],
          [
           "F1327"
          ],
          [
           "F1327"
          ],
          [
           "F1327"
          ],
          [
           "F1327"
          ],
          [
           "F1327"
          ],
          [
           "F1327"
          ],
          [
           "F1327"
          ],
          [
           "F1327"
          ],
          [
           "F1327"
          ],
          [
           "F1327"
          ],
          [
           "F1327"
          ],
          [
           "F1327"
          ],
          [
           "F1327"
          ],
          [
           "F1327"
          ],
          [
           "F1327"
          ],
          [
           "F1327"
          ],
          [
           "F1327"
          ],
          [
           "F1327"
          ],
          [
           "F1327"
          ],
          [
           "F1327"
          ],
          [
           "F1327"
          ],
          [
           "F1327"
          ],
          [
           "F1327"
          ],
          [
           "F1327"
          ],
          [
           "F1327"
          ],
          [
           "F1327"
          ],
          [
           "F1327"
          ],
          [
           "F1327"
          ]
         ],
         "hovertemplate": "ID=%{customdata[0]}<br>Second=%{x}<extra></extra>",
         "legendgroup": "F1327",
         "marker": {
          "color": "#511CFB"
         },
         "name": "F1327",
         "notched": true,
         "offsetgroup": "F1327",
         "showlegend": false,
         "type": "box",
         "x": [
          35,
          378,
          1019,
          283,
          457,
          449,
          571,
          599,
          130,
          66,
          568,
          1165,
          417,
          75,
          35,
          1335,
          261,
          655,
          743,
          295,
          1214,
          654,
          396,
          441,
          54,
          653,
          805,
          738,
          1198,
          291,
          571,
          31,
          21,
          739,
          802,
          3999,
          25,
          490,
          38,
          22,
          183,
          859,
          440,
          121,
          373,
          137,
          527,
          794,
          89,
          813,
          440,
          701,
          1058,
          27,
          652,
          608,
          203,
          716,
          100
         ],
         "xaxis": "x2",
         "yaxis": "y2"
        },
        {
         "alignmentgroup": "True",
         "bingroup": "x",
         "hovertemplate": "ID=F1328<br>Second=%{x}<br>count=%{y}<extra></extra>",
         "legendgroup": "F1328",
         "marker": {
          "color": "#00A08B",
          "pattern": {
           "shape": ""
          }
         },
         "name": "F1328",
         "nbinsx": 288,
         "offsetgroup": "F1328",
         "orientation": "v",
         "showlegend": true,
         "type": "histogram",
         "x": [
          78,
          80,
          405,
          355,
          313,
          1158,
          31,
          328,
          815,
          28,
          768,
          34,
          268,
          799,
          37,
          57,
          415,
          1327,
          25,
          57,
          149,
          1168,
          270,
          836,
          332,
          719,
          836,
          114,
          742,
          231,
          893,
          24,
          430,
          783,
          661,
          262,
          1058,
          1209,
          28,
          441,
          1401,
          39,
          25,
          599,
          22,
          876,
          737,
          59,
          976,
          550,
          841,
          604,
          585,
          37,
          29,
          1276,
          101,
          566,
          800,
          459,
          484,
          480,
          20,
          907,
          56,
          847,
          610,
          560,
          280,
          379,
          775,
          26,
          1004,
          25,
          824,
          593,
          611,
          44,
          737,
          289,
          670,
          37,
          757,
          653,
          576,
          450,
          1014
         ],
         "xaxis": "x",
         "yaxis": "y"
        },
        {
         "alignmentgroup": "True",
         "customdata": [
          [
           "F1328"
          ],
          [
           "F1328"
          ],
          [
           "F1328"
          ],
          [
           "F1328"
          ],
          [
           "F1328"
          ],
          [
           "F1328"
          ],
          [
           "F1328"
          ],
          [
           "F1328"
          ],
          [
           "F1328"
          ],
          [
           "F1328"
          ],
          [
           "F1328"
          ],
          [
           "F1328"
          ],
          [
           "F1328"
          ],
          [
           "F1328"
          ],
          [
           "F1328"
          ],
          [
           "F1328"
          ],
          [
           "F1328"
          ],
          [
           "F1328"
          ],
          [
           "F1328"
          ],
          [
           "F1328"
          ],
          [
           "F1328"
          ],
          [
           "F1328"
          ],
          [
           "F1328"
          ],
          [
           "F1328"
          ],
          [
           "F1328"
          ],
          [
           "F1328"
          ],
          [
           "F1328"
          ],
          [
           "F1328"
          ],
          [
           "F1328"
          ],
          [
           "F1328"
          ],
          [
           "F1328"
          ],
          [
           "F1328"
          ],
          [
           "F1328"
          ],
          [
           "F1328"
          ],
          [
           "F1328"
          ],
          [
           "F1328"
          ],
          [
           "F1328"
          ],
          [
           "F1328"
          ],
          [
           "F1328"
          ],
          [
           "F1328"
          ],
          [
           "F1328"
          ],
          [
           "F1328"
          ],
          [
           "F1328"
          ],
          [
           "F1328"
          ],
          [
           "F1328"
          ],
          [
           "F1328"
          ],
          [
           "F1328"
          ],
          [
           "F1328"
          ],
          [
           "F1328"
          ],
          [
           "F1328"
          ],
          [
           "F1328"
          ],
          [
           "F1328"
          ],
          [
           "F1328"
          ],
          [
           "F1328"
          ],
          [
           "F1328"
          ],
          [
           "F1328"
          ],
          [
           "F1328"
          ],
          [
           "F1328"
          ],
          [
           "F1328"
          ],
          [
           "F1328"
          ],
          [
           "F1328"
          ],
          [
           "F1328"
          ],
          [
           "F1328"
          ],
          [
           "F1328"
          ],
          [
           "F1328"
          ],
          [
           "F1328"
          ],
          [
           "F1328"
          ],
          [
           "F1328"
          ],
          [
           "F1328"
          ],
          [
           "F1328"
          ],
          [
           "F1328"
          ],
          [
           "F1328"
          ],
          [
           "F1328"
          ],
          [
           "F1328"
          ],
          [
           "F1328"
          ],
          [
           "F1328"
          ],
          [
           "F1328"
          ],
          [
           "F1328"
          ],
          [
           "F1328"
          ],
          [
           "F1328"
          ],
          [
           "F1328"
          ],
          [
           "F1328"
          ],
          [
           "F1328"
          ],
          [
           "F1328"
          ],
          [
           "F1328"
          ],
          [
           "F1328"
          ],
          [
           "F1328"
          ]
         ],
         "hovertemplate": "ID=%{customdata[0]}<br>Second=%{x}<extra></extra>",
         "legendgroup": "F1328",
         "marker": {
          "color": "#00A08B"
         },
         "name": "F1328",
         "notched": true,
         "offsetgroup": "F1328",
         "showlegend": false,
         "type": "box",
         "x": [
          78,
          80,
          405,
          355,
          313,
          1158,
          31,
          328,
          815,
          28,
          768,
          34,
          268,
          799,
          37,
          57,
          415,
          1327,
          25,
          57,
          149,
          1168,
          270,
          836,
          332,
          719,
          836,
          114,
          742,
          231,
          893,
          24,
          430,
          783,
          661,
          262,
          1058,
          1209,
          28,
          441,
          1401,
          39,
          25,
          599,
          22,
          876,
          737,
          59,
          976,
          550,
          841,
          604,
          585,
          37,
          29,
          1276,
          101,
          566,
          800,
          459,
          484,
          480,
          20,
          907,
          56,
          847,
          610,
          560,
          280,
          379,
          775,
          26,
          1004,
          25,
          824,
          593,
          611,
          44,
          737,
          289,
          670,
          37,
          757,
          653,
          576,
          450,
          1014
         ],
         "xaxis": "x2",
         "yaxis": "y2"
        },
        {
         "alignmentgroup": "True",
         "bingroup": "x",
         "hovertemplate": "ID=F1329<br>Second=%{x}<br>count=%{y}<extra></extra>",
         "legendgroup": "F1329",
         "marker": {
          "color": "#FB00D1",
          "pattern": {
           "shape": ""
          }
         },
         "name": "F1329",
         "nbinsx": 288,
         "offsetgroup": "F1329",
         "orientation": "v",
         "showlegend": true,
         "type": "histogram",
         "x": [
          24,
          1219,
          34,
          590,
          142,
          433,
          30,
          23,
          379,
          21,
          496,
          43,
          607,
          398,
          105,
          351,
          24,
          601,
          30,
          24,
          573,
          26,
          45,
          552,
          24,
          29,
          675,
          33,
          290,
          476,
          128,
          36,
          2183,
          39,
          22,
          25,
          20,
          248,
          377,
          26,
          618,
          137,
          22,
          29,
          321,
          395,
          301,
          171,
          161,
          361,
          390,
          80,
          420,
          62,
          122,
          393,
          25,
          23,
          631,
          35,
          40,
          367,
          25,
          109,
          423,
          46,
          201,
          471,
          208,
          36,
          462,
          33,
          328,
          30,
          153,
          146,
          342,
          113,
          325,
          27,
          344,
          61,
          495,
          24,
          495,
          33,
          28,
          363,
          103,
          409,
          43,
          73,
          670,
          224,
          26,
          218,
          401,
          92,
          52,
          347,
          91,
          54,
          23,
          786,
          54,
          499,
          106,
          470,
          77,
          112,
          175,
          353,
          145,
          380,
          461,
          31,
          270,
          384,
          52,
          349,
          92,
          616,
          34,
          2321,
          241,
          26,
          26,
          59,
          463,
          155,
          323,
          23,
          25,
          474,
          20,
          55,
          180,
          230,
          384,
          34,
          42,
          37,
          443,
          32,
          269,
          260,
          157,
          274,
          375,
          25,
          22,
          185,
          471,
          146,
          155,
          337,
          35,
          544,
          40,
          31,
          79,
          188,
          127,
          441,
          366,
          1084,
          98,
          60,
          171,
          198,
          357,
          26,
          226,
          162,
          322,
          32
         ],
         "xaxis": "x",
         "yaxis": "y"
        },
        {
         "alignmentgroup": "True",
         "customdata": [
          [
           "F1329"
          ],
          [
           "F1329"
          ],
          [
           "F1329"
          ],
          [
           "F1329"
          ],
          [
           "F1329"
          ],
          [
           "F1329"
          ],
          [
           "F1329"
          ],
          [
           "F1329"
          ],
          [
           "F1329"
          ],
          [
           "F1329"
          ],
          [
           "F1329"
          ],
          [
           "F1329"
          ],
          [
           "F1329"
          ],
          [
           "F1329"
          ],
          [
           "F1329"
          ],
          [
           "F1329"
          ],
          [
           "F1329"
          ],
          [
           "F1329"
          ],
          [
           "F1329"
          ],
          [
           "F1329"
          ],
          [
           "F1329"
          ],
          [
           "F1329"
          ],
          [
           "F1329"
          ],
          [
           "F1329"
          ],
          [
           "F1329"
          ],
          [
           "F1329"
          ],
          [
           "F1329"
          ],
          [
           "F1329"
          ],
          [
           "F1329"
          ],
          [
           "F1329"
          ],
          [
           "F1329"
          ],
          [
           "F1329"
          ],
          [
           "F1329"
          ],
          [
           "F1329"
          ],
          [
           "F1329"
          ],
          [
           "F1329"
          ],
          [
           "F1329"
          ],
          [
           "F1329"
          ],
          [
           "F1329"
          ],
          [
           "F1329"
          ],
          [
           "F1329"
          ],
          [
           "F1329"
          ],
          [
           "F1329"
          ],
          [
           "F1329"
          ],
          [
           "F1329"
          ],
          [
           "F1329"
          ],
          [
           "F1329"
          ],
          [
           "F1329"
          ],
          [
           "F1329"
          ],
          [
           "F1329"
          ],
          [
           "F1329"
          ],
          [
           "F1329"
          ],
          [
           "F1329"
          ],
          [
           "F1329"
          ],
          [
           "F1329"
          ],
          [
           "F1329"
          ],
          [
           "F1329"
          ],
          [
           "F1329"
          ],
          [
           "F1329"
          ],
          [
           "F1329"
          ],
          [
           "F1329"
          ],
          [
           "F1329"
          ],
          [
           "F1329"
          ],
          [
           "F1329"
          ],
          [
           "F1329"
          ],
          [
           "F1329"
          ],
          [
           "F1329"
          ],
          [
           "F1329"
          ],
          [
           "F1329"
          ],
          [
           "F1329"
          ],
          [
           "F1329"
          ],
          [
           "F1329"
          ],
          [
           "F1329"
          ],
          [
           "F1329"
          ],
          [
           "F1329"
          ],
          [
           "F1329"
          ],
          [
           "F1329"
          ],
          [
           "F1329"
          ],
          [
           "F1329"
          ],
          [
           "F1329"
          ],
          [
           "F1329"
          ],
          [
           "F1329"
          ],
          [
           "F1329"
          ],
          [
           "F1329"
          ],
          [
           "F1329"
          ],
          [
           "F1329"
          ],
          [
           "F1329"
          ],
          [
           "F1329"
          ],
          [
           "F1329"
          ],
          [
           "F1329"
          ],
          [
           "F1329"
          ],
          [
           "F1329"
          ],
          [
           "F1329"
          ],
          [
           "F1329"
          ],
          [
           "F1329"
          ],
          [
           "F1329"
          ],
          [
           "F1329"
          ],
          [
           "F1329"
          ],
          [
           "F1329"
          ],
          [
           "F1329"
          ],
          [
           "F1329"
          ],
          [
           "F1329"
          ],
          [
           "F1329"
          ],
          [
           "F1329"
          ],
          [
           "F1329"
          ],
          [
           "F1329"
          ],
          [
           "F1329"
          ],
          [
           "F1329"
          ],
          [
           "F1329"
          ],
          [
           "F1329"
          ],
          [
           "F1329"
          ],
          [
           "F1329"
          ],
          [
           "F1329"
          ],
          [
           "F1329"
          ],
          [
           "F1329"
          ],
          [
           "F1329"
          ],
          [
           "F1329"
          ],
          [
           "F1329"
          ],
          [
           "F1329"
          ],
          [
           "F1329"
          ],
          [
           "F1329"
          ],
          [
           "F1329"
          ],
          [
           "F1329"
          ],
          [
           "F1329"
          ],
          [
           "F1329"
          ],
          [
           "F1329"
          ],
          [
           "F1329"
          ],
          [
           "F1329"
          ],
          [
           "F1329"
          ],
          [
           "F1329"
          ],
          [
           "F1329"
          ],
          [
           "F1329"
          ],
          [
           "F1329"
          ],
          [
           "F1329"
          ],
          [
           "F1329"
          ],
          [
           "F1329"
          ],
          [
           "F1329"
          ],
          [
           "F1329"
          ],
          [
           "F1329"
          ],
          [
           "F1329"
          ],
          [
           "F1329"
          ],
          [
           "F1329"
          ],
          [
           "F1329"
          ],
          [
           "F1329"
          ],
          [
           "F1329"
          ],
          [
           "F1329"
          ],
          [
           "F1329"
          ],
          [
           "F1329"
          ],
          [
           "F1329"
          ],
          [
           "F1329"
          ],
          [
           "F1329"
          ],
          [
           "F1329"
          ],
          [
           "F1329"
          ],
          [
           "F1329"
          ],
          [
           "F1329"
          ],
          [
           "F1329"
          ],
          [
           "F1329"
          ],
          [
           "F1329"
          ],
          [
           "F1329"
          ],
          [
           "F1329"
          ],
          [
           "F1329"
          ],
          [
           "F1329"
          ],
          [
           "F1329"
          ],
          [
           "F1329"
          ],
          [
           "F1329"
          ],
          [
           "F1329"
          ],
          [
           "F1329"
          ],
          [
           "F1329"
          ],
          [
           "F1329"
          ],
          [
           "F1329"
          ],
          [
           "F1329"
          ],
          [
           "F1329"
          ],
          [
           "F1329"
          ],
          [
           "F1329"
          ],
          [
           "F1329"
          ],
          [
           "F1329"
          ]
         ],
         "hovertemplate": "ID=%{customdata[0]}<br>Second=%{x}<extra></extra>",
         "legendgroup": "F1329",
         "marker": {
          "color": "#FB00D1"
         },
         "name": "F1329",
         "notched": true,
         "offsetgroup": "F1329",
         "showlegend": false,
         "type": "box",
         "x": [
          24,
          1219,
          34,
          590,
          142,
          433,
          30,
          23,
          379,
          21,
          496,
          43,
          607,
          398,
          105,
          351,
          24,
          601,
          30,
          24,
          573,
          26,
          45,
          552,
          24,
          29,
          675,
          33,
          290,
          476,
          128,
          36,
          2183,
          39,
          22,
          25,
          20,
          248,
          377,
          26,
          618,
          137,
          22,
          29,
          321,
          395,
          301,
          171,
          161,
          361,
          390,
          80,
          420,
          62,
          122,
          393,
          25,
          23,
          631,
          35,
          40,
          367,
          25,
          109,
          423,
          46,
          201,
          471,
          208,
          36,
          462,
          33,
          328,
          30,
          153,
          146,
          342,
          113,
          325,
          27,
          344,
          61,
          495,
          24,
          495,
          33,
          28,
          363,
          103,
          409,
          43,
          73,
          670,
          224,
          26,
          218,
          401,
          92,
          52,
          347,
          91,
          54,
          23,
          786,
          54,
          499,
          106,
          470,
          77,
          112,
          175,
          353,
          145,
          380,
          461,
          31,
          270,
          384,
          52,
          349,
          92,
          616,
          34,
          2321,
          241,
          26,
          26,
          59,
          463,
          155,
          323,
          23,
          25,
          474,
          20,
          55,
          180,
          230,
          384,
          34,
          42,
          37,
          443,
          32,
          269,
          260,
          157,
          274,
          375,
          25,
          22,
          185,
          471,
          146,
          155,
          337,
          35,
          544,
          40,
          31,
          79,
          188,
          127,
          441,
          366,
          1084,
          98,
          60,
          171,
          198,
          357,
          26,
          226,
          162,
          322,
          32
         ],
         "xaxis": "x2",
         "yaxis": "y2"
        },
        {
         "alignmentgroup": "True",
         "bingroup": "x",
         "hovertemplate": "ID=F1330<br>Second=%{x}<br>count=%{y}<extra></extra>",
         "legendgroup": "F1330",
         "marker": {
          "color": "#FC0080",
          "pattern": {
           "shape": ""
          }
         },
         "name": "F1330",
         "nbinsx": 288,
         "offsetgroup": "F1330",
         "orientation": "v",
         "showlegend": true,
         "type": "histogram",
         "x": [
          33,
          429,
          21,
          459,
          415,
          26,
          653,
          449,
          410,
          712,
          49,
          525,
          626,
          401,
          416,
          539,
          528,
          622,
          36,
          706,
          575,
          429,
          27,
          666,
          373,
          649,
          503,
          432,
          262,
          786,
          41,
          158,
          714,
          316,
          510,
          528,
          136,
          568,
          973,
          354,
          568,
          110,
          726,
          555,
          697,
          57,
          616,
          499,
          688,
          623,
          331,
          187,
          533,
          549,
          451,
          332,
          705,
          510,
          434,
          526,
          751,
          33,
          844,
          543,
          650,
          773,
          22,
          519,
          278,
          622,
          75,
          32,
          1142,
          552,
          2059,
          2335,
          52,
          257,
          30,
          663,
          399,
          552,
          316,
          578,
          80,
          964,
          563
         ],
         "xaxis": "x",
         "yaxis": "y"
        },
        {
         "alignmentgroup": "True",
         "customdata": [
          [
           "F1330"
          ],
          [
           "F1330"
          ],
          [
           "F1330"
          ],
          [
           "F1330"
          ],
          [
           "F1330"
          ],
          [
           "F1330"
          ],
          [
           "F1330"
          ],
          [
           "F1330"
          ],
          [
           "F1330"
          ],
          [
           "F1330"
          ],
          [
           "F1330"
          ],
          [
           "F1330"
          ],
          [
           "F1330"
          ],
          [
           "F1330"
          ],
          [
           "F1330"
          ],
          [
           "F1330"
          ],
          [
           "F1330"
          ],
          [
           "F1330"
          ],
          [
           "F1330"
          ],
          [
           "F1330"
          ],
          [
           "F1330"
          ],
          [
           "F1330"
          ],
          [
           "F1330"
          ],
          [
           "F1330"
          ],
          [
           "F1330"
          ],
          [
           "F1330"
          ],
          [
           "F1330"
          ],
          [
           "F1330"
          ],
          [
           "F1330"
          ],
          [
           "F1330"
          ],
          [
           "F1330"
          ],
          [
           "F1330"
          ],
          [
           "F1330"
          ],
          [
           "F1330"
          ],
          [
           "F1330"
          ],
          [
           "F1330"
          ],
          [
           "F1330"
          ],
          [
           "F1330"
          ],
          [
           "F1330"
          ],
          [
           "F1330"
          ],
          [
           "F1330"
          ],
          [
           "F1330"
          ],
          [
           "F1330"
          ],
          [
           "F1330"
          ],
          [
           "F1330"
          ],
          [
           "F1330"
          ],
          [
           "F1330"
          ],
          [
           "F1330"
          ],
          [
           "F1330"
          ],
          [
           "F1330"
          ],
          [
           "F1330"
          ],
          [
           "F1330"
          ],
          [
           "F1330"
          ],
          [
           "F1330"
          ],
          [
           "F1330"
          ],
          [
           "F1330"
          ],
          [
           "F1330"
          ],
          [
           "F1330"
          ],
          [
           "F1330"
          ],
          [
           "F1330"
          ],
          [
           "F1330"
          ],
          [
           "F1330"
          ],
          [
           "F1330"
          ],
          [
           "F1330"
          ],
          [
           "F1330"
          ],
          [
           "F1330"
          ],
          [
           "F1330"
          ],
          [
           "F1330"
          ],
          [
           "F1330"
          ],
          [
           "F1330"
          ],
          [
           "F1330"
          ],
          [
           "F1330"
          ],
          [
           "F1330"
          ],
          [
           "F1330"
          ],
          [
           "F1330"
          ],
          [
           "F1330"
          ],
          [
           "F1330"
          ],
          [
           "F1330"
          ],
          [
           "F1330"
          ],
          [
           "F1330"
          ],
          [
           "F1330"
          ],
          [
           "F1330"
          ],
          [
           "F1330"
          ],
          [
           "F1330"
          ],
          [
           "F1330"
          ],
          [
           "F1330"
          ],
          [
           "F1330"
          ]
         ],
         "hovertemplate": "ID=%{customdata[0]}<br>Second=%{x}<extra></extra>",
         "legendgroup": "F1330",
         "marker": {
          "color": "#FC0080"
         },
         "name": "F1330",
         "notched": true,
         "offsetgroup": "F1330",
         "showlegend": false,
         "type": "box",
         "x": [
          33,
          429,
          21,
          459,
          415,
          26,
          653,
          449,
          410,
          712,
          49,
          525,
          626,
          401,
          416,
          539,
          528,
          622,
          36,
          706,
          575,
          429,
          27,
          666,
          373,
          649,
          503,
          432,
          262,
          786,
          41,
          158,
          714,
          316,
          510,
          528,
          136,
          568,
          973,
          354,
          568,
          110,
          726,
          555,
          697,
          57,
          616,
          499,
          688,
          623,
          331,
          187,
          533,
          549,
          451,
          332,
          705,
          510,
          434,
          526,
          751,
          33,
          844,
          543,
          650,
          773,
          22,
          519,
          278,
          622,
          75,
          32,
          1142,
          552,
          2059,
          2335,
          52,
          257,
          30,
          663,
          399,
          552,
          316,
          578,
          80,
          964,
          563
         ],
         "xaxis": "x2",
         "yaxis": "y2"
        },
        {
         "alignmentgroup": "True",
         "bingroup": "x",
         "hovertemplate": "ID=F1338<br>Second=%{x}<br>count=%{y}<extra></extra>",
         "legendgroup": "F1338",
         "marker": {
          "color": "#B2828D",
          "pattern": {
           "shape": ""
          }
         },
         "name": "F1338",
         "nbinsx": 288,
         "offsetgroup": "F1338",
         "orientation": "v",
         "showlegend": true,
         "type": "histogram",
         "x": [
          856,
          563,
          587,
          23,
          234,
          27,
          50,
          199,
          24,
          342,
          199,
          58,
          52,
          339,
          28,
          55,
          40,
          122,
          63,
          751,
          50,
          25,
          474,
          131,
          158,
          449,
          333,
          190,
          429,
          391,
          544,
          39,
          441,
          109,
          274,
          25,
          707,
          39,
          45,
          154,
          23,
          492,
          326,
          21,
          1267,
          1444,
          1048,
          120,
          578,
          86,
          491,
          53,
          47,
          538,
          26,
          28,
          475,
          911,
          25,
          461,
          116,
          270,
          20,
          628,
          21,
          69,
          375,
          4590,
          1140,
          1524,
          336,
          142,
          534,
          43,
          454,
          77,
          78,
          291,
          26,
          355,
          242,
          567,
          23,
          32,
          559,
          86,
          24,
          89,
          21,
          283,
          628,
          22,
          75,
          137,
          1198,
          372,
          755,
          467,
          668,
          156,
          34,
          198,
          679,
          49,
          30,
          274,
          572,
          30,
          26,
          400,
          458,
          24,
          205,
          407,
          458,
          23,
          23,
          738,
          47,
          24,
          179,
          49,
          523,
          59,
          22,
          349,
          162,
          57,
          773,
          43,
          169,
          185,
          49
         ],
         "xaxis": "x",
         "yaxis": "y"
        },
        {
         "alignmentgroup": "True",
         "customdata": [
          [
           "F1338"
          ],
          [
           "F1338"
          ],
          [
           "F1338"
          ],
          [
           "F1338"
          ],
          [
           "F1338"
          ],
          [
           "F1338"
          ],
          [
           "F1338"
          ],
          [
           "F1338"
          ],
          [
           "F1338"
          ],
          [
           "F1338"
          ],
          [
           "F1338"
          ],
          [
           "F1338"
          ],
          [
           "F1338"
          ],
          [
           "F1338"
          ],
          [
           "F1338"
          ],
          [
           "F1338"
          ],
          [
           "F1338"
          ],
          [
           "F1338"
          ],
          [
           "F1338"
          ],
          [
           "F1338"
          ],
          [
           "F1338"
          ],
          [
           "F1338"
          ],
          [
           "F1338"
          ],
          [
           "F1338"
          ],
          [
           "F1338"
          ],
          [
           "F1338"
          ],
          [
           "F1338"
          ],
          [
           "F1338"
          ],
          [
           "F1338"
          ],
          [
           "F1338"
          ],
          [
           "F1338"
          ],
          [
           "F1338"
          ],
          [
           "F1338"
          ],
          [
           "F1338"
          ],
          [
           "F1338"
          ],
          [
           "F1338"
          ],
          [
           "F1338"
          ],
          [
           "F1338"
          ],
          [
           "F1338"
          ],
          [
           "F1338"
          ],
          [
           "F1338"
          ],
          [
           "F1338"
          ],
          [
           "F1338"
          ],
          [
           "F1338"
          ],
          [
           "F1338"
          ],
          [
           "F1338"
          ],
          [
           "F1338"
          ],
          [
           "F1338"
          ],
          [
           "F1338"
          ],
          [
           "F1338"
          ],
          [
           "F1338"
          ],
          [
           "F1338"
          ],
          [
           "F1338"
          ],
          [
           "F1338"
          ],
          [
           "F1338"
          ],
          [
           "F1338"
          ],
          [
           "F1338"
          ],
          [
           "F1338"
          ],
          [
           "F1338"
          ],
          [
           "F1338"
          ],
          [
           "F1338"
          ],
          [
           "F1338"
          ],
          [
           "F1338"
          ],
          [
           "F1338"
          ],
          [
           "F1338"
          ],
          [
           "F1338"
          ],
          [
           "F1338"
          ],
          [
           "F1338"
          ],
          [
           "F1338"
          ],
          [
           "F1338"
          ],
          [
           "F1338"
          ],
          [
           "F1338"
          ],
          [
           "F1338"
          ],
          [
           "F1338"
          ],
          [
           "F1338"
          ],
          [
           "F1338"
          ],
          [
           "F1338"
          ],
          [
           "F1338"
          ],
          [
           "F1338"
          ],
          [
           "F1338"
          ],
          [
           "F1338"
          ],
          [
           "F1338"
          ],
          [
           "F1338"
          ],
          [
           "F1338"
          ],
          [
           "F1338"
          ],
          [
           "F1338"
          ],
          [
           "F1338"
          ],
          [
           "F1338"
          ],
          [
           "F1338"
          ],
          [
           "F1338"
          ],
          [
           "F1338"
          ],
          [
           "F1338"
          ],
          [
           "F1338"
          ],
          [
           "F1338"
          ],
          [
           "F1338"
          ],
          [
           "F1338"
          ],
          [
           "F1338"
          ],
          [
           "F1338"
          ],
          [
           "F1338"
          ],
          [
           "F1338"
          ],
          [
           "F1338"
          ],
          [
           "F1338"
          ],
          [
           "F1338"
          ],
          [
           "F1338"
          ],
          [
           "F1338"
          ],
          [
           "F1338"
          ],
          [
           "F1338"
          ],
          [
           "F1338"
          ],
          [
           "F1338"
          ],
          [
           "F1338"
          ],
          [
           "F1338"
          ],
          [
           "F1338"
          ],
          [
           "F1338"
          ],
          [
           "F1338"
          ],
          [
           "F1338"
          ],
          [
           "F1338"
          ],
          [
           "F1338"
          ],
          [
           "F1338"
          ],
          [
           "F1338"
          ],
          [
           "F1338"
          ],
          [
           "F1338"
          ],
          [
           "F1338"
          ],
          [
           "F1338"
          ],
          [
           "F1338"
          ],
          [
           "F1338"
          ],
          [
           "F1338"
          ],
          [
           "F1338"
          ],
          [
           "F1338"
          ],
          [
           "F1338"
          ],
          [
           "F1338"
          ],
          [
           "F1338"
          ],
          [
           "F1338"
          ],
          [
           "F1338"
          ]
         ],
         "hovertemplate": "ID=%{customdata[0]}<br>Second=%{x}<extra></extra>",
         "legendgroup": "F1338",
         "marker": {
          "color": "#B2828D"
         },
         "name": "F1338",
         "notched": true,
         "offsetgroup": "F1338",
         "showlegend": false,
         "type": "box",
         "x": [
          856,
          563,
          587,
          23,
          234,
          27,
          50,
          199,
          24,
          342,
          199,
          58,
          52,
          339,
          28,
          55,
          40,
          122,
          63,
          751,
          50,
          25,
          474,
          131,
          158,
          449,
          333,
          190,
          429,
          391,
          544,
          39,
          441,
          109,
          274,
          25,
          707,
          39,
          45,
          154,
          23,
          492,
          326,
          21,
          1267,
          1444,
          1048,
          120,
          578,
          86,
          491,
          53,
          47,
          538,
          26,
          28,
          475,
          911,
          25,
          461,
          116,
          270,
          20,
          628,
          21,
          69,
          375,
          4590,
          1140,
          1524,
          336,
          142,
          534,
          43,
          454,
          77,
          78,
          291,
          26,
          355,
          242,
          567,
          23,
          32,
          559,
          86,
          24,
          89,
          21,
          283,
          628,
          22,
          75,
          137,
          1198,
          372,
          755,
          467,
          668,
          156,
          34,
          198,
          679,
          49,
          30,
          274,
          572,
          30,
          26,
          400,
          458,
          24,
          205,
          407,
          458,
          23,
          23,
          738,
          47,
          24,
          179,
          49,
          523,
          59,
          22,
          349,
          162,
          57,
          773,
          43,
          169,
          185,
          49
         ],
         "xaxis": "x2",
         "yaxis": "y2"
        },
        {
         "alignmentgroup": "True",
         "bingroup": "x",
         "hovertemplate": "ID=M1351<br>Second=%{x}<br>count=%{y}<extra></extra>",
         "legendgroup": "M1351",
         "marker": {
          "color": "#6C7C32",
          "pattern": {
           "shape": ""
          }
         },
         "name": "M1351",
         "nbinsx": 288,
         "offsetgroup": "M1351",
         "orientation": "v",
         "showlegend": true,
         "type": "histogram",
         "x": [
          707,
          593,
          935,
          82,
          907,
          854,
          34,
          577,
          676,
          1066,
          21,
          1328,
          26,
          1558,
          34,
          931,
          705,
          539,
          1148,
          628,
          763,
          2309,
          116,
          683,
          35,
          630,
          708,
          717,
          545,
          80,
          1052,
          28,
          656,
          856,
          794,
          552,
          650,
          454,
          1092,
          55,
          974,
          681,
          386,
          602,
          730,
          832,
          581,
          625,
          648,
          747,
          3494,
          25,
          841,
          685,
          589,
          487,
          564,
          699,
          701,
          679
         ],
         "xaxis": "x",
         "yaxis": "y"
        },
        {
         "alignmentgroup": "True",
         "customdata": [
          [
           "M1351"
          ],
          [
           "M1351"
          ],
          [
           "M1351"
          ],
          [
           "M1351"
          ],
          [
           "M1351"
          ],
          [
           "M1351"
          ],
          [
           "M1351"
          ],
          [
           "M1351"
          ],
          [
           "M1351"
          ],
          [
           "M1351"
          ],
          [
           "M1351"
          ],
          [
           "M1351"
          ],
          [
           "M1351"
          ],
          [
           "M1351"
          ],
          [
           "M1351"
          ],
          [
           "M1351"
          ],
          [
           "M1351"
          ],
          [
           "M1351"
          ],
          [
           "M1351"
          ],
          [
           "M1351"
          ],
          [
           "M1351"
          ],
          [
           "M1351"
          ],
          [
           "M1351"
          ],
          [
           "M1351"
          ],
          [
           "M1351"
          ],
          [
           "M1351"
          ],
          [
           "M1351"
          ],
          [
           "M1351"
          ],
          [
           "M1351"
          ],
          [
           "M1351"
          ],
          [
           "M1351"
          ],
          [
           "M1351"
          ],
          [
           "M1351"
          ],
          [
           "M1351"
          ],
          [
           "M1351"
          ],
          [
           "M1351"
          ],
          [
           "M1351"
          ],
          [
           "M1351"
          ],
          [
           "M1351"
          ],
          [
           "M1351"
          ],
          [
           "M1351"
          ],
          [
           "M1351"
          ],
          [
           "M1351"
          ],
          [
           "M1351"
          ],
          [
           "M1351"
          ],
          [
           "M1351"
          ],
          [
           "M1351"
          ],
          [
           "M1351"
          ],
          [
           "M1351"
          ],
          [
           "M1351"
          ],
          [
           "M1351"
          ],
          [
           "M1351"
          ],
          [
           "M1351"
          ],
          [
           "M1351"
          ],
          [
           "M1351"
          ],
          [
           "M1351"
          ],
          [
           "M1351"
          ],
          [
           "M1351"
          ],
          [
           "M1351"
          ],
          [
           "M1351"
          ]
         ],
         "hovertemplate": "ID=%{customdata[0]}<br>Second=%{x}<extra></extra>",
         "legendgroup": "M1351",
         "marker": {
          "color": "#6C7C32"
         },
         "name": "M1351",
         "notched": true,
         "offsetgroup": "M1351",
         "showlegend": false,
         "type": "box",
         "x": [
          707,
          593,
          935,
          82,
          907,
          854,
          34,
          577,
          676,
          1066,
          21,
          1328,
          26,
          1558,
          34,
          931,
          705,
          539,
          1148,
          628,
          763,
          2309,
          116,
          683,
          35,
          630,
          708,
          717,
          545,
          80,
          1052,
          28,
          656,
          856,
          794,
          552,
          650,
          454,
          1092,
          55,
          974,
          681,
          386,
          602,
          730,
          832,
          581,
          625,
          648,
          747,
          3494,
          25,
          841,
          685,
          589,
          487,
          564,
          699,
          701,
          679
         ],
         "xaxis": "x2",
         "yaxis": "y2"
        },
        {
         "alignmentgroup": "True",
         "bingroup": "x",
         "hovertemplate": "ID=M1352<br>Second=%{x}<br>count=%{y}<extra></extra>",
         "legendgroup": "M1352",
         "marker": {
          "color": "#778AAE",
          "pattern": {
           "shape": ""
          }
         },
         "name": "M1352",
         "nbinsx": 288,
         "offsetgroup": "M1352",
         "orientation": "v",
         "showlegend": true,
         "type": "histogram",
         "x": [
          42,
          609,
          23,
          28,
          98,
          116,
          26,
          24,
          184,
          20,
          85,
          108,
          1114,
          429,
          580,
          518,
          26,
          26,
          248,
          23,
          1101,
          28,
          505,
          923,
          29,
          32,
          1995,
          25,
          147,
          135,
          232,
          1122,
          588,
          32,
          1690,
          2437,
          76,
          178,
          28,
          48,
          537,
          33,
          106,
          23,
          58,
          45,
          1054,
          54,
          832,
          20,
          47,
          1029,
          601,
          66,
          28,
          37,
          1606,
          181,
          22,
          52,
          1252,
          22,
          68,
          28,
          30,
          1157,
          60,
          20,
          23,
          44,
          1316,
          52,
          23,
          130,
          1610,
          43,
          22
         ],
         "xaxis": "x",
         "yaxis": "y"
        },
        {
         "alignmentgroup": "True",
         "customdata": [
          [
           "M1352"
          ],
          [
           "M1352"
          ],
          [
           "M1352"
          ],
          [
           "M1352"
          ],
          [
           "M1352"
          ],
          [
           "M1352"
          ],
          [
           "M1352"
          ],
          [
           "M1352"
          ],
          [
           "M1352"
          ],
          [
           "M1352"
          ],
          [
           "M1352"
          ],
          [
           "M1352"
          ],
          [
           "M1352"
          ],
          [
           "M1352"
          ],
          [
           "M1352"
          ],
          [
           "M1352"
          ],
          [
           "M1352"
          ],
          [
           "M1352"
          ],
          [
           "M1352"
          ],
          [
           "M1352"
          ],
          [
           "M1352"
          ],
          [
           "M1352"
          ],
          [
           "M1352"
          ],
          [
           "M1352"
          ],
          [
           "M1352"
          ],
          [
           "M1352"
          ],
          [
           "M1352"
          ],
          [
           "M1352"
          ],
          [
           "M1352"
          ],
          [
           "M1352"
          ],
          [
           "M1352"
          ],
          [
           "M1352"
          ],
          [
           "M1352"
          ],
          [
           "M1352"
          ],
          [
           "M1352"
          ],
          [
           "M1352"
          ],
          [
           "M1352"
          ],
          [
           "M1352"
          ],
          [
           "M1352"
          ],
          [
           "M1352"
          ],
          [
           "M1352"
          ],
          [
           "M1352"
          ],
          [
           "M1352"
          ],
          [
           "M1352"
          ],
          [
           "M1352"
          ],
          [
           "M1352"
          ],
          [
           "M1352"
          ],
          [
           "M1352"
          ],
          [
           "M1352"
          ],
          [
           "M1352"
          ],
          [
           "M1352"
          ],
          [
           "M1352"
          ],
          [
           "M1352"
          ],
          [
           "M1352"
          ],
          [
           "M1352"
          ],
          [
           "M1352"
          ],
          [
           "M1352"
          ],
          [
           "M1352"
          ],
          [
           "M1352"
          ],
          [
           "M1352"
          ],
          [
           "M1352"
          ],
          [
           "M1352"
          ],
          [
           "M1352"
          ],
          [
           "M1352"
          ],
          [
           "M1352"
          ],
          [
           "M1352"
          ],
          [
           "M1352"
          ],
          [
           "M1352"
          ],
          [
           "M1352"
          ],
          [
           "M1352"
          ],
          [
           "M1352"
          ],
          [
           "M1352"
          ],
          [
           "M1352"
          ],
          [
           "M1352"
          ],
          [
           "M1352"
          ],
          [
           "M1352"
          ],
          [
           "M1352"
          ]
         ],
         "hovertemplate": "ID=%{customdata[0]}<br>Second=%{x}<extra></extra>",
         "legendgroup": "M1352",
         "marker": {
          "color": "#778AAE"
         },
         "name": "M1352",
         "notched": true,
         "offsetgroup": "M1352",
         "showlegend": false,
         "type": "box",
         "x": [
          42,
          609,
          23,
          28,
          98,
          116,
          26,
          24,
          184,
          20,
          85,
          108,
          1114,
          429,
          580,
          518,
          26,
          26,
          248,
          23,
          1101,
          28,
          505,
          923,
          29,
          32,
          1995,
          25,
          147,
          135,
          232,
          1122,
          588,
          32,
          1690,
          2437,
          76,
          178,
          28,
          48,
          537,
          33,
          106,
          23,
          58,
          45,
          1054,
          54,
          832,
          20,
          47,
          1029,
          601,
          66,
          28,
          37,
          1606,
          181,
          22,
          52,
          1252,
          22,
          68,
          28,
          30,
          1157,
          60,
          20,
          23,
          44,
          1316,
          52,
          23,
          130,
          1610,
          43,
          22
         ],
         "xaxis": "x2",
         "yaxis": "y2"
        }
       ],
       "layout": {
        "autosize": false,
        "barmode": "relative",
        "height": 700,
        "legend": {
         "title": {
          "text": "ID"
         },
         "tracegroupgap": 0
        },
        "margin": {
         "b": 100,
         "l": 50,
         "pad": 4,
         "r": 50,
         "t": 100
        },
        "template": {
         "data": {
          "bar": [
           {
            "error_x": {
             "color": "#2a3f5f"
            },
            "error_y": {
             "color": "#2a3f5f"
            },
            "marker": {
             "line": {
              "color": "#E5ECF6",
              "width": 0.5
             },
             "pattern": {
              "fillmode": "overlay",
              "size": 10,
              "solidity": 0.2
             }
            },
            "type": "bar"
           }
          ],
          "barpolar": [
           {
            "marker": {
             "line": {
              "color": "#E5ECF6",
              "width": 0.5
             },
             "pattern": {
              "fillmode": "overlay",
              "size": 10,
              "solidity": 0.2
             }
            },
            "type": "barpolar"
           }
          ],
          "carpet": [
           {
            "aaxis": {
             "endlinecolor": "#2a3f5f",
             "gridcolor": "white",
             "linecolor": "white",
             "minorgridcolor": "white",
             "startlinecolor": "#2a3f5f"
            },
            "baxis": {
             "endlinecolor": "#2a3f5f",
             "gridcolor": "white",
             "linecolor": "white",
             "minorgridcolor": "white",
             "startlinecolor": "#2a3f5f"
            },
            "type": "carpet"
           }
          ],
          "choropleth": [
           {
            "colorbar": {
             "outlinewidth": 0,
             "ticks": ""
            },
            "type": "choropleth"
           }
          ],
          "contour": [
           {
            "colorbar": {
             "outlinewidth": 0,
             "ticks": ""
            },
            "colorscale": [
             [
              0,
              "#0d0887"
             ],
             [
              0.1111111111111111,
              "#46039f"
             ],
             [
              0.2222222222222222,
              "#7201a8"
             ],
             [
              0.3333333333333333,
              "#9c179e"
             ],
             [
              0.4444444444444444,
              "#bd3786"
             ],
             [
              0.5555555555555556,
              "#d8576b"
             ],
             [
              0.6666666666666666,
              "#ed7953"
             ],
             [
              0.7777777777777778,
              "#fb9f3a"
             ],
             [
              0.8888888888888888,
              "#fdca26"
             ],
             [
              1,
              "#f0f921"
             ]
            ],
            "type": "contour"
           }
          ],
          "contourcarpet": [
           {
            "colorbar": {
             "outlinewidth": 0,
             "ticks": ""
            },
            "type": "contourcarpet"
           }
          ],
          "heatmap": [
           {
            "colorbar": {
             "outlinewidth": 0,
             "ticks": ""
            },
            "colorscale": [
             [
              0,
              "#0d0887"
             ],
             [
              0.1111111111111111,
              "#46039f"
             ],
             [
              0.2222222222222222,
              "#7201a8"
             ],
             [
              0.3333333333333333,
              "#9c179e"
             ],
             [
              0.4444444444444444,
              "#bd3786"
             ],
             [
              0.5555555555555556,
              "#d8576b"
             ],
             [
              0.6666666666666666,
              "#ed7953"
             ],
             [
              0.7777777777777778,
              "#fb9f3a"
             ],
             [
              0.8888888888888888,
              "#fdca26"
             ],
             [
              1,
              "#f0f921"
             ]
            ],
            "type": "heatmap"
           }
          ],
          "heatmapgl": [
           {
            "colorbar": {
             "outlinewidth": 0,
             "ticks": ""
            },
            "colorscale": [
             [
              0,
              "#0d0887"
             ],
             [
              0.1111111111111111,
              "#46039f"
             ],
             [
              0.2222222222222222,
              "#7201a8"
             ],
             [
              0.3333333333333333,
              "#9c179e"
             ],
             [
              0.4444444444444444,
              "#bd3786"
             ],
             [
              0.5555555555555556,
              "#d8576b"
             ],
             [
              0.6666666666666666,
              "#ed7953"
             ],
             [
              0.7777777777777778,
              "#fb9f3a"
             ],
             [
              0.8888888888888888,
              "#fdca26"
             ],
             [
              1,
              "#f0f921"
             ]
            ],
            "type": "heatmapgl"
           }
          ],
          "histogram": [
           {
            "marker": {
             "pattern": {
              "fillmode": "overlay",
              "size": 10,
              "solidity": 0.2
             }
            },
            "type": "histogram"
           }
          ],
          "histogram2d": [
           {
            "colorbar": {
             "outlinewidth": 0,
             "ticks": ""
            },
            "colorscale": [
             [
              0,
              "#0d0887"
             ],
             [
              0.1111111111111111,
              "#46039f"
             ],
             [
              0.2222222222222222,
              "#7201a8"
             ],
             [
              0.3333333333333333,
              "#9c179e"
             ],
             [
              0.4444444444444444,
              "#bd3786"
             ],
             [
              0.5555555555555556,
              "#d8576b"
             ],
             [
              0.6666666666666666,
              "#ed7953"
             ],
             [
              0.7777777777777778,
              "#fb9f3a"
             ],
             [
              0.8888888888888888,
              "#fdca26"
             ],
             [
              1,
              "#f0f921"
             ]
            ],
            "type": "histogram2d"
           }
          ],
          "histogram2dcontour": [
           {
            "colorbar": {
             "outlinewidth": 0,
             "ticks": ""
            },
            "colorscale": [
             [
              0,
              "#0d0887"
             ],
             [
              0.1111111111111111,
              "#46039f"
             ],
             [
              0.2222222222222222,
              "#7201a8"
             ],
             [
              0.3333333333333333,
              "#9c179e"
             ],
             [
              0.4444444444444444,
              "#bd3786"
             ],
             [
              0.5555555555555556,
              "#d8576b"
             ],
             [
              0.6666666666666666,
              "#ed7953"
             ],
             [
              0.7777777777777778,
              "#fb9f3a"
             ],
             [
              0.8888888888888888,
              "#fdca26"
             ],
             [
              1,
              "#f0f921"
             ]
            ],
            "type": "histogram2dcontour"
           }
          ],
          "mesh3d": [
           {
            "colorbar": {
             "outlinewidth": 0,
             "ticks": ""
            },
            "type": "mesh3d"
           }
          ],
          "parcoords": [
           {
            "line": {
             "colorbar": {
              "outlinewidth": 0,
              "ticks": ""
             }
            },
            "type": "parcoords"
           }
          ],
          "pie": [
           {
            "automargin": true,
            "type": "pie"
           }
          ],
          "scatter": [
           {
            "marker": {
             "colorbar": {
              "outlinewidth": 0,
              "ticks": ""
             }
            },
            "type": "scatter"
           }
          ],
          "scatter3d": [
           {
            "line": {
             "colorbar": {
              "outlinewidth": 0,
              "ticks": ""
             }
            },
            "marker": {
             "colorbar": {
              "outlinewidth": 0,
              "ticks": ""
             }
            },
            "type": "scatter3d"
           }
          ],
          "scattercarpet": [
           {
            "marker": {
             "colorbar": {
              "outlinewidth": 0,
              "ticks": ""
             }
            },
            "type": "scattercarpet"
           }
          ],
          "scattergeo": [
           {
            "marker": {
             "colorbar": {
              "outlinewidth": 0,
              "ticks": ""
             }
            },
            "type": "scattergeo"
           }
          ],
          "scattergl": [
           {
            "marker": {
             "colorbar": {
              "outlinewidth": 0,
              "ticks": ""
             }
            },
            "type": "scattergl"
           }
          ],
          "scattermapbox": [
           {
            "marker": {
             "colorbar": {
              "outlinewidth": 0,
              "ticks": ""
             }
            },
            "type": "scattermapbox"
           }
          ],
          "scatterpolar": [
           {
            "marker": {
             "colorbar": {
              "outlinewidth": 0,
              "ticks": ""
             }
            },
            "type": "scatterpolar"
           }
          ],
          "scatterpolargl": [
           {
            "marker": {
             "colorbar": {
              "outlinewidth": 0,
              "ticks": ""
             }
            },
            "type": "scatterpolargl"
           }
          ],
          "scatterternary": [
           {
            "marker": {
             "colorbar": {
              "outlinewidth": 0,
              "ticks": ""
             }
            },
            "type": "scatterternary"
           }
          ],
          "surface": [
           {
            "colorbar": {
             "outlinewidth": 0,
             "ticks": ""
            },
            "colorscale": [
             [
              0,
              "#0d0887"
             ],
             [
              0.1111111111111111,
              "#46039f"
             ],
             [
              0.2222222222222222,
              "#7201a8"
             ],
             [
              0.3333333333333333,
              "#9c179e"
             ],
             [
              0.4444444444444444,
              "#bd3786"
             ],
             [
              0.5555555555555556,
              "#d8576b"
             ],
             [
              0.6666666666666666,
              "#ed7953"
             ],
             [
              0.7777777777777778,
              "#fb9f3a"
             ],
             [
              0.8888888888888888,
              "#fdca26"
             ],
             [
              1,
              "#f0f921"
             ]
            ],
            "type": "surface"
           }
          ],
          "table": [
           {
            "cells": {
             "fill": {
              "color": "#EBF0F8"
             },
             "line": {
              "color": "white"
             }
            },
            "header": {
             "fill": {
              "color": "#C8D4E3"
             },
             "line": {
              "color": "white"
             }
            },
            "type": "table"
           }
          ]
         },
         "layout": {
          "annotationdefaults": {
           "arrowcolor": "#2a3f5f",
           "arrowhead": 0,
           "arrowwidth": 1
          },
          "autotypenumbers": "strict",
          "coloraxis": {
           "colorbar": {
            "outlinewidth": 0,
            "ticks": ""
           }
          },
          "colorscale": {
           "diverging": [
            [
             0,
             "#8e0152"
            ],
            [
             0.1,
             "#c51b7d"
            ],
            [
             0.2,
             "#de77ae"
            ],
            [
             0.3,
             "#f1b6da"
            ],
            [
             0.4,
             "#fde0ef"
            ],
            [
             0.5,
             "#f7f7f7"
            ],
            [
             0.6,
             "#e6f5d0"
            ],
            [
             0.7,
             "#b8e186"
            ],
            [
             0.8,
             "#7fbc41"
            ],
            [
             0.9,
             "#4d9221"
            ],
            [
             1,
             "#276419"
            ]
           ],
           "sequential": [
            [
             0,
             "#0d0887"
            ],
            [
             0.1111111111111111,
             "#46039f"
            ],
            [
             0.2222222222222222,
             "#7201a8"
            ],
            [
             0.3333333333333333,
             "#9c179e"
            ],
            [
             0.4444444444444444,
             "#bd3786"
            ],
            [
             0.5555555555555556,
             "#d8576b"
            ],
            [
             0.6666666666666666,
             "#ed7953"
            ],
            [
             0.7777777777777778,
             "#fb9f3a"
            ],
            [
             0.8888888888888888,
             "#fdca26"
            ],
            [
             1,
             "#f0f921"
            ]
           ],
           "sequentialminus": [
            [
             0,
             "#0d0887"
            ],
            [
             0.1111111111111111,
             "#46039f"
            ],
            [
             0.2222222222222222,
             "#7201a8"
            ],
            [
             0.3333333333333333,
             "#9c179e"
            ],
            [
             0.4444444444444444,
             "#bd3786"
            ],
            [
             0.5555555555555556,
             "#d8576b"
            ],
            [
             0.6666666666666666,
             "#ed7953"
            ],
            [
             0.7777777777777778,
             "#fb9f3a"
            ],
            [
             0.8888888888888888,
             "#fdca26"
            ],
            [
             1,
             "#f0f921"
            ]
           ]
          },
          "colorway": [
           "#636efa",
           "#EF553B",
           "#00cc96",
           "#ab63fa",
           "#FFA15A",
           "#19d3f3",
           "#FF6692",
           "#B6E880",
           "#FF97FF",
           "#FECB52"
          ],
          "font": {
           "color": "#2a3f5f"
          },
          "geo": {
           "bgcolor": "white",
           "lakecolor": "white",
           "landcolor": "#E5ECF6",
           "showlakes": true,
           "showland": true,
           "subunitcolor": "white"
          },
          "hoverlabel": {
           "align": "left"
          },
          "hovermode": "closest",
          "mapbox": {
           "style": "light"
          },
          "paper_bgcolor": "white",
          "plot_bgcolor": "#E5ECF6",
          "polar": {
           "angularaxis": {
            "gridcolor": "white",
            "linecolor": "white",
            "ticks": ""
           },
           "bgcolor": "#E5ECF6",
           "radialaxis": {
            "gridcolor": "white",
            "linecolor": "white",
            "ticks": ""
           }
          },
          "scene": {
           "xaxis": {
            "backgroundcolor": "#E5ECF6",
            "gridcolor": "white",
            "gridwidth": 2,
            "linecolor": "white",
            "showbackground": true,
            "ticks": "",
            "zerolinecolor": "white"
           },
           "yaxis": {
            "backgroundcolor": "#E5ECF6",
            "gridcolor": "white",
            "gridwidth": 2,
            "linecolor": "white",
            "showbackground": true,
            "ticks": "",
            "zerolinecolor": "white"
           },
           "zaxis": {
            "backgroundcolor": "#E5ECF6",
            "gridcolor": "white",
            "gridwidth": 2,
            "linecolor": "white",
            "showbackground": true,
            "ticks": "",
            "zerolinecolor": "white"
           }
          },
          "shapedefaults": {
           "line": {
            "color": "#2a3f5f"
           }
          },
          "ternary": {
           "aaxis": {
            "gridcolor": "white",
            "linecolor": "white",
            "ticks": ""
           },
           "baxis": {
            "gridcolor": "white",
            "linecolor": "white",
            "ticks": ""
           },
           "bgcolor": "#E5ECF6",
           "caxis": {
            "gridcolor": "white",
            "linecolor": "white",
            "ticks": ""
           }
          },
          "title": {
           "x": 0.05
          },
          "xaxis": {
           "automargin": true,
           "gridcolor": "white",
           "linecolor": "white",
           "ticks": "",
           "title": {
            "standoff": 15
           },
           "zerolinecolor": "white",
           "zerolinewidth": 2
          },
          "yaxis": {
           "automargin": true,
           "gridcolor": "white",
           "linecolor": "white",
           "ticks": "",
           "title": {
            "standoff": 15
           },
           "zerolinecolor": "white",
           "zerolinewidth": 2
          }
         }
        },
        "title": {
         "text": "Inter-Reward Interval Distribution"
        },
        "width": 900,
        "xaxis": {
         "anchor": "y",
         "domain": [
          0,
          1
         ],
         "title": {
          "text": "Second"
         }
        },
        "xaxis2": {
         "anchor": "y2",
         "domain": [
          0,
          1
         ],
         "matches": "x",
         "showgrid": true,
         "showticklabels": false
        },
        "yaxis": {
         "anchor": "x",
         "domain": [
          0,
          0.7326
         ],
         "title": {
          "text": "count"
         }
        },
        "yaxis2": {
         "anchor": "x2",
         "domain": [
          0.7426,
          1
         ],
         "matches": "y2",
         "showgrid": false,
         "showline": false,
         "showticklabels": false,
         "ticks": ""
        }
       }
      },
      "text/html": [
       "<div>                            <div id=\"19c6445a-ec48-4050-838e-7d6935888859\" class=\"plotly-graph-div\" style=\"height:700px; width:900px;\"></div>            <script type=\"text/javascript\">                require([\"plotly\"], function(Plotly) {                    window.PLOTLYENV=window.PLOTLYENV || {};                                    if (document.getElementById(\"19c6445a-ec48-4050-838e-7d6935888859\")) {                    Plotly.newPlot(                        \"19c6445a-ec48-4050-838e-7d6935888859\",                        [{\"alignmentgroup\":\"True\",\"bingroup\":\"x\",\"hovertemplate\":\"ID=F1317<br>Second=%{x}<br>count=%{y}<extra></extra>\",\"legendgroup\":\"F1317\",\"marker\":{\"color\":\"#2E91E5\",\"pattern\":{\"shape\":\"\"}},\"name\":\"F1317\",\"nbinsx\":288,\"offsetgroup\":\"F1317\",\"orientation\":\"v\",\"showlegend\":true,\"x\":[28.0,37.0,604.0,358.0,77.0,381.0,581.0,32.0,801.0,29.0,25.0,438.0,71.0,600.0,35.0,722.0,614.0,276.0,22.0,749.0,35.0,20.0,38.0,44.0,38.0,50.0,43.0,24.0,144.0,25.0,33.0,38.0,27.0,627.0,75.0,21.0,23.0,45.0,28.0,27.0,26.0,93.0,32.0,30.0,319.0,22.0,29.0,29.0,25.0,22.0,33.0,23.0,24.0,49.0,61.0,28.0,47.0,28.0,46.0,3782.0,34.0,29.0,56.0,3445.0,44.0,1018.0,23.0,52.0,57.0,28.0,123.0,1002.0,40.0,64.0,448.0,513.0,1967.0,55.0,2183.0,100.0,1236.0,582.0,108.0,39.0,83.0,26.0,54.0,48.0,5762.0,145.0,581.0,2839.0,41.0,903.0,974.0,46.0,2167.0,803.0,155.0],\"xaxis\":\"x\",\"yaxis\":\"y\",\"type\":\"histogram\"},{\"alignmentgroup\":\"True\",\"customdata\":[[\"F1317\"],[\"F1317\"],[\"F1317\"],[\"F1317\"],[\"F1317\"],[\"F1317\"],[\"F1317\"],[\"F1317\"],[\"F1317\"],[\"F1317\"],[\"F1317\"],[\"F1317\"],[\"F1317\"],[\"F1317\"],[\"F1317\"],[\"F1317\"],[\"F1317\"],[\"F1317\"],[\"F1317\"],[\"F1317\"],[\"F1317\"],[\"F1317\"],[\"F1317\"],[\"F1317\"],[\"F1317\"],[\"F1317\"],[\"F1317\"],[\"F1317\"],[\"F1317\"],[\"F1317\"],[\"F1317\"],[\"F1317\"],[\"F1317\"],[\"F1317\"],[\"F1317\"],[\"F1317\"],[\"F1317\"],[\"F1317\"],[\"F1317\"],[\"F1317\"],[\"F1317\"],[\"F1317\"],[\"F1317\"],[\"F1317\"],[\"F1317\"],[\"F1317\"],[\"F1317\"],[\"F1317\"],[\"F1317\"],[\"F1317\"],[\"F1317\"],[\"F1317\"],[\"F1317\"],[\"F1317\"],[\"F1317\"],[\"F1317\"],[\"F1317\"],[\"F1317\"],[\"F1317\"],[\"F1317\"],[\"F1317\"],[\"F1317\"],[\"F1317\"],[\"F1317\"],[\"F1317\"],[\"F1317\"],[\"F1317\"],[\"F1317\"],[\"F1317\"],[\"F1317\"],[\"F1317\"],[\"F1317\"],[\"F1317\"],[\"F1317\"],[\"F1317\"],[\"F1317\"],[\"F1317\"],[\"F1317\"],[\"F1317\"],[\"F1317\"],[\"F1317\"],[\"F1317\"],[\"F1317\"],[\"F1317\"],[\"F1317\"],[\"F1317\"],[\"F1317\"],[\"F1317\"],[\"F1317\"],[\"F1317\"],[\"F1317\"],[\"F1317\"],[\"F1317\"],[\"F1317\"],[\"F1317\"],[\"F1317\"],[\"F1317\"],[\"F1317\"],[\"F1317\"]],\"hovertemplate\":\"ID=%{customdata[0]}<br>Second=%{x}<extra></extra>\",\"legendgroup\":\"F1317\",\"marker\":{\"color\":\"#2E91E5\"},\"name\":\"F1317\",\"notched\":true,\"offsetgroup\":\"F1317\",\"showlegend\":false,\"x\":[28.0,37.0,604.0,358.0,77.0,381.0,581.0,32.0,801.0,29.0,25.0,438.0,71.0,600.0,35.0,722.0,614.0,276.0,22.0,749.0,35.0,20.0,38.0,44.0,38.0,50.0,43.0,24.0,144.0,25.0,33.0,38.0,27.0,627.0,75.0,21.0,23.0,45.0,28.0,27.0,26.0,93.0,32.0,30.0,319.0,22.0,29.0,29.0,25.0,22.0,33.0,23.0,24.0,49.0,61.0,28.0,47.0,28.0,46.0,3782.0,34.0,29.0,56.0,3445.0,44.0,1018.0,23.0,52.0,57.0,28.0,123.0,1002.0,40.0,64.0,448.0,513.0,1967.0,55.0,2183.0,100.0,1236.0,582.0,108.0,39.0,83.0,26.0,54.0,48.0,5762.0,145.0,581.0,2839.0,41.0,903.0,974.0,46.0,2167.0,803.0,155.0],\"xaxis\":\"x2\",\"yaxis\":\"y2\",\"type\":\"box\"},{\"alignmentgroup\":\"True\",\"bingroup\":\"x\",\"hovertemplate\":\"ID=F1318<br>Second=%{x}<br>count=%{y}<extra></extra>\",\"legendgroup\":\"F1318\",\"marker\":{\"color\":\"#E15F99\",\"pattern\":{\"shape\":\"\"}},\"name\":\"F1318\",\"nbinsx\":288,\"offsetgroup\":\"F1318\",\"orientation\":\"v\",\"showlegend\":true,\"x\":[452.0,575.0,326.0,245.0,28.0,638.0,30.0,477.0,67.0,527.0,480.0,30.0,619.0,94.0,493.0,392.0,36.0,554.0,600.0,77.0,73.0,708.0,586.0,47.0,562.0,28.0,125.0,154.0,482.0,42.0,480.0,24.0,30.0,731.0,346.0,683.0,21.0,436.0,438.0,485.0,47.0,23.0,559.0,732.0,21.0,684.0,20.0,21.0,27.0,838.0,762.0,39.0,299.0,20.0,705.0,24.0,29.0,816.0,182.0,31.0,817.0,180.0,23.0,676.0,91.0,687.0,337.0,30.0,27.0,577.0,29.0,641.0,935.0,23.0,681.0,27.0,800.0,33.0,622.0,30.0,434.0,226.0,527.0,521.0,697.0,385.0,142.0,272.0,211.0,52.0,459.0,311.0,382.0,27.0,260.0,227.0,58.0,498.0,30.0,843.0,213.0,416.0,613.0,51.0,104.0,358.0,33.0,228.0,553.0,636.0,109.0,481.0,528.0,29.0,381.0,427.0,606.0,194.0,150.0,417.0,552.0,344.0,35.0,486.0,38.0,25.0,421.0,729.0,197.0,31.0,411.0],\"xaxis\":\"x\",\"yaxis\":\"y\",\"type\":\"histogram\"},{\"alignmentgroup\":\"True\",\"customdata\":[[\"F1318\"],[\"F1318\"],[\"F1318\"],[\"F1318\"],[\"F1318\"],[\"F1318\"],[\"F1318\"],[\"F1318\"],[\"F1318\"],[\"F1318\"],[\"F1318\"],[\"F1318\"],[\"F1318\"],[\"F1318\"],[\"F1318\"],[\"F1318\"],[\"F1318\"],[\"F1318\"],[\"F1318\"],[\"F1318\"],[\"F1318\"],[\"F1318\"],[\"F1318\"],[\"F1318\"],[\"F1318\"],[\"F1318\"],[\"F1318\"],[\"F1318\"],[\"F1318\"],[\"F1318\"],[\"F1318\"],[\"F1318\"],[\"F1318\"],[\"F1318\"],[\"F1318\"],[\"F1318\"],[\"F1318\"],[\"F1318\"],[\"F1318\"],[\"F1318\"],[\"F1318\"],[\"F1318\"],[\"F1318\"],[\"F1318\"],[\"F1318\"],[\"F1318\"],[\"F1318\"],[\"F1318\"],[\"F1318\"],[\"F1318\"],[\"F1318\"],[\"F1318\"],[\"F1318\"],[\"F1318\"],[\"F1318\"],[\"F1318\"],[\"F1318\"],[\"F1318\"],[\"F1318\"],[\"F1318\"],[\"F1318\"],[\"F1318\"],[\"F1318\"],[\"F1318\"],[\"F1318\"],[\"F1318\"],[\"F1318\"],[\"F1318\"],[\"F1318\"],[\"F1318\"],[\"F1318\"],[\"F1318\"],[\"F1318\"],[\"F1318\"],[\"F1318\"],[\"F1318\"],[\"F1318\"],[\"F1318\"],[\"F1318\"],[\"F1318\"],[\"F1318\"],[\"F1318\"],[\"F1318\"],[\"F1318\"],[\"F1318\"],[\"F1318\"],[\"F1318\"],[\"F1318\"],[\"F1318\"],[\"F1318\"],[\"F1318\"],[\"F1318\"],[\"F1318\"],[\"F1318\"],[\"F1318\"],[\"F1318\"],[\"F1318\"],[\"F1318\"],[\"F1318\"],[\"F1318\"],[\"F1318\"],[\"F1318\"],[\"F1318\"],[\"F1318\"],[\"F1318\"],[\"F1318\"],[\"F1318\"],[\"F1318\"],[\"F1318\"],[\"F1318\"],[\"F1318\"],[\"F1318\"],[\"F1318\"],[\"F1318\"],[\"F1318\"],[\"F1318\"],[\"F1318\"],[\"F1318\"],[\"F1318\"],[\"F1318\"],[\"F1318\"],[\"F1318\"],[\"F1318\"],[\"F1318\"],[\"F1318\"],[\"F1318\"],[\"F1318\"],[\"F1318\"],[\"F1318\"],[\"F1318\"],[\"F1318\"]],\"hovertemplate\":\"ID=%{customdata[0]}<br>Second=%{x}<extra></extra>\",\"legendgroup\":\"F1318\",\"marker\":{\"color\":\"#E15F99\"},\"name\":\"F1318\",\"notched\":true,\"offsetgroup\":\"F1318\",\"showlegend\":false,\"x\":[452.0,575.0,326.0,245.0,28.0,638.0,30.0,477.0,67.0,527.0,480.0,30.0,619.0,94.0,493.0,392.0,36.0,554.0,600.0,77.0,73.0,708.0,586.0,47.0,562.0,28.0,125.0,154.0,482.0,42.0,480.0,24.0,30.0,731.0,346.0,683.0,21.0,436.0,438.0,485.0,47.0,23.0,559.0,732.0,21.0,684.0,20.0,21.0,27.0,838.0,762.0,39.0,299.0,20.0,705.0,24.0,29.0,816.0,182.0,31.0,817.0,180.0,23.0,676.0,91.0,687.0,337.0,30.0,27.0,577.0,29.0,641.0,935.0,23.0,681.0,27.0,800.0,33.0,622.0,30.0,434.0,226.0,527.0,521.0,697.0,385.0,142.0,272.0,211.0,52.0,459.0,311.0,382.0,27.0,260.0,227.0,58.0,498.0,30.0,843.0,213.0,416.0,613.0,51.0,104.0,358.0,33.0,228.0,553.0,636.0,109.0,481.0,528.0,29.0,381.0,427.0,606.0,194.0,150.0,417.0,552.0,344.0,35.0,486.0,38.0,25.0,421.0,729.0,197.0,31.0,411.0],\"xaxis\":\"x2\",\"yaxis\":\"y2\",\"type\":\"box\"},{\"alignmentgroup\":\"True\",\"bingroup\":\"x\",\"hovertemplate\":\"ID=F1319<br>Second=%{x}<br>count=%{y}<extra></extra>\",\"legendgroup\":\"F1319\",\"marker\":{\"color\":\"#1CA71C\",\"pattern\":{\"shape\":\"\"}},\"name\":\"F1319\",\"nbinsx\":288,\"offsetgroup\":\"F1319\",\"orientation\":\"v\",\"showlegend\":true,\"x\":[38.0,140.0,373.0,105.0,657.0,89.0,673.0,877.0,24.0,208.0,872.0,1066.0,32.0,994.0,617.0,52.0,220.0,774.0,359.0,613.0,21.0,1361.0,26.0,136.0,528.0,39.0,1511.0,543.0,599.0,1104.0,435.0,22.0,1061.0,684.0,31.0,662.0,560.0,747.0,83.0,575.0,818.0,43.0,1264.0,1430.0,40.0,689.0,43.0,1120.0,44.0,794.0,702.0,183.0,853.0,601.0,1220.0,169.0,278.0,727.0,554.0,476.0,583.0,636.0,724.0,43.0,725.0,289.0,745.0,498.0,4508.0],\"xaxis\":\"x\",\"yaxis\":\"y\",\"type\":\"histogram\"},{\"alignmentgroup\":\"True\",\"customdata\":[[\"F1319\"],[\"F1319\"],[\"F1319\"],[\"F1319\"],[\"F1319\"],[\"F1319\"],[\"F1319\"],[\"F1319\"],[\"F1319\"],[\"F1319\"],[\"F1319\"],[\"F1319\"],[\"F1319\"],[\"F1319\"],[\"F1319\"],[\"F1319\"],[\"F1319\"],[\"F1319\"],[\"F1319\"],[\"F1319\"],[\"F1319\"],[\"F1319\"],[\"F1319\"],[\"F1319\"],[\"F1319\"],[\"F1319\"],[\"F1319\"],[\"F1319\"],[\"F1319\"],[\"F1319\"],[\"F1319\"],[\"F1319\"],[\"F1319\"],[\"F1319\"],[\"F1319\"],[\"F1319\"],[\"F1319\"],[\"F1319\"],[\"F1319\"],[\"F1319\"],[\"F1319\"],[\"F1319\"],[\"F1319\"],[\"F1319\"],[\"F1319\"],[\"F1319\"],[\"F1319\"],[\"F1319\"],[\"F1319\"],[\"F1319\"],[\"F1319\"],[\"F1319\"],[\"F1319\"],[\"F1319\"],[\"F1319\"],[\"F1319\"],[\"F1319\"],[\"F1319\"],[\"F1319\"],[\"F1319\"],[\"F1319\"],[\"F1319\"],[\"F1319\"],[\"F1319\"],[\"F1319\"],[\"F1319\"],[\"F1319\"],[\"F1319\"],[\"F1319\"]],\"hovertemplate\":\"ID=%{customdata[0]}<br>Second=%{x}<extra></extra>\",\"legendgroup\":\"F1319\",\"marker\":{\"color\":\"#1CA71C\"},\"name\":\"F1319\",\"notched\":true,\"offsetgroup\":\"F1319\",\"showlegend\":false,\"x\":[38.0,140.0,373.0,105.0,657.0,89.0,673.0,877.0,24.0,208.0,872.0,1066.0,32.0,994.0,617.0,52.0,220.0,774.0,359.0,613.0,21.0,1361.0,26.0,136.0,528.0,39.0,1511.0,543.0,599.0,1104.0,435.0,22.0,1061.0,684.0,31.0,662.0,560.0,747.0,83.0,575.0,818.0,43.0,1264.0,1430.0,40.0,689.0,43.0,1120.0,44.0,794.0,702.0,183.0,853.0,601.0,1220.0,169.0,278.0,727.0,554.0,476.0,583.0,636.0,724.0,43.0,725.0,289.0,745.0,498.0,4508.0],\"xaxis\":\"x2\",\"yaxis\":\"y2\",\"type\":\"box\"},{\"alignmentgroup\":\"True\",\"bingroup\":\"x\",\"hovertemplate\":\"ID=F1321<br>Second=%{x}<br>count=%{y}<extra></extra>\",\"legendgroup\":\"F1321\",\"marker\":{\"color\":\"#FB0D0D\",\"pattern\":{\"shape\":\"\"}},\"name\":\"F1321\",\"nbinsx\":288,\"offsetgroup\":\"F1321\",\"orientation\":\"v\",\"showlegend\":true,\"x\":[609.0,35.0,711.0,136.0,1122.0,150.0,487.0,24.0,532.0,199.0,37.0,431.0,540.0,22.0,4608.0,815.0,1083.0,889.0,44.0,1936.0,1324.0,1170.0,1140.0,1168.0,1114.0,36.0,1424.0,1077.0,24.0,1192.0,47.0,1445.0,838.0,922.0,861.0,1157.0,761.0,780.0,989.0,896.0,954.0,706.0,958.0,1031.0,46.0,1287.0,29.0,36.0,1429.0,1014.0,882.0,959.0],\"xaxis\":\"x\",\"yaxis\":\"y\",\"type\":\"histogram\"},{\"alignmentgroup\":\"True\",\"customdata\":[[\"F1321\"],[\"F1321\"],[\"F1321\"],[\"F1321\"],[\"F1321\"],[\"F1321\"],[\"F1321\"],[\"F1321\"],[\"F1321\"],[\"F1321\"],[\"F1321\"],[\"F1321\"],[\"F1321\"],[\"F1321\"],[\"F1321\"],[\"F1321\"],[\"F1321\"],[\"F1321\"],[\"F1321\"],[\"F1321\"],[\"F1321\"],[\"F1321\"],[\"F1321\"],[\"F1321\"],[\"F1321\"],[\"F1321\"],[\"F1321\"],[\"F1321\"],[\"F1321\"],[\"F1321\"],[\"F1321\"],[\"F1321\"],[\"F1321\"],[\"F1321\"],[\"F1321\"],[\"F1321\"],[\"F1321\"],[\"F1321\"],[\"F1321\"],[\"F1321\"],[\"F1321\"],[\"F1321\"],[\"F1321\"],[\"F1321\"],[\"F1321\"],[\"F1321\"],[\"F1321\"],[\"F1321\"],[\"F1321\"],[\"F1321\"],[\"F1321\"],[\"F1321\"]],\"hovertemplate\":\"ID=%{customdata[0]}<br>Second=%{x}<extra></extra>\",\"legendgroup\":\"F1321\",\"marker\":{\"color\":\"#FB0D0D\"},\"name\":\"F1321\",\"notched\":true,\"offsetgroup\":\"F1321\",\"showlegend\":false,\"x\":[609.0,35.0,711.0,136.0,1122.0,150.0,487.0,24.0,532.0,199.0,37.0,431.0,540.0,22.0,4608.0,815.0,1083.0,889.0,44.0,1936.0,1324.0,1170.0,1140.0,1168.0,1114.0,36.0,1424.0,1077.0,24.0,1192.0,47.0,1445.0,838.0,922.0,861.0,1157.0,761.0,780.0,989.0,896.0,954.0,706.0,958.0,1031.0,46.0,1287.0,29.0,36.0,1429.0,1014.0,882.0,959.0],\"xaxis\":\"x2\",\"yaxis\":\"y2\",\"type\":\"box\"},{\"alignmentgroup\":\"True\",\"bingroup\":\"x\",\"hovertemplate\":\"ID=F1322<br>Second=%{x}<br>count=%{y}<extra></extra>\",\"legendgroup\":\"F1322\",\"marker\":{\"color\":\"#DA16FF\",\"pattern\":{\"shape\":\"\"}},\"name\":\"F1322\",\"nbinsx\":288,\"offsetgroup\":\"F1322\",\"orientation\":\"v\",\"showlegend\":true,\"x\":[1677.0,74.0,223.0,31.0,1560.0,331.0,285.0,2226.0,20.0,311.0,1434.0,122.0,1452.0,547.0,503.0,374.0,1121.0,30.0,565.0,2207.0,40.0,1285.0,477.0,48.0,2819.0,38.0,4948.0,1896.0,26.0,71.0,85.0,2657.0,39.0,35.0,2186.0,64.0,1942.0],\"xaxis\":\"x\",\"yaxis\":\"y\",\"type\":\"histogram\"},{\"alignmentgroup\":\"True\",\"customdata\":[[\"F1322\"],[\"F1322\"],[\"F1322\"],[\"F1322\"],[\"F1322\"],[\"F1322\"],[\"F1322\"],[\"F1322\"],[\"F1322\"],[\"F1322\"],[\"F1322\"],[\"F1322\"],[\"F1322\"],[\"F1322\"],[\"F1322\"],[\"F1322\"],[\"F1322\"],[\"F1322\"],[\"F1322\"],[\"F1322\"],[\"F1322\"],[\"F1322\"],[\"F1322\"],[\"F1322\"],[\"F1322\"],[\"F1322\"],[\"F1322\"],[\"F1322\"],[\"F1322\"],[\"F1322\"],[\"F1322\"],[\"F1322\"],[\"F1322\"],[\"F1322\"],[\"F1322\"],[\"F1322\"],[\"F1322\"]],\"hovertemplate\":\"ID=%{customdata[0]}<br>Second=%{x}<extra></extra>\",\"legendgroup\":\"F1322\",\"marker\":{\"color\":\"#DA16FF\"},\"name\":\"F1322\",\"notched\":true,\"offsetgroup\":\"F1322\",\"showlegend\":false,\"x\":[1677.0,74.0,223.0,31.0,1560.0,331.0,285.0,2226.0,20.0,311.0,1434.0,122.0,1452.0,547.0,503.0,374.0,1121.0,30.0,565.0,2207.0,40.0,1285.0,477.0,48.0,2819.0,38.0,4948.0,1896.0,26.0,71.0,85.0,2657.0,39.0,35.0,2186.0,64.0,1942.0],\"xaxis\":\"x2\",\"yaxis\":\"y2\",\"type\":\"box\"},{\"alignmentgroup\":\"True\",\"bingroup\":\"x\",\"hovertemplate\":\"ID=F1323<br>Second=%{x}<br>count=%{y}<extra></extra>\",\"legendgroup\":\"F1323\",\"marker\":{\"color\":\"#222A2A\",\"pattern\":{\"shape\":\"\"}},\"name\":\"F1323\",\"nbinsx\":288,\"offsetgroup\":\"F1323\",\"orientation\":\"v\",\"showlegend\":true,\"x\":[2874.0,54.0,1141.0,22.0,55.0,2079.0,50.0,910.0,706.0,40.0,867.0,25.0,1528.0,135.0,32.0,29.0,1220.0,33.0,364.0,472.0,831.0,1561.0,943.0,1227.0,403.0,50.0,1247.0,58.0,1498.0,2067.0,29.0,1023.0,1197.0,172.0,1432.0,1194.0,60.0,196.0,55.0,945.0,2498.0,152.0,1444.0,56.0,711.0,1145.0],\"xaxis\":\"x\",\"yaxis\":\"y\",\"type\":\"histogram\"},{\"alignmentgroup\":\"True\",\"customdata\":[[\"F1323\"],[\"F1323\"],[\"F1323\"],[\"F1323\"],[\"F1323\"],[\"F1323\"],[\"F1323\"],[\"F1323\"],[\"F1323\"],[\"F1323\"],[\"F1323\"],[\"F1323\"],[\"F1323\"],[\"F1323\"],[\"F1323\"],[\"F1323\"],[\"F1323\"],[\"F1323\"],[\"F1323\"],[\"F1323\"],[\"F1323\"],[\"F1323\"],[\"F1323\"],[\"F1323\"],[\"F1323\"],[\"F1323\"],[\"F1323\"],[\"F1323\"],[\"F1323\"],[\"F1323\"],[\"F1323\"],[\"F1323\"],[\"F1323\"],[\"F1323\"],[\"F1323\"],[\"F1323\"],[\"F1323\"],[\"F1323\"],[\"F1323\"],[\"F1323\"],[\"F1323\"],[\"F1323\"],[\"F1323\"],[\"F1323\"],[\"F1323\"],[\"F1323\"]],\"hovertemplate\":\"ID=%{customdata[0]}<br>Second=%{x}<extra></extra>\",\"legendgroup\":\"F1323\",\"marker\":{\"color\":\"#222A2A\"},\"name\":\"F1323\",\"notched\":true,\"offsetgroup\":\"F1323\",\"showlegend\":false,\"x\":[2874.0,54.0,1141.0,22.0,55.0,2079.0,50.0,910.0,706.0,40.0,867.0,25.0,1528.0,135.0,32.0,29.0,1220.0,33.0,364.0,472.0,831.0,1561.0,943.0,1227.0,403.0,50.0,1247.0,58.0,1498.0,2067.0,29.0,1023.0,1197.0,172.0,1432.0,1194.0,60.0,196.0,55.0,945.0,2498.0,152.0,1444.0,56.0,711.0,1145.0],\"xaxis\":\"x2\",\"yaxis\":\"y2\",\"type\":\"box\"},{\"alignmentgroup\":\"True\",\"bingroup\":\"x\",\"hovertemplate\":\"ID=F1324<br>Second=%{x}<br>count=%{y}<extra></extra>\",\"legendgroup\":\"F1324\",\"marker\":{\"color\":\"#B68100\",\"pattern\":{\"shape\":\"\"}},\"name\":\"F1324\",\"nbinsx\":288,\"offsetgroup\":\"F1324\",\"orientation\":\"v\",\"showlegend\":true,\"x\":[84.0,105.0,1386.0,183.0,200.0,58.0,340.0,648.0,527.0,335.0,54.0,1175.0,387.0,322.0,142.0,903.0,47.0,490.0,24.0,34.0,1493.0,41.0,1397.0,172.0,981.0,84.0,214.0,368.0,901.0,34.0,1518.0,239.0,24.0,1498.0,402.0,60.0,1065.0,1332.0,37.0,1157.0,902.0,64.0,422.0,1420.0,137.0,37.0,1577.0,1329.0,99.0,1160.0,237.0,659.0,1719.0,33.0,62.0,1196.0,785.0,481.0,29.0,30.0,1600.0,56.0,980.0,28.0,1133.0,21.0,810.0,66.0,1856.0,54.0,97.0,20.0,1127.0,39.0,929.0,49.0,590.0],\"xaxis\":\"x\",\"yaxis\":\"y\",\"type\":\"histogram\"},{\"alignmentgroup\":\"True\",\"customdata\":[[\"F1324\"],[\"F1324\"],[\"F1324\"],[\"F1324\"],[\"F1324\"],[\"F1324\"],[\"F1324\"],[\"F1324\"],[\"F1324\"],[\"F1324\"],[\"F1324\"],[\"F1324\"],[\"F1324\"],[\"F1324\"],[\"F1324\"],[\"F1324\"],[\"F1324\"],[\"F1324\"],[\"F1324\"],[\"F1324\"],[\"F1324\"],[\"F1324\"],[\"F1324\"],[\"F1324\"],[\"F1324\"],[\"F1324\"],[\"F1324\"],[\"F1324\"],[\"F1324\"],[\"F1324\"],[\"F1324\"],[\"F1324\"],[\"F1324\"],[\"F1324\"],[\"F1324\"],[\"F1324\"],[\"F1324\"],[\"F1324\"],[\"F1324\"],[\"F1324\"],[\"F1324\"],[\"F1324\"],[\"F1324\"],[\"F1324\"],[\"F1324\"],[\"F1324\"],[\"F1324\"],[\"F1324\"],[\"F1324\"],[\"F1324\"],[\"F1324\"],[\"F1324\"],[\"F1324\"],[\"F1324\"],[\"F1324\"],[\"F1324\"],[\"F1324\"],[\"F1324\"],[\"F1324\"],[\"F1324\"],[\"F1324\"],[\"F1324\"],[\"F1324\"],[\"F1324\"],[\"F1324\"],[\"F1324\"],[\"F1324\"],[\"F1324\"],[\"F1324\"],[\"F1324\"],[\"F1324\"],[\"F1324\"],[\"F1324\"],[\"F1324\"],[\"F1324\"],[\"F1324\"],[\"F1324\"]],\"hovertemplate\":\"ID=%{customdata[0]}<br>Second=%{x}<extra></extra>\",\"legendgroup\":\"F1324\",\"marker\":{\"color\":\"#B68100\"},\"name\":\"F1324\",\"notched\":true,\"offsetgroup\":\"F1324\",\"showlegend\":false,\"x\":[84.0,105.0,1386.0,183.0,200.0,58.0,340.0,648.0,527.0,335.0,54.0,1175.0,387.0,322.0,142.0,903.0,47.0,490.0,24.0,34.0,1493.0,41.0,1397.0,172.0,981.0,84.0,214.0,368.0,901.0,34.0,1518.0,239.0,24.0,1498.0,402.0,60.0,1065.0,1332.0,37.0,1157.0,902.0,64.0,422.0,1420.0,137.0,37.0,1577.0,1329.0,99.0,1160.0,237.0,659.0,1719.0,33.0,62.0,1196.0,785.0,481.0,29.0,30.0,1600.0,56.0,980.0,28.0,1133.0,21.0,810.0,66.0,1856.0,54.0,97.0,20.0,1127.0,39.0,929.0,49.0,590.0],\"xaxis\":\"x2\",\"yaxis\":\"y2\",\"type\":\"box\"},{\"alignmentgroup\":\"True\",\"bingroup\":\"x\",\"hovertemplate\":\"ID=F1325<br>Second=%{x}<br>count=%{y}<extra></extra>\",\"legendgroup\":\"F1325\",\"marker\":{\"color\":\"#750D86\",\"pattern\":{\"shape\":\"\"}},\"name\":\"F1325\",\"nbinsx\":288,\"offsetgroup\":\"F1325\",\"orientation\":\"v\",\"showlegend\":true,\"x\":[33.0,434.0,128.0,508.0,23.0,43.0,22.0,22.0,21.0,22.0,23.0,29.0,726.0,22.0,874.0,27.0,21.0,34.0,101.0,980.0,23.0,811.0,23.0,20.0,1107.0,37.0,998.0,21.0,598.0,767.0,23.0,29.0,2146.0,32.0,20.0,21.0,22.0,20.0,23.0,22.0,22.0,309.0,1657.0,33.0,24.0,33.0,234.0,91.0,140.0,68.0,1138.0,37.0,1297.0,28.0,22.0,21.0,22.0,36.0,482.0,1194.0,21.0,39.0,1241.0,22.0,24.0,22.0,21.0,26.0,21.0,22.0,1451.0,45.0,22.0,168.0,106.0,154.0,87.0,993.0,23.0,1063.0,73.0,40.0,1188.0,23.0,24.0,22.0,22.0,20.0,253.0,938.0,37.0,24.0,23.0,20.0,23.0,1155.0,23.0,866.0,72.0,21.0,31.0,170.0,1122.0,23.0,21.0,33.0,35.0,1365.0,30.0,25.0,36.0,1130.0,24.0,22.0,31.0,308.0,81.0,27.0,1022.0,23.0,511.0,26.0,95.0,870.0,21.0,22.0,358.0,205.0],\"xaxis\":\"x\",\"yaxis\":\"y\",\"type\":\"histogram\"},{\"alignmentgroup\":\"True\",\"customdata\":[[\"F1325\"],[\"F1325\"],[\"F1325\"],[\"F1325\"],[\"F1325\"],[\"F1325\"],[\"F1325\"],[\"F1325\"],[\"F1325\"],[\"F1325\"],[\"F1325\"],[\"F1325\"],[\"F1325\"],[\"F1325\"],[\"F1325\"],[\"F1325\"],[\"F1325\"],[\"F1325\"],[\"F1325\"],[\"F1325\"],[\"F1325\"],[\"F1325\"],[\"F1325\"],[\"F1325\"],[\"F1325\"],[\"F1325\"],[\"F1325\"],[\"F1325\"],[\"F1325\"],[\"F1325\"],[\"F1325\"],[\"F1325\"],[\"F1325\"],[\"F1325\"],[\"F1325\"],[\"F1325\"],[\"F1325\"],[\"F1325\"],[\"F1325\"],[\"F1325\"],[\"F1325\"],[\"F1325\"],[\"F1325\"],[\"F1325\"],[\"F1325\"],[\"F1325\"],[\"F1325\"],[\"F1325\"],[\"F1325\"],[\"F1325\"],[\"F1325\"],[\"F1325\"],[\"F1325\"],[\"F1325\"],[\"F1325\"],[\"F1325\"],[\"F1325\"],[\"F1325\"],[\"F1325\"],[\"F1325\"],[\"F1325\"],[\"F1325\"],[\"F1325\"],[\"F1325\"],[\"F1325\"],[\"F1325\"],[\"F1325\"],[\"F1325\"],[\"F1325\"],[\"F1325\"],[\"F1325\"],[\"F1325\"],[\"F1325\"],[\"F1325\"],[\"F1325\"],[\"F1325\"],[\"F1325\"],[\"F1325\"],[\"F1325\"],[\"F1325\"],[\"F1325\"],[\"F1325\"],[\"F1325\"],[\"F1325\"],[\"F1325\"],[\"F1325\"],[\"F1325\"],[\"F1325\"],[\"F1325\"],[\"F1325\"],[\"F1325\"],[\"F1325\"],[\"F1325\"],[\"F1325\"],[\"F1325\"],[\"F1325\"],[\"F1325\"],[\"F1325\"],[\"F1325\"],[\"F1325\"],[\"F1325\"],[\"F1325\"],[\"F1325\"],[\"F1325\"],[\"F1325\"],[\"F1325\"],[\"F1325\"],[\"F1325\"],[\"F1325\"],[\"F1325\"],[\"F1325\"],[\"F1325\"],[\"F1325\"],[\"F1325\"],[\"F1325\"],[\"F1325\"],[\"F1325\"],[\"F1325\"],[\"F1325\"],[\"F1325\"],[\"F1325\"],[\"F1325\"],[\"F1325\"],[\"F1325\"],[\"F1325\"],[\"F1325\"],[\"F1325\"],[\"F1325\"]],\"hovertemplate\":\"ID=%{customdata[0]}<br>Second=%{x}<extra></extra>\",\"legendgroup\":\"F1325\",\"marker\":{\"color\":\"#750D86\"},\"name\":\"F1325\",\"notched\":true,\"offsetgroup\":\"F1325\",\"showlegend\":false,\"x\":[33.0,434.0,128.0,508.0,23.0,43.0,22.0,22.0,21.0,22.0,23.0,29.0,726.0,22.0,874.0,27.0,21.0,34.0,101.0,980.0,23.0,811.0,23.0,20.0,1107.0,37.0,998.0,21.0,598.0,767.0,23.0,29.0,2146.0,32.0,20.0,21.0,22.0,20.0,23.0,22.0,22.0,309.0,1657.0,33.0,24.0,33.0,234.0,91.0,140.0,68.0,1138.0,37.0,1297.0,28.0,22.0,21.0,22.0,36.0,482.0,1194.0,21.0,39.0,1241.0,22.0,24.0,22.0,21.0,26.0,21.0,22.0,1451.0,45.0,22.0,168.0,106.0,154.0,87.0,993.0,23.0,1063.0,73.0,40.0,1188.0,23.0,24.0,22.0,22.0,20.0,253.0,938.0,37.0,24.0,23.0,20.0,23.0,1155.0,23.0,866.0,72.0,21.0,31.0,170.0,1122.0,23.0,21.0,33.0,35.0,1365.0,30.0,25.0,36.0,1130.0,24.0,22.0,31.0,308.0,81.0,27.0,1022.0,23.0,511.0,26.0,95.0,870.0,21.0,22.0,358.0,205.0],\"xaxis\":\"x2\",\"yaxis\":\"y2\",\"type\":\"box\"},{\"alignmentgroup\":\"True\",\"bingroup\":\"x\",\"hovertemplate\":\"ID=F1326<br>Second=%{x}<br>count=%{y}<extra></extra>\",\"legendgroup\":\"F1326\",\"marker\":{\"color\":\"#EB663B\",\"pattern\":{\"shape\":\"\"}},\"name\":\"F1326\",\"nbinsx\":288,\"offsetgroup\":\"F1326\",\"orientation\":\"v\",\"showlegend\":true,\"x\":[41.0,369.0,23.0,74.0,23.0,22.0,893.0,66.0,45.0,73.0,238.0,26.0,24.0,35.0,38.0,64.0,30.0,54.0,20.0,25.0,25.0,88.0,25.0,85.0,641.0,36.0,25.0,1304.0,122.0,29.0,20.0,203.0,26.0,39.0,34.0,22.0,83.0,20.0,68.0,32.0,78.0,318.0,27.0,21.0,152.0,36.0,108.0,35.0,71.0,21.0,132.0,44.0,1709.0,287.0,160.0,195.0,70.0,205.0,230.0,57.0,25.0,36.0,35.0,799.0,205.0,51.0,65.0,104.0,40.0,25.0,29.0,40.0,50.0,26.0,21.0,30.0,152.0,740.0,44.0,29.0,34.0,49.0,25.0,1124.0,32.0,44.0,75.0,27.0,48.0,36.0,51.0,30.0,23.0,96.0,52.0,110.0,45.0,52.0,22.0,1522.0,22.0,46.0,27.0,39.0,64.0,36.0,63.0,51.0,883.0,34.0,25.0,32.0,46.0,21.0,50.0,773.0,23.0,20.0,33.0,154.0,24.0,34.0,34.0,45.0,46.0,32.0,25.0,56.0,854.0,34.0,93.0,21.0,45.0,66.0,28.0,27.0,160.0,29.0,23.0,83.0,31.0,23.0,92.0,393.0,73.0,367.0,57.0,45.0,40.0,31.0,234.0,873.0,28.0,34.0,117.0,62.0,60.0,47.0,171.0,23.0,156.0,46.0,21.0,128.0,169.0,30.0,171.0,187.0,29.0,49.0,70.0,98.0,77.0,114.0,60.0,186.0,166.0,44.0,36.0,59.0,21.0,33.0,57.0,44.0,202.0,104.0,41.0,140.0,30.0,29.0,103.0,43.0,26.0,27.0,166.0,103.0,1252.0,229.0,37.0],\"xaxis\":\"x\",\"yaxis\":\"y\",\"type\":\"histogram\"},{\"alignmentgroup\":\"True\",\"customdata\":[[\"F1326\"],[\"F1326\"],[\"F1326\"],[\"F1326\"],[\"F1326\"],[\"F1326\"],[\"F1326\"],[\"F1326\"],[\"F1326\"],[\"F1326\"],[\"F1326\"],[\"F1326\"],[\"F1326\"],[\"F1326\"],[\"F1326\"],[\"F1326\"],[\"F1326\"],[\"F1326\"],[\"F1326\"],[\"F1326\"],[\"F1326\"],[\"F1326\"],[\"F1326\"],[\"F1326\"],[\"F1326\"],[\"F1326\"],[\"F1326\"],[\"F1326\"],[\"F1326\"],[\"F1326\"],[\"F1326\"],[\"F1326\"],[\"F1326\"],[\"F1326\"],[\"F1326\"],[\"F1326\"],[\"F1326\"],[\"F1326\"],[\"F1326\"],[\"F1326\"],[\"F1326\"],[\"F1326\"],[\"F1326\"],[\"F1326\"],[\"F1326\"],[\"F1326\"],[\"F1326\"],[\"F1326\"],[\"F1326\"],[\"F1326\"],[\"F1326\"],[\"F1326\"],[\"F1326\"],[\"F1326\"],[\"F1326\"],[\"F1326\"],[\"F1326\"],[\"F1326\"],[\"F1326\"],[\"F1326\"],[\"F1326\"],[\"F1326\"],[\"F1326\"],[\"F1326\"],[\"F1326\"],[\"F1326\"],[\"F1326\"],[\"F1326\"],[\"F1326\"],[\"F1326\"],[\"F1326\"],[\"F1326\"],[\"F1326\"],[\"F1326\"],[\"F1326\"],[\"F1326\"],[\"F1326\"],[\"F1326\"],[\"F1326\"],[\"F1326\"],[\"F1326\"],[\"F1326\"],[\"F1326\"],[\"F1326\"],[\"F1326\"],[\"F1326\"],[\"F1326\"],[\"F1326\"],[\"F1326\"],[\"F1326\"],[\"F1326\"],[\"F1326\"],[\"F1326\"],[\"F1326\"],[\"F1326\"],[\"F1326\"],[\"F1326\"],[\"F1326\"],[\"F1326\"],[\"F1326\"],[\"F1326\"],[\"F1326\"],[\"F1326\"],[\"F1326\"],[\"F1326\"],[\"F1326\"],[\"F1326\"],[\"F1326\"],[\"F1326\"],[\"F1326\"],[\"F1326\"],[\"F1326\"],[\"F1326\"],[\"F1326\"],[\"F1326\"],[\"F1326\"],[\"F1326\"],[\"F1326\"],[\"F1326\"],[\"F1326\"],[\"F1326\"],[\"F1326\"],[\"F1326\"],[\"F1326\"],[\"F1326\"],[\"F1326\"],[\"F1326\"],[\"F1326\"],[\"F1326\"],[\"F1326\"],[\"F1326\"],[\"F1326\"],[\"F1326\"],[\"F1326\"],[\"F1326\"],[\"F1326\"],[\"F1326\"],[\"F1326\"],[\"F1326\"],[\"F1326\"],[\"F1326\"],[\"F1326\"],[\"F1326\"],[\"F1326\"],[\"F1326\"],[\"F1326\"],[\"F1326\"],[\"F1326\"],[\"F1326\"],[\"F1326\"],[\"F1326\"],[\"F1326\"],[\"F1326\"],[\"F1326\"],[\"F1326\"],[\"F1326\"],[\"F1326\"],[\"F1326\"],[\"F1326\"],[\"F1326\"],[\"F1326\"],[\"F1326\"],[\"F1326\"],[\"F1326\"],[\"F1326\"],[\"F1326\"],[\"F1326\"],[\"F1326\"],[\"F1326\"],[\"F1326\"],[\"F1326\"],[\"F1326\"],[\"F1326\"],[\"F1326\"],[\"F1326\"],[\"F1326\"],[\"F1326\"],[\"F1326\"],[\"F1326\"],[\"F1326\"],[\"F1326\"],[\"F1326\"],[\"F1326\"],[\"F1326\"],[\"F1326\"],[\"F1326\"],[\"F1326\"],[\"F1326\"],[\"F1326\"],[\"F1326\"],[\"F1326\"],[\"F1326\"],[\"F1326\"],[\"F1326\"],[\"F1326\"],[\"F1326\"],[\"F1326\"],[\"F1326\"],[\"F1326\"]],\"hovertemplate\":\"ID=%{customdata[0]}<br>Second=%{x}<extra></extra>\",\"legendgroup\":\"F1326\",\"marker\":{\"color\":\"#EB663B\"},\"name\":\"F1326\",\"notched\":true,\"offsetgroup\":\"F1326\",\"showlegend\":false,\"x\":[41.0,369.0,23.0,74.0,23.0,22.0,893.0,66.0,45.0,73.0,238.0,26.0,24.0,35.0,38.0,64.0,30.0,54.0,20.0,25.0,25.0,88.0,25.0,85.0,641.0,36.0,25.0,1304.0,122.0,29.0,20.0,203.0,26.0,39.0,34.0,22.0,83.0,20.0,68.0,32.0,78.0,318.0,27.0,21.0,152.0,36.0,108.0,35.0,71.0,21.0,132.0,44.0,1709.0,287.0,160.0,195.0,70.0,205.0,230.0,57.0,25.0,36.0,35.0,799.0,205.0,51.0,65.0,104.0,40.0,25.0,29.0,40.0,50.0,26.0,21.0,30.0,152.0,740.0,44.0,29.0,34.0,49.0,25.0,1124.0,32.0,44.0,75.0,27.0,48.0,36.0,51.0,30.0,23.0,96.0,52.0,110.0,45.0,52.0,22.0,1522.0,22.0,46.0,27.0,39.0,64.0,36.0,63.0,51.0,883.0,34.0,25.0,32.0,46.0,21.0,50.0,773.0,23.0,20.0,33.0,154.0,24.0,34.0,34.0,45.0,46.0,32.0,25.0,56.0,854.0,34.0,93.0,21.0,45.0,66.0,28.0,27.0,160.0,29.0,23.0,83.0,31.0,23.0,92.0,393.0,73.0,367.0,57.0,45.0,40.0,31.0,234.0,873.0,28.0,34.0,117.0,62.0,60.0,47.0,171.0,23.0,156.0,46.0,21.0,128.0,169.0,30.0,171.0,187.0,29.0,49.0,70.0,98.0,77.0,114.0,60.0,186.0,166.0,44.0,36.0,59.0,21.0,33.0,57.0,44.0,202.0,104.0,41.0,140.0,30.0,29.0,103.0,43.0,26.0,27.0,166.0,103.0,1252.0,229.0,37.0],\"xaxis\":\"x2\",\"yaxis\":\"y2\",\"type\":\"box\"},{\"alignmentgroup\":\"True\",\"bingroup\":\"x\",\"hovertemplate\":\"ID=F1327<br>Second=%{x}<br>count=%{y}<extra></extra>\",\"legendgroup\":\"F1327\",\"marker\":{\"color\":\"#511CFB\",\"pattern\":{\"shape\":\"\"}},\"name\":\"F1327\",\"nbinsx\":288,\"offsetgroup\":\"F1327\",\"orientation\":\"v\",\"showlegend\":true,\"x\":[35.0,378.0,1019.0,283.0,457.0,449.0,571.0,599.0,130.0,66.0,568.0,1165.0,417.0,75.0,35.0,1335.0,261.0,655.0,743.0,295.0,1214.0,654.0,396.0,441.0,54.0,653.0,805.0,738.0,1198.0,291.0,571.0,31.0,21.0,739.0,802.0,3999.0,25.0,490.0,38.0,22.0,183.0,859.0,440.0,121.0,373.0,137.0,527.0,794.0,89.0,813.0,440.0,701.0,1058.0,27.0,652.0,608.0,203.0,716.0,100.0],\"xaxis\":\"x\",\"yaxis\":\"y\",\"type\":\"histogram\"},{\"alignmentgroup\":\"True\",\"customdata\":[[\"F1327\"],[\"F1327\"],[\"F1327\"],[\"F1327\"],[\"F1327\"],[\"F1327\"],[\"F1327\"],[\"F1327\"],[\"F1327\"],[\"F1327\"],[\"F1327\"],[\"F1327\"],[\"F1327\"],[\"F1327\"],[\"F1327\"],[\"F1327\"],[\"F1327\"],[\"F1327\"],[\"F1327\"],[\"F1327\"],[\"F1327\"],[\"F1327\"],[\"F1327\"],[\"F1327\"],[\"F1327\"],[\"F1327\"],[\"F1327\"],[\"F1327\"],[\"F1327\"],[\"F1327\"],[\"F1327\"],[\"F1327\"],[\"F1327\"],[\"F1327\"],[\"F1327\"],[\"F1327\"],[\"F1327\"],[\"F1327\"],[\"F1327\"],[\"F1327\"],[\"F1327\"],[\"F1327\"],[\"F1327\"],[\"F1327\"],[\"F1327\"],[\"F1327\"],[\"F1327\"],[\"F1327\"],[\"F1327\"],[\"F1327\"],[\"F1327\"],[\"F1327\"],[\"F1327\"],[\"F1327\"],[\"F1327\"],[\"F1327\"],[\"F1327\"],[\"F1327\"],[\"F1327\"]],\"hovertemplate\":\"ID=%{customdata[0]}<br>Second=%{x}<extra></extra>\",\"legendgroup\":\"F1327\",\"marker\":{\"color\":\"#511CFB\"},\"name\":\"F1327\",\"notched\":true,\"offsetgroup\":\"F1327\",\"showlegend\":false,\"x\":[35.0,378.0,1019.0,283.0,457.0,449.0,571.0,599.0,130.0,66.0,568.0,1165.0,417.0,75.0,35.0,1335.0,261.0,655.0,743.0,295.0,1214.0,654.0,396.0,441.0,54.0,653.0,805.0,738.0,1198.0,291.0,571.0,31.0,21.0,739.0,802.0,3999.0,25.0,490.0,38.0,22.0,183.0,859.0,440.0,121.0,373.0,137.0,527.0,794.0,89.0,813.0,440.0,701.0,1058.0,27.0,652.0,608.0,203.0,716.0,100.0],\"xaxis\":\"x2\",\"yaxis\":\"y2\",\"type\":\"box\"},{\"alignmentgroup\":\"True\",\"bingroup\":\"x\",\"hovertemplate\":\"ID=F1328<br>Second=%{x}<br>count=%{y}<extra></extra>\",\"legendgroup\":\"F1328\",\"marker\":{\"color\":\"#00A08B\",\"pattern\":{\"shape\":\"\"}},\"name\":\"F1328\",\"nbinsx\":288,\"offsetgroup\":\"F1328\",\"orientation\":\"v\",\"showlegend\":true,\"x\":[78.0,80.0,405.0,355.0,313.0,1158.0,31.0,328.0,815.0,28.0,768.0,34.0,268.0,799.0,37.0,57.0,415.0,1327.0,25.0,57.0,149.0,1168.0,270.0,836.0,332.0,719.0,836.0,114.0,742.0,231.0,893.0,24.0,430.0,783.0,661.0,262.0,1058.0,1209.0,28.0,441.0,1401.0,39.0,25.0,599.0,22.0,876.0,737.0,59.0,976.0,550.0,841.0,604.0,585.0,37.0,29.0,1276.0,101.0,566.0,800.0,459.0,484.0,480.0,20.0,907.0,56.0,847.0,610.0,560.0,280.0,379.0,775.0,26.0,1004.0,25.0,824.0,593.0,611.0,44.0,737.0,289.0,670.0,37.0,757.0,653.0,576.0,450.0,1014.0],\"xaxis\":\"x\",\"yaxis\":\"y\",\"type\":\"histogram\"},{\"alignmentgroup\":\"True\",\"customdata\":[[\"F1328\"],[\"F1328\"],[\"F1328\"],[\"F1328\"],[\"F1328\"],[\"F1328\"],[\"F1328\"],[\"F1328\"],[\"F1328\"],[\"F1328\"],[\"F1328\"],[\"F1328\"],[\"F1328\"],[\"F1328\"],[\"F1328\"],[\"F1328\"],[\"F1328\"],[\"F1328\"],[\"F1328\"],[\"F1328\"],[\"F1328\"],[\"F1328\"],[\"F1328\"],[\"F1328\"],[\"F1328\"],[\"F1328\"],[\"F1328\"],[\"F1328\"],[\"F1328\"],[\"F1328\"],[\"F1328\"],[\"F1328\"],[\"F1328\"],[\"F1328\"],[\"F1328\"],[\"F1328\"],[\"F1328\"],[\"F1328\"],[\"F1328\"],[\"F1328\"],[\"F1328\"],[\"F1328\"],[\"F1328\"],[\"F1328\"],[\"F1328\"],[\"F1328\"],[\"F1328\"],[\"F1328\"],[\"F1328\"],[\"F1328\"],[\"F1328\"],[\"F1328\"],[\"F1328\"],[\"F1328\"],[\"F1328\"],[\"F1328\"],[\"F1328\"],[\"F1328\"],[\"F1328\"],[\"F1328\"],[\"F1328\"],[\"F1328\"],[\"F1328\"],[\"F1328\"],[\"F1328\"],[\"F1328\"],[\"F1328\"],[\"F1328\"],[\"F1328\"],[\"F1328\"],[\"F1328\"],[\"F1328\"],[\"F1328\"],[\"F1328\"],[\"F1328\"],[\"F1328\"],[\"F1328\"],[\"F1328\"],[\"F1328\"],[\"F1328\"],[\"F1328\"],[\"F1328\"],[\"F1328\"],[\"F1328\"],[\"F1328\"],[\"F1328\"],[\"F1328\"]],\"hovertemplate\":\"ID=%{customdata[0]}<br>Second=%{x}<extra></extra>\",\"legendgroup\":\"F1328\",\"marker\":{\"color\":\"#00A08B\"},\"name\":\"F1328\",\"notched\":true,\"offsetgroup\":\"F1328\",\"showlegend\":false,\"x\":[78.0,80.0,405.0,355.0,313.0,1158.0,31.0,328.0,815.0,28.0,768.0,34.0,268.0,799.0,37.0,57.0,415.0,1327.0,25.0,57.0,149.0,1168.0,270.0,836.0,332.0,719.0,836.0,114.0,742.0,231.0,893.0,24.0,430.0,783.0,661.0,262.0,1058.0,1209.0,28.0,441.0,1401.0,39.0,25.0,599.0,22.0,876.0,737.0,59.0,976.0,550.0,841.0,604.0,585.0,37.0,29.0,1276.0,101.0,566.0,800.0,459.0,484.0,480.0,20.0,907.0,56.0,847.0,610.0,560.0,280.0,379.0,775.0,26.0,1004.0,25.0,824.0,593.0,611.0,44.0,737.0,289.0,670.0,37.0,757.0,653.0,576.0,450.0,1014.0],\"xaxis\":\"x2\",\"yaxis\":\"y2\",\"type\":\"box\"},{\"alignmentgroup\":\"True\",\"bingroup\":\"x\",\"hovertemplate\":\"ID=F1329<br>Second=%{x}<br>count=%{y}<extra></extra>\",\"legendgroup\":\"F1329\",\"marker\":{\"color\":\"#FB00D1\",\"pattern\":{\"shape\":\"\"}},\"name\":\"F1329\",\"nbinsx\":288,\"offsetgroup\":\"F1329\",\"orientation\":\"v\",\"showlegend\":true,\"x\":[24.0,1219.0,34.0,590.0,142.0,433.0,30.0,23.0,379.0,21.0,496.0,43.0,607.0,398.0,105.0,351.0,24.0,601.0,30.0,24.0,573.0,26.0,45.0,552.0,24.0,29.0,675.0,33.0,290.0,476.0,128.0,36.0,2183.0,39.0,22.0,25.0,20.0,248.0,377.0,26.0,618.0,137.0,22.0,29.0,321.0,395.0,301.0,171.0,161.0,361.0,390.0,80.0,420.0,62.0,122.0,393.0,25.0,23.0,631.0,35.0,40.0,367.0,25.0,109.0,423.0,46.0,201.0,471.0,208.0,36.0,462.0,33.0,328.0,30.0,153.0,146.0,342.0,113.0,325.0,27.0,344.0,61.0,495.0,24.0,495.0,33.0,28.0,363.0,103.0,409.0,43.0,73.0,670.0,224.0,26.0,218.0,401.0,92.0,52.0,347.0,91.0,54.0,23.0,786.0,54.0,499.0,106.0,470.0,77.0,112.0,175.0,353.0,145.0,380.0,461.0,31.0,270.0,384.0,52.0,349.0,92.0,616.0,34.0,2321.0,241.0,26.0,26.0,59.0,463.0,155.0,323.0,23.0,25.0,474.0,20.0,55.0,180.0,230.0,384.0,34.0,42.0,37.0,443.0,32.0,269.0,260.0,157.0,274.0,375.0,25.0,22.0,185.0,471.0,146.0,155.0,337.0,35.0,544.0,40.0,31.0,79.0,188.0,127.0,441.0,366.0,1084.0,98.0,60.0,171.0,198.0,357.0,26.0,226.0,162.0,322.0,32.0],\"xaxis\":\"x\",\"yaxis\":\"y\",\"type\":\"histogram\"},{\"alignmentgroup\":\"True\",\"customdata\":[[\"F1329\"],[\"F1329\"],[\"F1329\"],[\"F1329\"],[\"F1329\"],[\"F1329\"],[\"F1329\"],[\"F1329\"],[\"F1329\"],[\"F1329\"],[\"F1329\"],[\"F1329\"],[\"F1329\"],[\"F1329\"],[\"F1329\"],[\"F1329\"],[\"F1329\"],[\"F1329\"],[\"F1329\"],[\"F1329\"],[\"F1329\"],[\"F1329\"],[\"F1329\"],[\"F1329\"],[\"F1329\"],[\"F1329\"],[\"F1329\"],[\"F1329\"],[\"F1329\"],[\"F1329\"],[\"F1329\"],[\"F1329\"],[\"F1329\"],[\"F1329\"],[\"F1329\"],[\"F1329\"],[\"F1329\"],[\"F1329\"],[\"F1329\"],[\"F1329\"],[\"F1329\"],[\"F1329\"],[\"F1329\"],[\"F1329\"],[\"F1329\"],[\"F1329\"],[\"F1329\"],[\"F1329\"],[\"F1329\"],[\"F1329\"],[\"F1329\"],[\"F1329\"],[\"F1329\"],[\"F1329\"],[\"F1329\"],[\"F1329\"],[\"F1329\"],[\"F1329\"],[\"F1329\"],[\"F1329\"],[\"F1329\"],[\"F1329\"],[\"F1329\"],[\"F1329\"],[\"F1329\"],[\"F1329\"],[\"F1329\"],[\"F1329\"],[\"F1329\"],[\"F1329\"],[\"F1329\"],[\"F1329\"],[\"F1329\"],[\"F1329\"],[\"F1329\"],[\"F1329\"],[\"F1329\"],[\"F1329\"],[\"F1329\"],[\"F1329\"],[\"F1329\"],[\"F1329\"],[\"F1329\"],[\"F1329\"],[\"F1329\"],[\"F1329\"],[\"F1329\"],[\"F1329\"],[\"F1329\"],[\"F1329\"],[\"F1329\"],[\"F1329\"],[\"F1329\"],[\"F1329\"],[\"F1329\"],[\"F1329\"],[\"F1329\"],[\"F1329\"],[\"F1329\"],[\"F1329\"],[\"F1329\"],[\"F1329\"],[\"F1329\"],[\"F1329\"],[\"F1329\"],[\"F1329\"],[\"F1329\"],[\"F1329\"],[\"F1329\"],[\"F1329\"],[\"F1329\"],[\"F1329\"],[\"F1329\"],[\"F1329\"],[\"F1329\"],[\"F1329\"],[\"F1329\"],[\"F1329\"],[\"F1329\"],[\"F1329\"],[\"F1329\"],[\"F1329\"],[\"F1329\"],[\"F1329\"],[\"F1329\"],[\"F1329\"],[\"F1329\"],[\"F1329\"],[\"F1329\"],[\"F1329\"],[\"F1329\"],[\"F1329\"],[\"F1329\"],[\"F1329\"],[\"F1329\"],[\"F1329\"],[\"F1329\"],[\"F1329\"],[\"F1329\"],[\"F1329\"],[\"F1329\"],[\"F1329\"],[\"F1329\"],[\"F1329\"],[\"F1329\"],[\"F1329\"],[\"F1329\"],[\"F1329\"],[\"F1329\"],[\"F1329\"],[\"F1329\"],[\"F1329\"],[\"F1329\"],[\"F1329\"],[\"F1329\"],[\"F1329\"],[\"F1329\"],[\"F1329\"],[\"F1329\"],[\"F1329\"],[\"F1329\"],[\"F1329\"],[\"F1329\"],[\"F1329\"],[\"F1329\"],[\"F1329\"],[\"F1329\"],[\"F1329\"],[\"F1329\"],[\"F1329\"],[\"F1329\"],[\"F1329\"],[\"F1329\"],[\"F1329\"],[\"F1329\"],[\"F1329\"]],\"hovertemplate\":\"ID=%{customdata[0]}<br>Second=%{x}<extra></extra>\",\"legendgroup\":\"F1329\",\"marker\":{\"color\":\"#FB00D1\"},\"name\":\"F1329\",\"notched\":true,\"offsetgroup\":\"F1329\",\"showlegend\":false,\"x\":[24.0,1219.0,34.0,590.0,142.0,433.0,30.0,23.0,379.0,21.0,496.0,43.0,607.0,398.0,105.0,351.0,24.0,601.0,30.0,24.0,573.0,26.0,45.0,552.0,24.0,29.0,675.0,33.0,290.0,476.0,128.0,36.0,2183.0,39.0,22.0,25.0,20.0,248.0,377.0,26.0,618.0,137.0,22.0,29.0,321.0,395.0,301.0,171.0,161.0,361.0,390.0,80.0,420.0,62.0,122.0,393.0,25.0,23.0,631.0,35.0,40.0,367.0,25.0,109.0,423.0,46.0,201.0,471.0,208.0,36.0,462.0,33.0,328.0,30.0,153.0,146.0,342.0,113.0,325.0,27.0,344.0,61.0,495.0,24.0,495.0,33.0,28.0,363.0,103.0,409.0,43.0,73.0,670.0,224.0,26.0,218.0,401.0,92.0,52.0,347.0,91.0,54.0,23.0,786.0,54.0,499.0,106.0,470.0,77.0,112.0,175.0,353.0,145.0,380.0,461.0,31.0,270.0,384.0,52.0,349.0,92.0,616.0,34.0,2321.0,241.0,26.0,26.0,59.0,463.0,155.0,323.0,23.0,25.0,474.0,20.0,55.0,180.0,230.0,384.0,34.0,42.0,37.0,443.0,32.0,269.0,260.0,157.0,274.0,375.0,25.0,22.0,185.0,471.0,146.0,155.0,337.0,35.0,544.0,40.0,31.0,79.0,188.0,127.0,441.0,366.0,1084.0,98.0,60.0,171.0,198.0,357.0,26.0,226.0,162.0,322.0,32.0],\"xaxis\":\"x2\",\"yaxis\":\"y2\",\"type\":\"box\"},{\"alignmentgroup\":\"True\",\"bingroup\":\"x\",\"hovertemplate\":\"ID=F1330<br>Second=%{x}<br>count=%{y}<extra></extra>\",\"legendgroup\":\"F1330\",\"marker\":{\"color\":\"#FC0080\",\"pattern\":{\"shape\":\"\"}},\"name\":\"F1330\",\"nbinsx\":288,\"offsetgroup\":\"F1330\",\"orientation\":\"v\",\"showlegend\":true,\"x\":[33.0,429.0,21.0,459.0,415.0,26.0,653.0,449.0,410.0,712.0,49.0,525.0,626.0,401.0,416.0,539.0,528.0,622.0,36.0,706.0,575.0,429.0,27.0,666.0,373.0,649.0,503.0,432.0,262.0,786.0,41.0,158.0,714.0,316.0,510.0,528.0,136.0,568.0,973.0,354.0,568.0,110.0,726.0,555.0,697.0,57.0,616.0,499.0,688.0,623.0,331.0,187.0,533.0,549.0,451.0,332.0,705.0,510.0,434.0,526.0,751.0,33.0,844.0,543.0,650.0,773.0,22.0,519.0,278.0,622.0,75.0,32.0,1142.0,552.0,2059.0,2335.0,52.0,257.0,30.0,663.0,399.0,552.0,316.0,578.0,80.0,964.0,563.0],\"xaxis\":\"x\",\"yaxis\":\"y\",\"type\":\"histogram\"},{\"alignmentgroup\":\"True\",\"customdata\":[[\"F1330\"],[\"F1330\"],[\"F1330\"],[\"F1330\"],[\"F1330\"],[\"F1330\"],[\"F1330\"],[\"F1330\"],[\"F1330\"],[\"F1330\"],[\"F1330\"],[\"F1330\"],[\"F1330\"],[\"F1330\"],[\"F1330\"],[\"F1330\"],[\"F1330\"],[\"F1330\"],[\"F1330\"],[\"F1330\"],[\"F1330\"],[\"F1330\"],[\"F1330\"],[\"F1330\"],[\"F1330\"],[\"F1330\"],[\"F1330\"],[\"F1330\"],[\"F1330\"],[\"F1330\"],[\"F1330\"],[\"F1330\"],[\"F1330\"],[\"F1330\"],[\"F1330\"],[\"F1330\"],[\"F1330\"],[\"F1330\"],[\"F1330\"],[\"F1330\"],[\"F1330\"],[\"F1330\"],[\"F1330\"],[\"F1330\"],[\"F1330\"],[\"F1330\"],[\"F1330\"],[\"F1330\"],[\"F1330\"],[\"F1330\"],[\"F1330\"],[\"F1330\"],[\"F1330\"],[\"F1330\"],[\"F1330\"],[\"F1330\"],[\"F1330\"],[\"F1330\"],[\"F1330\"],[\"F1330\"],[\"F1330\"],[\"F1330\"],[\"F1330\"],[\"F1330\"],[\"F1330\"],[\"F1330\"],[\"F1330\"],[\"F1330\"],[\"F1330\"],[\"F1330\"],[\"F1330\"],[\"F1330\"],[\"F1330\"],[\"F1330\"],[\"F1330\"],[\"F1330\"],[\"F1330\"],[\"F1330\"],[\"F1330\"],[\"F1330\"],[\"F1330\"],[\"F1330\"],[\"F1330\"],[\"F1330\"],[\"F1330\"],[\"F1330\"],[\"F1330\"]],\"hovertemplate\":\"ID=%{customdata[0]}<br>Second=%{x}<extra></extra>\",\"legendgroup\":\"F1330\",\"marker\":{\"color\":\"#FC0080\"},\"name\":\"F1330\",\"notched\":true,\"offsetgroup\":\"F1330\",\"showlegend\":false,\"x\":[33.0,429.0,21.0,459.0,415.0,26.0,653.0,449.0,410.0,712.0,49.0,525.0,626.0,401.0,416.0,539.0,528.0,622.0,36.0,706.0,575.0,429.0,27.0,666.0,373.0,649.0,503.0,432.0,262.0,786.0,41.0,158.0,714.0,316.0,510.0,528.0,136.0,568.0,973.0,354.0,568.0,110.0,726.0,555.0,697.0,57.0,616.0,499.0,688.0,623.0,331.0,187.0,533.0,549.0,451.0,332.0,705.0,510.0,434.0,526.0,751.0,33.0,844.0,543.0,650.0,773.0,22.0,519.0,278.0,622.0,75.0,32.0,1142.0,552.0,2059.0,2335.0,52.0,257.0,30.0,663.0,399.0,552.0,316.0,578.0,80.0,964.0,563.0],\"xaxis\":\"x2\",\"yaxis\":\"y2\",\"type\":\"box\"},{\"alignmentgroup\":\"True\",\"bingroup\":\"x\",\"hovertemplate\":\"ID=F1338<br>Second=%{x}<br>count=%{y}<extra></extra>\",\"legendgroup\":\"F1338\",\"marker\":{\"color\":\"#B2828D\",\"pattern\":{\"shape\":\"\"}},\"name\":\"F1338\",\"nbinsx\":288,\"offsetgroup\":\"F1338\",\"orientation\":\"v\",\"showlegend\":true,\"x\":[856.0,563.0,587.0,23.0,234.0,27.0,50.0,199.0,24.0,342.0,199.0,58.0,52.0,339.0,28.0,55.0,40.0,122.0,63.0,751.0,50.0,25.0,474.0,131.0,158.0,449.0,333.0,190.0,429.0,391.0,544.0,39.0,441.0,109.0,274.0,25.0,707.0,39.0,45.0,154.0,23.0,492.0,326.0,21.0,1267.0,1444.0,1048.0,120.0,578.0,86.0,491.0,53.0,47.0,538.0,26.0,28.0,475.0,911.0,25.0,461.0,116.0,270.0,20.0,628.0,21.0,69.0,375.0,4590.0,1140.0,1524.0,336.0,142.0,534.0,43.0,454.0,77.0,78.0,291.0,26.0,355.0,242.0,567.0,23.0,32.0,559.0,86.0,24.0,89.0,21.0,283.0,628.0,22.0,75.0,137.0,1198.0,372.0,755.0,467.0,668.0,156.0,34.0,198.0,679.0,49.0,30.0,274.0,572.0,30.0,26.0,400.0,458.0,24.0,205.0,407.0,458.0,23.0,23.0,738.0,47.0,24.0,179.0,49.0,523.0,59.0,22.0,349.0,162.0,57.0,773.0,43.0,169.0,185.0,49.0],\"xaxis\":\"x\",\"yaxis\":\"y\",\"type\":\"histogram\"},{\"alignmentgroup\":\"True\",\"customdata\":[[\"F1338\"],[\"F1338\"],[\"F1338\"],[\"F1338\"],[\"F1338\"],[\"F1338\"],[\"F1338\"],[\"F1338\"],[\"F1338\"],[\"F1338\"],[\"F1338\"],[\"F1338\"],[\"F1338\"],[\"F1338\"],[\"F1338\"],[\"F1338\"],[\"F1338\"],[\"F1338\"],[\"F1338\"],[\"F1338\"],[\"F1338\"],[\"F1338\"],[\"F1338\"],[\"F1338\"],[\"F1338\"],[\"F1338\"],[\"F1338\"],[\"F1338\"],[\"F1338\"],[\"F1338\"],[\"F1338\"],[\"F1338\"],[\"F1338\"],[\"F1338\"],[\"F1338\"],[\"F1338\"],[\"F1338\"],[\"F1338\"],[\"F1338\"],[\"F1338\"],[\"F1338\"],[\"F1338\"],[\"F1338\"],[\"F1338\"],[\"F1338\"],[\"F1338\"],[\"F1338\"],[\"F1338\"],[\"F1338\"],[\"F1338\"],[\"F1338\"],[\"F1338\"],[\"F1338\"],[\"F1338\"],[\"F1338\"],[\"F1338\"],[\"F1338\"],[\"F1338\"],[\"F1338\"],[\"F1338\"],[\"F1338\"],[\"F1338\"],[\"F1338\"],[\"F1338\"],[\"F1338\"],[\"F1338\"],[\"F1338\"],[\"F1338\"],[\"F1338\"],[\"F1338\"],[\"F1338\"],[\"F1338\"],[\"F1338\"],[\"F1338\"],[\"F1338\"],[\"F1338\"],[\"F1338\"],[\"F1338\"],[\"F1338\"],[\"F1338\"],[\"F1338\"],[\"F1338\"],[\"F1338\"],[\"F1338\"],[\"F1338\"],[\"F1338\"],[\"F1338\"],[\"F1338\"],[\"F1338\"],[\"F1338\"],[\"F1338\"],[\"F1338\"],[\"F1338\"],[\"F1338\"],[\"F1338\"],[\"F1338\"],[\"F1338\"],[\"F1338\"],[\"F1338\"],[\"F1338\"],[\"F1338\"],[\"F1338\"],[\"F1338\"],[\"F1338\"],[\"F1338\"],[\"F1338\"],[\"F1338\"],[\"F1338\"],[\"F1338\"],[\"F1338\"],[\"F1338\"],[\"F1338\"],[\"F1338\"],[\"F1338\"],[\"F1338\"],[\"F1338\"],[\"F1338\"],[\"F1338\"],[\"F1338\"],[\"F1338\"],[\"F1338\"],[\"F1338\"],[\"F1338\"],[\"F1338\"],[\"F1338\"],[\"F1338\"],[\"F1338\"],[\"F1338\"],[\"F1338\"],[\"F1338\"],[\"F1338\"],[\"F1338\"],[\"F1338\"]],\"hovertemplate\":\"ID=%{customdata[0]}<br>Second=%{x}<extra></extra>\",\"legendgroup\":\"F1338\",\"marker\":{\"color\":\"#B2828D\"},\"name\":\"F1338\",\"notched\":true,\"offsetgroup\":\"F1338\",\"showlegend\":false,\"x\":[856.0,563.0,587.0,23.0,234.0,27.0,50.0,199.0,24.0,342.0,199.0,58.0,52.0,339.0,28.0,55.0,40.0,122.0,63.0,751.0,50.0,25.0,474.0,131.0,158.0,449.0,333.0,190.0,429.0,391.0,544.0,39.0,441.0,109.0,274.0,25.0,707.0,39.0,45.0,154.0,23.0,492.0,326.0,21.0,1267.0,1444.0,1048.0,120.0,578.0,86.0,491.0,53.0,47.0,538.0,26.0,28.0,475.0,911.0,25.0,461.0,116.0,270.0,20.0,628.0,21.0,69.0,375.0,4590.0,1140.0,1524.0,336.0,142.0,534.0,43.0,454.0,77.0,78.0,291.0,26.0,355.0,242.0,567.0,23.0,32.0,559.0,86.0,24.0,89.0,21.0,283.0,628.0,22.0,75.0,137.0,1198.0,372.0,755.0,467.0,668.0,156.0,34.0,198.0,679.0,49.0,30.0,274.0,572.0,30.0,26.0,400.0,458.0,24.0,205.0,407.0,458.0,23.0,23.0,738.0,47.0,24.0,179.0,49.0,523.0,59.0,22.0,349.0,162.0,57.0,773.0,43.0,169.0,185.0,49.0],\"xaxis\":\"x2\",\"yaxis\":\"y2\",\"type\":\"box\"},{\"alignmentgroup\":\"True\",\"bingroup\":\"x\",\"hovertemplate\":\"ID=M1351<br>Second=%{x}<br>count=%{y}<extra></extra>\",\"legendgroup\":\"M1351\",\"marker\":{\"color\":\"#6C7C32\",\"pattern\":{\"shape\":\"\"}},\"name\":\"M1351\",\"nbinsx\":288,\"offsetgroup\":\"M1351\",\"orientation\":\"v\",\"showlegend\":true,\"x\":[707.0,593.0,935.0,82.0,907.0,854.0,34.0,577.0,676.0,1066.0,21.0,1328.0,26.0,1558.0,34.0,931.0,705.0,539.0,1148.0,628.0,763.0,2309.0,116.0,683.0,35.0,630.0,708.0,717.0,545.0,80.0,1052.0,28.0,656.0,856.0,794.0,552.0,650.0,454.0,1092.0,55.0,974.0,681.0,386.0,602.0,730.0,832.0,581.0,625.0,648.0,747.0,3494.0,25.0,841.0,685.0,589.0,487.0,564.0,699.0,701.0,679.0],\"xaxis\":\"x\",\"yaxis\":\"y\",\"type\":\"histogram\"},{\"alignmentgroup\":\"True\",\"customdata\":[[\"M1351\"],[\"M1351\"],[\"M1351\"],[\"M1351\"],[\"M1351\"],[\"M1351\"],[\"M1351\"],[\"M1351\"],[\"M1351\"],[\"M1351\"],[\"M1351\"],[\"M1351\"],[\"M1351\"],[\"M1351\"],[\"M1351\"],[\"M1351\"],[\"M1351\"],[\"M1351\"],[\"M1351\"],[\"M1351\"],[\"M1351\"],[\"M1351\"],[\"M1351\"],[\"M1351\"],[\"M1351\"],[\"M1351\"],[\"M1351\"],[\"M1351\"],[\"M1351\"],[\"M1351\"],[\"M1351\"],[\"M1351\"],[\"M1351\"],[\"M1351\"],[\"M1351\"],[\"M1351\"],[\"M1351\"],[\"M1351\"],[\"M1351\"],[\"M1351\"],[\"M1351\"],[\"M1351\"],[\"M1351\"],[\"M1351\"],[\"M1351\"],[\"M1351\"],[\"M1351\"],[\"M1351\"],[\"M1351\"],[\"M1351\"],[\"M1351\"],[\"M1351\"],[\"M1351\"],[\"M1351\"],[\"M1351\"],[\"M1351\"],[\"M1351\"],[\"M1351\"],[\"M1351\"],[\"M1351\"]],\"hovertemplate\":\"ID=%{customdata[0]}<br>Second=%{x}<extra></extra>\",\"legendgroup\":\"M1351\",\"marker\":{\"color\":\"#6C7C32\"},\"name\":\"M1351\",\"notched\":true,\"offsetgroup\":\"M1351\",\"showlegend\":false,\"x\":[707.0,593.0,935.0,82.0,907.0,854.0,34.0,577.0,676.0,1066.0,21.0,1328.0,26.0,1558.0,34.0,931.0,705.0,539.0,1148.0,628.0,763.0,2309.0,116.0,683.0,35.0,630.0,708.0,717.0,545.0,80.0,1052.0,28.0,656.0,856.0,794.0,552.0,650.0,454.0,1092.0,55.0,974.0,681.0,386.0,602.0,730.0,832.0,581.0,625.0,648.0,747.0,3494.0,25.0,841.0,685.0,589.0,487.0,564.0,699.0,701.0,679.0],\"xaxis\":\"x2\",\"yaxis\":\"y2\",\"type\":\"box\"},{\"alignmentgroup\":\"True\",\"bingroup\":\"x\",\"hovertemplate\":\"ID=M1352<br>Second=%{x}<br>count=%{y}<extra></extra>\",\"legendgroup\":\"M1352\",\"marker\":{\"color\":\"#778AAE\",\"pattern\":{\"shape\":\"\"}},\"name\":\"M1352\",\"nbinsx\":288,\"offsetgroup\":\"M1352\",\"orientation\":\"v\",\"showlegend\":true,\"x\":[42.0,609.0,23.0,28.0,98.0,116.0,26.0,24.0,184.0,20.0,85.0,108.0,1114.0,429.0,580.0,518.0,26.0,26.0,248.0,23.0,1101.0,28.0,505.0,923.0,29.0,32.0,1995.0,25.0,147.0,135.0,232.0,1122.0,588.0,32.0,1690.0,2437.0,76.0,178.0,28.0,48.0,537.0,33.0,106.0,23.0,58.0,45.0,1054.0,54.0,832.0,20.0,47.0,1029.0,601.0,66.0,28.0,37.0,1606.0,181.0,22.0,52.0,1252.0,22.0,68.0,28.0,30.0,1157.0,60.0,20.0,23.0,44.0,1316.0,52.0,23.0,130.0,1610.0,43.0,22.0],\"xaxis\":\"x\",\"yaxis\":\"y\",\"type\":\"histogram\"},{\"alignmentgroup\":\"True\",\"customdata\":[[\"M1352\"],[\"M1352\"],[\"M1352\"],[\"M1352\"],[\"M1352\"],[\"M1352\"],[\"M1352\"],[\"M1352\"],[\"M1352\"],[\"M1352\"],[\"M1352\"],[\"M1352\"],[\"M1352\"],[\"M1352\"],[\"M1352\"],[\"M1352\"],[\"M1352\"],[\"M1352\"],[\"M1352\"],[\"M1352\"],[\"M1352\"],[\"M1352\"],[\"M1352\"],[\"M1352\"],[\"M1352\"],[\"M1352\"],[\"M1352\"],[\"M1352\"],[\"M1352\"],[\"M1352\"],[\"M1352\"],[\"M1352\"],[\"M1352\"],[\"M1352\"],[\"M1352\"],[\"M1352\"],[\"M1352\"],[\"M1352\"],[\"M1352\"],[\"M1352\"],[\"M1352\"],[\"M1352\"],[\"M1352\"],[\"M1352\"],[\"M1352\"],[\"M1352\"],[\"M1352\"],[\"M1352\"],[\"M1352\"],[\"M1352\"],[\"M1352\"],[\"M1352\"],[\"M1352\"],[\"M1352\"],[\"M1352\"],[\"M1352\"],[\"M1352\"],[\"M1352\"],[\"M1352\"],[\"M1352\"],[\"M1352\"],[\"M1352\"],[\"M1352\"],[\"M1352\"],[\"M1352\"],[\"M1352\"],[\"M1352\"],[\"M1352\"],[\"M1352\"],[\"M1352\"],[\"M1352\"],[\"M1352\"],[\"M1352\"],[\"M1352\"],[\"M1352\"],[\"M1352\"],[\"M1352\"]],\"hovertemplate\":\"ID=%{customdata[0]}<br>Second=%{x}<extra></extra>\",\"legendgroup\":\"M1352\",\"marker\":{\"color\":\"#778AAE\"},\"name\":\"M1352\",\"notched\":true,\"offsetgroup\":\"M1352\",\"showlegend\":false,\"x\":[42.0,609.0,23.0,28.0,98.0,116.0,26.0,24.0,184.0,20.0,85.0,108.0,1114.0,429.0,580.0,518.0,26.0,26.0,248.0,23.0,1101.0,28.0,505.0,923.0,29.0,32.0,1995.0,25.0,147.0,135.0,232.0,1122.0,588.0,32.0,1690.0,2437.0,76.0,178.0,28.0,48.0,537.0,33.0,106.0,23.0,58.0,45.0,1054.0,54.0,832.0,20.0,47.0,1029.0,601.0,66.0,28.0,37.0,1606.0,181.0,22.0,52.0,1252.0,22.0,68.0,28.0,30.0,1157.0,60.0,20.0,23.0,44.0,1316.0,52.0,23.0,130.0,1610.0,43.0,22.0],\"xaxis\":\"x2\",\"yaxis\":\"y2\",\"type\":\"box\"}],                        {\"template\":{\"data\":{\"bar\":[{\"error_x\":{\"color\":\"#2a3f5f\"},\"error_y\":{\"color\":\"#2a3f5f\"},\"marker\":{\"line\":{\"color\":\"#E5ECF6\",\"width\":0.5},\"pattern\":{\"fillmode\":\"overlay\",\"size\":10,\"solidity\":0.2}},\"type\":\"bar\"}],\"barpolar\":[{\"marker\":{\"line\":{\"color\":\"#E5ECF6\",\"width\":0.5},\"pattern\":{\"fillmode\":\"overlay\",\"size\":10,\"solidity\":0.2}},\"type\":\"barpolar\"}],\"carpet\":[{\"aaxis\":{\"endlinecolor\":\"#2a3f5f\",\"gridcolor\":\"white\",\"linecolor\":\"white\",\"minorgridcolor\":\"white\",\"startlinecolor\":\"#2a3f5f\"},\"baxis\":{\"endlinecolor\":\"#2a3f5f\",\"gridcolor\":\"white\",\"linecolor\":\"white\",\"minorgridcolor\":\"white\",\"startlinecolor\":\"#2a3f5f\"},\"type\":\"carpet\"}],\"choropleth\":[{\"colorbar\":{\"outlinewidth\":0,\"ticks\":\"\"},\"type\":\"choropleth\"}],\"contour\":[{\"colorbar\":{\"outlinewidth\":0,\"ticks\":\"\"},\"colorscale\":[[0.0,\"#0d0887\"],[0.1111111111111111,\"#46039f\"],[0.2222222222222222,\"#7201a8\"],[0.3333333333333333,\"#9c179e\"],[0.4444444444444444,\"#bd3786\"],[0.5555555555555556,\"#d8576b\"],[0.6666666666666666,\"#ed7953\"],[0.7777777777777778,\"#fb9f3a\"],[0.8888888888888888,\"#fdca26\"],[1.0,\"#f0f921\"]],\"type\":\"contour\"}],\"contourcarpet\":[{\"colorbar\":{\"outlinewidth\":0,\"ticks\":\"\"},\"type\":\"contourcarpet\"}],\"heatmap\":[{\"colorbar\":{\"outlinewidth\":0,\"ticks\":\"\"},\"colorscale\":[[0.0,\"#0d0887\"],[0.1111111111111111,\"#46039f\"],[0.2222222222222222,\"#7201a8\"],[0.3333333333333333,\"#9c179e\"],[0.4444444444444444,\"#bd3786\"],[0.5555555555555556,\"#d8576b\"],[0.6666666666666666,\"#ed7953\"],[0.7777777777777778,\"#fb9f3a\"],[0.8888888888888888,\"#fdca26\"],[1.0,\"#f0f921\"]],\"type\":\"heatmap\"}],\"heatmapgl\":[{\"colorbar\":{\"outlinewidth\":0,\"ticks\":\"\"},\"colorscale\":[[0.0,\"#0d0887\"],[0.1111111111111111,\"#46039f\"],[0.2222222222222222,\"#7201a8\"],[0.3333333333333333,\"#9c179e\"],[0.4444444444444444,\"#bd3786\"],[0.5555555555555556,\"#d8576b\"],[0.6666666666666666,\"#ed7953\"],[0.7777777777777778,\"#fb9f3a\"],[0.8888888888888888,\"#fdca26\"],[1.0,\"#f0f921\"]],\"type\":\"heatmapgl\"}],\"histogram\":[{\"marker\":{\"pattern\":{\"fillmode\":\"overlay\",\"size\":10,\"solidity\":0.2}},\"type\":\"histogram\"}],\"histogram2d\":[{\"colorbar\":{\"outlinewidth\":0,\"ticks\":\"\"},\"colorscale\":[[0.0,\"#0d0887\"],[0.1111111111111111,\"#46039f\"],[0.2222222222222222,\"#7201a8\"],[0.3333333333333333,\"#9c179e\"],[0.4444444444444444,\"#bd3786\"],[0.5555555555555556,\"#d8576b\"],[0.6666666666666666,\"#ed7953\"],[0.7777777777777778,\"#fb9f3a\"],[0.8888888888888888,\"#fdca26\"],[1.0,\"#f0f921\"]],\"type\":\"histogram2d\"}],\"histogram2dcontour\":[{\"colorbar\":{\"outlinewidth\":0,\"ticks\":\"\"},\"colorscale\":[[0.0,\"#0d0887\"],[0.1111111111111111,\"#46039f\"],[0.2222222222222222,\"#7201a8\"],[0.3333333333333333,\"#9c179e\"],[0.4444444444444444,\"#bd3786\"],[0.5555555555555556,\"#d8576b\"],[0.6666666666666666,\"#ed7953\"],[0.7777777777777778,\"#fb9f3a\"],[0.8888888888888888,\"#fdca26\"],[1.0,\"#f0f921\"]],\"type\":\"histogram2dcontour\"}],\"mesh3d\":[{\"colorbar\":{\"outlinewidth\":0,\"ticks\":\"\"},\"type\":\"mesh3d\"}],\"parcoords\":[{\"line\":{\"colorbar\":{\"outlinewidth\":0,\"ticks\":\"\"}},\"type\":\"parcoords\"}],\"pie\":[{\"automargin\":true,\"type\":\"pie\"}],\"scatter\":[{\"marker\":{\"colorbar\":{\"outlinewidth\":0,\"ticks\":\"\"}},\"type\":\"scatter\"}],\"scatter3d\":[{\"line\":{\"colorbar\":{\"outlinewidth\":0,\"ticks\":\"\"}},\"marker\":{\"colorbar\":{\"outlinewidth\":0,\"ticks\":\"\"}},\"type\":\"scatter3d\"}],\"scattercarpet\":[{\"marker\":{\"colorbar\":{\"outlinewidth\":0,\"ticks\":\"\"}},\"type\":\"scattercarpet\"}],\"scattergeo\":[{\"marker\":{\"colorbar\":{\"outlinewidth\":0,\"ticks\":\"\"}},\"type\":\"scattergeo\"}],\"scattergl\":[{\"marker\":{\"colorbar\":{\"outlinewidth\":0,\"ticks\":\"\"}},\"type\":\"scattergl\"}],\"scattermapbox\":[{\"marker\":{\"colorbar\":{\"outlinewidth\":0,\"ticks\":\"\"}},\"type\":\"scattermapbox\"}],\"scatterpolar\":[{\"marker\":{\"colorbar\":{\"outlinewidth\":0,\"ticks\":\"\"}},\"type\":\"scatterpolar\"}],\"scatterpolargl\":[{\"marker\":{\"colorbar\":{\"outlinewidth\":0,\"ticks\":\"\"}},\"type\":\"scatterpolargl\"}],\"scatterternary\":[{\"marker\":{\"colorbar\":{\"outlinewidth\":0,\"ticks\":\"\"}},\"type\":\"scatterternary\"}],\"surface\":[{\"colorbar\":{\"outlinewidth\":0,\"ticks\":\"\"},\"colorscale\":[[0.0,\"#0d0887\"],[0.1111111111111111,\"#46039f\"],[0.2222222222222222,\"#7201a8\"],[0.3333333333333333,\"#9c179e\"],[0.4444444444444444,\"#bd3786\"],[0.5555555555555556,\"#d8576b\"],[0.6666666666666666,\"#ed7953\"],[0.7777777777777778,\"#fb9f3a\"],[0.8888888888888888,\"#fdca26\"],[1.0,\"#f0f921\"]],\"type\":\"surface\"}],\"table\":[{\"cells\":{\"fill\":{\"color\":\"#EBF0F8\"},\"line\":{\"color\":\"white\"}},\"header\":{\"fill\":{\"color\":\"#C8D4E3\"},\"line\":{\"color\":\"white\"}},\"type\":\"table\"}]},\"layout\":{\"annotationdefaults\":{\"arrowcolor\":\"#2a3f5f\",\"arrowhead\":0,\"arrowwidth\":1},\"autotypenumbers\":\"strict\",\"coloraxis\":{\"colorbar\":{\"outlinewidth\":0,\"ticks\":\"\"}},\"colorscale\":{\"diverging\":[[0,\"#8e0152\"],[0.1,\"#c51b7d\"],[0.2,\"#de77ae\"],[0.3,\"#f1b6da\"],[0.4,\"#fde0ef\"],[0.5,\"#f7f7f7\"],[0.6,\"#e6f5d0\"],[0.7,\"#b8e186\"],[0.8,\"#7fbc41\"],[0.9,\"#4d9221\"],[1,\"#276419\"]],\"sequential\":[[0.0,\"#0d0887\"],[0.1111111111111111,\"#46039f\"],[0.2222222222222222,\"#7201a8\"],[0.3333333333333333,\"#9c179e\"],[0.4444444444444444,\"#bd3786\"],[0.5555555555555556,\"#d8576b\"],[0.6666666666666666,\"#ed7953\"],[0.7777777777777778,\"#fb9f3a\"],[0.8888888888888888,\"#fdca26\"],[1.0,\"#f0f921\"]],\"sequentialminus\":[[0.0,\"#0d0887\"],[0.1111111111111111,\"#46039f\"],[0.2222222222222222,\"#7201a8\"],[0.3333333333333333,\"#9c179e\"],[0.4444444444444444,\"#bd3786\"],[0.5555555555555556,\"#d8576b\"],[0.6666666666666666,\"#ed7953\"],[0.7777777777777778,\"#fb9f3a\"],[0.8888888888888888,\"#fdca26\"],[1.0,\"#f0f921\"]]},\"colorway\":[\"#636efa\",\"#EF553B\",\"#00cc96\",\"#ab63fa\",\"#FFA15A\",\"#19d3f3\",\"#FF6692\",\"#B6E880\",\"#FF97FF\",\"#FECB52\"],\"font\":{\"color\":\"#2a3f5f\"},\"geo\":{\"bgcolor\":\"white\",\"lakecolor\":\"white\",\"landcolor\":\"#E5ECF6\",\"showlakes\":true,\"showland\":true,\"subunitcolor\":\"white\"},\"hoverlabel\":{\"align\":\"left\"},\"hovermode\":\"closest\",\"mapbox\":{\"style\":\"light\"},\"paper_bgcolor\":\"white\",\"plot_bgcolor\":\"#E5ECF6\",\"polar\":{\"angularaxis\":{\"gridcolor\":\"white\",\"linecolor\":\"white\",\"ticks\":\"\"},\"bgcolor\":\"#E5ECF6\",\"radialaxis\":{\"gridcolor\":\"white\",\"linecolor\":\"white\",\"ticks\":\"\"}},\"scene\":{\"xaxis\":{\"backgroundcolor\":\"#E5ECF6\",\"gridcolor\":\"white\",\"gridwidth\":2,\"linecolor\":\"white\",\"showbackground\":true,\"ticks\":\"\",\"zerolinecolor\":\"white\"},\"yaxis\":{\"backgroundcolor\":\"#E5ECF6\",\"gridcolor\":\"white\",\"gridwidth\":2,\"linecolor\":\"white\",\"showbackground\":true,\"ticks\":\"\",\"zerolinecolor\":\"white\"},\"zaxis\":{\"backgroundcolor\":\"#E5ECF6\",\"gridcolor\":\"white\",\"gridwidth\":2,\"linecolor\":\"white\",\"showbackground\":true,\"ticks\":\"\",\"zerolinecolor\":\"white\"}},\"shapedefaults\":{\"line\":{\"color\":\"#2a3f5f\"}},\"ternary\":{\"aaxis\":{\"gridcolor\":\"white\",\"linecolor\":\"white\",\"ticks\":\"\"},\"baxis\":{\"gridcolor\":\"white\",\"linecolor\":\"white\",\"ticks\":\"\"},\"bgcolor\":\"#E5ECF6\",\"caxis\":{\"gridcolor\":\"white\",\"linecolor\":\"white\",\"ticks\":\"\"}},\"title\":{\"x\":0.05},\"xaxis\":{\"automargin\":true,\"gridcolor\":\"white\",\"linecolor\":\"white\",\"ticks\":\"\",\"title\":{\"standoff\":15},\"zerolinecolor\":\"white\",\"zerolinewidth\":2},\"yaxis\":{\"automargin\":true,\"gridcolor\":\"white\",\"linecolor\":\"white\",\"ticks\":\"\",\"title\":{\"standoff\":15},\"zerolinecolor\":\"white\",\"zerolinewidth\":2}}},\"xaxis\":{\"anchor\":\"y\",\"domain\":[0.0,1.0],\"title\":{\"text\":\"Second\"}},\"yaxis\":{\"anchor\":\"x\",\"domain\":[0.0,0.7326],\"title\":{\"text\":\"count\"}},\"xaxis2\":{\"anchor\":\"y2\",\"domain\":[0.0,1.0],\"matches\":\"x\",\"showticklabels\":false,\"showgrid\":true},\"yaxis2\":{\"anchor\":\"x2\",\"domain\":[0.7426,1.0],\"matches\":\"y2\",\"showticklabels\":false,\"showline\":false,\"ticks\":\"\",\"showgrid\":false},\"legend\":{\"title\":{\"text\":\"ID\"},\"tracegroupgap\":0},\"title\":{\"text\":\"Inter-Reward Interval Distribution\"},\"barmode\":\"relative\",\"margin\":{\"l\":50,\"r\":50,\"b\":100,\"t\":100,\"pad\":4},\"autosize\":false,\"width\":900,\"height\":700},                        {\"responsive\": true}                    ).then(function(){\n",
       "                            \n",
       "var gd = document.getElementById('19c6445a-ec48-4050-838e-7d6935888859');\n",
       "var x = new MutationObserver(function (mutations, observer) {{\n",
       "        var display = window.getComputedStyle(gd).display;\n",
       "        if (!display || display === 'none') {{\n",
       "            console.log([gd, 'removed!']);\n",
       "            Plotly.purge(gd);\n",
       "            observer.disconnect();\n",
       "        }}\n",
       "}});\n",
       "\n",
       "// Listen for the removal of the full notebook cells\n",
       "var notebookContainer = gd.closest('#notebook-container');\n",
       "if (notebookContainer) {{\n",
       "    x.observe(notebookContainer, {childList: true});\n",
       "}}\n",
       "\n",
       "// Listen for the clearing of the current output cell\n",
       "var outputEl = gd.closest('.output');\n",
       "if (outputEl) {{\n",
       "    x.observe(outputEl, {childList: true});\n",
       "}}\n",
       "\n",
       "                        })                };                });            </script>        </div>"
      ]
     },
     "metadata": {},
     "output_type": "display_data"
    }
   ],
   "source": [
    "fig = px.histogram(df_dist, \n",
    "                   x=\"Second\", \n",
    "                   color=\"ID\", \n",
    "                   nbins = numBins,\n",
    "                   marginal=\"box\", # can be `box`, `violin`\n",
    "                   hover_data=df_dist.columns,\n",
    "                   color_discrete_sequence=px.colors.qualitative.Dark24,\n",
    "                   title='Inter-Reward Interval Distribution')\n",
    "\n",
    "fig.update_layout(autosize=False,\n",
    "                width=900,\n",
    "                height=700,\n",
    "                margin=dict(l=50,\n",
    "                            r=50,\n",
    "                            b=100,\n",
    "                            t=100,\n",
    "                            pad=4))\n",
    "\n",
    "\n",
    "fig.show()"
   ]
  },
  {
   "cell_type": "code",
   "execution_count": null,
   "id": "295975bb",
   "metadata": {},
   "outputs": [],
   "source": []
  }
 ],
 "metadata": {
  "kernelspec": {
   "display_name": "Python 3 (ipykernel)",
   "language": "python",
   "name": "python3"
  },
  "language_info": {
   "codemirror_mode": {
    "name": "ipython",
    "version": 3
   },
   "file_extension": ".py",
   "mimetype": "text/x-python",
   "name": "python",
   "nbconvert_exporter": "python",
   "pygments_lexer": "ipython3",
   "version": "3.9.7"
  }
 },
 "nbformat": 4,
 "nbformat_minor": 5
}
