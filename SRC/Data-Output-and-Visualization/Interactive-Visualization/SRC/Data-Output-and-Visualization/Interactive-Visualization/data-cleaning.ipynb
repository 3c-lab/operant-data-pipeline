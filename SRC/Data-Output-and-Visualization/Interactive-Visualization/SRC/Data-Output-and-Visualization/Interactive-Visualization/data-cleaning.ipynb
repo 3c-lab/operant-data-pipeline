{
 "cells": [
  {
   "cell_type": "code",
   "execution_count": 198,
   "id": "controlling-child",
   "metadata": {},
   "outputs": [],
   "source": [
    "import numpy as np\n",
    "import pandas as pd\n",
    "import datetime"
   ]
  },
  {
   "cell_type": "code",
   "execution_count": 199,
   "id": "overhead-essay",
   "metadata": {},
   "outputs": [],
   "source": [
    "import warnings\n",
    "warnings.filterwarnings('ignore')"
   ]
  },
  {
   "cell_type": "code",
   "execution_count": 200,
   "id": "bigger-stationery",
   "metadata": {
    "scrolled": true
   },
   "outputs": [
    {
     "data": {
      "text/html": [
       "<div>\n",
       "<style scoped>\n",
       "    .dataframe tbody tr th:only-of-type {\n",
       "        vertical-align: middle;\n",
       "    }\n",
       "\n",
       "    .dataframe tbody tr th {\n",
       "        vertical-align: top;\n",
       "    }\n",
       "\n",
       "    .dataframe thead th {\n",
       "        text-align: right;\n",
       "    }\n",
       "</style>\n",
       "<table border=\"1\" class=\"dataframe\">\n",
       "  <thead>\n",
       "    <tr style=\"text-align: right;\">\n",
       "      <th></th>\n",
       "      <th>0</th>\n",
       "      <th>1</th>\n",
       "      <th>2</th>\n",
       "      <th>3</th>\n",
       "      <th>4</th>\n",
       "      <th>5</th>\n",
       "      <th>6</th>\n",
       "      <th>7</th>\n",
       "      <th>8</th>\n",
       "      <th>9</th>\n",
       "      <th>...</th>\n",
       "      <th>4215</th>\n",
       "      <th>4216</th>\n",
       "      <th>4217</th>\n",
       "      <th>4218</th>\n",
       "      <th>4219</th>\n",
       "      <th>4220</th>\n",
       "      <th>4221</th>\n",
       "      <th>4222</th>\n",
       "      <th>4223</th>\n",
       "      <th>4224</th>\n",
       "    </tr>\n",
       "  </thead>\n",
       "  <tbody>\n",
       "    <tr>\n",
       "      <th>0</th>\n",
       "      <td>Filename</td>\n",
       "      <td>Start Date</td>\n",
       "      <td>End Date</td>\n",
       "      <td>Subject</td>\n",
       "      <td>Experiment</td>\n",
       "      <td>Group</td>\n",
       "      <td>Box</td>\n",
       "      <td>Start Time</td>\n",
       "      <td>End Time</td>\n",
       "      <td>MSN</td>\n",
       "      <td>...</td>\n",
       "      <td>Reward 200</td>\n",
       "      <td>Reward 201</td>\n",
       "      <td>Timeout Press 1</td>\n",
       "      <td>Timeout Press 2</td>\n",
       "      <td>Timeout Press 3</td>\n",
       "      <td>Timeout Press 4</td>\n",
       "      <td>Timeout Press 5</td>\n",
       "      <td>Timeout Press 6</td>\n",
       "      <td>Timeout Press 7</td>\n",
       "      <td>Timeout Press 8</td>\n",
       "    </tr>\n",
       "    <tr>\n",
       "      <th>1</th>\n",
       "      <td>C:\\MED-PC IV\\DATA\\MTF134BC15HSOXYSHA01</td>\n",
       "      <td>2021-11-29</td>\n",
       "      <td>2021-11-29</td>\n",
       "      <td>F1501</td>\n",
       "      <td>0</td>\n",
       "      <td>0</td>\n",
       "      <td>1</td>\n",
       "      <td>15:14:20</td>\n",
       "      <td>17:41:30</td>\n",
       "      <td>GWAS 2hNEW</td>\n",
       "      <td>...</td>\n",
       "      <td>0</td>\n",
       "      <td>0</td>\n",
       "      <td>283</td>\n",
       "      <td>284</td>\n",
       "      <td>0</td>\n",
       "      <td>0</td>\n",
       "      <td>0</td>\n",
       "      <td>0</td>\n",
       "      <td>0</td>\n",
       "      <td>0</td>\n",
       "    </tr>\n",
       "    <tr>\n",
       "      <th>2</th>\n",
       "      <td>MTF134BC15HSOXYSHA01\\n</td>\n",
       "      <td>2021-11-29</td>\n",
       "      <td>2021-11-29</td>\n",
       "      <td>F1502</td>\n",
       "      <td>0</td>\n",
       "      <td>0</td>\n",
       "      <td>2</td>\n",
       "      <td>15:14:24</td>\n",
       "      <td>17:41:30</td>\n",
       "      <td>GWAS 2hNEW</td>\n",
       "      <td>...</td>\n",
       "      <td>0</td>\n",
       "      <td>0</td>\n",
       "      <td>0</td>\n",
       "      <td>0</td>\n",
       "      <td>0</td>\n",
       "      <td>0</td>\n",
       "      <td>0</td>\n",
       "      <td>0</td>\n",
       "      <td>0</td>\n",
       "      <td>0</td>\n",
       "    </tr>\n",
       "    <tr>\n",
       "      <th>3</th>\n",
       "      <td>MTF134BC15HSOXYSHA01\\n</td>\n",
       "      <td>2021-11-29</td>\n",
       "      <td>2021-11-29</td>\n",
       "      <td>F1503</td>\n",
       "      <td>0</td>\n",
       "      <td>0</td>\n",
       "      <td>3</td>\n",
       "      <td>15:14:27</td>\n",
       "      <td>17:41:30</td>\n",
       "      <td>GWAS 2hNEW</td>\n",
       "      <td>...</td>\n",
       "      <td>0</td>\n",
       "      <td>0</td>\n",
       "      <td>0</td>\n",
       "      <td>0</td>\n",
       "      <td>0</td>\n",
       "      <td>0</td>\n",
       "      <td>0</td>\n",
       "      <td>0</td>\n",
       "      <td>0</td>\n",
       "      <td>0</td>\n",
       "    </tr>\n",
       "    <tr>\n",
       "      <th>4</th>\n",
       "      <td>MTF134BC15HSOXYSHA01\\n</td>\n",
       "      <td>2021-11-29</td>\n",
       "      <td>2021-11-29</td>\n",
       "      <td>F1504</td>\n",
       "      <td>0</td>\n",
       "      <td>0</td>\n",
       "      <td>4</td>\n",
       "      <td>15:14:30</td>\n",
       "      <td>17:41:30</td>\n",
       "      <td>GWAS 2hNEW</td>\n",
       "      <td>...</td>\n",
       "      <td>0</td>\n",
       "      <td>0</td>\n",
       "      <td>5141</td>\n",
       "      <td>5145</td>\n",
       "      <td>5168</td>\n",
       "      <td>5172</td>\n",
       "      <td>0</td>\n",
       "      <td>0</td>\n",
       "      <td>0</td>\n",
       "      <td>0</td>\n",
       "    </tr>\n",
       "  </tbody>\n",
       "</table>\n",
       "<p>5 rows × 4225 columns</p>\n",
       "</div>"
      ],
      "text/plain": [
       "                                     0           1           2        3     \\\n",
       "0                                Filename  Start Date    End Date  Subject   \n",
       "1  C:\\MED-PC IV\\DATA\\MTF134BC15HSOXYSHA01  2021-11-29  2021-11-29    F1501   \n",
       "2                  MTF134BC15HSOXYSHA01\\n  2021-11-29  2021-11-29    F1502   \n",
       "3                  MTF134BC15HSOXYSHA01\\n  2021-11-29  2021-11-29    F1503   \n",
       "4                  MTF134BC15HSOXYSHA01\\n  2021-11-29  2021-11-29    F1504   \n",
       "\n",
       "         4      5    6           7         8           9     ...        4215  \\\n",
       "0  Experiment  Group  Box  Start Time  End Time         MSN  ...  Reward 200   \n",
       "1           0      0    1    15:14:20  17:41:30  GWAS 2hNEW  ...           0   \n",
       "2           0      0    2    15:14:24  17:41:30  GWAS 2hNEW  ...           0   \n",
       "3           0      0    3    15:14:27  17:41:30  GWAS 2hNEW  ...           0   \n",
       "4           0      0    4    15:14:30  17:41:30  GWAS 2hNEW  ...           0   \n",
       "\n",
       "         4216             4217             4218             4219  \\\n",
       "0  Reward 201  Timeout Press 1  Timeout Press 2  Timeout Press 3   \n",
       "1           0              283              284                0   \n",
       "2           0                0                0                0   \n",
       "3           0                0                0                0   \n",
       "4           0             5141             5145             5168   \n",
       "\n",
       "              4220             4221             4222             4223  \\\n",
       "0  Timeout Press 4  Timeout Press 5  Timeout Press 6  Timeout Press 7   \n",
       "1                0                0                0                0   \n",
       "2                0                0                0                0   \n",
       "3                0                0                0                0   \n",
       "4             5172                0                0                0   \n",
       "\n",
       "              4224  \n",
       "0  Timeout Press 8  \n",
       "1                0  \n",
       "2                0  \n",
       "3                0  \n",
       "4                0  \n",
       "\n",
       "[5 rows x 4225 columns]"
      ]
     },
     "execution_count": 200,
     "metadata": {},
     "output_type": "execute_result"
    }
   ],
   "source": [
    "# import data and transpose\n",
    "filepath = 'D:\\GeorgeLab\\data\\output_file_test.xlsx'\n",
    "df_raw = pd.read_excel(filepath,header=None).T\n",
    "df_raw.head()"
   ]
  },
  {
   "cell_type": "code",
   "execution_count": 201,
   "id": "filled-salmon",
   "metadata": {},
   "outputs": [
    {
     "data": {
      "text/html": [
       "<div>\n",
       "<style scoped>\n",
       "    .dataframe tbody tr th:only-of-type {\n",
       "        vertical-align: middle;\n",
       "    }\n",
       "\n",
       "    .dataframe tbody tr th {\n",
       "        vertical-align: top;\n",
       "    }\n",
       "\n",
       "    .dataframe thead th {\n",
       "        text-align: right;\n",
       "    }\n",
       "</style>\n",
       "<table border=\"1\" class=\"dataframe\">\n",
       "  <thead>\n",
       "    <tr style=\"text-align: right;\">\n",
       "      <th></th>\n",
       "      <th>Filename</th>\n",
       "      <th>Start Date</th>\n",
       "      <th>End Date</th>\n",
       "      <th>Subject</th>\n",
       "      <th>Experiment</th>\n",
       "      <th>Group</th>\n",
       "      <th>Box</th>\n",
       "      <th>Start Time</th>\n",
       "      <th>End Time</th>\n",
       "      <th>MSN</th>\n",
       "      <th>...</th>\n",
       "      <th>Reward 200</th>\n",
       "      <th>Reward 201</th>\n",
       "      <th>Timeout Press 1</th>\n",
       "      <th>Timeout Press 2</th>\n",
       "      <th>Timeout Press 3</th>\n",
       "      <th>Timeout Press 4</th>\n",
       "      <th>Timeout Press 5</th>\n",
       "      <th>Timeout Press 6</th>\n",
       "      <th>Timeout Press 7</th>\n",
       "      <th>Timeout Press 8</th>\n",
       "    </tr>\n",
       "  </thead>\n",
       "  <tbody>\n",
       "    <tr>\n",
       "      <th>0</th>\n",
       "      <td>C:\\MED-PC IV\\DATA\\MTF134BC15HSOXYSHA01</td>\n",
       "      <td>2021-11-29</td>\n",
       "      <td>2021-11-29</td>\n",
       "      <td>F1501</td>\n",
       "      <td>0</td>\n",
       "      <td>0</td>\n",
       "      <td>1</td>\n",
       "      <td>15:14:20</td>\n",
       "      <td>17:41:30</td>\n",
       "      <td>GWAS 2hNEW</td>\n",
       "      <td>...</td>\n",
       "      <td>0</td>\n",
       "      <td>0</td>\n",
       "      <td>283</td>\n",
       "      <td>284</td>\n",
       "      <td>0</td>\n",
       "      <td>0</td>\n",
       "      <td>0</td>\n",
       "      <td>0</td>\n",
       "      <td>0</td>\n",
       "      <td>0</td>\n",
       "    </tr>\n",
       "    <tr>\n",
       "      <th>1</th>\n",
       "      <td>MTF134BC15HSOXYSHA01\\n</td>\n",
       "      <td>2021-11-29</td>\n",
       "      <td>2021-11-29</td>\n",
       "      <td>F1502</td>\n",
       "      <td>0</td>\n",
       "      <td>0</td>\n",
       "      <td>2</td>\n",
       "      <td>15:14:24</td>\n",
       "      <td>17:41:30</td>\n",
       "      <td>GWAS 2hNEW</td>\n",
       "      <td>...</td>\n",
       "      <td>0</td>\n",
       "      <td>0</td>\n",
       "      <td>0</td>\n",
       "      <td>0</td>\n",
       "      <td>0</td>\n",
       "      <td>0</td>\n",
       "      <td>0</td>\n",
       "      <td>0</td>\n",
       "      <td>0</td>\n",
       "      <td>0</td>\n",
       "    </tr>\n",
       "    <tr>\n",
       "      <th>2</th>\n",
       "      <td>MTF134BC15HSOXYSHA01\\n</td>\n",
       "      <td>2021-11-29</td>\n",
       "      <td>2021-11-29</td>\n",
       "      <td>F1503</td>\n",
       "      <td>0</td>\n",
       "      <td>0</td>\n",
       "      <td>3</td>\n",
       "      <td>15:14:27</td>\n",
       "      <td>17:41:30</td>\n",
       "      <td>GWAS 2hNEW</td>\n",
       "      <td>...</td>\n",
       "      <td>0</td>\n",
       "      <td>0</td>\n",
       "      <td>0</td>\n",
       "      <td>0</td>\n",
       "      <td>0</td>\n",
       "      <td>0</td>\n",
       "      <td>0</td>\n",
       "      <td>0</td>\n",
       "      <td>0</td>\n",
       "      <td>0</td>\n",
       "    </tr>\n",
       "    <tr>\n",
       "      <th>3</th>\n",
       "      <td>MTF134BC15HSOXYSHA01\\n</td>\n",
       "      <td>2021-11-29</td>\n",
       "      <td>2021-11-29</td>\n",
       "      <td>F1504</td>\n",
       "      <td>0</td>\n",
       "      <td>0</td>\n",
       "      <td>4</td>\n",
       "      <td>15:14:30</td>\n",
       "      <td>17:41:30</td>\n",
       "      <td>GWAS 2hNEW</td>\n",
       "      <td>...</td>\n",
       "      <td>0</td>\n",
       "      <td>0</td>\n",
       "      <td>5141</td>\n",
       "      <td>5145</td>\n",
       "      <td>5168</td>\n",
       "      <td>5172</td>\n",
       "      <td>0</td>\n",
       "      <td>0</td>\n",
       "      <td>0</td>\n",
       "      <td>0</td>\n",
       "    </tr>\n",
       "    <tr>\n",
       "      <th>4</th>\n",
       "      <td>MTF134BC15HSOXYSHA01\\n</td>\n",
       "      <td>2021-11-29</td>\n",
       "      <td>2021-11-29</td>\n",
       "      <td>F1505</td>\n",
       "      <td>0</td>\n",
       "      <td>0</td>\n",
       "      <td>5</td>\n",
       "      <td>15:14:46</td>\n",
       "      <td>17:41:30</td>\n",
       "      <td>GWAS 2hNEW</td>\n",
       "      <td>...</td>\n",
       "      <td>0</td>\n",
       "      <td>0</td>\n",
       "      <td>0</td>\n",
       "      <td>0</td>\n",
       "      <td>0</td>\n",
       "      <td>0</td>\n",
       "      <td>0</td>\n",
       "      <td>0</td>\n",
       "      <td>0</td>\n",
       "      <td>0</td>\n",
       "    </tr>\n",
       "  </tbody>\n",
       "</table>\n",
       "<p>5 rows × 4225 columns</p>\n",
       "</div>"
      ],
      "text/plain": [
       "0                                Filename  Start Date    End Date Subject  \\\n",
       "0  C:\\MED-PC IV\\DATA\\MTF134BC15HSOXYSHA01  2021-11-29  2021-11-29   F1501   \n",
       "1                  MTF134BC15HSOXYSHA01\\n  2021-11-29  2021-11-29   F1502   \n",
       "2                  MTF134BC15HSOXYSHA01\\n  2021-11-29  2021-11-29   F1503   \n",
       "3                  MTF134BC15HSOXYSHA01\\n  2021-11-29  2021-11-29   F1504   \n",
       "4                  MTF134BC15HSOXYSHA01\\n  2021-11-29  2021-11-29   F1505   \n",
       "\n",
       "0 Experiment Group Box Start Time  End Time         MSN  ... Reward 200  \\\n",
       "0          0     0   1   15:14:20  17:41:30  GWAS 2hNEW  ...          0   \n",
       "1          0     0   2   15:14:24  17:41:30  GWAS 2hNEW  ...          0   \n",
       "2          0     0   3   15:14:27  17:41:30  GWAS 2hNEW  ...          0   \n",
       "3          0     0   4   15:14:30  17:41:30  GWAS 2hNEW  ...          0   \n",
       "4          0     0   5   15:14:46  17:41:30  GWAS 2hNEW  ...          0   \n",
       "\n",
       "0 Reward 201 Timeout Press 1 Timeout Press 2 Timeout Press 3 Timeout Press 4  \\\n",
       "0          0             283             284               0               0   \n",
       "1          0               0               0               0               0   \n",
       "2          0               0               0               0               0   \n",
       "3          0            5141            5145            5168            5172   \n",
       "4          0               0               0               0               0   \n",
       "\n",
       "0 Timeout Press 5 Timeout Press 6 Timeout Press 7 Timeout Press 8  \n",
       "0               0               0               0               0  \n",
       "1               0               0               0               0  \n",
       "2               0               0               0               0  \n",
       "3               0               0               0               0  \n",
       "4               0               0               0               0  \n",
       "\n",
       "[5 rows x 4225 columns]"
      ]
     },
     "execution_count": 201,
     "metadata": {},
     "output_type": "execute_result"
    }
   ],
   "source": [
    "# modify the header\n",
    "new_header = df_raw.iloc[0]   #grab the first row for the header\n",
    "df = df_raw[1:]               #take the data except the header row\n",
    "df.columns = new_header \n",
    "df.reset_index(drop=True, inplace=True)\n",
    "df.head()"
   ]
  },
  {
   "cell_type": "code",
   "execution_count": 202,
   "id": "legal-objective",
   "metadata": {},
   "outputs": [],
   "source": [
    "# add new column for visualization \n",
    "df['Start Datetime'] = pd.to_datetime(df['Start Date'] + ' ' + df['Start Time'])\n",
    "df['End Datetime'] = pd.to_datetime(df['End Date'] + ' ' + df['End Time'])\n",
    "df['Timeout'] = df['Active Lever Presses'] - df['Reward']"
   ]
  },
  {
   "cell_type": "code",
   "execution_count": 203,
   "id": "divided-frank",
   "metadata": {},
   "outputs": [],
   "source": [
    "# drop unnecessary columns\n",
    "df.drop(['Start Date','Start Time','End Date','End Time'], axis=1, inplace=True)"
   ]
  },
  {
   "cell_type": "code",
   "execution_count": 204,
   "id": "amended-catch",
   "metadata": {},
   "outputs": [],
   "source": [
    "# change data types\n",
    "cols = df.columns.tolist()\n",
    "for col in cols:\n",
    "    name = col.lower()\n",
    "    if ('active' in name) or ('reward' in name) or ('timeout' in name):\n",
    "        df[col] = df[col].astype('int32')\n",
    "        df[col] = df[col].replace(0,np.nan)\n",
    "    else:\n",
    "        pass"
   ]
  },
  {
   "cell_type": "code",
   "execution_count": 205,
   "id": "living-convenience",
   "metadata": {},
   "outputs": [],
   "source": [
    "# drop columns which all values are Nan\n",
    "df.dropna(how='all', axis=1, inplace=True)"
   ]
  },
  {
   "cell_type": "code",
   "execution_count": 206,
   "id": "sharp-passing",
   "metadata": {
    "scrolled": true
   },
   "outputs": [],
   "source": [
    "# reorder the columns\n",
    "new_columns = df.columns.tolist()\n",
    "new_columns.insert(0, new_columns.pop(new_columns.index('Subject')))\n",
    "new_columns.insert(1, new_columns.pop(new_columns.index('Start Datetime')))\n",
    "new_columns.insert(2, new_columns.pop(new_columns.index('End Datetime')))\n",
    "\n",
    "idx = new_columns.index('Reward') + 1\n",
    "new_columns.insert(idx, new_columns.pop(new_columns.index('Timeout')))"
   ]
  },
  {
   "cell_type": "code",
   "execution_count": 207,
   "id": "figured-button",
   "metadata": {},
   "outputs": [
    {
     "data": {
      "text/html": [
       "<div>\n",
       "<style scoped>\n",
       "    .dataframe tbody tr th:only-of-type {\n",
       "        vertical-align: middle;\n",
       "    }\n",
       "\n",
       "    .dataframe tbody tr th {\n",
       "        vertical-align: top;\n",
       "    }\n",
       "\n",
       "    .dataframe thead th {\n",
       "        text-align: right;\n",
       "    }\n",
       "</style>\n",
       "<table border=\"1\" class=\"dataframe\">\n",
       "  <thead>\n",
       "    <tr style=\"text-align: right;\">\n",
       "      <th></th>\n",
       "      <th>Subject</th>\n",
       "      <th>Start Datetime</th>\n",
       "      <th>End Datetime</th>\n",
       "      <th>Filename</th>\n",
       "      <th>Experiment</th>\n",
       "      <th>Group</th>\n",
       "      <th>Box</th>\n",
       "      <th>MSN</th>\n",
       "      <th>FR</th>\n",
       "      <th>Active Lever Presses</th>\n",
       "      <th>...</th>\n",
       "      <th>Reward 15</th>\n",
       "      <th>Reward 16</th>\n",
       "      <th>Timeout Press 1</th>\n",
       "      <th>Timeout Press 2</th>\n",
       "      <th>Timeout Press 3</th>\n",
       "      <th>Timeout Press 4</th>\n",
       "      <th>Timeout Press 5</th>\n",
       "      <th>Timeout Press 6</th>\n",
       "      <th>Timeout Press 7</th>\n",
       "      <th>Timeout Press 8</th>\n",
       "    </tr>\n",
       "  </thead>\n",
       "  <tbody>\n",
       "    <tr>\n",
       "      <th>0</th>\n",
       "      <td>F1501</td>\n",
       "      <td>2021-11-29 15:14:20</td>\n",
       "      <td>2021-11-29 17:41:30</td>\n",
       "      <td>C:\\MED-PC IV\\DATA\\MTF134BC15HSOXYSHA01</td>\n",
       "      <td>0</td>\n",
       "      <td>0</td>\n",
       "      <td>1</td>\n",
       "      <td>GWAS 2hNEW</td>\n",
       "      <td>0</td>\n",
       "      <td>4.0</td>\n",
       "      <td>...</td>\n",
       "      <td>0.0</td>\n",
       "      <td>0.0</td>\n",
       "      <td>283.0</td>\n",
       "      <td>284.0</td>\n",
       "      <td>0.0</td>\n",
       "      <td>0.0</td>\n",
       "      <td>0.0</td>\n",
       "      <td>0.0</td>\n",
       "      <td>0.0</td>\n",
       "      <td>0.0</td>\n",
       "    </tr>\n",
       "    <tr>\n",
       "      <th>1</th>\n",
       "      <td>F1502</td>\n",
       "      <td>2021-11-29 15:14:24</td>\n",
       "      <td>2021-11-29 17:41:30</td>\n",
       "      <td>MTF134BC15HSOXYSHA01\\n</td>\n",
       "      <td>0</td>\n",
       "      <td>0</td>\n",
       "      <td>2</td>\n",
       "      <td>GWAS 2hNEW</td>\n",
       "      <td>0</td>\n",
       "      <td>0.0</td>\n",
       "      <td>...</td>\n",
       "      <td>0.0</td>\n",
       "      <td>0.0</td>\n",
       "      <td>0.0</td>\n",
       "      <td>0.0</td>\n",
       "      <td>0.0</td>\n",
       "      <td>0.0</td>\n",
       "      <td>0.0</td>\n",
       "      <td>0.0</td>\n",
       "      <td>0.0</td>\n",
       "      <td>0.0</td>\n",
       "    </tr>\n",
       "    <tr>\n",
       "      <th>2</th>\n",
       "      <td>F1503</td>\n",
       "      <td>2021-11-29 15:14:27</td>\n",
       "      <td>2021-11-29 17:41:30</td>\n",
       "      <td>MTF134BC15HSOXYSHA01\\n</td>\n",
       "      <td>0</td>\n",
       "      <td>0</td>\n",
       "      <td>3</td>\n",
       "      <td>GWAS 2hNEW</td>\n",
       "      <td>0</td>\n",
       "      <td>0.0</td>\n",
       "      <td>...</td>\n",
       "      <td>0.0</td>\n",
       "      <td>0.0</td>\n",
       "      <td>0.0</td>\n",
       "      <td>0.0</td>\n",
       "      <td>0.0</td>\n",
       "      <td>0.0</td>\n",
       "      <td>0.0</td>\n",
       "      <td>0.0</td>\n",
       "      <td>0.0</td>\n",
       "      <td>0.0</td>\n",
       "    </tr>\n",
       "    <tr>\n",
       "      <th>3</th>\n",
       "      <td>F1504</td>\n",
       "      <td>2021-11-29 15:14:30</td>\n",
       "      <td>2021-11-29 17:41:30</td>\n",
       "      <td>MTF134BC15HSOXYSHA01\\n</td>\n",
       "      <td>0</td>\n",
       "      <td>0</td>\n",
       "      <td>4</td>\n",
       "      <td>GWAS 2hNEW</td>\n",
       "      <td>0</td>\n",
       "      <td>10.0</td>\n",
       "      <td>...</td>\n",
       "      <td>0.0</td>\n",
       "      <td>0.0</td>\n",
       "      <td>5141.0</td>\n",
       "      <td>5145.0</td>\n",
       "      <td>5168.0</td>\n",
       "      <td>5172.0</td>\n",
       "      <td>0.0</td>\n",
       "      <td>0.0</td>\n",
       "      <td>0.0</td>\n",
       "      <td>0.0</td>\n",
       "    </tr>\n",
       "    <tr>\n",
       "      <th>4</th>\n",
       "      <td>F1505</td>\n",
       "      <td>2021-11-29 15:14:46</td>\n",
       "      <td>2021-11-29 17:41:30</td>\n",
       "      <td>MTF134BC15HSOXYSHA01\\n</td>\n",
       "      <td>0</td>\n",
       "      <td>0</td>\n",
       "      <td>5</td>\n",
       "      <td>GWAS 2hNEW</td>\n",
       "      <td>0</td>\n",
       "      <td>0.0</td>\n",
       "      <td>...</td>\n",
       "      <td>0.0</td>\n",
       "      <td>0.0</td>\n",
       "      <td>0.0</td>\n",
       "      <td>0.0</td>\n",
       "      <td>0.0</td>\n",
       "      <td>0.0</td>\n",
       "      <td>0.0</td>\n",
       "      <td>0.0</td>\n",
       "      <td>0.0</td>\n",
       "      <td>0.0</td>\n",
       "    </tr>\n",
       "  </tbody>\n",
       "</table>\n",
       "<p>5 rows × 68 columns</p>\n",
       "</div>"
      ],
      "text/plain": [
       "0 Subject      Start Datetime        End Datetime  \\\n",
       "0   F1501 2021-11-29 15:14:20 2021-11-29 17:41:30   \n",
       "1   F1502 2021-11-29 15:14:24 2021-11-29 17:41:30   \n",
       "2   F1503 2021-11-29 15:14:27 2021-11-29 17:41:30   \n",
       "3   F1504 2021-11-29 15:14:30 2021-11-29 17:41:30   \n",
       "4   F1505 2021-11-29 15:14:46 2021-11-29 17:41:30   \n",
       "\n",
       "0                                Filename Experiment Group  Box         MSN  \\\n",
       "0  C:\\MED-PC IV\\DATA\\MTF134BC15HSOXYSHA01          0     0    1  GWAS 2hNEW   \n",
       "1                  MTF134BC15HSOXYSHA01\\n          0     0    2  GWAS 2hNEW   \n",
       "2                  MTF134BC15HSOXYSHA01\\n          0     0    3  GWAS 2hNEW   \n",
       "3                  MTF134BC15HSOXYSHA01\\n          0     0    4  GWAS 2hNEW   \n",
       "4                  MTF134BC15HSOXYSHA01\\n          0     0    5  GWAS 2hNEW   \n",
       "\n",
       "0  FR  Active Lever Presses  ...  Reward 15  Reward 16  Timeout Press 1  \\\n",
       "0   0                   4.0  ...        0.0        0.0            283.0   \n",
       "1   0                   0.0  ...        0.0        0.0              0.0   \n",
       "2   0                   0.0  ...        0.0        0.0              0.0   \n",
       "3   0                  10.0  ...        0.0        0.0           5141.0   \n",
       "4   0                   0.0  ...        0.0        0.0              0.0   \n",
       "\n",
       "0  Timeout Press 2  Timeout Press 3  Timeout Press 4  Timeout Press 5  \\\n",
       "0            284.0              0.0              0.0              0.0   \n",
       "1              0.0              0.0              0.0              0.0   \n",
       "2              0.0              0.0              0.0              0.0   \n",
       "3           5145.0           5168.0           5172.0              0.0   \n",
       "4              0.0              0.0              0.0              0.0   \n",
       "\n",
       "0  Timeout Press 6  Timeout Press 7  Timeout Press 8  \n",
       "0              0.0              0.0              0.0  \n",
       "1              0.0              0.0              0.0  \n",
       "2              0.0              0.0              0.0  \n",
       "3              0.0              0.0              0.0  \n",
       "4              0.0              0.0              0.0  \n",
       "\n",
       "[5 rows x 68 columns]"
      ]
     },
     "execution_count": 207,
     "metadata": {},
     "output_type": "execute_result"
    }
   ],
   "source": [
    "# fill the nan with 0\n",
    "df = df[new_columns]\n",
    "df.fillna(0,inplace=True)\n",
    "df.head()"
   ]
  },
  {
   "cell_type": "code",
   "execution_count": 208,
   "id": "therapeutic-passion",
   "metadata": {
    "scrolled": true
   },
   "outputs": [
    {
     "data": {
      "text/plain": [
       "['Subject',\n",
       " 'Start Datetime',\n",
       " 'End Datetime',\n",
       " 'Filename',\n",
       " 'Experiment',\n",
       " 'Group',\n",
       " 'Box',\n",
       " 'MSN',\n",
       " 'FR',\n",
       " 'Active Lever Presses',\n",
       " 'Inactive Lever Presses',\n",
       " 'Reward',\n",
       " 'Timeout',\n",
       " 'Active 1',\n",
       " 'Active 2',\n",
       " 'Active 3',\n",
       " 'Active 4',\n",
       " 'Active 5',\n",
       " 'Active 6',\n",
       " 'Active 7',\n",
       " 'Active 8',\n",
       " 'Active 9',\n",
       " 'Active 10',\n",
       " 'Active 11',\n",
       " 'Active 12',\n",
       " 'Active 13',\n",
       " 'Active 14',\n",
       " 'Active 15',\n",
       " 'Active 16',\n",
       " 'Active 17',\n",
       " 'Active 18',\n",
       " 'Active 19',\n",
       " 'Active 20',\n",
       " 'Active 21',\n",
       " 'Active 22',\n",
       " 'Active 23',\n",
       " 'Active 24',\n",
       " 'Inactive 1',\n",
       " 'Inactive 2',\n",
       " 'Inactive 3',\n",
       " 'Inactive 4',\n",
       " 'Inactive 5',\n",
       " 'Inactive 6',\n",
       " 'Inactive 7',\n",
       " 'Reward 1',\n",
       " 'Reward 2',\n",
       " 'Reward 3',\n",
       " 'Reward 4',\n",
       " 'Reward 5',\n",
       " 'Reward 6',\n",
       " 'Reward 7',\n",
       " 'Reward 8',\n",
       " 'Reward 9',\n",
       " 'Reward 10',\n",
       " 'Reward 11',\n",
       " 'Reward 12',\n",
       " 'Reward 13',\n",
       " 'Reward 14',\n",
       " 'Reward 15',\n",
       " 'Reward 16',\n",
       " 'Timeout Press 1',\n",
       " 'Timeout Press 2',\n",
       " 'Timeout Press 3',\n",
       " 'Timeout Press 4',\n",
       " 'Timeout Press 5',\n",
       " 'Timeout Press 6',\n",
       " 'Timeout Press 7',\n",
       " 'Timeout Press 8']"
      ]
     },
     "execution_count": 208,
     "metadata": {},
     "output_type": "execute_result"
    }
   ],
   "source": [
    "df.columns.tolist()"
   ]
  },
  {
   "cell_type": "code",
   "execution_count": 209,
   "id": "tender-cowboy",
   "metadata": {},
   "outputs": [],
   "source": [
    "df.to_excel('output_clean.xlsx')"
   ]
  },
  {
   "cell_type": "markdown",
   "id": "invisible-chassis",
   "metadata": {},
   "source": [
    "----------------------"
   ]
  },
  {
   "cell_type": "code",
   "execution_count": 210,
   "id": "suspected-registrar",
   "metadata": {},
   "outputs": [],
   "source": [
    "# transforming time\n",
    "df_time = df.copy()\n",
    "cols = df_time.columns.tolist()\n",
    "cutoff = cols.index('Active 1')"
   ]
  },
  {
   "cell_type": "code",
   "execution_count": 211,
   "id": "seeing-period",
   "metadata": {
    "scrolled": true
   },
   "outputs": [],
   "source": [
    "time_begin = df_time['Start Datetime'].min().time()\n",
    "time_to_minus = datetime.timedelta(hours=time_begin.hour,\n",
    "                                   minutes=time_begin.minute,\n",
    "                                   seconds=time_begin.second)"
   ]
  },
  {
   "cell_type": "code",
   "execution_count": 212,
   "id": "dated-malpractice",
   "metadata": {},
   "outputs": [],
   "source": [
    "def tranform_to_time(row):\n",
    "    start_time = row['Start Datetime']\n",
    "    for col in cols[cutoff:]:\n",
    "        secs = row[col]\n",
    "        if secs != 0:\n",
    "            row[col] = start_time + datetime.timedelta(seconds=secs) - time_to_minus\n",
    "        else:\n",
    "            pass\n",
    "    return row"
   ]
  },
  {
   "cell_type": "code",
   "execution_count": 213,
   "id": "trying-dating",
   "metadata": {},
   "outputs": [
    {
     "data": {
      "text/html": [
       "<div>\n",
       "<style scoped>\n",
       "    .dataframe tbody tr th:only-of-type {\n",
       "        vertical-align: middle;\n",
       "    }\n",
       "\n",
       "    .dataframe tbody tr th {\n",
       "        vertical-align: top;\n",
       "    }\n",
       "\n",
       "    .dataframe thead th {\n",
       "        text-align: right;\n",
       "    }\n",
       "</style>\n",
       "<table border=\"1\" class=\"dataframe\">\n",
       "  <thead>\n",
       "    <tr style=\"text-align: right;\">\n",
       "      <th></th>\n",
       "      <th>Subject</th>\n",
       "      <th>Start Datetime</th>\n",
       "      <th>End Datetime</th>\n",
       "      <th>Filename</th>\n",
       "      <th>Experiment</th>\n",
       "      <th>Group</th>\n",
       "      <th>Box</th>\n",
       "      <th>MSN</th>\n",
       "      <th>FR</th>\n",
       "      <th>Active Lever Presses</th>\n",
       "      <th>...</th>\n",
       "      <th>Reward 15</th>\n",
       "      <th>Reward 16</th>\n",
       "      <th>Timeout Press 1</th>\n",
       "      <th>Timeout Press 2</th>\n",
       "      <th>Timeout Press 3</th>\n",
       "      <th>Timeout Press 4</th>\n",
       "      <th>Timeout Press 5</th>\n",
       "      <th>Timeout Press 6</th>\n",
       "      <th>Timeout Press 7</th>\n",
       "      <th>Timeout Press 8</th>\n",
       "    </tr>\n",
       "  </thead>\n",
       "  <tbody>\n",
       "    <tr>\n",
       "      <th>0</th>\n",
       "      <td>F1501</td>\n",
       "      <td>2021-11-29 15:14:20</td>\n",
       "      <td>2021-11-29 17:41:30</td>\n",
       "      <td>C:\\MED-PC IV\\DATA\\MTF134BC15HSOXYSHA01</td>\n",
       "      <td>0</td>\n",
       "      <td>0</td>\n",
       "      <td>1</td>\n",
       "      <td>GWAS 2hNEW</td>\n",
       "      <td>0</td>\n",
       "      <td>4.0</td>\n",
       "      <td>...</td>\n",
       "      <td>0.0</td>\n",
       "      <td>0.0</td>\n",
       "      <td>2021-11-29 00:04:43</td>\n",
       "      <td>2021-11-29 00:04:44</td>\n",
       "      <td>0.0</td>\n",
       "      <td>0.0</td>\n",
       "      <td>0.0</td>\n",
       "      <td>0.0</td>\n",
       "      <td>0.0</td>\n",
       "      <td>0.0</td>\n",
       "    </tr>\n",
       "    <tr>\n",
       "      <th>1</th>\n",
       "      <td>F1502</td>\n",
       "      <td>2021-11-29 15:14:24</td>\n",
       "      <td>2021-11-29 17:41:30</td>\n",
       "      <td>MTF134BC15HSOXYSHA01\\n</td>\n",
       "      <td>0</td>\n",
       "      <td>0</td>\n",
       "      <td>2</td>\n",
       "      <td>GWAS 2hNEW</td>\n",
       "      <td>0</td>\n",
       "      <td>0.0</td>\n",
       "      <td>...</td>\n",
       "      <td>0.0</td>\n",
       "      <td>0.0</td>\n",
       "      <td>0.0</td>\n",
       "      <td>0.0</td>\n",
       "      <td>0.0</td>\n",
       "      <td>0.0</td>\n",
       "      <td>0.0</td>\n",
       "      <td>0.0</td>\n",
       "      <td>0.0</td>\n",
       "      <td>0.0</td>\n",
       "    </tr>\n",
       "    <tr>\n",
       "      <th>2</th>\n",
       "      <td>F1503</td>\n",
       "      <td>2021-11-29 15:14:27</td>\n",
       "      <td>2021-11-29 17:41:30</td>\n",
       "      <td>MTF134BC15HSOXYSHA01\\n</td>\n",
       "      <td>0</td>\n",
       "      <td>0</td>\n",
       "      <td>3</td>\n",
       "      <td>GWAS 2hNEW</td>\n",
       "      <td>0</td>\n",
       "      <td>0.0</td>\n",
       "      <td>...</td>\n",
       "      <td>0.0</td>\n",
       "      <td>0.0</td>\n",
       "      <td>0.0</td>\n",
       "      <td>0.0</td>\n",
       "      <td>0.0</td>\n",
       "      <td>0.0</td>\n",
       "      <td>0.0</td>\n",
       "      <td>0.0</td>\n",
       "      <td>0.0</td>\n",
       "      <td>0.0</td>\n",
       "    </tr>\n",
       "    <tr>\n",
       "      <th>3</th>\n",
       "      <td>F1504</td>\n",
       "      <td>2021-11-29 15:14:30</td>\n",
       "      <td>2021-11-29 17:41:30</td>\n",
       "      <td>MTF134BC15HSOXYSHA01\\n</td>\n",
       "      <td>0</td>\n",
       "      <td>0</td>\n",
       "      <td>4</td>\n",
       "      <td>GWAS 2hNEW</td>\n",
       "      <td>0</td>\n",
       "      <td>10.0</td>\n",
       "      <td>...</td>\n",
       "      <td>0.0</td>\n",
       "      <td>0.0</td>\n",
       "      <td>2021-11-29 01:25:51</td>\n",
       "      <td>2021-11-29 01:25:55</td>\n",
       "      <td>2021-11-29 01:26:18</td>\n",
       "      <td>2021-11-29 01:26:22</td>\n",
       "      <td>0.0</td>\n",
       "      <td>0.0</td>\n",
       "      <td>0.0</td>\n",
       "      <td>0.0</td>\n",
       "    </tr>\n",
       "    <tr>\n",
       "      <th>4</th>\n",
       "      <td>F1505</td>\n",
       "      <td>2021-11-29 15:14:46</td>\n",
       "      <td>2021-11-29 17:41:30</td>\n",
       "      <td>MTF134BC15HSOXYSHA01\\n</td>\n",
       "      <td>0</td>\n",
       "      <td>0</td>\n",
       "      <td>5</td>\n",
       "      <td>GWAS 2hNEW</td>\n",
       "      <td>0</td>\n",
       "      <td>0.0</td>\n",
       "      <td>...</td>\n",
       "      <td>0.0</td>\n",
       "      <td>0.0</td>\n",
       "      <td>0.0</td>\n",
       "      <td>0.0</td>\n",
       "      <td>0.0</td>\n",
       "      <td>0.0</td>\n",
       "      <td>0.0</td>\n",
       "      <td>0.0</td>\n",
       "      <td>0.0</td>\n",
       "      <td>0.0</td>\n",
       "    </tr>\n",
       "  </tbody>\n",
       "</table>\n",
       "<p>5 rows × 68 columns</p>\n",
       "</div>"
      ],
      "text/plain": [
       "0 Subject      Start Datetime        End Datetime  \\\n",
       "0   F1501 2021-11-29 15:14:20 2021-11-29 17:41:30   \n",
       "1   F1502 2021-11-29 15:14:24 2021-11-29 17:41:30   \n",
       "2   F1503 2021-11-29 15:14:27 2021-11-29 17:41:30   \n",
       "3   F1504 2021-11-29 15:14:30 2021-11-29 17:41:30   \n",
       "4   F1505 2021-11-29 15:14:46 2021-11-29 17:41:30   \n",
       "\n",
       "0                                Filename Experiment Group  Box         MSN  \\\n",
       "0  C:\\MED-PC IV\\DATA\\MTF134BC15HSOXYSHA01          0     0    1  GWAS 2hNEW   \n",
       "1                  MTF134BC15HSOXYSHA01\\n          0     0    2  GWAS 2hNEW   \n",
       "2                  MTF134BC15HSOXYSHA01\\n          0     0    3  GWAS 2hNEW   \n",
       "3                  MTF134BC15HSOXYSHA01\\n          0     0    4  GWAS 2hNEW   \n",
       "4                  MTF134BC15HSOXYSHA01\\n          0     0    5  GWAS 2hNEW   \n",
       "\n",
       "0  FR  Active Lever Presses  ...  Reward 15  Reward 16      Timeout Press 1  \\\n",
       "0   0                   4.0  ...        0.0        0.0  2021-11-29 00:04:43   \n",
       "1   0                   0.0  ...        0.0        0.0                  0.0   \n",
       "2   0                   0.0  ...        0.0        0.0                  0.0   \n",
       "3   0                  10.0  ...        0.0        0.0  2021-11-29 01:25:51   \n",
       "4   0                   0.0  ...        0.0        0.0                  0.0   \n",
       "\n",
       "0      Timeout Press 2      Timeout Press 3      Timeout Press 4  \\\n",
       "0  2021-11-29 00:04:44                  0.0                  0.0   \n",
       "1                  0.0                  0.0                  0.0   \n",
       "2                  0.0                  0.0                  0.0   \n",
       "3  2021-11-29 01:25:55  2021-11-29 01:26:18  2021-11-29 01:26:22   \n",
       "4                  0.0                  0.0                  0.0   \n",
       "\n",
       "0 Timeout Press 5 Timeout Press 6 Timeout Press 7 Timeout Press 8  \n",
       "0             0.0             0.0             0.0             0.0  \n",
       "1             0.0             0.0             0.0             0.0  \n",
       "2             0.0             0.0             0.0             0.0  \n",
       "3             0.0             0.0             0.0             0.0  \n",
       "4             0.0             0.0             0.0             0.0  \n",
       "\n",
       "[5 rows x 68 columns]"
      ]
     },
     "execution_count": 213,
     "metadata": {},
     "output_type": "execute_result"
    }
   ],
   "source": [
    "df_time = df_time.apply(tranform_to_time,axis=1)\n",
    "df_time.head()"
   ]
  },
  {
   "cell_type": "code",
   "execution_count": 214,
   "id": "roman-technique",
   "metadata": {
    "scrolled": true
   },
   "outputs": [
    {
     "data": {
      "text/plain": [
       "732"
      ]
     },
     "execution_count": 214,
     "metadata": {},
     "output_type": "execute_result"
    }
   ],
   "source": [
    "# Number of zeros\n",
    "df_time[cols[cutoff:]].replace(0,np.nan).isna().sum().sum()"
   ]
  },
  {
   "cell_type": "code",
   "execution_count": 228,
   "id": "level-relation",
   "metadata": {},
   "outputs": [
    {
     "name": "stdout",
     "output_type": "stream",
     "text": [
      "F1501 Active 1 2021-11-29 00:00:26\n",
      "-----\n",
      "F1501 Active 2 2021-11-29 00:04:43\n",
      "-----\n",
      "F1501 Active 3 2021-11-29 00:04:43\n",
      "-----\n",
      "F1501 Active 4 2021-11-29 00:04:44\n",
      "-----\n",
      "F1501 Inactive 1 2021-11-29 00:20:50\n",
      "-----\n",
      "F1501 Reward 1 2021-11-29 00:00:26\n",
      "-----\n",
      "F1501 Reward 2 2021-11-29 00:04:43\n",
      "-----\n",
      "F1501 Timeout Press 1 2021-11-29 00:04:43\n",
      "-----\n",
      "F1501 Timeout Press 2 2021-11-29 00:04:44\n",
      "-----\n",
      "F1503 Inactive 1 2021-11-29 01:52:59\n",
      "-----\n",
      "F1504 Active 1 2021-11-29 00:01:47\n",
      "-----\n",
      "F1504 Active 2 2021-11-29 01:25:37\n",
      "-----\n",
      "F1504 Active 3 2021-11-29 01:25:51\n",
      "-----\n",
      "F1504 Active 4 2021-11-29 01:25:55\n",
      "-----\n",
      "F1504 Active 5 2021-11-29 01:26:16\n",
      "-----\n",
      "F1504 Active 6 2021-11-29 01:26:18\n",
      "-----\n",
      "F1504 Active 7 2021-11-29 01:26:22\n",
      "-----\n",
      "F1504 Active 8 2021-11-29 01:27:09\n",
      "-----\n",
      "F1504 Active 9 2021-11-29 01:27:31\n",
      "-----\n",
      "F1504 Active 10 2021-11-29 01:28:13\n",
      "-----\n",
      "F1504 Inactive 1 2021-11-29 01:26:25\n",
      "-----\n",
      "F1504 Inactive 2 2021-11-29 01:27:56\n",
      "-----\n",
      "F1504 Inactive 3 2021-11-29 01:27:57\n",
      "-----\n",
      "F1504 Inactive 4 2021-11-29 01:27:58\n",
      "-----\n",
      "F1504 Inactive 5 2021-11-29 01:28:00\n",
      "-----\n",
      "F1504 Reward 1 2021-11-29 00:01:47\n",
      "-----\n",
      "F1504 Reward 2 2021-11-29 01:25:37\n",
      "-----\n",
      "F1504 Reward 3 2021-11-29 01:26:16\n",
      "-----\n",
      "F1504 Reward 4 2021-11-29 01:27:09\n",
      "-----\n",
      "F1504 Reward 5 2021-11-29 01:27:31\n",
      "-----\n",
      "F1504 Reward 6 2021-11-29 01:28:13\n",
      "-----\n",
      "F1504 Timeout Press 1 2021-11-29 01:25:51\n",
      "-----\n",
      "F1504 Timeout Press 2 2021-11-29 01:25:55\n",
      "-----\n",
      "F1504 Timeout Press 3 2021-11-29 01:26:18\n",
      "-----\n",
      "F1504 Timeout Press 4 2021-11-29 01:26:22\n",
      "-----\n",
      "F1506 Inactive 1 2021-11-29 01:23:37\n",
      "-----\n",
      "F1508 Active 1 2021-11-29 00:38:49\n",
      "-----\n",
      "F1508 Active 2 2021-11-29 00:39:34\n",
      "-----\n",
      "F1508 Active 3 2021-11-29 00:45:02\n",
      "-----\n",
      "F1508 Active 4 2021-11-29 00:45:11\n",
      "-----\n",
      "F1508 Active 5 2021-11-29 00:46:10\n",
      "-----\n",
      "F1508 Active 6 2021-11-29 02:17:43\n",
      "-----\n",
      "F1508 Active 7 2021-11-29 02:17:58\n",
      "-----\n",
      "F1508 Inactive 1 2021-11-29 01:11:22\n",
      "-----\n",
      "F1508 Inactive 2 2021-11-29 02:10:41\n",
      "-----\n",
      "F1508 Reward 1 2021-11-29 00:38:49\n",
      "-----\n",
      "F1508 Reward 2 2021-11-29 00:39:34\n",
      "-----\n",
      "F1508 Reward 3 2021-11-29 00:45:02\n",
      "-----\n",
      "F1508 Reward 4 2021-11-29 00:46:10\n",
      "-----\n",
      "F1508 Reward 5 2021-11-29 02:17:43\n",
      "-----\n",
      "F1508 Timeout Press 1 2021-11-29 00:45:11\n",
      "-----\n",
      "F1508 Timeout Press 2 2021-11-29 02:17:58\n",
      "-----\n",
      "F1509 Active 1 2021-11-29 00:31:20\n",
      "-----\n",
      "F1509 Active 2 2021-11-29 01:18:38\n",
      "-----\n",
      "F1509 Inactive 1 2021-11-29 00:51:50\n",
      "-----\n",
      "F1509 Inactive 2 2021-11-29 01:22:20\n",
      "-----\n",
      "F1509 Inactive 3 2021-11-29 01:22:26\n",
      "-----\n",
      "F1509 Inactive 4 2021-11-29 01:22:29\n",
      "-----\n",
      "F1509 Inactive 5 2021-11-29 01:22:37\n",
      "-----\n",
      "F1509 Inactive 6 2021-11-29 01:22:39\n",
      "-----\n",
      "F1509 Inactive 7 2021-11-29 02:02:07\n",
      "-----\n",
      "F1509 Reward 1 2021-11-29 00:31:20\n",
      "-----\n",
      "F1509 Reward 2 2021-11-29 01:18:38\n",
      "-----\n",
      "F1510 Inactive 1 2021-11-29 00:26:08\n",
      "-----\n",
      "F1511 Active 1 2021-11-29 00:42:47\n",
      "-----\n",
      "F1511 Active 2 2021-11-29 01:13:29\n",
      "-----\n",
      "F1511 Active 3 2021-11-29 01:13:38\n",
      "-----\n",
      "F1511 Active 4 2021-11-29 01:13:39\n",
      "-----\n",
      "F1511 Inactive 1 2021-11-29 00:47:27\n",
      "-----\n",
      "F1511 Inactive 2 2021-11-29 01:02:48\n",
      "-----\n",
      "F1511 Reward 1 2021-11-29 00:42:47\n",
      "-----\n",
      "F1511 Reward 2 2021-11-29 01:13:29\n",
      "-----\n",
      "F1511 Timeout Press 1 2021-11-29 01:13:38\n",
      "-----\n",
      "F1511 Timeout Press 2 2021-11-29 01:13:39\n",
      "-----\n",
      "F1512 Active 1 2021-11-29 02:01:21\n",
      "-----\n",
      "F1512 Active 2 2021-11-29 02:01:58\n",
      "-----\n",
      "F1512 Active 3 2021-11-29 02:02:12\n",
      "-----\n",
      "F1512 Inactive 1 2021-11-29 02:00:19\n",
      "-----\n",
      "F1512 Inactive 2 2021-11-29 02:00:35\n",
      "-----\n",
      "F1512 Reward 1 2021-11-29 02:01:21\n",
      "-----\n",
      "F1512 Reward 2 2021-11-29 02:01:58\n",
      "-----\n",
      "F1512 Timeout Press 1 2021-11-29 02:02:12\n",
      "-----\n",
      "F1513 Active 1 2021-11-29 01:10:45\n",
      "-----\n",
      "F1513 Reward 1 2021-11-29 01:10:45\n",
      "-----\n",
      "F1514 Active 1 2021-11-29 01:07:56\n",
      "-----\n",
      "F1514 Active 2 2021-11-29 01:08:01\n",
      "-----\n",
      "F1514 Active 3 2021-11-29 01:08:20\n",
      "-----\n",
      "F1514 Active 4 2021-11-29 01:47:18\n",
      "-----\n",
      "F1514 Active 5 2021-11-29 01:47:20\n",
      "-----\n",
      "F1514 Active 6 2021-11-29 01:48:10\n",
      "-----\n",
      "F1514 Reward 1 2021-11-29 01:07:56\n",
      "-----\n",
      "F1514 Reward 2 2021-11-29 01:08:20\n",
      "-----\n",
      "F1514 Reward 3 2021-11-29 01:47:18\n",
      "-----\n",
      "F1514 Reward 4 2021-11-29 01:48:10\n",
      "-----\n",
      "F1514 Timeout Press 1 2021-11-29 01:08:01\n",
      "-----\n",
      "F1514 Timeout Press 2 2021-11-29 01:47:20\n",
      "-----\n",
      "F1515 Active 1 2021-11-29 01:47:46\n",
      "-----\n",
      "F1515 Reward 1 2021-11-29 01:47:46\n",
      "-----\n",
      "F1516 Active 1 2021-11-29 00:31:25\n",
      "-----\n",
      "F1516 Active 2 2021-11-29 00:31:29\n",
      "-----\n",
      "F1516 Active 3 2021-11-29 00:31:32\n",
      "-----\n",
      "F1516 Active 4 2021-11-29 00:31:42\n",
      "-----\n",
      "F1516 Active 5 2021-11-29 00:31:45\n",
      "-----\n",
      "F1516 Active 6 2021-11-29 00:32:21\n",
      "-----\n",
      "F1516 Active 7 2021-11-29 00:33:19\n",
      "-----\n",
      "F1516 Active 8 2021-11-29 00:35:05\n",
      "-----\n",
      "F1516 Active 9 2021-11-29 00:38:43\n",
      "-----\n",
      "F1516 Active 10 2021-11-29 00:40:42\n",
      "-----\n",
      "F1516 Active 11 2021-11-29 00:53:33\n",
      "-----\n",
      "F1516 Active 12 2021-11-29 00:53:37\n",
      "-----\n",
      "F1516 Active 13 2021-11-29 00:53:39\n",
      "-----\n",
      "F1516 Active 14 2021-11-29 00:54:29\n",
      "-----\n",
      "F1516 Active 15 2021-11-29 01:02:25\n",
      "-----\n",
      "F1516 Active 16 2021-11-29 01:11:44\n",
      "-----\n",
      "F1516 Active 17 2021-11-29 01:18:58\n",
      "-----\n",
      "F1516 Active 18 2021-11-29 01:59:47\n",
      "-----\n",
      "F1516 Active 19 2021-11-29 01:59:47\n",
      "-----\n",
      "F1516 Active 20 2021-11-29 02:13:09\n",
      "-----\n",
      "F1516 Active 21 2021-11-29 02:17:35\n",
      "-----\n",
      "F1516 Active 22 2021-11-29 02:17:54\n",
      "-----\n",
      "F1516 Active 23 2021-11-29 02:17:59\n",
      "-----\n",
      "F1516 Active 24 2021-11-29 02:18:10\n",
      "-----\n",
      "F1516 Inactive 1 2021-11-29 00:32:13\n",
      "-----\n",
      "F1516 Inactive 2 2021-11-29 00:32:13\n",
      "-----\n",
      "F1516 Reward 1 2021-11-29 00:31:25\n",
      "-----\n",
      "F1516 Reward 2 2021-11-29 00:31:45\n",
      "-----\n",
      "F1516 Reward 3 2021-11-29 00:32:21\n",
      "-----\n",
      "F1516 Reward 4 2021-11-29 00:33:19\n",
      "-----\n",
      "F1516 Reward 5 2021-11-29 00:35:05\n",
      "-----\n",
      "F1516 Reward 6 2021-11-29 00:38:43\n",
      "-----\n",
      "F1516 Reward 7 2021-11-29 00:40:42\n",
      "-----\n",
      "F1516 Reward 8 2021-11-29 00:53:33\n",
      "-----\n",
      "F1516 Reward 9 2021-11-29 00:54:29\n",
      "-----\n",
      "F1516 Reward 10 2021-11-29 01:02:25\n",
      "-----\n",
      "F1516 Reward 11 2021-11-29 01:11:44\n",
      "-----\n",
      "F1516 Reward 12 2021-11-29 01:18:58\n",
      "-----\n",
      "F1516 Reward 13 2021-11-29 01:59:47\n",
      "-----\n",
      "F1516 Reward 14 2021-11-29 02:13:09\n",
      "-----\n",
      "F1516 Reward 15 2021-11-29 02:17:35\n",
      "-----\n",
      "F1516 Reward 16 2021-11-29 02:17:59\n",
      "-----\n",
      "F1516 Timeout Press 1 2021-11-29 00:31:29\n",
      "-----\n",
      "F1516 Timeout Press 2 2021-11-29 00:31:32\n",
      "-----\n",
      "F1516 Timeout Press 3 2021-11-29 00:31:42\n",
      "-----\n",
      "F1516 Timeout Press 4 2021-11-29 00:53:37\n",
      "-----\n",
      "F1516 Timeout Press 5 2021-11-29 00:53:39\n",
      "-----\n",
      "F1516 Timeout Press 6 2021-11-29 01:59:47\n",
      "-----\n",
      "F1516 Timeout Press 7 2021-11-29 02:17:54\n",
      "-----\n",
      "F1516 Timeout Press 8 2021-11-29 02:18:10\n",
      "-----\n"
     ]
    }
   ],
   "source": [
    "stats = []\n",
    "for i in range(16):\n",
    "    test_row = df_time.iloc[i]\n",
    "    for col in cols[cutoff:]:\n",
    "        stat = []\n",
    "        if type(test_row[col]) != float:\n",
    "            print(test_row['Subject'],col, test_row[col])\n",
    "            print('-----')\n",
    "            stat.append(test_row['Subject'])\n",
    "            stat.append(test_row[col])\n",
    "            stat.append(test_row[col] + datetime.timedelta(seconds=20))\n",
    "            stat.append(col.split(' ')[0])\n",
    "            stats.append(stat)\n",
    "        else:\n",
    "            pass"
   ]
  },
  {
   "cell_type": "code",
   "execution_count": 229,
   "id": "phantom-journey",
   "metadata": {
    "scrolled": true
   },
   "outputs": [
    {
     "data": {
      "text/plain": [
       "148"
      ]
     },
     "execution_count": 229,
     "metadata": {},
     "output_type": "execute_result"
    }
   ],
   "source": [
    "len(stats)"
   ]
  },
  {
   "cell_type": "code",
   "execution_count": 230,
   "id": "wrong-music",
   "metadata": {
    "scrolled": true
   },
   "outputs": [
    {
     "data": {
      "text/html": [
       "<div>\n",
       "<style scoped>\n",
       "    .dataframe tbody tr th:only-of-type {\n",
       "        vertical-align: middle;\n",
       "    }\n",
       "\n",
       "    .dataframe tbody tr th {\n",
       "        vertical-align: top;\n",
       "    }\n",
       "\n",
       "    .dataframe thead th {\n",
       "        text-align: right;\n",
       "    }\n",
       "</style>\n",
       "<table border=\"1\" class=\"dataframe\">\n",
       "  <thead>\n",
       "    <tr style=\"text-align: right;\">\n",
       "      <th></th>\n",
       "      <th>Subject</th>\n",
       "      <th>Start</th>\n",
       "      <th>End</th>\n",
       "      <th>Type</th>\n",
       "    </tr>\n",
       "  </thead>\n",
       "  <tbody>\n",
       "    <tr>\n",
       "      <th>0</th>\n",
       "      <td>F1501</td>\n",
       "      <td>2021-11-29 00:00:26</td>\n",
       "      <td>2021-11-29 00:00:46</td>\n",
       "      <td>Active</td>\n",
       "    </tr>\n",
       "    <tr>\n",
       "      <th>1</th>\n",
       "      <td>F1501</td>\n",
       "      <td>2021-11-29 00:04:43</td>\n",
       "      <td>2021-11-29 00:05:03</td>\n",
       "      <td>Active</td>\n",
       "    </tr>\n",
       "    <tr>\n",
       "      <th>2</th>\n",
       "      <td>F1501</td>\n",
       "      <td>2021-11-29 00:04:43</td>\n",
       "      <td>2021-11-29 00:05:03</td>\n",
       "      <td>Active</td>\n",
       "    </tr>\n",
       "    <tr>\n",
       "      <th>3</th>\n",
       "      <td>F1501</td>\n",
       "      <td>2021-11-29 00:04:44</td>\n",
       "      <td>2021-11-29 00:05:04</td>\n",
       "      <td>Active</td>\n",
       "    </tr>\n",
       "    <tr>\n",
       "      <th>4</th>\n",
       "      <td>F1501</td>\n",
       "      <td>2021-11-29 00:20:50</td>\n",
       "      <td>2021-11-29 00:21:10</td>\n",
       "      <td>Inactive</td>\n",
       "    </tr>\n",
       "    <tr>\n",
       "      <th>...</th>\n",
       "      <td>...</td>\n",
       "      <td>...</td>\n",
       "      <td>...</td>\n",
       "      <td>...</td>\n",
       "    </tr>\n",
       "    <tr>\n",
       "      <th>143</th>\n",
       "      <td>F1516</td>\n",
       "      <td>2021-11-29 00:53:37</td>\n",
       "      <td>2021-11-29 00:53:57</td>\n",
       "      <td>Timeout</td>\n",
       "    </tr>\n",
       "    <tr>\n",
       "      <th>144</th>\n",
       "      <td>F1516</td>\n",
       "      <td>2021-11-29 00:53:39</td>\n",
       "      <td>2021-11-29 00:53:59</td>\n",
       "      <td>Timeout</td>\n",
       "    </tr>\n",
       "    <tr>\n",
       "      <th>145</th>\n",
       "      <td>F1516</td>\n",
       "      <td>2021-11-29 01:59:47</td>\n",
       "      <td>2021-11-29 02:00:07</td>\n",
       "      <td>Timeout</td>\n",
       "    </tr>\n",
       "    <tr>\n",
       "      <th>146</th>\n",
       "      <td>F1516</td>\n",
       "      <td>2021-11-29 02:17:54</td>\n",
       "      <td>2021-11-29 02:18:14</td>\n",
       "      <td>Timeout</td>\n",
       "    </tr>\n",
       "    <tr>\n",
       "      <th>147</th>\n",
       "      <td>F1516</td>\n",
       "      <td>2021-11-29 02:18:10</td>\n",
       "      <td>2021-11-29 02:18:30</td>\n",
       "      <td>Timeout</td>\n",
       "    </tr>\n",
       "  </tbody>\n",
       "</table>\n",
       "<p>148 rows × 4 columns</p>\n",
       "</div>"
      ],
      "text/plain": [
       "    Subject               Start                 End      Type\n",
       "0     F1501 2021-11-29 00:00:26 2021-11-29 00:00:46    Active\n",
       "1     F1501 2021-11-29 00:04:43 2021-11-29 00:05:03    Active\n",
       "2     F1501 2021-11-29 00:04:43 2021-11-29 00:05:03    Active\n",
       "3     F1501 2021-11-29 00:04:44 2021-11-29 00:05:04    Active\n",
       "4     F1501 2021-11-29 00:20:50 2021-11-29 00:21:10  Inactive\n",
       "..      ...                 ...                 ...       ...\n",
       "143   F1516 2021-11-29 00:53:37 2021-11-29 00:53:57   Timeout\n",
       "144   F1516 2021-11-29 00:53:39 2021-11-29 00:53:59   Timeout\n",
       "145   F1516 2021-11-29 01:59:47 2021-11-29 02:00:07   Timeout\n",
       "146   F1516 2021-11-29 02:17:54 2021-11-29 02:18:14   Timeout\n",
       "147   F1516 2021-11-29 02:18:10 2021-11-29 02:18:30   Timeout\n",
       "\n",
       "[148 rows x 4 columns]"
      ]
     },
     "execution_count": 230,
     "metadata": {},
     "output_type": "execute_result"
    }
   ],
   "source": [
    "timeline_data = pd.DataFrame(stats,columns = ['Subject','Start','End','Type'])\n",
    "timeline_data"
   ]
  },
  {
   "cell_type": "code",
   "execution_count": 235,
   "id": "daily-reverse",
   "metadata": {},
   "outputs": [],
   "source": [
    "timeline_data.to_excel('timeline_data.xlsx')"
   ]
  },
  {
   "cell_type": "code",
   "execution_count": 231,
   "id": "radio-match",
   "metadata": {},
   "outputs": [],
   "source": [
    "import plotly.express as px"
   ]
  },
  {
   "cell_type": "code",
   "execution_count": 232,
   "id": "monetary-classics",
   "metadata": {},
   "outputs": [],
   "source": [
    "def make_timeline(df):\n",
    "    fig = px.timeline(df, x_start=\"Start\", x_end=\"End\", y=\"Subject\",color='Type')\n",
    "    \n",
    "    fig.update_xaxes(\n",
    "        tickformat=\"%H:%M:%S\",\n",
    "        tickformatstops=[\n",
    "            dict(dtickrange=[1800000, 10800000], value=\"%H:%M\")]  # range is 1 hour to 24 hours\n",
    "    )\n",
    "    \n",
    "    fig.update_yaxes(categoryorder=\"category ascending\")\n",
    "    \n",
    "    fig.update_layout({\n",
    "        'plot_bgcolor': 'rgba(0, 0, 0, 0)',\n",
    "        'paper_bgcolor': 'rgba(0, 0, 0, 0)',\n",
    "        })\n",
    "    \n",
    "    fig.show()"
   ]
  },
  {
   "cell_type": "code",
   "execution_count": 197,
   "id": "under-formula",
   "metadata": {
    "scrolled": true
   },
   "outputs": [
    {
     "data": {
      "application/vnd.plotly.v1+json": {
       "config": {
        "plotlyServerURL": "https://plot.ly"
       },
       "data": [
        {
         "alignmentgroup": "True",
         "base": [
          "2021-11-29T00:20:50",
          "2021-11-29T01:52:59",
          "2021-11-29T01:26:25",
          "2021-11-29T01:27:56",
          "2021-11-29T01:27:57",
          "2021-11-29T01:27:58",
          "2021-11-29T01:28:00",
          "2021-11-29T01:23:37",
          "2021-11-29T01:11:22",
          "2021-11-29T02:10:41",
          "2021-11-29T00:51:50",
          "2021-11-29T01:22:20",
          "2021-11-29T01:22:26",
          "2021-11-29T01:22:29",
          "2021-11-29T01:22:37",
          "2021-11-29T01:22:39",
          "2021-11-29T02:02:07",
          "2021-11-29T00:26:08",
          "2021-11-29T00:47:27",
          "2021-11-29T01:02:48",
          "2021-11-29T02:00:19",
          "2021-11-29T02:00:35",
          "2021-11-29T00:32:13",
          "2021-11-29T00:32:13"
         ],
         "hovertemplate": "Type=Inactive<br>Start=%{base}<br>End=%{x}<br>Subject=%{y}<extra></extra>",
         "legendgroup": "Inactive",
         "marker": {
          "color": "#636efa"
         },
         "name": "Inactive",
         "offsetgroup": "Inactive",
         "orientation": "h",
         "showlegend": true,
         "textposition": "auto",
         "type": "bar",
         "x": [
          10000,
          10000,
          10000,
          10000,
          10000,
          10000,
          10000,
          10000,
          10000,
          10000,
          10000,
          10000,
          10000,
          10000,
          10000,
          10000,
          10000,
          10000,
          10000,
          10000,
          10000,
          10000,
          10000,
          10000
         ],
         "xaxis": "x",
         "y": [
          "F1501",
          "F1503",
          "F1504",
          "F1504",
          "F1504",
          "F1504",
          "F1504",
          "F1506",
          "F1508",
          "F1508",
          "F1509",
          "F1509",
          "F1509",
          "F1509",
          "F1509",
          "F1509",
          "F1509",
          "F1510",
          "F1511",
          "F1511",
          "F1512",
          "F1512",
          "F1516",
          "F1516"
         ],
         "yaxis": "y"
        }
       ],
       "layout": {
        "barmode": "overlay",
        "legend": {
         "title": {
          "text": "Type"
         },
         "tracegroupgap": 0
        },
        "margin": {
         "t": 60
        },
        "paper_bgcolor": "rgba(0, 0, 0, 0)",
        "plot_bgcolor": "rgba(0, 0, 0, 0)",
        "template": {
         "data": {
          "bar": [
           {
            "error_x": {
             "color": "#2a3f5f"
            },
            "error_y": {
             "color": "#2a3f5f"
            },
            "marker": {
             "line": {
              "color": "#E5ECF6",
              "width": 0.5
             },
             "pattern": {
              "fillmode": "overlay",
              "size": 10,
              "solidity": 0.2
             }
            },
            "type": "bar"
           }
          ],
          "barpolar": [
           {
            "marker": {
             "line": {
              "color": "#E5ECF6",
              "width": 0.5
             },
             "pattern": {
              "fillmode": "overlay",
              "size": 10,
              "solidity": 0.2
             }
            },
            "type": "barpolar"
           }
          ],
          "carpet": [
           {
            "aaxis": {
             "endlinecolor": "#2a3f5f",
             "gridcolor": "white",
             "linecolor": "white",
             "minorgridcolor": "white",
             "startlinecolor": "#2a3f5f"
            },
            "baxis": {
             "endlinecolor": "#2a3f5f",
             "gridcolor": "white",
             "linecolor": "white",
             "minorgridcolor": "white",
             "startlinecolor": "#2a3f5f"
            },
            "type": "carpet"
           }
          ],
          "choropleth": [
           {
            "colorbar": {
             "outlinewidth": 0,
             "ticks": ""
            },
            "type": "choropleth"
           }
          ],
          "contour": [
           {
            "colorbar": {
             "outlinewidth": 0,
             "ticks": ""
            },
            "colorscale": [
             [
              0,
              "#0d0887"
             ],
             [
              0.1111111111111111,
              "#46039f"
             ],
             [
              0.2222222222222222,
              "#7201a8"
             ],
             [
              0.3333333333333333,
              "#9c179e"
             ],
             [
              0.4444444444444444,
              "#bd3786"
             ],
             [
              0.5555555555555556,
              "#d8576b"
             ],
             [
              0.6666666666666666,
              "#ed7953"
             ],
             [
              0.7777777777777778,
              "#fb9f3a"
             ],
             [
              0.8888888888888888,
              "#fdca26"
             ],
             [
              1,
              "#f0f921"
             ]
            ],
            "type": "contour"
           }
          ],
          "contourcarpet": [
           {
            "colorbar": {
             "outlinewidth": 0,
             "ticks": ""
            },
            "type": "contourcarpet"
           }
          ],
          "heatmap": [
           {
            "colorbar": {
             "outlinewidth": 0,
             "ticks": ""
            },
            "colorscale": [
             [
              0,
              "#0d0887"
             ],
             [
              0.1111111111111111,
              "#46039f"
             ],
             [
              0.2222222222222222,
              "#7201a8"
             ],
             [
              0.3333333333333333,
              "#9c179e"
             ],
             [
              0.4444444444444444,
              "#bd3786"
             ],
             [
              0.5555555555555556,
              "#d8576b"
             ],
             [
              0.6666666666666666,
              "#ed7953"
             ],
             [
              0.7777777777777778,
              "#fb9f3a"
             ],
             [
              0.8888888888888888,
              "#fdca26"
             ],
             [
              1,
              "#f0f921"
             ]
            ],
            "type": "heatmap"
           }
          ],
          "heatmapgl": [
           {
            "colorbar": {
             "outlinewidth": 0,
             "ticks": ""
            },
            "colorscale": [
             [
              0,
              "#0d0887"
             ],
             [
              0.1111111111111111,
              "#46039f"
             ],
             [
              0.2222222222222222,
              "#7201a8"
             ],
             [
              0.3333333333333333,
              "#9c179e"
             ],
             [
              0.4444444444444444,
              "#bd3786"
             ],
             [
              0.5555555555555556,
              "#d8576b"
             ],
             [
              0.6666666666666666,
              "#ed7953"
             ],
             [
              0.7777777777777778,
              "#fb9f3a"
             ],
             [
              0.8888888888888888,
              "#fdca26"
             ],
             [
              1,
              "#f0f921"
             ]
            ],
            "type": "heatmapgl"
           }
          ],
          "histogram": [
           {
            "marker": {
             "pattern": {
              "fillmode": "overlay",
              "size": 10,
              "solidity": 0.2
             }
            },
            "type": "histogram"
           }
          ],
          "histogram2d": [
           {
            "colorbar": {
             "outlinewidth": 0,
             "ticks": ""
            },
            "colorscale": [
             [
              0,
              "#0d0887"
             ],
             [
              0.1111111111111111,
              "#46039f"
             ],
             [
              0.2222222222222222,
              "#7201a8"
             ],
             [
              0.3333333333333333,
              "#9c179e"
             ],
             [
              0.4444444444444444,
              "#bd3786"
             ],
             [
              0.5555555555555556,
              "#d8576b"
             ],
             [
              0.6666666666666666,
              "#ed7953"
             ],
             [
              0.7777777777777778,
              "#fb9f3a"
             ],
             [
              0.8888888888888888,
              "#fdca26"
             ],
             [
              1,
              "#f0f921"
             ]
            ],
            "type": "histogram2d"
           }
          ],
          "histogram2dcontour": [
           {
            "colorbar": {
             "outlinewidth": 0,
             "ticks": ""
            },
            "colorscale": [
             [
              0,
              "#0d0887"
             ],
             [
              0.1111111111111111,
              "#46039f"
             ],
             [
              0.2222222222222222,
              "#7201a8"
             ],
             [
              0.3333333333333333,
              "#9c179e"
             ],
             [
              0.4444444444444444,
              "#bd3786"
             ],
             [
              0.5555555555555556,
              "#d8576b"
             ],
             [
              0.6666666666666666,
              "#ed7953"
             ],
             [
              0.7777777777777778,
              "#fb9f3a"
             ],
             [
              0.8888888888888888,
              "#fdca26"
             ],
             [
              1,
              "#f0f921"
             ]
            ],
            "type": "histogram2dcontour"
           }
          ],
          "mesh3d": [
           {
            "colorbar": {
             "outlinewidth": 0,
             "ticks": ""
            },
            "type": "mesh3d"
           }
          ],
          "parcoords": [
           {
            "line": {
             "colorbar": {
              "outlinewidth": 0,
              "ticks": ""
             }
            },
            "type": "parcoords"
           }
          ],
          "pie": [
           {
            "automargin": true,
            "type": "pie"
           }
          ],
          "scatter": [
           {
            "marker": {
             "colorbar": {
              "outlinewidth": 0,
              "ticks": ""
             }
            },
            "type": "scatter"
           }
          ],
          "scatter3d": [
           {
            "line": {
             "colorbar": {
              "outlinewidth": 0,
              "ticks": ""
             }
            },
            "marker": {
             "colorbar": {
              "outlinewidth": 0,
              "ticks": ""
             }
            },
            "type": "scatter3d"
           }
          ],
          "scattercarpet": [
           {
            "marker": {
             "colorbar": {
              "outlinewidth": 0,
              "ticks": ""
             }
            },
            "type": "scattercarpet"
           }
          ],
          "scattergeo": [
           {
            "marker": {
             "colorbar": {
              "outlinewidth": 0,
              "ticks": ""
             }
            },
            "type": "scattergeo"
           }
          ],
          "scattergl": [
           {
            "marker": {
             "colorbar": {
              "outlinewidth": 0,
              "ticks": ""
             }
            },
            "type": "scattergl"
           }
          ],
          "scattermapbox": [
           {
            "marker": {
             "colorbar": {
              "outlinewidth": 0,
              "ticks": ""
             }
            },
            "type": "scattermapbox"
           }
          ],
          "scatterpolar": [
           {
            "marker": {
             "colorbar": {
              "outlinewidth": 0,
              "ticks": ""
             }
            },
            "type": "scatterpolar"
           }
          ],
          "scatterpolargl": [
           {
            "marker": {
             "colorbar": {
              "outlinewidth": 0,
              "ticks": ""
             }
            },
            "type": "scatterpolargl"
           }
          ],
          "scatterternary": [
           {
            "marker": {
             "colorbar": {
              "outlinewidth": 0,
              "ticks": ""
             }
            },
            "type": "scatterternary"
           }
          ],
          "surface": [
           {
            "colorbar": {
             "outlinewidth": 0,
             "ticks": ""
            },
            "colorscale": [
             [
              0,
              "#0d0887"
             ],
             [
              0.1111111111111111,
              "#46039f"
             ],
             [
              0.2222222222222222,
              "#7201a8"
             ],
             [
              0.3333333333333333,
              "#9c179e"
             ],
             [
              0.4444444444444444,
              "#bd3786"
             ],
             [
              0.5555555555555556,
              "#d8576b"
             ],
             [
              0.6666666666666666,
              "#ed7953"
             ],
             [
              0.7777777777777778,
              "#fb9f3a"
             ],
             [
              0.8888888888888888,
              "#fdca26"
             ],
             [
              1,
              "#f0f921"
             ]
            ],
            "type": "surface"
           }
          ],
          "table": [
           {
            "cells": {
             "fill": {
              "color": "#EBF0F8"
             },
             "line": {
              "color": "white"
             }
            },
            "header": {
             "fill": {
              "color": "#C8D4E3"
             },
             "line": {
              "color": "white"
             }
            },
            "type": "table"
           }
          ]
         },
         "layout": {
          "annotationdefaults": {
           "arrowcolor": "#2a3f5f",
           "arrowhead": 0,
           "arrowwidth": 1
          },
          "autotypenumbers": "strict",
          "coloraxis": {
           "colorbar": {
            "outlinewidth": 0,
            "ticks": ""
           }
          },
          "colorscale": {
           "diverging": [
            [
             0,
             "#8e0152"
            ],
            [
             0.1,
             "#c51b7d"
            ],
            [
             0.2,
             "#de77ae"
            ],
            [
             0.3,
             "#f1b6da"
            ],
            [
             0.4,
             "#fde0ef"
            ],
            [
             0.5,
             "#f7f7f7"
            ],
            [
             0.6,
             "#e6f5d0"
            ],
            [
             0.7,
             "#b8e186"
            ],
            [
             0.8,
             "#7fbc41"
            ],
            [
             0.9,
             "#4d9221"
            ],
            [
             1,
             "#276419"
            ]
           ],
           "sequential": [
            [
             0,
             "#0d0887"
            ],
            [
             0.1111111111111111,
             "#46039f"
            ],
            [
             0.2222222222222222,
             "#7201a8"
            ],
            [
             0.3333333333333333,
             "#9c179e"
            ],
            [
             0.4444444444444444,
             "#bd3786"
            ],
            [
             0.5555555555555556,
             "#d8576b"
            ],
            [
             0.6666666666666666,
             "#ed7953"
            ],
            [
             0.7777777777777778,
             "#fb9f3a"
            ],
            [
             0.8888888888888888,
             "#fdca26"
            ],
            [
             1,
             "#f0f921"
            ]
           ],
           "sequentialminus": [
            [
             0,
             "#0d0887"
            ],
            [
             0.1111111111111111,
             "#46039f"
            ],
            [
             0.2222222222222222,
             "#7201a8"
            ],
            [
             0.3333333333333333,
             "#9c179e"
            ],
            [
             0.4444444444444444,
             "#bd3786"
            ],
            [
             0.5555555555555556,
             "#d8576b"
            ],
            [
             0.6666666666666666,
             "#ed7953"
            ],
            [
             0.7777777777777778,
             "#fb9f3a"
            ],
            [
             0.8888888888888888,
             "#fdca26"
            ],
            [
             1,
             "#f0f921"
            ]
           ]
          },
          "colorway": [
           "#636efa",
           "#EF553B",
           "#00cc96",
           "#ab63fa",
           "#FFA15A",
           "#19d3f3",
           "#FF6692",
           "#B6E880",
           "#FF97FF",
           "#FECB52"
          ],
          "font": {
           "color": "#2a3f5f"
          },
          "geo": {
           "bgcolor": "white",
           "lakecolor": "white",
           "landcolor": "#E5ECF6",
           "showlakes": true,
           "showland": true,
           "subunitcolor": "white"
          },
          "hoverlabel": {
           "align": "left"
          },
          "hovermode": "closest",
          "mapbox": {
           "style": "light"
          },
          "paper_bgcolor": "white",
          "plot_bgcolor": "#E5ECF6",
          "polar": {
           "angularaxis": {
            "gridcolor": "white",
            "linecolor": "white",
            "ticks": ""
           },
           "bgcolor": "#E5ECF6",
           "radialaxis": {
            "gridcolor": "white",
            "linecolor": "white",
            "ticks": ""
           }
          },
          "scene": {
           "xaxis": {
            "backgroundcolor": "#E5ECF6",
            "gridcolor": "white",
            "gridwidth": 2,
            "linecolor": "white",
            "showbackground": true,
            "ticks": "",
            "zerolinecolor": "white"
           },
           "yaxis": {
            "backgroundcolor": "#E5ECF6",
            "gridcolor": "white",
            "gridwidth": 2,
            "linecolor": "white",
            "showbackground": true,
            "ticks": "",
            "zerolinecolor": "white"
           },
           "zaxis": {
            "backgroundcolor": "#E5ECF6",
            "gridcolor": "white",
            "gridwidth": 2,
            "linecolor": "white",
            "showbackground": true,
            "ticks": "",
            "zerolinecolor": "white"
           }
          },
          "shapedefaults": {
           "line": {
            "color": "#2a3f5f"
           }
          },
          "ternary": {
           "aaxis": {
            "gridcolor": "white",
            "linecolor": "white",
            "ticks": ""
           },
           "baxis": {
            "gridcolor": "white",
            "linecolor": "white",
            "ticks": ""
           },
           "bgcolor": "#E5ECF6",
           "caxis": {
            "gridcolor": "white",
            "linecolor": "white",
            "ticks": ""
           }
          },
          "title": {
           "x": 0.05
          },
          "xaxis": {
           "automargin": true,
           "gridcolor": "white",
           "linecolor": "white",
           "ticks": "",
           "title": {
            "standoff": 15
           },
           "zerolinecolor": "white",
           "zerolinewidth": 2
          },
          "yaxis": {
           "automargin": true,
           "gridcolor": "white",
           "linecolor": "white",
           "ticks": "",
           "title": {
            "standoff": 15
           },
           "zerolinecolor": "white",
           "zerolinewidth": 2
          }
         }
        },
        "xaxis": {
         "anchor": "y",
         "domain": [
          0,
          1
         ],
         "tickformat": "%H:%M:%S",
         "tickformatstops": [
          {
           "dtickrange": [
            1800000,
            10800000
           ],
           "value": "%H:%M"
          }
         ],
         "type": "date"
        },
        "yaxis": {
         "anchor": "x",
         "categoryorder": "category ascending",
         "domain": [
          0,
          1
         ],
         "title": {
          "text": "Subject"
         }
        }
       }
      },
      "text/html": [
       "<div>                            <div id=\"67278c68-5187-434c-8aeb-3d3dee95b42a\" class=\"plotly-graph-div\" style=\"height:525px; width:100%;\"></div>            <script type=\"text/javascript\">                require([\"plotly\"], function(Plotly) {                    window.PLOTLYENV=window.PLOTLYENV || {};                                    if (document.getElementById(\"67278c68-5187-434c-8aeb-3d3dee95b42a\")) {                    Plotly.newPlot(                        \"67278c68-5187-434c-8aeb-3d3dee95b42a\",                        [{\"alignmentgroup\":\"True\",\"base\":[\"2021-11-29T00:20:50\",\"2021-11-29T01:52:59\",\"2021-11-29T01:26:25\",\"2021-11-29T01:27:56\",\"2021-11-29T01:27:57\",\"2021-11-29T01:27:58\",\"2021-11-29T01:28:00\",\"2021-11-29T01:23:37\",\"2021-11-29T01:11:22\",\"2021-11-29T02:10:41\",\"2021-11-29T00:51:50\",\"2021-11-29T01:22:20\",\"2021-11-29T01:22:26\",\"2021-11-29T01:22:29\",\"2021-11-29T01:22:37\",\"2021-11-29T01:22:39\",\"2021-11-29T02:02:07\",\"2021-11-29T00:26:08\",\"2021-11-29T00:47:27\",\"2021-11-29T01:02:48\",\"2021-11-29T02:00:19\",\"2021-11-29T02:00:35\",\"2021-11-29T00:32:13\",\"2021-11-29T00:32:13\"],\"hovertemplate\":\"Type=Inactive<br>Start=%{base}<br>End=%{x}<br>Subject=%{y}<extra></extra>\",\"legendgroup\":\"Inactive\",\"marker\":{\"color\":\"#636efa\"},\"name\":\"Inactive\",\"offsetgroup\":\"Inactive\",\"orientation\":\"h\",\"showlegend\":true,\"textposition\":\"auto\",\"x\":[10000.0,10000.0,10000.0,10000.0,10000.0,10000.0,10000.0,10000.0,10000.0,10000.0,10000.0,10000.0,10000.0,10000.0,10000.0,10000.0,10000.0,10000.0,10000.0,10000.0,10000.0,10000.0,10000.0,10000.0],\"xaxis\":\"x\",\"y\":[\"F1501\",\"F1503\",\"F1504\",\"F1504\",\"F1504\",\"F1504\",\"F1504\",\"F1506\",\"F1508\",\"F1508\",\"F1509\",\"F1509\",\"F1509\",\"F1509\",\"F1509\",\"F1509\",\"F1509\",\"F1510\",\"F1511\",\"F1511\",\"F1512\",\"F1512\",\"F1516\",\"F1516\"],\"yaxis\":\"y\",\"type\":\"bar\"}],                        {\"template\":{\"data\":{\"bar\":[{\"error_x\":{\"color\":\"#2a3f5f\"},\"error_y\":{\"color\":\"#2a3f5f\"},\"marker\":{\"line\":{\"color\":\"#E5ECF6\",\"width\":0.5},\"pattern\":{\"fillmode\":\"overlay\",\"size\":10,\"solidity\":0.2}},\"type\":\"bar\"}],\"barpolar\":[{\"marker\":{\"line\":{\"color\":\"#E5ECF6\",\"width\":0.5},\"pattern\":{\"fillmode\":\"overlay\",\"size\":10,\"solidity\":0.2}},\"type\":\"barpolar\"}],\"carpet\":[{\"aaxis\":{\"endlinecolor\":\"#2a3f5f\",\"gridcolor\":\"white\",\"linecolor\":\"white\",\"minorgridcolor\":\"white\",\"startlinecolor\":\"#2a3f5f\"},\"baxis\":{\"endlinecolor\":\"#2a3f5f\",\"gridcolor\":\"white\",\"linecolor\":\"white\",\"minorgridcolor\":\"white\",\"startlinecolor\":\"#2a3f5f\"},\"type\":\"carpet\"}],\"choropleth\":[{\"colorbar\":{\"outlinewidth\":0,\"ticks\":\"\"},\"type\":\"choropleth\"}],\"contour\":[{\"colorbar\":{\"outlinewidth\":0,\"ticks\":\"\"},\"colorscale\":[[0.0,\"#0d0887\"],[0.1111111111111111,\"#46039f\"],[0.2222222222222222,\"#7201a8\"],[0.3333333333333333,\"#9c179e\"],[0.4444444444444444,\"#bd3786\"],[0.5555555555555556,\"#d8576b\"],[0.6666666666666666,\"#ed7953\"],[0.7777777777777778,\"#fb9f3a\"],[0.8888888888888888,\"#fdca26\"],[1.0,\"#f0f921\"]],\"type\":\"contour\"}],\"contourcarpet\":[{\"colorbar\":{\"outlinewidth\":0,\"ticks\":\"\"},\"type\":\"contourcarpet\"}],\"heatmap\":[{\"colorbar\":{\"outlinewidth\":0,\"ticks\":\"\"},\"colorscale\":[[0.0,\"#0d0887\"],[0.1111111111111111,\"#46039f\"],[0.2222222222222222,\"#7201a8\"],[0.3333333333333333,\"#9c179e\"],[0.4444444444444444,\"#bd3786\"],[0.5555555555555556,\"#d8576b\"],[0.6666666666666666,\"#ed7953\"],[0.7777777777777778,\"#fb9f3a\"],[0.8888888888888888,\"#fdca26\"],[1.0,\"#f0f921\"]],\"type\":\"heatmap\"}],\"heatmapgl\":[{\"colorbar\":{\"outlinewidth\":0,\"ticks\":\"\"},\"colorscale\":[[0.0,\"#0d0887\"],[0.1111111111111111,\"#46039f\"],[0.2222222222222222,\"#7201a8\"],[0.3333333333333333,\"#9c179e\"],[0.4444444444444444,\"#bd3786\"],[0.5555555555555556,\"#d8576b\"],[0.6666666666666666,\"#ed7953\"],[0.7777777777777778,\"#fb9f3a\"],[0.8888888888888888,\"#fdca26\"],[1.0,\"#f0f921\"]],\"type\":\"heatmapgl\"}],\"histogram\":[{\"marker\":{\"pattern\":{\"fillmode\":\"overlay\",\"size\":10,\"solidity\":0.2}},\"type\":\"histogram\"}],\"histogram2d\":[{\"colorbar\":{\"outlinewidth\":0,\"ticks\":\"\"},\"colorscale\":[[0.0,\"#0d0887\"],[0.1111111111111111,\"#46039f\"],[0.2222222222222222,\"#7201a8\"],[0.3333333333333333,\"#9c179e\"],[0.4444444444444444,\"#bd3786\"],[0.5555555555555556,\"#d8576b\"],[0.6666666666666666,\"#ed7953\"],[0.7777777777777778,\"#fb9f3a\"],[0.8888888888888888,\"#fdca26\"],[1.0,\"#f0f921\"]],\"type\":\"histogram2d\"}],\"histogram2dcontour\":[{\"colorbar\":{\"outlinewidth\":0,\"ticks\":\"\"},\"colorscale\":[[0.0,\"#0d0887\"],[0.1111111111111111,\"#46039f\"],[0.2222222222222222,\"#7201a8\"],[0.3333333333333333,\"#9c179e\"],[0.4444444444444444,\"#bd3786\"],[0.5555555555555556,\"#d8576b\"],[0.6666666666666666,\"#ed7953\"],[0.7777777777777778,\"#fb9f3a\"],[0.8888888888888888,\"#fdca26\"],[1.0,\"#f0f921\"]],\"type\":\"histogram2dcontour\"}],\"mesh3d\":[{\"colorbar\":{\"outlinewidth\":0,\"ticks\":\"\"},\"type\":\"mesh3d\"}],\"parcoords\":[{\"line\":{\"colorbar\":{\"outlinewidth\":0,\"ticks\":\"\"}},\"type\":\"parcoords\"}],\"pie\":[{\"automargin\":true,\"type\":\"pie\"}],\"scatter\":[{\"marker\":{\"colorbar\":{\"outlinewidth\":0,\"ticks\":\"\"}},\"type\":\"scatter\"}],\"scatter3d\":[{\"line\":{\"colorbar\":{\"outlinewidth\":0,\"ticks\":\"\"}},\"marker\":{\"colorbar\":{\"outlinewidth\":0,\"ticks\":\"\"}},\"type\":\"scatter3d\"}],\"scattercarpet\":[{\"marker\":{\"colorbar\":{\"outlinewidth\":0,\"ticks\":\"\"}},\"type\":\"scattercarpet\"}],\"scattergeo\":[{\"marker\":{\"colorbar\":{\"outlinewidth\":0,\"ticks\":\"\"}},\"type\":\"scattergeo\"}],\"scattergl\":[{\"marker\":{\"colorbar\":{\"outlinewidth\":0,\"ticks\":\"\"}},\"type\":\"scattergl\"}],\"scattermapbox\":[{\"marker\":{\"colorbar\":{\"outlinewidth\":0,\"ticks\":\"\"}},\"type\":\"scattermapbox\"}],\"scatterpolar\":[{\"marker\":{\"colorbar\":{\"outlinewidth\":0,\"ticks\":\"\"}},\"type\":\"scatterpolar\"}],\"scatterpolargl\":[{\"marker\":{\"colorbar\":{\"outlinewidth\":0,\"ticks\":\"\"}},\"type\":\"scatterpolargl\"}],\"scatterternary\":[{\"marker\":{\"colorbar\":{\"outlinewidth\":0,\"ticks\":\"\"}},\"type\":\"scatterternary\"}],\"surface\":[{\"colorbar\":{\"outlinewidth\":0,\"ticks\":\"\"},\"colorscale\":[[0.0,\"#0d0887\"],[0.1111111111111111,\"#46039f\"],[0.2222222222222222,\"#7201a8\"],[0.3333333333333333,\"#9c179e\"],[0.4444444444444444,\"#bd3786\"],[0.5555555555555556,\"#d8576b\"],[0.6666666666666666,\"#ed7953\"],[0.7777777777777778,\"#fb9f3a\"],[0.8888888888888888,\"#fdca26\"],[1.0,\"#f0f921\"]],\"type\":\"surface\"}],\"table\":[{\"cells\":{\"fill\":{\"color\":\"#EBF0F8\"},\"line\":{\"color\":\"white\"}},\"header\":{\"fill\":{\"color\":\"#C8D4E3\"},\"line\":{\"color\":\"white\"}},\"type\":\"table\"}]},\"layout\":{\"annotationdefaults\":{\"arrowcolor\":\"#2a3f5f\",\"arrowhead\":0,\"arrowwidth\":1},\"autotypenumbers\":\"strict\",\"coloraxis\":{\"colorbar\":{\"outlinewidth\":0,\"ticks\":\"\"}},\"colorscale\":{\"diverging\":[[0,\"#8e0152\"],[0.1,\"#c51b7d\"],[0.2,\"#de77ae\"],[0.3,\"#f1b6da\"],[0.4,\"#fde0ef\"],[0.5,\"#f7f7f7\"],[0.6,\"#e6f5d0\"],[0.7,\"#b8e186\"],[0.8,\"#7fbc41\"],[0.9,\"#4d9221\"],[1,\"#276419\"]],\"sequential\":[[0.0,\"#0d0887\"],[0.1111111111111111,\"#46039f\"],[0.2222222222222222,\"#7201a8\"],[0.3333333333333333,\"#9c179e\"],[0.4444444444444444,\"#bd3786\"],[0.5555555555555556,\"#d8576b\"],[0.6666666666666666,\"#ed7953\"],[0.7777777777777778,\"#fb9f3a\"],[0.8888888888888888,\"#fdca26\"],[1.0,\"#f0f921\"]],\"sequentialminus\":[[0.0,\"#0d0887\"],[0.1111111111111111,\"#46039f\"],[0.2222222222222222,\"#7201a8\"],[0.3333333333333333,\"#9c179e\"],[0.4444444444444444,\"#bd3786\"],[0.5555555555555556,\"#d8576b\"],[0.6666666666666666,\"#ed7953\"],[0.7777777777777778,\"#fb9f3a\"],[0.8888888888888888,\"#fdca26\"],[1.0,\"#f0f921\"]]},\"colorway\":[\"#636efa\",\"#EF553B\",\"#00cc96\",\"#ab63fa\",\"#FFA15A\",\"#19d3f3\",\"#FF6692\",\"#B6E880\",\"#FF97FF\",\"#FECB52\"],\"font\":{\"color\":\"#2a3f5f\"},\"geo\":{\"bgcolor\":\"white\",\"lakecolor\":\"white\",\"landcolor\":\"#E5ECF6\",\"showlakes\":true,\"showland\":true,\"subunitcolor\":\"white\"},\"hoverlabel\":{\"align\":\"left\"},\"hovermode\":\"closest\",\"mapbox\":{\"style\":\"light\"},\"paper_bgcolor\":\"white\",\"plot_bgcolor\":\"#E5ECF6\",\"polar\":{\"angularaxis\":{\"gridcolor\":\"white\",\"linecolor\":\"white\",\"ticks\":\"\"},\"bgcolor\":\"#E5ECF6\",\"radialaxis\":{\"gridcolor\":\"white\",\"linecolor\":\"white\",\"ticks\":\"\"}},\"scene\":{\"xaxis\":{\"backgroundcolor\":\"#E5ECF6\",\"gridcolor\":\"white\",\"gridwidth\":2,\"linecolor\":\"white\",\"showbackground\":true,\"ticks\":\"\",\"zerolinecolor\":\"white\"},\"yaxis\":{\"backgroundcolor\":\"#E5ECF6\",\"gridcolor\":\"white\",\"gridwidth\":2,\"linecolor\":\"white\",\"showbackground\":true,\"ticks\":\"\",\"zerolinecolor\":\"white\"},\"zaxis\":{\"backgroundcolor\":\"#E5ECF6\",\"gridcolor\":\"white\",\"gridwidth\":2,\"linecolor\":\"white\",\"showbackground\":true,\"ticks\":\"\",\"zerolinecolor\":\"white\"}},\"shapedefaults\":{\"line\":{\"color\":\"#2a3f5f\"}},\"ternary\":{\"aaxis\":{\"gridcolor\":\"white\",\"linecolor\":\"white\",\"ticks\":\"\"},\"baxis\":{\"gridcolor\":\"white\",\"linecolor\":\"white\",\"ticks\":\"\"},\"bgcolor\":\"#E5ECF6\",\"caxis\":{\"gridcolor\":\"white\",\"linecolor\":\"white\",\"ticks\":\"\"}},\"title\":{\"x\":0.05},\"xaxis\":{\"automargin\":true,\"gridcolor\":\"white\",\"linecolor\":\"white\",\"ticks\":\"\",\"title\":{\"standoff\":15},\"zerolinecolor\":\"white\",\"zerolinewidth\":2},\"yaxis\":{\"automargin\":true,\"gridcolor\":\"white\",\"linecolor\":\"white\",\"ticks\":\"\",\"title\":{\"standoff\":15},\"zerolinecolor\":\"white\",\"zerolinewidth\":2}}},\"xaxis\":{\"anchor\":\"y\",\"domain\":[0.0,1.0],\"type\":\"date\",\"tickformat\":\"%H:%M:%S\",\"tickformatstops\":[{\"dtickrange\":[1800000,10800000],\"value\":\"%H:%M\"}]},\"yaxis\":{\"anchor\":\"x\",\"domain\":[0.0,1.0],\"title\":{\"text\":\"Subject\"},\"categoryorder\":\"category ascending\"},\"legend\":{\"title\":{\"text\":\"Type\"},\"tracegroupgap\":0},\"margin\":{\"t\":60},\"barmode\":\"overlay\",\"plot_bgcolor\":\"rgba(0, 0, 0, 0)\",\"paper_bgcolor\":\"rgba(0, 0, 0, 0)\"},                        {\"responsive\": true}                    ).then(function(){\n",
       "                            \n",
       "var gd = document.getElementById('67278c68-5187-434c-8aeb-3d3dee95b42a');\n",
       "var x = new MutationObserver(function (mutations, observer) {{\n",
       "        var display = window.getComputedStyle(gd).display;\n",
       "        if (!display || display === 'none') {{\n",
       "            console.log([gd, 'removed!']);\n",
       "            Plotly.purge(gd);\n",
       "            observer.disconnect();\n",
       "        }}\n",
       "}});\n",
       "\n",
       "// Listen for the removal of the full notebook cells\n",
       "var notebookContainer = gd.closest('#notebook-container');\n",
       "if (notebookContainer) {{\n",
       "    x.observe(notebookContainer, {childList: true});\n",
       "}}\n",
       "\n",
       "// Listen for the clearing of the current output cell\n",
       "var outputEl = gd.closest('.output');\n",
       "if (outputEl) {{\n",
       "    x.observe(outputEl, {childList: true});\n",
       "}}\n",
       "\n",
       "                        })                };                });            </script>        </div>"
      ]
     },
     "metadata": {},
     "output_type": "display_data"
    }
   ],
   "source": [
    "make_timeline(timeline_data[timeline_data['Type']=='Inactive'])"
   ]
  },
  {
   "cell_type": "code",
   "execution_count": 233,
   "id": "attempted-terminology",
   "metadata": {
    "scrolled": false
   },
   "outputs": [
    {
     "data": {
      "application/vnd.plotly.v1+json": {
       "config": {
        "plotlyServerURL": "https://plot.ly"
       },
       "data": [
        {
         "alignmentgroup": "True",
         "base": [
          "2021-11-29T00:00:26",
          "2021-11-29T00:04:43",
          "2021-11-29T00:04:43",
          "2021-11-29T00:04:44",
          "2021-11-29T00:01:47",
          "2021-11-29T01:25:37",
          "2021-11-29T01:25:51",
          "2021-11-29T01:25:55",
          "2021-11-29T01:26:16",
          "2021-11-29T01:26:18",
          "2021-11-29T01:26:22",
          "2021-11-29T01:27:09",
          "2021-11-29T01:27:31",
          "2021-11-29T01:28:13",
          "2021-11-29T00:38:49",
          "2021-11-29T00:39:34",
          "2021-11-29T00:45:02",
          "2021-11-29T00:45:11",
          "2021-11-29T00:46:10",
          "2021-11-29T02:17:43",
          "2021-11-29T02:17:58",
          "2021-11-29T00:31:20",
          "2021-11-29T01:18:38",
          "2021-11-29T00:42:47",
          "2021-11-29T01:13:29",
          "2021-11-29T01:13:38",
          "2021-11-29T01:13:39",
          "2021-11-29T02:01:21",
          "2021-11-29T02:01:58",
          "2021-11-29T02:02:12",
          "2021-11-29T01:10:45",
          "2021-11-29T01:07:56",
          "2021-11-29T01:08:01",
          "2021-11-29T01:08:20",
          "2021-11-29T01:47:18",
          "2021-11-29T01:47:20",
          "2021-11-29T01:48:10",
          "2021-11-29T01:47:46",
          "2021-11-29T00:31:25",
          "2021-11-29T00:31:29",
          "2021-11-29T00:31:32",
          "2021-11-29T00:31:42",
          "2021-11-29T00:31:45",
          "2021-11-29T00:32:21",
          "2021-11-29T00:33:19",
          "2021-11-29T00:35:05",
          "2021-11-29T00:38:43",
          "2021-11-29T00:40:42",
          "2021-11-29T00:53:33",
          "2021-11-29T00:53:37",
          "2021-11-29T00:53:39",
          "2021-11-29T00:54:29",
          "2021-11-29T01:02:25",
          "2021-11-29T01:11:44",
          "2021-11-29T01:18:58",
          "2021-11-29T01:59:47",
          "2021-11-29T01:59:47",
          "2021-11-29T02:13:09",
          "2021-11-29T02:17:35",
          "2021-11-29T02:17:54",
          "2021-11-29T02:17:59",
          "2021-11-29T02:18:10"
         ],
         "hovertemplate": "Type=Active<br>Start=%{base}<br>End=%{x}<br>Subject=%{y}<extra></extra>",
         "legendgroup": "Active",
         "marker": {
          "color": "#636efa"
         },
         "name": "Active",
         "offsetgroup": "Active",
         "orientation": "h",
         "showlegend": true,
         "textposition": "auto",
         "type": "bar",
         "x": [
          20000,
          20000,
          20000,
          20000,
          20000,
          20000,
          20000,
          20000,
          20000,
          20000,
          20000,
          20000,
          20000,
          20000,
          20000,
          20000,
          20000,
          20000,
          20000,
          20000,
          20000,
          20000,
          20000,
          20000,
          20000,
          20000,
          20000,
          20000,
          20000,
          20000,
          20000,
          20000,
          20000,
          20000,
          20000,
          20000,
          20000,
          20000,
          20000,
          20000,
          20000,
          20000,
          20000,
          20000,
          20000,
          20000,
          20000,
          20000,
          20000,
          20000,
          20000,
          20000,
          20000,
          20000,
          20000,
          20000,
          20000,
          20000,
          20000,
          20000,
          20000,
          20000
         ],
         "xaxis": "x",
         "y": [
          "F1501",
          "F1501",
          "F1501",
          "F1501",
          "F1504",
          "F1504",
          "F1504",
          "F1504",
          "F1504",
          "F1504",
          "F1504",
          "F1504",
          "F1504",
          "F1504",
          "F1508",
          "F1508",
          "F1508",
          "F1508",
          "F1508",
          "F1508",
          "F1508",
          "F1509",
          "F1509",
          "F1511",
          "F1511",
          "F1511",
          "F1511",
          "F1512",
          "F1512",
          "F1512",
          "F1513",
          "F1514",
          "F1514",
          "F1514",
          "F1514",
          "F1514",
          "F1514",
          "F1515",
          "F1516",
          "F1516",
          "F1516",
          "F1516",
          "F1516",
          "F1516",
          "F1516",
          "F1516",
          "F1516",
          "F1516",
          "F1516",
          "F1516",
          "F1516",
          "F1516",
          "F1516",
          "F1516",
          "F1516",
          "F1516",
          "F1516",
          "F1516",
          "F1516",
          "F1516",
          "F1516",
          "F1516"
         ],
         "yaxis": "y"
        },
        {
         "alignmentgroup": "True",
         "base": [
          "2021-11-29T00:20:50",
          "2021-11-29T01:52:59",
          "2021-11-29T01:26:25",
          "2021-11-29T01:27:56",
          "2021-11-29T01:27:57",
          "2021-11-29T01:27:58",
          "2021-11-29T01:28:00",
          "2021-11-29T01:23:37",
          "2021-11-29T01:11:22",
          "2021-11-29T02:10:41",
          "2021-11-29T00:51:50",
          "2021-11-29T01:22:20",
          "2021-11-29T01:22:26",
          "2021-11-29T01:22:29",
          "2021-11-29T01:22:37",
          "2021-11-29T01:22:39",
          "2021-11-29T02:02:07",
          "2021-11-29T00:26:08",
          "2021-11-29T00:47:27",
          "2021-11-29T01:02:48",
          "2021-11-29T02:00:19",
          "2021-11-29T02:00:35",
          "2021-11-29T00:32:13",
          "2021-11-29T00:32:13"
         ],
         "hovertemplate": "Type=Inactive<br>Start=%{base}<br>End=%{x}<br>Subject=%{y}<extra></extra>",
         "legendgroup": "Inactive",
         "marker": {
          "color": "#EF553B"
         },
         "name": "Inactive",
         "offsetgroup": "Inactive",
         "orientation": "h",
         "showlegend": true,
         "textposition": "auto",
         "type": "bar",
         "x": [
          20000,
          20000,
          20000,
          20000,
          20000,
          20000,
          20000,
          20000,
          20000,
          20000,
          20000,
          20000,
          20000,
          20000,
          20000,
          20000,
          20000,
          20000,
          20000,
          20000,
          20000,
          20000,
          20000,
          20000
         ],
         "xaxis": "x",
         "y": [
          "F1501",
          "F1503",
          "F1504",
          "F1504",
          "F1504",
          "F1504",
          "F1504",
          "F1506",
          "F1508",
          "F1508",
          "F1509",
          "F1509",
          "F1509",
          "F1509",
          "F1509",
          "F1509",
          "F1509",
          "F1510",
          "F1511",
          "F1511",
          "F1512",
          "F1512",
          "F1516",
          "F1516"
         ],
         "yaxis": "y"
        },
        {
         "alignmentgroup": "True",
         "base": [
          "2021-11-29T00:00:26",
          "2021-11-29T00:04:43",
          "2021-11-29T00:01:47",
          "2021-11-29T01:25:37",
          "2021-11-29T01:26:16",
          "2021-11-29T01:27:09",
          "2021-11-29T01:27:31",
          "2021-11-29T01:28:13",
          "2021-11-29T00:38:49",
          "2021-11-29T00:39:34",
          "2021-11-29T00:45:02",
          "2021-11-29T00:46:10",
          "2021-11-29T02:17:43",
          "2021-11-29T00:31:20",
          "2021-11-29T01:18:38",
          "2021-11-29T00:42:47",
          "2021-11-29T01:13:29",
          "2021-11-29T02:01:21",
          "2021-11-29T02:01:58",
          "2021-11-29T01:10:45",
          "2021-11-29T01:07:56",
          "2021-11-29T01:08:20",
          "2021-11-29T01:47:18",
          "2021-11-29T01:48:10",
          "2021-11-29T01:47:46",
          "2021-11-29T00:31:25",
          "2021-11-29T00:31:45",
          "2021-11-29T00:32:21",
          "2021-11-29T00:33:19",
          "2021-11-29T00:35:05",
          "2021-11-29T00:38:43",
          "2021-11-29T00:40:42",
          "2021-11-29T00:53:33",
          "2021-11-29T00:54:29",
          "2021-11-29T01:02:25",
          "2021-11-29T01:11:44",
          "2021-11-29T01:18:58",
          "2021-11-29T01:59:47",
          "2021-11-29T02:13:09",
          "2021-11-29T02:17:35",
          "2021-11-29T02:17:59"
         ],
         "hovertemplate": "Type=Reward<br>Start=%{base}<br>End=%{x}<br>Subject=%{y}<extra></extra>",
         "legendgroup": "Reward",
         "marker": {
          "color": "#00cc96"
         },
         "name": "Reward",
         "offsetgroup": "Reward",
         "orientation": "h",
         "showlegend": true,
         "textposition": "auto",
         "type": "bar",
         "x": [
          20000,
          20000,
          20000,
          20000,
          20000,
          20000,
          20000,
          20000,
          20000,
          20000,
          20000,
          20000,
          20000,
          20000,
          20000,
          20000,
          20000,
          20000,
          20000,
          20000,
          20000,
          20000,
          20000,
          20000,
          20000,
          20000,
          20000,
          20000,
          20000,
          20000,
          20000,
          20000,
          20000,
          20000,
          20000,
          20000,
          20000,
          20000,
          20000,
          20000,
          20000
         ],
         "xaxis": "x",
         "y": [
          "F1501",
          "F1501",
          "F1504",
          "F1504",
          "F1504",
          "F1504",
          "F1504",
          "F1504",
          "F1508",
          "F1508",
          "F1508",
          "F1508",
          "F1508",
          "F1509",
          "F1509",
          "F1511",
          "F1511",
          "F1512",
          "F1512",
          "F1513",
          "F1514",
          "F1514",
          "F1514",
          "F1514",
          "F1515",
          "F1516",
          "F1516",
          "F1516",
          "F1516",
          "F1516",
          "F1516",
          "F1516",
          "F1516",
          "F1516",
          "F1516",
          "F1516",
          "F1516",
          "F1516",
          "F1516",
          "F1516",
          "F1516"
         ],
         "yaxis": "y"
        },
        {
         "alignmentgroup": "True",
         "base": [
          "2021-11-29T00:04:43",
          "2021-11-29T00:04:44",
          "2021-11-29T01:25:51",
          "2021-11-29T01:25:55",
          "2021-11-29T01:26:18",
          "2021-11-29T01:26:22",
          "2021-11-29T00:45:11",
          "2021-11-29T02:17:58",
          "2021-11-29T01:13:38",
          "2021-11-29T01:13:39",
          "2021-11-29T02:02:12",
          "2021-11-29T01:08:01",
          "2021-11-29T01:47:20",
          "2021-11-29T00:31:29",
          "2021-11-29T00:31:32",
          "2021-11-29T00:31:42",
          "2021-11-29T00:53:37",
          "2021-11-29T00:53:39",
          "2021-11-29T01:59:47",
          "2021-11-29T02:17:54",
          "2021-11-29T02:18:10"
         ],
         "hovertemplate": "Type=Timeout<br>Start=%{base}<br>End=%{x}<br>Subject=%{y}<extra></extra>",
         "legendgroup": "Timeout",
         "marker": {
          "color": "#ab63fa"
         },
         "name": "Timeout",
         "offsetgroup": "Timeout",
         "orientation": "h",
         "showlegend": true,
         "textposition": "auto",
         "type": "bar",
         "x": [
          20000,
          20000,
          20000,
          20000,
          20000,
          20000,
          20000,
          20000,
          20000,
          20000,
          20000,
          20000,
          20000,
          20000,
          20000,
          20000,
          20000,
          20000,
          20000,
          20000,
          20000
         ],
         "xaxis": "x",
         "y": [
          "F1501",
          "F1501",
          "F1504",
          "F1504",
          "F1504",
          "F1504",
          "F1508",
          "F1508",
          "F1511",
          "F1511",
          "F1512",
          "F1514",
          "F1514",
          "F1516",
          "F1516",
          "F1516",
          "F1516",
          "F1516",
          "F1516",
          "F1516",
          "F1516"
         ],
         "yaxis": "y"
        }
       ],
       "layout": {
        "barmode": "overlay",
        "legend": {
         "title": {
          "text": "Type"
         },
         "tracegroupgap": 0
        },
        "margin": {
         "t": 60
        },
        "paper_bgcolor": "rgba(0, 0, 0, 0)",
        "plot_bgcolor": "rgba(0, 0, 0, 0)",
        "template": {
         "data": {
          "bar": [
           {
            "error_x": {
             "color": "#2a3f5f"
            },
            "error_y": {
             "color": "#2a3f5f"
            },
            "marker": {
             "line": {
              "color": "#E5ECF6",
              "width": 0.5
             },
             "pattern": {
              "fillmode": "overlay",
              "size": 10,
              "solidity": 0.2
             }
            },
            "type": "bar"
           }
          ],
          "barpolar": [
           {
            "marker": {
             "line": {
              "color": "#E5ECF6",
              "width": 0.5
             },
             "pattern": {
              "fillmode": "overlay",
              "size": 10,
              "solidity": 0.2
             }
            },
            "type": "barpolar"
           }
          ],
          "carpet": [
           {
            "aaxis": {
             "endlinecolor": "#2a3f5f",
             "gridcolor": "white",
             "linecolor": "white",
             "minorgridcolor": "white",
             "startlinecolor": "#2a3f5f"
            },
            "baxis": {
             "endlinecolor": "#2a3f5f",
             "gridcolor": "white",
             "linecolor": "white",
             "minorgridcolor": "white",
             "startlinecolor": "#2a3f5f"
            },
            "type": "carpet"
           }
          ],
          "choropleth": [
           {
            "colorbar": {
             "outlinewidth": 0,
             "ticks": ""
            },
            "type": "choropleth"
           }
          ],
          "contour": [
           {
            "colorbar": {
             "outlinewidth": 0,
             "ticks": ""
            },
            "colorscale": [
             [
              0,
              "#0d0887"
             ],
             [
              0.1111111111111111,
              "#46039f"
             ],
             [
              0.2222222222222222,
              "#7201a8"
             ],
             [
              0.3333333333333333,
              "#9c179e"
             ],
             [
              0.4444444444444444,
              "#bd3786"
             ],
             [
              0.5555555555555556,
              "#d8576b"
             ],
             [
              0.6666666666666666,
              "#ed7953"
             ],
             [
              0.7777777777777778,
              "#fb9f3a"
             ],
             [
              0.8888888888888888,
              "#fdca26"
             ],
             [
              1,
              "#f0f921"
             ]
            ],
            "type": "contour"
           }
          ],
          "contourcarpet": [
           {
            "colorbar": {
             "outlinewidth": 0,
             "ticks": ""
            },
            "type": "contourcarpet"
           }
          ],
          "heatmap": [
           {
            "colorbar": {
             "outlinewidth": 0,
             "ticks": ""
            },
            "colorscale": [
             [
              0,
              "#0d0887"
             ],
             [
              0.1111111111111111,
              "#46039f"
             ],
             [
              0.2222222222222222,
              "#7201a8"
             ],
             [
              0.3333333333333333,
              "#9c179e"
             ],
             [
              0.4444444444444444,
              "#bd3786"
             ],
             [
              0.5555555555555556,
              "#d8576b"
             ],
             [
              0.6666666666666666,
              "#ed7953"
             ],
             [
              0.7777777777777778,
              "#fb9f3a"
             ],
             [
              0.8888888888888888,
              "#fdca26"
             ],
             [
              1,
              "#f0f921"
             ]
            ],
            "type": "heatmap"
           }
          ],
          "heatmapgl": [
           {
            "colorbar": {
             "outlinewidth": 0,
             "ticks": ""
            },
            "colorscale": [
             [
              0,
              "#0d0887"
             ],
             [
              0.1111111111111111,
              "#46039f"
             ],
             [
              0.2222222222222222,
              "#7201a8"
             ],
             [
              0.3333333333333333,
              "#9c179e"
             ],
             [
              0.4444444444444444,
              "#bd3786"
             ],
             [
              0.5555555555555556,
              "#d8576b"
             ],
             [
              0.6666666666666666,
              "#ed7953"
             ],
             [
              0.7777777777777778,
              "#fb9f3a"
             ],
             [
              0.8888888888888888,
              "#fdca26"
             ],
             [
              1,
              "#f0f921"
             ]
            ],
            "type": "heatmapgl"
           }
          ],
          "histogram": [
           {
            "marker": {
             "pattern": {
              "fillmode": "overlay",
              "size": 10,
              "solidity": 0.2
             }
            },
            "type": "histogram"
           }
          ],
          "histogram2d": [
           {
            "colorbar": {
             "outlinewidth": 0,
             "ticks": ""
            },
            "colorscale": [
             [
              0,
              "#0d0887"
             ],
             [
              0.1111111111111111,
              "#46039f"
             ],
             [
              0.2222222222222222,
              "#7201a8"
             ],
             [
              0.3333333333333333,
              "#9c179e"
             ],
             [
              0.4444444444444444,
              "#bd3786"
             ],
             [
              0.5555555555555556,
              "#d8576b"
             ],
             [
              0.6666666666666666,
              "#ed7953"
             ],
             [
              0.7777777777777778,
              "#fb9f3a"
             ],
             [
              0.8888888888888888,
              "#fdca26"
             ],
             [
              1,
              "#f0f921"
             ]
            ],
            "type": "histogram2d"
           }
          ],
          "histogram2dcontour": [
           {
            "colorbar": {
             "outlinewidth": 0,
             "ticks": ""
            },
            "colorscale": [
             [
              0,
              "#0d0887"
             ],
             [
              0.1111111111111111,
              "#46039f"
             ],
             [
              0.2222222222222222,
              "#7201a8"
             ],
             [
              0.3333333333333333,
              "#9c179e"
             ],
             [
              0.4444444444444444,
              "#bd3786"
             ],
             [
              0.5555555555555556,
              "#d8576b"
             ],
             [
              0.6666666666666666,
              "#ed7953"
             ],
             [
              0.7777777777777778,
              "#fb9f3a"
             ],
             [
              0.8888888888888888,
              "#fdca26"
             ],
             [
              1,
              "#f0f921"
             ]
            ],
            "type": "histogram2dcontour"
           }
          ],
          "mesh3d": [
           {
            "colorbar": {
             "outlinewidth": 0,
             "ticks": ""
            },
            "type": "mesh3d"
           }
          ],
          "parcoords": [
           {
            "line": {
             "colorbar": {
              "outlinewidth": 0,
              "ticks": ""
             }
            },
            "type": "parcoords"
           }
          ],
          "pie": [
           {
            "automargin": true,
            "type": "pie"
           }
          ],
          "scatter": [
           {
            "marker": {
             "colorbar": {
              "outlinewidth": 0,
              "ticks": ""
             }
            },
            "type": "scatter"
           }
          ],
          "scatter3d": [
           {
            "line": {
             "colorbar": {
              "outlinewidth": 0,
              "ticks": ""
             }
            },
            "marker": {
             "colorbar": {
              "outlinewidth": 0,
              "ticks": ""
             }
            },
            "type": "scatter3d"
           }
          ],
          "scattercarpet": [
           {
            "marker": {
             "colorbar": {
              "outlinewidth": 0,
              "ticks": ""
             }
            },
            "type": "scattercarpet"
           }
          ],
          "scattergeo": [
           {
            "marker": {
             "colorbar": {
              "outlinewidth": 0,
              "ticks": ""
             }
            },
            "type": "scattergeo"
           }
          ],
          "scattergl": [
           {
            "marker": {
             "colorbar": {
              "outlinewidth": 0,
              "ticks": ""
             }
            },
            "type": "scattergl"
           }
          ],
          "scattermapbox": [
           {
            "marker": {
             "colorbar": {
              "outlinewidth": 0,
              "ticks": ""
             }
            },
            "type": "scattermapbox"
           }
          ],
          "scatterpolar": [
           {
            "marker": {
             "colorbar": {
              "outlinewidth": 0,
              "ticks": ""
             }
            },
            "type": "scatterpolar"
           }
          ],
          "scatterpolargl": [
           {
            "marker": {
             "colorbar": {
              "outlinewidth": 0,
              "ticks": ""
             }
            },
            "type": "scatterpolargl"
           }
          ],
          "scatterternary": [
           {
            "marker": {
             "colorbar": {
              "outlinewidth": 0,
              "ticks": ""
             }
            },
            "type": "scatterternary"
           }
          ],
          "surface": [
           {
            "colorbar": {
             "outlinewidth": 0,
             "ticks": ""
            },
            "colorscale": [
             [
              0,
              "#0d0887"
             ],
             [
              0.1111111111111111,
              "#46039f"
             ],
             [
              0.2222222222222222,
              "#7201a8"
             ],
             [
              0.3333333333333333,
              "#9c179e"
             ],
             [
              0.4444444444444444,
              "#bd3786"
             ],
             [
              0.5555555555555556,
              "#d8576b"
             ],
             [
              0.6666666666666666,
              "#ed7953"
             ],
             [
              0.7777777777777778,
              "#fb9f3a"
             ],
             [
              0.8888888888888888,
              "#fdca26"
             ],
             [
              1,
              "#f0f921"
             ]
            ],
            "type": "surface"
           }
          ],
          "table": [
           {
            "cells": {
             "fill": {
              "color": "#EBF0F8"
             },
             "line": {
              "color": "white"
             }
            },
            "header": {
             "fill": {
              "color": "#C8D4E3"
             },
             "line": {
              "color": "white"
             }
            },
            "type": "table"
           }
          ]
         },
         "layout": {
          "annotationdefaults": {
           "arrowcolor": "#2a3f5f",
           "arrowhead": 0,
           "arrowwidth": 1
          },
          "autotypenumbers": "strict",
          "coloraxis": {
           "colorbar": {
            "outlinewidth": 0,
            "ticks": ""
           }
          },
          "colorscale": {
           "diverging": [
            [
             0,
             "#8e0152"
            ],
            [
             0.1,
             "#c51b7d"
            ],
            [
             0.2,
             "#de77ae"
            ],
            [
             0.3,
             "#f1b6da"
            ],
            [
             0.4,
             "#fde0ef"
            ],
            [
             0.5,
             "#f7f7f7"
            ],
            [
             0.6,
             "#e6f5d0"
            ],
            [
             0.7,
             "#b8e186"
            ],
            [
             0.8,
             "#7fbc41"
            ],
            [
             0.9,
             "#4d9221"
            ],
            [
             1,
             "#276419"
            ]
           ],
           "sequential": [
            [
             0,
             "#0d0887"
            ],
            [
             0.1111111111111111,
             "#46039f"
            ],
            [
             0.2222222222222222,
             "#7201a8"
            ],
            [
             0.3333333333333333,
             "#9c179e"
            ],
            [
             0.4444444444444444,
             "#bd3786"
            ],
            [
             0.5555555555555556,
             "#d8576b"
            ],
            [
             0.6666666666666666,
             "#ed7953"
            ],
            [
             0.7777777777777778,
             "#fb9f3a"
            ],
            [
             0.8888888888888888,
             "#fdca26"
            ],
            [
             1,
             "#f0f921"
            ]
           ],
           "sequentialminus": [
            [
             0,
             "#0d0887"
            ],
            [
             0.1111111111111111,
             "#46039f"
            ],
            [
             0.2222222222222222,
             "#7201a8"
            ],
            [
             0.3333333333333333,
             "#9c179e"
            ],
            [
             0.4444444444444444,
             "#bd3786"
            ],
            [
             0.5555555555555556,
             "#d8576b"
            ],
            [
             0.6666666666666666,
             "#ed7953"
            ],
            [
             0.7777777777777778,
             "#fb9f3a"
            ],
            [
             0.8888888888888888,
             "#fdca26"
            ],
            [
             1,
             "#f0f921"
            ]
           ]
          },
          "colorway": [
           "#636efa",
           "#EF553B",
           "#00cc96",
           "#ab63fa",
           "#FFA15A",
           "#19d3f3",
           "#FF6692",
           "#B6E880",
           "#FF97FF",
           "#FECB52"
          ],
          "font": {
           "color": "#2a3f5f"
          },
          "geo": {
           "bgcolor": "white",
           "lakecolor": "white",
           "landcolor": "#E5ECF6",
           "showlakes": true,
           "showland": true,
           "subunitcolor": "white"
          },
          "hoverlabel": {
           "align": "left"
          },
          "hovermode": "closest",
          "mapbox": {
           "style": "light"
          },
          "paper_bgcolor": "white",
          "plot_bgcolor": "#E5ECF6",
          "polar": {
           "angularaxis": {
            "gridcolor": "white",
            "linecolor": "white",
            "ticks": ""
           },
           "bgcolor": "#E5ECF6",
           "radialaxis": {
            "gridcolor": "white",
            "linecolor": "white",
            "ticks": ""
           }
          },
          "scene": {
           "xaxis": {
            "backgroundcolor": "#E5ECF6",
            "gridcolor": "white",
            "gridwidth": 2,
            "linecolor": "white",
            "showbackground": true,
            "ticks": "",
            "zerolinecolor": "white"
           },
           "yaxis": {
            "backgroundcolor": "#E5ECF6",
            "gridcolor": "white",
            "gridwidth": 2,
            "linecolor": "white",
            "showbackground": true,
            "ticks": "",
            "zerolinecolor": "white"
           },
           "zaxis": {
            "backgroundcolor": "#E5ECF6",
            "gridcolor": "white",
            "gridwidth": 2,
            "linecolor": "white",
            "showbackground": true,
            "ticks": "",
            "zerolinecolor": "white"
           }
          },
          "shapedefaults": {
           "line": {
            "color": "#2a3f5f"
           }
          },
          "ternary": {
           "aaxis": {
            "gridcolor": "white",
            "linecolor": "white",
            "ticks": ""
           },
           "baxis": {
            "gridcolor": "white",
            "linecolor": "white",
            "ticks": ""
           },
           "bgcolor": "#E5ECF6",
           "caxis": {
            "gridcolor": "white",
            "linecolor": "white",
            "ticks": ""
           }
          },
          "title": {
           "x": 0.05
          },
          "xaxis": {
           "automargin": true,
           "gridcolor": "white",
           "linecolor": "white",
           "ticks": "",
           "title": {
            "standoff": 15
           },
           "zerolinecolor": "white",
           "zerolinewidth": 2
          },
          "yaxis": {
           "automargin": true,
           "gridcolor": "white",
           "linecolor": "white",
           "ticks": "",
           "title": {
            "standoff": 15
           },
           "zerolinecolor": "white",
           "zerolinewidth": 2
          }
         }
        },
        "xaxis": {
         "anchor": "y",
         "domain": [
          0,
          1
         ],
         "tickformat": "%H:%M:%S",
         "tickformatstops": [
          {
           "dtickrange": [
            1800000,
            10800000
           ],
           "value": "%H:%M"
          }
         ],
         "type": "date"
        },
        "yaxis": {
         "anchor": "x",
         "categoryorder": "category ascending",
         "domain": [
          0,
          1
         ],
         "title": {
          "text": "Subject"
         }
        }
       }
      },
      "text/html": [
       "<div>                            <div id=\"529d6f5d-368c-4e48-90fd-9c2b0d071cdb\" class=\"plotly-graph-div\" style=\"height:525px; width:100%;\"></div>            <script type=\"text/javascript\">                require([\"plotly\"], function(Plotly) {                    window.PLOTLYENV=window.PLOTLYENV || {};                                    if (document.getElementById(\"529d6f5d-368c-4e48-90fd-9c2b0d071cdb\")) {                    Plotly.newPlot(                        \"529d6f5d-368c-4e48-90fd-9c2b0d071cdb\",                        [{\"alignmentgroup\":\"True\",\"base\":[\"2021-11-29T00:00:26\",\"2021-11-29T00:04:43\",\"2021-11-29T00:04:43\",\"2021-11-29T00:04:44\",\"2021-11-29T00:01:47\",\"2021-11-29T01:25:37\",\"2021-11-29T01:25:51\",\"2021-11-29T01:25:55\",\"2021-11-29T01:26:16\",\"2021-11-29T01:26:18\",\"2021-11-29T01:26:22\",\"2021-11-29T01:27:09\",\"2021-11-29T01:27:31\",\"2021-11-29T01:28:13\",\"2021-11-29T00:38:49\",\"2021-11-29T00:39:34\",\"2021-11-29T00:45:02\",\"2021-11-29T00:45:11\",\"2021-11-29T00:46:10\",\"2021-11-29T02:17:43\",\"2021-11-29T02:17:58\",\"2021-11-29T00:31:20\",\"2021-11-29T01:18:38\",\"2021-11-29T00:42:47\",\"2021-11-29T01:13:29\",\"2021-11-29T01:13:38\",\"2021-11-29T01:13:39\",\"2021-11-29T02:01:21\",\"2021-11-29T02:01:58\",\"2021-11-29T02:02:12\",\"2021-11-29T01:10:45\",\"2021-11-29T01:07:56\",\"2021-11-29T01:08:01\",\"2021-11-29T01:08:20\",\"2021-11-29T01:47:18\",\"2021-11-29T01:47:20\",\"2021-11-29T01:48:10\",\"2021-11-29T01:47:46\",\"2021-11-29T00:31:25\",\"2021-11-29T00:31:29\",\"2021-11-29T00:31:32\",\"2021-11-29T00:31:42\",\"2021-11-29T00:31:45\",\"2021-11-29T00:32:21\",\"2021-11-29T00:33:19\",\"2021-11-29T00:35:05\",\"2021-11-29T00:38:43\",\"2021-11-29T00:40:42\",\"2021-11-29T00:53:33\",\"2021-11-29T00:53:37\",\"2021-11-29T00:53:39\",\"2021-11-29T00:54:29\",\"2021-11-29T01:02:25\",\"2021-11-29T01:11:44\",\"2021-11-29T01:18:58\",\"2021-11-29T01:59:47\",\"2021-11-29T01:59:47\",\"2021-11-29T02:13:09\",\"2021-11-29T02:17:35\",\"2021-11-29T02:17:54\",\"2021-11-29T02:17:59\",\"2021-11-29T02:18:10\"],\"hovertemplate\":\"Type=Active<br>Start=%{base}<br>End=%{x}<br>Subject=%{y}<extra></extra>\",\"legendgroup\":\"Active\",\"marker\":{\"color\":\"#636efa\"},\"name\":\"Active\",\"offsetgroup\":\"Active\",\"orientation\":\"h\",\"showlegend\":true,\"textposition\":\"auto\",\"x\":[20000.0,20000.0,20000.0,20000.0,20000.0,20000.0,20000.0,20000.0,20000.0,20000.0,20000.0,20000.0,20000.0,20000.0,20000.0,20000.0,20000.0,20000.0,20000.0,20000.0,20000.0,20000.0,20000.0,20000.0,20000.0,20000.0,20000.0,20000.0,20000.0,20000.0,20000.0,20000.0,20000.0,20000.0,20000.0,20000.0,20000.0,20000.0,20000.0,20000.0,20000.0,20000.0,20000.0,20000.0,20000.0,20000.0,20000.0,20000.0,20000.0,20000.0,20000.0,20000.0,20000.0,20000.0,20000.0,20000.0,20000.0,20000.0,20000.0,20000.0,20000.0,20000.0],\"xaxis\":\"x\",\"y\":[\"F1501\",\"F1501\",\"F1501\",\"F1501\",\"F1504\",\"F1504\",\"F1504\",\"F1504\",\"F1504\",\"F1504\",\"F1504\",\"F1504\",\"F1504\",\"F1504\",\"F1508\",\"F1508\",\"F1508\",\"F1508\",\"F1508\",\"F1508\",\"F1508\",\"F1509\",\"F1509\",\"F1511\",\"F1511\",\"F1511\",\"F1511\",\"F1512\",\"F1512\",\"F1512\",\"F1513\",\"F1514\",\"F1514\",\"F1514\",\"F1514\",\"F1514\",\"F1514\",\"F1515\",\"F1516\",\"F1516\",\"F1516\",\"F1516\",\"F1516\",\"F1516\",\"F1516\",\"F1516\",\"F1516\",\"F1516\",\"F1516\",\"F1516\",\"F1516\",\"F1516\",\"F1516\",\"F1516\",\"F1516\",\"F1516\",\"F1516\",\"F1516\",\"F1516\",\"F1516\",\"F1516\",\"F1516\"],\"yaxis\":\"y\",\"type\":\"bar\"},{\"alignmentgroup\":\"True\",\"base\":[\"2021-11-29T00:20:50\",\"2021-11-29T01:52:59\",\"2021-11-29T01:26:25\",\"2021-11-29T01:27:56\",\"2021-11-29T01:27:57\",\"2021-11-29T01:27:58\",\"2021-11-29T01:28:00\",\"2021-11-29T01:23:37\",\"2021-11-29T01:11:22\",\"2021-11-29T02:10:41\",\"2021-11-29T00:51:50\",\"2021-11-29T01:22:20\",\"2021-11-29T01:22:26\",\"2021-11-29T01:22:29\",\"2021-11-29T01:22:37\",\"2021-11-29T01:22:39\",\"2021-11-29T02:02:07\",\"2021-11-29T00:26:08\",\"2021-11-29T00:47:27\",\"2021-11-29T01:02:48\",\"2021-11-29T02:00:19\",\"2021-11-29T02:00:35\",\"2021-11-29T00:32:13\",\"2021-11-29T00:32:13\"],\"hovertemplate\":\"Type=Inactive<br>Start=%{base}<br>End=%{x}<br>Subject=%{y}<extra></extra>\",\"legendgroup\":\"Inactive\",\"marker\":{\"color\":\"#EF553B\"},\"name\":\"Inactive\",\"offsetgroup\":\"Inactive\",\"orientation\":\"h\",\"showlegend\":true,\"textposition\":\"auto\",\"x\":[20000.0,20000.0,20000.0,20000.0,20000.0,20000.0,20000.0,20000.0,20000.0,20000.0,20000.0,20000.0,20000.0,20000.0,20000.0,20000.0,20000.0,20000.0,20000.0,20000.0,20000.0,20000.0,20000.0,20000.0],\"xaxis\":\"x\",\"y\":[\"F1501\",\"F1503\",\"F1504\",\"F1504\",\"F1504\",\"F1504\",\"F1504\",\"F1506\",\"F1508\",\"F1508\",\"F1509\",\"F1509\",\"F1509\",\"F1509\",\"F1509\",\"F1509\",\"F1509\",\"F1510\",\"F1511\",\"F1511\",\"F1512\",\"F1512\",\"F1516\",\"F1516\"],\"yaxis\":\"y\",\"type\":\"bar\"},{\"alignmentgroup\":\"True\",\"base\":[\"2021-11-29T00:00:26\",\"2021-11-29T00:04:43\",\"2021-11-29T00:01:47\",\"2021-11-29T01:25:37\",\"2021-11-29T01:26:16\",\"2021-11-29T01:27:09\",\"2021-11-29T01:27:31\",\"2021-11-29T01:28:13\",\"2021-11-29T00:38:49\",\"2021-11-29T00:39:34\",\"2021-11-29T00:45:02\",\"2021-11-29T00:46:10\",\"2021-11-29T02:17:43\",\"2021-11-29T00:31:20\",\"2021-11-29T01:18:38\",\"2021-11-29T00:42:47\",\"2021-11-29T01:13:29\",\"2021-11-29T02:01:21\",\"2021-11-29T02:01:58\",\"2021-11-29T01:10:45\",\"2021-11-29T01:07:56\",\"2021-11-29T01:08:20\",\"2021-11-29T01:47:18\",\"2021-11-29T01:48:10\",\"2021-11-29T01:47:46\",\"2021-11-29T00:31:25\",\"2021-11-29T00:31:45\",\"2021-11-29T00:32:21\",\"2021-11-29T00:33:19\",\"2021-11-29T00:35:05\",\"2021-11-29T00:38:43\",\"2021-11-29T00:40:42\",\"2021-11-29T00:53:33\",\"2021-11-29T00:54:29\",\"2021-11-29T01:02:25\",\"2021-11-29T01:11:44\",\"2021-11-29T01:18:58\",\"2021-11-29T01:59:47\",\"2021-11-29T02:13:09\",\"2021-11-29T02:17:35\",\"2021-11-29T02:17:59\"],\"hovertemplate\":\"Type=Reward<br>Start=%{base}<br>End=%{x}<br>Subject=%{y}<extra></extra>\",\"legendgroup\":\"Reward\",\"marker\":{\"color\":\"#00cc96\"},\"name\":\"Reward\",\"offsetgroup\":\"Reward\",\"orientation\":\"h\",\"showlegend\":true,\"textposition\":\"auto\",\"x\":[20000.0,20000.0,20000.0,20000.0,20000.0,20000.0,20000.0,20000.0,20000.0,20000.0,20000.0,20000.0,20000.0,20000.0,20000.0,20000.0,20000.0,20000.0,20000.0,20000.0,20000.0,20000.0,20000.0,20000.0,20000.0,20000.0,20000.0,20000.0,20000.0,20000.0,20000.0,20000.0,20000.0,20000.0,20000.0,20000.0,20000.0,20000.0,20000.0,20000.0,20000.0],\"xaxis\":\"x\",\"y\":[\"F1501\",\"F1501\",\"F1504\",\"F1504\",\"F1504\",\"F1504\",\"F1504\",\"F1504\",\"F1508\",\"F1508\",\"F1508\",\"F1508\",\"F1508\",\"F1509\",\"F1509\",\"F1511\",\"F1511\",\"F1512\",\"F1512\",\"F1513\",\"F1514\",\"F1514\",\"F1514\",\"F1514\",\"F1515\",\"F1516\",\"F1516\",\"F1516\",\"F1516\",\"F1516\",\"F1516\",\"F1516\",\"F1516\",\"F1516\",\"F1516\",\"F1516\",\"F1516\",\"F1516\",\"F1516\",\"F1516\",\"F1516\"],\"yaxis\":\"y\",\"type\":\"bar\"},{\"alignmentgroup\":\"True\",\"base\":[\"2021-11-29T00:04:43\",\"2021-11-29T00:04:44\",\"2021-11-29T01:25:51\",\"2021-11-29T01:25:55\",\"2021-11-29T01:26:18\",\"2021-11-29T01:26:22\",\"2021-11-29T00:45:11\",\"2021-11-29T02:17:58\",\"2021-11-29T01:13:38\",\"2021-11-29T01:13:39\",\"2021-11-29T02:02:12\",\"2021-11-29T01:08:01\",\"2021-11-29T01:47:20\",\"2021-11-29T00:31:29\",\"2021-11-29T00:31:32\",\"2021-11-29T00:31:42\",\"2021-11-29T00:53:37\",\"2021-11-29T00:53:39\",\"2021-11-29T01:59:47\",\"2021-11-29T02:17:54\",\"2021-11-29T02:18:10\"],\"hovertemplate\":\"Type=Timeout<br>Start=%{base}<br>End=%{x}<br>Subject=%{y}<extra></extra>\",\"legendgroup\":\"Timeout\",\"marker\":{\"color\":\"#ab63fa\"},\"name\":\"Timeout\",\"offsetgroup\":\"Timeout\",\"orientation\":\"h\",\"showlegend\":true,\"textposition\":\"auto\",\"x\":[20000.0,20000.0,20000.0,20000.0,20000.0,20000.0,20000.0,20000.0,20000.0,20000.0,20000.0,20000.0,20000.0,20000.0,20000.0,20000.0,20000.0,20000.0,20000.0,20000.0,20000.0],\"xaxis\":\"x\",\"y\":[\"F1501\",\"F1501\",\"F1504\",\"F1504\",\"F1504\",\"F1504\",\"F1508\",\"F1508\",\"F1511\",\"F1511\",\"F1512\",\"F1514\",\"F1514\",\"F1516\",\"F1516\",\"F1516\",\"F1516\",\"F1516\",\"F1516\",\"F1516\",\"F1516\"],\"yaxis\":\"y\",\"type\":\"bar\"}],                        {\"template\":{\"data\":{\"bar\":[{\"error_x\":{\"color\":\"#2a3f5f\"},\"error_y\":{\"color\":\"#2a3f5f\"},\"marker\":{\"line\":{\"color\":\"#E5ECF6\",\"width\":0.5},\"pattern\":{\"fillmode\":\"overlay\",\"size\":10,\"solidity\":0.2}},\"type\":\"bar\"}],\"barpolar\":[{\"marker\":{\"line\":{\"color\":\"#E5ECF6\",\"width\":0.5},\"pattern\":{\"fillmode\":\"overlay\",\"size\":10,\"solidity\":0.2}},\"type\":\"barpolar\"}],\"carpet\":[{\"aaxis\":{\"endlinecolor\":\"#2a3f5f\",\"gridcolor\":\"white\",\"linecolor\":\"white\",\"minorgridcolor\":\"white\",\"startlinecolor\":\"#2a3f5f\"},\"baxis\":{\"endlinecolor\":\"#2a3f5f\",\"gridcolor\":\"white\",\"linecolor\":\"white\",\"minorgridcolor\":\"white\",\"startlinecolor\":\"#2a3f5f\"},\"type\":\"carpet\"}],\"choropleth\":[{\"colorbar\":{\"outlinewidth\":0,\"ticks\":\"\"},\"type\":\"choropleth\"}],\"contour\":[{\"colorbar\":{\"outlinewidth\":0,\"ticks\":\"\"},\"colorscale\":[[0.0,\"#0d0887\"],[0.1111111111111111,\"#46039f\"],[0.2222222222222222,\"#7201a8\"],[0.3333333333333333,\"#9c179e\"],[0.4444444444444444,\"#bd3786\"],[0.5555555555555556,\"#d8576b\"],[0.6666666666666666,\"#ed7953\"],[0.7777777777777778,\"#fb9f3a\"],[0.8888888888888888,\"#fdca26\"],[1.0,\"#f0f921\"]],\"type\":\"contour\"}],\"contourcarpet\":[{\"colorbar\":{\"outlinewidth\":0,\"ticks\":\"\"},\"type\":\"contourcarpet\"}],\"heatmap\":[{\"colorbar\":{\"outlinewidth\":0,\"ticks\":\"\"},\"colorscale\":[[0.0,\"#0d0887\"],[0.1111111111111111,\"#46039f\"],[0.2222222222222222,\"#7201a8\"],[0.3333333333333333,\"#9c179e\"],[0.4444444444444444,\"#bd3786\"],[0.5555555555555556,\"#d8576b\"],[0.6666666666666666,\"#ed7953\"],[0.7777777777777778,\"#fb9f3a\"],[0.8888888888888888,\"#fdca26\"],[1.0,\"#f0f921\"]],\"type\":\"heatmap\"}],\"heatmapgl\":[{\"colorbar\":{\"outlinewidth\":0,\"ticks\":\"\"},\"colorscale\":[[0.0,\"#0d0887\"],[0.1111111111111111,\"#46039f\"],[0.2222222222222222,\"#7201a8\"],[0.3333333333333333,\"#9c179e\"],[0.4444444444444444,\"#bd3786\"],[0.5555555555555556,\"#d8576b\"],[0.6666666666666666,\"#ed7953\"],[0.7777777777777778,\"#fb9f3a\"],[0.8888888888888888,\"#fdca26\"],[1.0,\"#f0f921\"]],\"type\":\"heatmapgl\"}],\"histogram\":[{\"marker\":{\"pattern\":{\"fillmode\":\"overlay\",\"size\":10,\"solidity\":0.2}},\"type\":\"histogram\"}],\"histogram2d\":[{\"colorbar\":{\"outlinewidth\":0,\"ticks\":\"\"},\"colorscale\":[[0.0,\"#0d0887\"],[0.1111111111111111,\"#46039f\"],[0.2222222222222222,\"#7201a8\"],[0.3333333333333333,\"#9c179e\"],[0.4444444444444444,\"#bd3786\"],[0.5555555555555556,\"#d8576b\"],[0.6666666666666666,\"#ed7953\"],[0.7777777777777778,\"#fb9f3a\"],[0.8888888888888888,\"#fdca26\"],[1.0,\"#f0f921\"]],\"type\":\"histogram2d\"}],\"histogram2dcontour\":[{\"colorbar\":{\"outlinewidth\":0,\"ticks\":\"\"},\"colorscale\":[[0.0,\"#0d0887\"],[0.1111111111111111,\"#46039f\"],[0.2222222222222222,\"#7201a8\"],[0.3333333333333333,\"#9c179e\"],[0.4444444444444444,\"#bd3786\"],[0.5555555555555556,\"#d8576b\"],[0.6666666666666666,\"#ed7953\"],[0.7777777777777778,\"#fb9f3a\"],[0.8888888888888888,\"#fdca26\"],[1.0,\"#f0f921\"]],\"type\":\"histogram2dcontour\"}],\"mesh3d\":[{\"colorbar\":{\"outlinewidth\":0,\"ticks\":\"\"},\"type\":\"mesh3d\"}],\"parcoords\":[{\"line\":{\"colorbar\":{\"outlinewidth\":0,\"ticks\":\"\"}},\"type\":\"parcoords\"}],\"pie\":[{\"automargin\":true,\"type\":\"pie\"}],\"scatter\":[{\"marker\":{\"colorbar\":{\"outlinewidth\":0,\"ticks\":\"\"}},\"type\":\"scatter\"}],\"scatter3d\":[{\"line\":{\"colorbar\":{\"outlinewidth\":0,\"ticks\":\"\"}},\"marker\":{\"colorbar\":{\"outlinewidth\":0,\"ticks\":\"\"}},\"type\":\"scatter3d\"}],\"scattercarpet\":[{\"marker\":{\"colorbar\":{\"outlinewidth\":0,\"ticks\":\"\"}},\"type\":\"scattercarpet\"}],\"scattergeo\":[{\"marker\":{\"colorbar\":{\"outlinewidth\":0,\"ticks\":\"\"}},\"type\":\"scattergeo\"}],\"scattergl\":[{\"marker\":{\"colorbar\":{\"outlinewidth\":0,\"ticks\":\"\"}},\"type\":\"scattergl\"}],\"scattermapbox\":[{\"marker\":{\"colorbar\":{\"outlinewidth\":0,\"ticks\":\"\"}},\"type\":\"scattermapbox\"}],\"scatterpolar\":[{\"marker\":{\"colorbar\":{\"outlinewidth\":0,\"ticks\":\"\"}},\"type\":\"scatterpolar\"}],\"scatterpolargl\":[{\"marker\":{\"colorbar\":{\"outlinewidth\":0,\"ticks\":\"\"}},\"type\":\"scatterpolargl\"}],\"scatterternary\":[{\"marker\":{\"colorbar\":{\"outlinewidth\":0,\"ticks\":\"\"}},\"type\":\"scatterternary\"}],\"surface\":[{\"colorbar\":{\"outlinewidth\":0,\"ticks\":\"\"},\"colorscale\":[[0.0,\"#0d0887\"],[0.1111111111111111,\"#46039f\"],[0.2222222222222222,\"#7201a8\"],[0.3333333333333333,\"#9c179e\"],[0.4444444444444444,\"#bd3786\"],[0.5555555555555556,\"#d8576b\"],[0.6666666666666666,\"#ed7953\"],[0.7777777777777778,\"#fb9f3a\"],[0.8888888888888888,\"#fdca26\"],[1.0,\"#f0f921\"]],\"type\":\"surface\"}],\"table\":[{\"cells\":{\"fill\":{\"color\":\"#EBF0F8\"},\"line\":{\"color\":\"white\"}},\"header\":{\"fill\":{\"color\":\"#C8D4E3\"},\"line\":{\"color\":\"white\"}},\"type\":\"table\"}]},\"layout\":{\"annotationdefaults\":{\"arrowcolor\":\"#2a3f5f\",\"arrowhead\":0,\"arrowwidth\":1},\"autotypenumbers\":\"strict\",\"coloraxis\":{\"colorbar\":{\"outlinewidth\":0,\"ticks\":\"\"}},\"colorscale\":{\"diverging\":[[0,\"#8e0152\"],[0.1,\"#c51b7d\"],[0.2,\"#de77ae\"],[0.3,\"#f1b6da\"],[0.4,\"#fde0ef\"],[0.5,\"#f7f7f7\"],[0.6,\"#e6f5d0\"],[0.7,\"#b8e186\"],[0.8,\"#7fbc41\"],[0.9,\"#4d9221\"],[1,\"#276419\"]],\"sequential\":[[0.0,\"#0d0887\"],[0.1111111111111111,\"#46039f\"],[0.2222222222222222,\"#7201a8\"],[0.3333333333333333,\"#9c179e\"],[0.4444444444444444,\"#bd3786\"],[0.5555555555555556,\"#d8576b\"],[0.6666666666666666,\"#ed7953\"],[0.7777777777777778,\"#fb9f3a\"],[0.8888888888888888,\"#fdca26\"],[1.0,\"#f0f921\"]],\"sequentialminus\":[[0.0,\"#0d0887\"],[0.1111111111111111,\"#46039f\"],[0.2222222222222222,\"#7201a8\"],[0.3333333333333333,\"#9c179e\"],[0.4444444444444444,\"#bd3786\"],[0.5555555555555556,\"#d8576b\"],[0.6666666666666666,\"#ed7953\"],[0.7777777777777778,\"#fb9f3a\"],[0.8888888888888888,\"#fdca26\"],[1.0,\"#f0f921\"]]},\"colorway\":[\"#636efa\",\"#EF553B\",\"#00cc96\",\"#ab63fa\",\"#FFA15A\",\"#19d3f3\",\"#FF6692\",\"#B6E880\",\"#FF97FF\",\"#FECB52\"],\"font\":{\"color\":\"#2a3f5f\"},\"geo\":{\"bgcolor\":\"white\",\"lakecolor\":\"white\",\"landcolor\":\"#E5ECF6\",\"showlakes\":true,\"showland\":true,\"subunitcolor\":\"white\"},\"hoverlabel\":{\"align\":\"left\"},\"hovermode\":\"closest\",\"mapbox\":{\"style\":\"light\"},\"paper_bgcolor\":\"white\",\"plot_bgcolor\":\"#E5ECF6\",\"polar\":{\"angularaxis\":{\"gridcolor\":\"white\",\"linecolor\":\"white\",\"ticks\":\"\"},\"bgcolor\":\"#E5ECF6\",\"radialaxis\":{\"gridcolor\":\"white\",\"linecolor\":\"white\",\"ticks\":\"\"}},\"scene\":{\"xaxis\":{\"backgroundcolor\":\"#E5ECF6\",\"gridcolor\":\"white\",\"gridwidth\":2,\"linecolor\":\"white\",\"showbackground\":true,\"ticks\":\"\",\"zerolinecolor\":\"white\"},\"yaxis\":{\"backgroundcolor\":\"#E5ECF6\",\"gridcolor\":\"white\",\"gridwidth\":2,\"linecolor\":\"white\",\"showbackground\":true,\"ticks\":\"\",\"zerolinecolor\":\"white\"},\"zaxis\":{\"backgroundcolor\":\"#E5ECF6\",\"gridcolor\":\"white\",\"gridwidth\":2,\"linecolor\":\"white\",\"showbackground\":true,\"ticks\":\"\",\"zerolinecolor\":\"white\"}},\"shapedefaults\":{\"line\":{\"color\":\"#2a3f5f\"}},\"ternary\":{\"aaxis\":{\"gridcolor\":\"white\",\"linecolor\":\"white\",\"ticks\":\"\"},\"baxis\":{\"gridcolor\":\"white\",\"linecolor\":\"white\",\"ticks\":\"\"},\"bgcolor\":\"#E5ECF6\",\"caxis\":{\"gridcolor\":\"white\",\"linecolor\":\"white\",\"ticks\":\"\"}},\"title\":{\"x\":0.05},\"xaxis\":{\"automargin\":true,\"gridcolor\":\"white\",\"linecolor\":\"white\",\"ticks\":\"\",\"title\":{\"standoff\":15},\"zerolinecolor\":\"white\",\"zerolinewidth\":2},\"yaxis\":{\"automargin\":true,\"gridcolor\":\"white\",\"linecolor\":\"white\",\"ticks\":\"\",\"title\":{\"standoff\":15},\"zerolinecolor\":\"white\",\"zerolinewidth\":2}}},\"xaxis\":{\"anchor\":\"y\",\"domain\":[0.0,1.0],\"type\":\"date\",\"tickformat\":\"%H:%M:%S\",\"tickformatstops\":[{\"dtickrange\":[1800000,10800000],\"value\":\"%H:%M\"}]},\"yaxis\":{\"anchor\":\"x\",\"domain\":[0.0,1.0],\"title\":{\"text\":\"Subject\"},\"categoryorder\":\"category ascending\"},\"legend\":{\"title\":{\"text\":\"Type\"},\"tracegroupgap\":0},\"margin\":{\"t\":60},\"barmode\":\"overlay\",\"plot_bgcolor\":\"rgba(0, 0, 0, 0)\",\"paper_bgcolor\":\"rgba(0, 0, 0, 0)\"},                        {\"responsive\": true}                    ).then(function(){\n",
       "                            \n",
       "var gd = document.getElementById('529d6f5d-368c-4e48-90fd-9c2b0d071cdb');\n",
       "var x = new MutationObserver(function (mutations, observer) {{\n",
       "        var display = window.getComputedStyle(gd).display;\n",
       "        if (!display || display === 'none') {{\n",
       "            console.log([gd, 'removed!']);\n",
       "            Plotly.purge(gd);\n",
       "            observer.disconnect();\n",
       "        }}\n",
       "}});\n",
       "\n",
       "// Listen for the removal of the full notebook cells\n",
       "var notebookContainer = gd.closest('#notebook-container');\n",
       "if (notebookContainer) {{\n",
       "    x.observe(notebookContainer, {childList: true});\n",
       "}}\n",
       "\n",
       "// Listen for the clearing of the current output cell\n",
       "var outputEl = gd.closest('.output');\n",
       "if (outputEl) {{\n",
       "    x.observe(outputEl, {childList: true});\n",
       "}}\n",
       "\n",
       "                        })                };                });            </script>        </div>"
      ]
     },
     "metadata": {},
     "output_type": "display_data"
    }
   ],
   "source": [
    "make_timeline(timeline_data)"
   ]
  },
  {
   "cell_type": "code",
   "execution_count": 234,
   "id": "covered-aluminum",
   "metadata": {
    "scrolled": false
   },
   "outputs": [
    {
     "data": {
      "application/vnd.plotly.v1+json": {
       "config": {
        "plotlyServerURL": "https://plot.ly"
       },
       "data": [
        {
         "alignmentgroup": "True",
         "base": [
          "2021-11-29T00:31:25",
          "2021-11-29T00:31:29",
          "2021-11-29T00:31:32",
          "2021-11-29T00:31:42",
          "2021-11-29T00:31:45",
          "2021-11-29T00:32:21",
          "2021-11-29T00:33:19",
          "2021-11-29T00:35:05",
          "2021-11-29T00:38:43",
          "2021-11-29T00:40:42",
          "2021-11-29T00:53:33",
          "2021-11-29T00:53:37",
          "2021-11-29T00:53:39",
          "2021-11-29T00:54:29",
          "2021-11-29T01:02:25",
          "2021-11-29T01:11:44",
          "2021-11-29T01:18:58",
          "2021-11-29T01:59:47",
          "2021-11-29T01:59:47",
          "2021-11-29T02:13:09",
          "2021-11-29T02:17:35",
          "2021-11-29T02:17:54",
          "2021-11-29T02:17:59",
          "2021-11-29T02:18:10"
         ],
         "hovertemplate": "Type=Active<br>Start=%{base}<br>End=%{x}<br>Subject=%{y}<extra></extra>",
         "legendgroup": "Active",
         "marker": {
          "color": "#636efa"
         },
         "name": "Active",
         "offsetgroup": "Active",
         "orientation": "h",
         "showlegend": true,
         "textposition": "auto",
         "type": "bar",
         "x": [
          20000,
          20000,
          20000,
          20000,
          20000,
          20000,
          20000,
          20000,
          20000,
          20000,
          20000,
          20000,
          20000,
          20000,
          20000,
          20000,
          20000,
          20000,
          20000,
          20000,
          20000,
          20000,
          20000,
          20000
         ],
         "xaxis": "x",
         "y": [
          "F1516",
          "F1516",
          "F1516",
          "F1516",
          "F1516",
          "F1516",
          "F1516",
          "F1516",
          "F1516",
          "F1516",
          "F1516",
          "F1516",
          "F1516",
          "F1516",
          "F1516",
          "F1516",
          "F1516",
          "F1516",
          "F1516",
          "F1516",
          "F1516",
          "F1516",
          "F1516",
          "F1516"
         ],
         "yaxis": "y"
        },
        {
         "alignmentgroup": "True",
         "base": [
          "2021-11-29T00:32:13",
          "2021-11-29T00:32:13"
         ],
         "hovertemplate": "Type=Inactive<br>Start=%{base}<br>End=%{x}<br>Subject=%{y}<extra></extra>",
         "legendgroup": "Inactive",
         "marker": {
          "color": "#EF553B"
         },
         "name": "Inactive",
         "offsetgroup": "Inactive",
         "orientation": "h",
         "showlegend": true,
         "textposition": "auto",
         "type": "bar",
         "x": [
          20000,
          20000
         ],
         "xaxis": "x",
         "y": [
          "F1516",
          "F1516"
         ],
         "yaxis": "y"
        },
        {
         "alignmentgroup": "True",
         "base": [
          "2021-11-29T00:31:25",
          "2021-11-29T00:31:45",
          "2021-11-29T00:32:21",
          "2021-11-29T00:33:19",
          "2021-11-29T00:35:05",
          "2021-11-29T00:38:43",
          "2021-11-29T00:40:42",
          "2021-11-29T00:53:33",
          "2021-11-29T00:54:29",
          "2021-11-29T01:02:25",
          "2021-11-29T01:11:44",
          "2021-11-29T01:18:58",
          "2021-11-29T01:59:47",
          "2021-11-29T02:13:09",
          "2021-11-29T02:17:35",
          "2021-11-29T02:17:59"
         ],
         "hovertemplate": "Type=Reward<br>Start=%{base}<br>End=%{x}<br>Subject=%{y}<extra></extra>",
         "legendgroup": "Reward",
         "marker": {
          "color": "#00cc96"
         },
         "name": "Reward",
         "offsetgroup": "Reward",
         "orientation": "h",
         "showlegend": true,
         "textposition": "auto",
         "type": "bar",
         "x": [
          20000,
          20000,
          20000,
          20000,
          20000,
          20000,
          20000,
          20000,
          20000,
          20000,
          20000,
          20000,
          20000,
          20000,
          20000,
          20000
         ],
         "xaxis": "x",
         "y": [
          "F1516",
          "F1516",
          "F1516",
          "F1516",
          "F1516",
          "F1516",
          "F1516",
          "F1516",
          "F1516",
          "F1516",
          "F1516",
          "F1516",
          "F1516",
          "F1516",
          "F1516",
          "F1516"
         ],
         "yaxis": "y"
        },
        {
         "alignmentgroup": "True",
         "base": [
          "2021-11-29T00:31:29",
          "2021-11-29T00:31:32",
          "2021-11-29T00:31:42",
          "2021-11-29T00:53:37",
          "2021-11-29T00:53:39",
          "2021-11-29T01:59:47",
          "2021-11-29T02:17:54",
          "2021-11-29T02:18:10"
         ],
         "hovertemplate": "Type=Timeout<br>Start=%{base}<br>End=%{x}<br>Subject=%{y}<extra></extra>",
         "legendgroup": "Timeout",
         "marker": {
          "color": "#ab63fa"
         },
         "name": "Timeout",
         "offsetgroup": "Timeout",
         "orientation": "h",
         "showlegend": true,
         "textposition": "auto",
         "type": "bar",
         "x": [
          20000,
          20000,
          20000,
          20000,
          20000,
          20000,
          20000,
          20000
         ],
         "xaxis": "x",
         "y": [
          "F1516",
          "F1516",
          "F1516",
          "F1516",
          "F1516",
          "F1516",
          "F1516",
          "F1516"
         ],
         "yaxis": "y"
        }
       ],
       "layout": {
        "barmode": "overlay",
        "legend": {
         "title": {
          "text": "Type"
         },
         "tracegroupgap": 0
        },
        "margin": {
         "t": 60
        },
        "paper_bgcolor": "rgba(0, 0, 0, 0)",
        "plot_bgcolor": "rgba(0, 0, 0, 0)",
        "template": {
         "data": {
          "bar": [
           {
            "error_x": {
             "color": "#2a3f5f"
            },
            "error_y": {
             "color": "#2a3f5f"
            },
            "marker": {
             "line": {
              "color": "#E5ECF6",
              "width": 0.5
             },
             "pattern": {
              "fillmode": "overlay",
              "size": 10,
              "solidity": 0.2
             }
            },
            "type": "bar"
           }
          ],
          "barpolar": [
           {
            "marker": {
             "line": {
              "color": "#E5ECF6",
              "width": 0.5
             },
             "pattern": {
              "fillmode": "overlay",
              "size": 10,
              "solidity": 0.2
             }
            },
            "type": "barpolar"
           }
          ],
          "carpet": [
           {
            "aaxis": {
             "endlinecolor": "#2a3f5f",
             "gridcolor": "white",
             "linecolor": "white",
             "minorgridcolor": "white",
             "startlinecolor": "#2a3f5f"
            },
            "baxis": {
             "endlinecolor": "#2a3f5f",
             "gridcolor": "white",
             "linecolor": "white",
             "minorgridcolor": "white",
             "startlinecolor": "#2a3f5f"
            },
            "type": "carpet"
           }
          ],
          "choropleth": [
           {
            "colorbar": {
             "outlinewidth": 0,
             "ticks": ""
            },
            "type": "choropleth"
           }
          ],
          "contour": [
           {
            "colorbar": {
             "outlinewidth": 0,
             "ticks": ""
            },
            "colorscale": [
             [
              0,
              "#0d0887"
             ],
             [
              0.1111111111111111,
              "#46039f"
             ],
             [
              0.2222222222222222,
              "#7201a8"
             ],
             [
              0.3333333333333333,
              "#9c179e"
             ],
             [
              0.4444444444444444,
              "#bd3786"
             ],
             [
              0.5555555555555556,
              "#d8576b"
             ],
             [
              0.6666666666666666,
              "#ed7953"
             ],
             [
              0.7777777777777778,
              "#fb9f3a"
             ],
             [
              0.8888888888888888,
              "#fdca26"
             ],
             [
              1,
              "#f0f921"
             ]
            ],
            "type": "contour"
           }
          ],
          "contourcarpet": [
           {
            "colorbar": {
             "outlinewidth": 0,
             "ticks": ""
            },
            "type": "contourcarpet"
           }
          ],
          "heatmap": [
           {
            "colorbar": {
             "outlinewidth": 0,
             "ticks": ""
            },
            "colorscale": [
             [
              0,
              "#0d0887"
             ],
             [
              0.1111111111111111,
              "#46039f"
             ],
             [
              0.2222222222222222,
              "#7201a8"
             ],
             [
              0.3333333333333333,
              "#9c179e"
             ],
             [
              0.4444444444444444,
              "#bd3786"
             ],
             [
              0.5555555555555556,
              "#d8576b"
             ],
             [
              0.6666666666666666,
              "#ed7953"
             ],
             [
              0.7777777777777778,
              "#fb9f3a"
             ],
             [
              0.8888888888888888,
              "#fdca26"
             ],
             [
              1,
              "#f0f921"
             ]
            ],
            "type": "heatmap"
           }
          ],
          "heatmapgl": [
           {
            "colorbar": {
             "outlinewidth": 0,
             "ticks": ""
            },
            "colorscale": [
             [
              0,
              "#0d0887"
             ],
             [
              0.1111111111111111,
              "#46039f"
             ],
             [
              0.2222222222222222,
              "#7201a8"
             ],
             [
              0.3333333333333333,
              "#9c179e"
             ],
             [
              0.4444444444444444,
              "#bd3786"
             ],
             [
              0.5555555555555556,
              "#d8576b"
             ],
             [
              0.6666666666666666,
              "#ed7953"
             ],
             [
              0.7777777777777778,
              "#fb9f3a"
             ],
             [
              0.8888888888888888,
              "#fdca26"
             ],
             [
              1,
              "#f0f921"
             ]
            ],
            "type": "heatmapgl"
           }
          ],
          "histogram": [
           {
            "marker": {
             "pattern": {
              "fillmode": "overlay",
              "size": 10,
              "solidity": 0.2
             }
            },
            "type": "histogram"
           }
          ],
          "histogram2d": [
           {
            "colorbar": {
             "outlinewidth": 0,
             "ticks": ""
            },
            "colorscale": [
             [
              0,
              "#0d0887"
             ],
             [
              0.1111111111111111,
              "#46039f"
             ],
             [
              0.2222222222222222,
              "#7201a8"
             ],
             [
              0.3333333333333333,
              "#9c179e"
             ],
             [
              0.4444444444444444,
              "#bd3786"
             ],
             [
              0.5555555555555556,
              "#d8576b"
             ],
             [
              0.6666666666666666,
              "#ed7953"
             ],
             [
              0.7777777777777778,
              "#fb9f3a"
             ],
             [
              0.8888888888888888,
              "#fdca26"
             ],
             [
              1,
              "#f0f921"
             ]
            ],
            "type": "histogram2d"
           }
          ],
          "histogram2dcontour": [
           {
            "colorbar": {
             "outlinewidth": 0,
             "ticks": ""
            },
            "colorscale": [
             [
              0,
              "#0d0887"
             ],
             [
              0.1111111111111111,
              "#46039f"
             ],
             [
              0.2222222222222222,
              "#7201a8"
             ],
             [
              0.3333333333333333,
              "#9c179e"
             ],
             [
              0.4444444444444444,
              "#bd3786"
             ],
             [
              0.5555555555555556,
              "#d8576b"
             ],
             [
              0.6666666666666666,
              "#ed7953"
             ],
             [
              0.7777777777777778,
              "#fb9f3a"
             ],
             [
              0.8888888888888888,
              "#fdca26"
             ],
             [
              1,
              "#f0f921"
             ]
            ],
            "type": "histogram2dcontour"
           }
          ],
          "mesh3d": [
           {
            "colorbar": {
             "outlinewidth": 0,
             "ticks": ""
            },
            "type": "mesh3d"
           }
          ],
          "parcoords": [
           {
            "line": {
             "colorbar": {
              "outlinewidth": 0,
              "ticks": ""
             }
            },
            "type": "parcoords"
           }
          ],
          "pie": [
           {
            "automargin": true,
            "type": "pie"
           }
          ],
          "scatter": [
           {
            "marker": {
             "colorbar": {
              "outlinewidth": 0,
              "ticks": ""
             }
            },
            "type": "scatter"
           }
          ],
          "scatter3d": [
           {
            "line": {
             "colorbar": {
              "outlinewidth": 0,
              "ticks": ""
             }
            },
            "marker": {
             "colorbar": {
              "outlinewidth": 0,
              "ticks": ""
             }
            },
            "type": "scatter3d"
           }
          ],
          "scattercarpet": [
           {
            "marker": {
             "colorbar": {
              "outlinewidth": 0,
              "ticks": ""
             }
            },
            "type": "scattercarpet"
           }
          ],
          "scattergeo": [
           {
            "marker": {
             "colorbar": {
              "outlinewidth": 0,
              "ticks": ""
             }
            },
            "type": "scattergeo"
           }
          ],
          "scattergl": [
           {
            "marker": {
             "colorbar": {
              "outlinewidth": 0,
              "ticks": ""
             }
            },
            "type": "scattergl"
           }
          ],
          "scattermapbox": [
           {
            "marker": {
             "colorbar": {
              "outlinewidth": 0,
              "ticks": ""
             }
            },
            "type": "scattermapbox"
           }
          ],
          "scatterpolar": [
           {
            "marker": {
             "colorbar": {
              "outlinewidth": 0,
              "ticks": ""
             }
            },
            "type": "scatterpolar"
           }
          ],
          "scatterpolargl": [
           {
            "marker": {
             "colorbar": {
              "outlinewidth": 0,
              "ticks": ""
             }
            },
            "type": "scatterpolargl"
           }
          ],
          "scatterternary": [
           {
            "marker": {
             "colorbar": {
              "outlinewidth": 0,
              "ticks": ""
             }
            },
            "type": "scatterternary"
           }
          ],
          "surface": [
           {
            "colorbar": {
             "outlinewidth": 0,
             "ticks": ""
            },
            "colorscale": [
             [
              0,
              "#0d0887"
             ],
             [
              0.1111111111111111,
              "#46039f"
             ],
             [
              0.2222222222222222,
              "#7201a8"
             ],
             [
              0.3333333333333333,
              "#9c179e"
             ],
             [
              0.4444444444444444,
              "#bd3786"
             ],
             [
              0.5555555555555556,
              "#d8576b"
             ],
             [
              0.6666666666666666,
              "#ed7953"
             ],
             [
              0.7777777777777778,
              "#fb9f3a"
             ],
             [
              0.8888888888888888,
              "#fdca26"
             ],
             [
              1,
              "#f0f921"
             ]
            ],
            "type": "surface"
           }
          ],
          "table": [
           {
            "cells": {
             "fill": {
              "color": "#EBF0F8"
             },
             "line": {
              "color": "white"
             }
            },
            "header": {
             "fill": {
              "color": "#C8D4E3"
             },
             "line": {
              "color": "white"
             }
            },
            "type": "table"
           }
          ]
         },
         "layout": {
          "annotationdefaults": {
           "arrowcolor": "#2a3f5f",
           "arrowhead": 0,
           "arrowwidth": 1
          },
          "autotypenumbers": "strict",
          "coloraxis": {
           "colorbar": {
            "outlinewidth": 0,
            "ticks": ""
           }
          },
          "colorscale": {
           "diverging": [
            [
             0,
             "#8e0152"
            ],
            [
             0.1,
             "#c51b7d"
            ],
            [
             0.2,
             "#de77ae"
            ],
            [
             0.3,
             "#f1b6da"
            ],
            [
             0.4,
             "#fde0ef"
            ],
            [
             0.5,
             "#f7f7f7"
            ],
            [
             0.6,
             "#e6f5d0"
            ],
            [
             0.7,
             "#b8e186"
            ],
            [
             0.8,
             "#7fbc41"
            ],
            [
             0.9,
             "#4d9221"
            ],
            [
             1,
             "#276419"
            ]
           ],
           "sequential": [
            [
             0,
             "#0d0887"
            ],
            [
             0.1111111111111111,
             "#46039f"
            ],
            [
             0.2222222222222222,
             "#7201a8"
            ],
            [
             0.3333333333333333,
             "#9c179e"
            ],
            [
             0.4444444444444444,
             "#bd3786"
            ],
            [
             0.5555555555555556,
             "#d8576b"
            ],
            [
             0.6666666666666666,
             "#ed7953"
            ],
            [
             0.7777777777777778,
             "#fb9f3a"
            ],
            [
             0.8888888888888888,
             "#fdca26"
            ],
            [
             1,
             "#f0f921"
            ]
           ],
           "sequentialminus": [
            [
             0,
             "#0d0887"
            ],
            [
             0.1111111111111111,
             "#46039f"
            ],
            [
             0.2222222222222222,
             "#7201a8"
            ],
            [
             0.3333333333333333,
             "#9c179e"
            ],
            [
             0.4444444444444444,
             "#bd3786"
            ],
            [
             0.5555555555555556,
             "#d8576b"
            ],
            [
             0.6666666666666666,
             "#ed7953"
            ],
            [
             0.7777777777777778,
             "#fb9f3a"
            ],
            [
             0.8888888888888888,
             "#fdca26"
            ],
            [
             1,
             "#f0f921"
            ]
           ]
          },
          "colorway": [
           "#636efa",
           "#EF553B",
           "#00cc96",
           "#ab63fa",
           "#FFA15A",
           "#19d3f3",
           "#FF6692",
           "#B6E880",
           "#FF97FF",
           "#FECB52"
          ],
          "font": {
           "color": "#2a3f5f"
          },
          "geo": {
           "bgcolor": "white",
           "lakecolor": "white",
           "landcolor": "#E5ECF6",
           "showlakes": true,
           "showland": true,
           "subunitcolor": "white"
          },
          "hoverlabel": {
           "align": "left"
          },
          "hovermode": "closest",
          "mapbox": {
           "style": "light"
          },
          "paper_bgcolor": "white",
          "plot_bgcolor": "#E5ECF6",
          "polar": {
           "angularaxis": {
            "gridcolor": "white",
            "linecolor": "white",
            "ticks": ""
           },
           "bgcolor": "#E5ECF6",
           "radialaxis": {
            "gridcolor": "white",
            "linecolor": "white",
            "ticks": ""
           }
          },
          "scene": {
           "xaxis": {
            "backgroundcolor": "#E5ECF6",
            "gridcolor": "white",
            "gridwidth": 2,
            "linecolor": "white",
            "showbackground": true,
            "ticks": "",
            "zerolinecolor": "white"
           },
           "yaxis": {
            "backgroundcolor": "#E5ECF6",
            "gridcolor": "white",
            "gridwidth": 2,
            "linecolor": "white",
            "showbackground": true,
            "ticks": "",
            "zerolinecolor": "white"
           },
           "zaxis": {
            "backgroundcolor": "#E5ECF6",
            "gridcolor": "white",
            "gridwidth": 2,
            "linecolor": "white",
            "showbackground": true,
            "ticks": "",
            "zerolinecolor": "white"
           }
          },
          "shapedefaults": {
           "line": {
            "color": "#2a3f5f"
           }
          },
          "ternary": {
           "aaxis": {
            "gridcolor": "white",
            "linecolor": "white",
            "ticks": ""
           },
           "baxis": {
            "gridcolor": "white",
            "linecolor": "white",
            "ticks": ""
           },
           "bgcolor": "#E5ECF6",
           "caxis": {
            "gridcolor": "white",
            "linecolor": "white",
            "ticks": ""
           }
          },
          "title": {
           "x": 0.05
          },
          "xaxis": {
           "automargin": true,
           "gridcolor": "white",
           "linecolor": "white",
           "ticks": "",
           "title": {
            "standoff": 15
           },
           "zerolinecolor": "white",
           "zerolinewidth": 2
          },
          "yaxis": {
           "automargin": true,
           "gridcolor": "white",
           "linecolor": "white",
           "ticks": "",
           "title": {
            "standoff": 15
           },
           "zerolinecolor": "white",
           "zerolinewidth": 2
          }
         }
        },
        "xaxis": {
         "anchor": "y",
         "domain": [
          0,
          1
         ],
         "tickformat": "%H:%M:%S",
         "tickformatstops": [
          {
           "dtickrange": [
            1800000,
            10800000
           ],
           "value": "%H:%M"
          }
         ],
         "type": "date"
        },
        "yaxis": {
         "anchor": "x",
         "categoryorder": "category ascending",
         "domain": [
          0,
          1
         ],
         "title": {
          "text": "Subject"
         }
        }
       }
      },
      "text/html": [
       "<div>                            <div id=\"2b5eb79c-5e98-4107-bb52-4d4b955c9dbd\" class=\"plotly-graph-div\" style=\"height:525px; width:100%;\"></div>            <script type=\"text/javascript\">                require([\"plotly\"], function(Plotly) {                    window.PLOTLYENV=window.PLOTLYENV || {};                                    if (document.getElementById(\"2b5eb79c-5e98-4107-bb52-4d4b955c9dbd\")) {                    Plotly.newPlot(                        \"2b5eb79c-5e98-4107-bb52-4d4b955c9dbd\",                        [{\"alignmentgroup\":\"True\",\"base\":[\"2021-11-29T00:31:25\",\"2021-11-29T00:31:29\",\"2021-11-29T00:31:32\",\"2021-11-29T00:31:42\",\"2021-11-29T00:31:45\",\"2021-11-29T00:32:21\",\"2021-11-29T00:33:19\",\"2021-11-29T00:35:05\",\"2021-11-29T00:38:43\",\"2021-11-29T00:40:42\",\"2021-11-29T00:53:33\",\"2021-11-29T00:53:37\",\"2021-11-29T00:53:39\",\"2021-11-29T00:54:29\",\"2021-11-29T01:02:25\",\"2021-11-29T01:11:44\",\"2021-11-29T01:18:58\",\"2021-11-29T01:59:47\",\"2021-11-29T01:59:47\",\"2021-11-29T02:13:09\",\"2021-11-29T02:17:35\",\"2021-11-29T02:17:54\",\"2021-11-29T02:17:59\",\"2021-11-29T02:18:10\"],\"hovertemplate\":\"Type=Active<br>Start=%{base}<br>End=%{x}<br>Subject=%{y}<extra></extra>\",\"legendgroup\":\"Active\",\"marker\":{\"color\":\"#636efa\"},\"name\":\"Active\",\"offsetgroup\":\"Active\",\"orientation\":\"h\",\"showlegend\":true,\"textposition\":\"auto\",\"x\":[20000.0,20000.0,20000.0,20000.0,20000.0,20000.0,20000.0,20000.0,20000.0,20000.0,20000.0,20000.0,20000.0,20000.0,20000.0,20000.0,20000.0,20000.0,20000.0,20000.0,20000.0,20000.0,20000.0,20000.0],\"xaxis\":\"x\",\"y\":[\"F1516\",\"F1516\",\"F1516\",\"F1516\",\"F1516\",\"F1516\",\"F1516\",\"F1516\",\"F1516\",\"F1516\",\"F1516\",\"F1516\",\"F1516\",\"F1516\",\"F1516\",\"F1516\",\"F1516\",\"F1516\",\"F1516\",\"F1516\",\"F1516\",\"F1516\",\"F1516\",\"F1516\"],\"yaxis\":\"y\",\"type\":\"bar\"},{\"alignmentgroup\":\"True\",\"base\":[\"2021-11-29T00:32:13\",\"2021-11-29T00:32:13\"],\"hovertemplate\":\"Type=Inactive<br>Start=%{base}<br>End=%{x}<br>Subject=%{y}<extra></extra>\",\"legendgroup\":\"Inactive\",\"marker\":{\"color\":\"#EF553B\"},\"name\":\"Inactive\",\"offsetgroup\":\"Inactive\",\"orientation\":\"h\",\"showlegend\":true,\"textposition\":\"auto\",\"x\":[20000.0,20000.0],\"xaxis\":\"x\",\"y\":[\"F1516\",\"F1516\"],\"yaxis\":\"y\",\"type\":\"bar\"},{\"alignmentgroup\":\"True\",\"base\":[\"2021-11-29T00:31:25\",\"2021-11-29T00:31:45\",\"2021-11-29T00:32:21\",\"2021-11-29T00:33:19\",\"2021-11-29T00:35:05\",\"2021-11-29T00:38:43\",\"2021-11-29T00:40:42\",\"2021-11-29T00:53:33\",\"2021-11-29T00:54:29\",\"2021-11-29T01:02:25\",\"2021-11-29T01:11:44\",\"2021-11-29T01:18:58\",\"2021-11-29T01:59:47\",\"2021-11-29T02:13:09\",\"2021-11-29T02:17:35\",\"2021-11-29T02:17:59\"],\"hovertemplate\":\"Type=Reward<br>Start=%{base}<br>End=%{x}<br>Subject=%{y}<extra></extra>\",\"legendgroup\":\"Reward\",\"marker\":{\"color\":\"#00cc96\"},\"name\":\"Reward\",\"offsetgroup\":\"Reward\",\"orientation\":\"h\",\"showlegend\":true,\"textposition\":\"auto\",\"x\":[20000.0,20000.0,20000.0,20000.0,20000.0,20000.0,20000.0,20000.0,20000.0,20000.0,20000.0,20000.0,20000.0,20000.0,20000.0,20000.0],\"xaxis\":\"x\",\"y\":[\"F1516\",\"F1516\",\"F1516\",\"F1516\",\"F1516\",\"F1516\",\"F1516\",\"F1516\",\"F1516\",\"F1516\",\"F1516\",\"F1516\",\"F1516\",\"F1516\",\"F1516\",\"F1516\"],\"yaxis\":\"y\",\"type\":\"bar\"},{\"alignmentgroup\":\"True\",\"base\":[\"2021-11-29T00:31:29\",\"2021-11-29T00:31:32\",\"2021-11-29T00:31:42\",\"2021-11-29T00:53:37\",\"2021-11-29T00:53:39\",\"2021-11-29T01:59:47\",\"2021-11-29T02:17:54\",\"2021-11-29T02:18:10\"],\"hovertemplate\":\"Type=Timeout<br>Start=%{base}<br>End=%{x}<br>Subject=%{y}<extra></extra>\",\"legendgroup\":\"Timeout\",\"marker\":{\"color\":\"#ab63fa\"},\"name\":\"Timeout\",\"offsetgroup\":\"Timeout\",\"orientation\":\"h\",\"showlegend\":true,\"textposition\":\"auto\",\"x\":[20000.0,20000.0,20000.0,20000.0,20000.0,20000.0,20000.0,20000.0],\"xaxis\":\"x\",\"y\":[\"F1516\",\"F1516\",\"F1516\",\"F1516\",\"F1516\",\"F1516\",\"F1516\",\"F1516\"],\"yaxis\":\"y\",\"type\":\"bar\"}],                        {\"template\":{\"data\":{\"bar\":[{\"error_x\":{\"color\":\"#2a3f5f\"},\"error_y\":{\"color\":\"#2a3f5f\"},\"marker\":{\"line\":{\"color\":\"#E5ECF6\",\"width\":0.5},\"pattern\":{\"fillmode\":\"overlay\",\"size\":10,\"solidity\":0.2}},\"type\":\"bar\"}],\"barpolar\":[{\"marker\":{\"line\":{\"color\":\"#E5ECF6\",\"width\":0.5},\"pattern\":{\"fillmode\":\"overlay\",\"size\":10,\"solidity\":0.2}},\"type\":\"barpolar\"}],\"carpet\":[{\"aaxis\":{\"endlinecolor\":\"#2a3f5f\",\"gridcolor\":\"white\",\"linecolor\":\"white\",\"minorgridcolor\":\"white\",\"startlinecolor\":\"#2a3f5f\"},\"baxis\":{\"endlinecolor\":\"#2a3f5f\",\"gridcolor\":\"white\",\"linecolor\":\"white\",\"minorgridcolor\":\"white\",\"startlinecolor\":\"#2a3f5f\"},\"type\":\"carpet\"}],\"choropleth\":[{\"colorbar\":{\"outlinewidth\":0,\"ticks\":\"\"},\"type\":\"choropleth\"}],\"contour\":[{\"colorbar\":{\"outlinewidth\":0,\"ticks\":\"\"},\"colorscale\":[[0.0,\"#0d0887\"],[0.1111111111111111,\"#46039f\"],[0.2222222222222222,\"#7201a8\"],[0.3333333333333333,\"#9c179e\"],[0.4444444444444444,\"#bd3786\"],[0.5555555555555556,\"#d8576b\"],[0.6666666666666666,\"#ed7953\"],[0.7777777777777778,\"#fb9f3a\"],[0.8888888888888888,\"#fdca26\"],[1.0,\"#f0f921\"]],\"type\":\"contour\"}],\"contourcarpet\":[{\"colorbar\":{\"outlinewidth\":0,\"ticks\":\"\"},\"type\":\"contourcarpet\"}],\"heatmap\":[{\"colorbar\":{\"outlinewidth\":0,\"ticks\":\"\"},\"colorscale\":[[0.0,\"#0d0887\"],[0.1111111111111111,\"#46039f\"],[0.2222222222222222,\"#7201a8\"],[0.3333333333333333,\"#9c179e\"],[0.4444444444444444,\"#bd3786\"],[0.5555555555555556,\"#d8576b\"],[0.6666666666666666,\"#ed7953\"],[0.7777777777777778,\"#fb9f3a\"],[0.8888888888888888,\"#fdca26\"],[1.0,\"#f0f921\"]],\"type\":\"heatmap\"}],\"heatmapgl\":[{\"colorbar\":{\"outlinewidth\":0,\"ticks\":\"\"},\"colorscale\":[[0.0,\"#0d0887\"],[0.1111111111111111,\"#46039f\"],[0.2222222222222222,\"#7201a8\"],[0.3333333333333333,\"#9c179e\"],[0.4444444444444444,\"#bd3786\"],[0.5555555555555556,\"#d8576b\"],[0.6666666666666666,\"#ed7953\"],[0.7777777777777778,\"#fb9f3a\"],[0.8888888888888888,\"#fdca26\"],[1.0,\"#f0f921\"]],\"type\":\"heatmapgl\"}],\"histogram\":[{\"marker\":{\"pattern\":{\"fillmode\":\"overlay\",\"size\":10,\"solidity\":0.2}},\"type\":\"histogram\"}],\"histogram2d\":[{\"colorbar\":{\"outlinewidth\":0,\"ticks\":\"\"},\"colorscale\":[[0.0,\"#0d0887\"],[0.1111111111111111,\"#46039f\"],[0.2222222222222222,\"#7201a8\"],[0.3333333333333333,\"#9c179e\"],[0.4444444444444444,\"#bd3786\"],[0.5555555555555556,\"#d8576b\"],[0.6666666666666666,\"#ed7953\"],[0.7777777777777778,\"#fb9f3a\"],[0.8888888888888888,\"#fdca26\"],[1.0,\"#f0f921\"]],\"type\":\"histogram2d\"}],\"histogram2dcontour\":[{\"colorbar\":{\"outlinewidth\":0,\"ticks\":\"\"},\"colorscale\":[[0.0,\"#0d0887\"],[0.1111111111111111,\"#46039f\"],[0.2222222222222222,\"#7201a8\"],[0.3333333333333333,\"#9c179e\"],[0.4444444444444444,\"#bd3786\"],[0.5555555555555556,\"#d8576b\"],[0.6666666666666666,\"#ed7953\"],[0.7777777777777778,\"#fb9f3a\"],[0.8888888888888888,\"#fdca26\"],[1.0,\"#f0f921\"]],\"type\":\"histogram2dcontour\"}],\"mesh3d\":[{\"colorbar\":{\"outlinewidth\":0,\"ticks\":\"\"},\"type\":\"mesh3d\"}],\"parcoords\":[{\"line\":{\"colorbar\":{\"outlinewidth\":0,\"ticks\":\"\"}},\"type\":\"parcoords\"}],\"pie\":[{\"automargin\":true,\"type\":\"pie\"}],\"scatter\":[{\"marker\":{\"colorbar\":{\"outlinewidth\":0,\"ticks\":\"\"}},\"type\":\"scatter\"}],\"scatter3d\":[{\"line\":{\"colorbar\":{\"outlinewidth\":0,\"ticks\":\"\"}},\"marker\":{\"colorbar\":{\"outlinewidth\":0,\"ticks\":\"\"}},\"type\":\"scatter3d\"}],\"scattercarpet\":[{\"marker\":{\"colorbar\":{\"outlinewidth\":0,\"ticks\":\"\"}},\"type\":\"scattercarpet\"}],\"scattergeo\":[{\"marker\":{\"colorbar\":{\"outlinewidth\":0,\"ticks\":\"\"}},\"type\":\"scattergeo\"}],\"scattergl\":[{\"marker\":{\"colorbar\":{\"outlinewidth\":0,\"ticks\":\"\"}},\"type\":\"scattergl\"}],\"scattermapbox\":[{\"marker\":{\"colorbar\":{\"outlinewidth\":0,\"ticks\":\"\"}},\"type\":\"scattermapbox\"}],\"scatterpolar\":[{\"marker\":{\"colorbar\":{\"outlinewidth\":0,\"ticks\":\"\"}},\"type\":\"scatterpolar\"}],\"scatterpolargl\":[{\"marker\":{\"colorbar\":{\"outlinewidth\":0,\"ticks\":\"\"}},\"type\":\"scatterpolargl\"}],\"scatterternary\":[{\"marker\":{\"colorbar\":{\"outlinewidth\":0,\"ticks\":\"\"}},\"type\":\"scatterternary\"}],\"surface\":[{\"colorbar\":{\"outlinewidth\":0,\"ticks\":\"\"},\"colorscale\":[[0.0,\"#0d0887\"],[0.1111111111111111,\"#46039f\"],[0.2222222222222222,\"#7201a8\"],[0.3333333333333333,\"#9c179e\"],[0.4444444444444444,\"#bd3786\"],[0.5555555555555556,\"#d8576b\"],[0.6666666666666666,\"#ed7953\"],[0.7777777777777778,\"#fb9f3a\"],[0.8888888888888888,\"#fdca26\"],[1.0,\"#f0f921\"]],\"type\":\"surface\"}],\"table\":[{\"cells\":{\"fill\":{\"color\":\"#EBF0F8\"},\"line\":{\"color\":\"white\"}},\"header\":{\"fill\":{\"color\":\"#C8D4E3\"},\"line\":{\"color\":\"white\"}},\"type\":\"table\"}]},\"layout\":{\"annotationdefaults\":{\"arrowcolor\":\"#2a3f5f\",\"arrowhead\":0,\"arrowwidth\":1},\"autotypenumbers\":\"strict\",\"coloraxis\":{\"colorbar\":{\"outlinewidth\":0,\"ticks\":\"\"}},\"colorscale\":{\"diverging\":[[0,\"#8e0152\"],[0.1,\"#c51b7d\"],[0.2,\"#de77ae\"],[0.3,\"#f1b6da\"],[0.4,\"#fde0ef\"],[0.5,\"#f7f7f7\"],[0.6,\"#e6f5d0\"],[0.7,\"#b8e186\"],[0.8,\"#7fbc41\"],[0.9,\"#4d9221\"],[1,\"#276419\"]],\"sequential\":[[0.0,\"#0d0887\"],[0.1111111111111111,\"#46039f\"],[0.2222222222222222,\"#7201a8\"],[0.3333333333333333,\"#9c179e\"],[0.4444444444444444,\"#bd3786\"],[0.5555555555555556,\"#d8576b\"],[0.6666666666666666,\"#ed7953\"],[0.7777777777777778,\"#fb9f3a\"],[0.8888888888888888,\"#fdca26\"],[1.0,\"#f0f921\"]],\"sequentialminus\":[[0.0,\"#0d0887\"],[0.1111111111111111,\"#46039f\"],[0.2222222222222222,\"#7201a8\"],[0.3333333333333333,\"#9c179e\"],[0.4444444444444444,\"#bd3786\"],[0.5555555555555556,\"#d8576b\"],[0.6666666666666666,\"#ed7953\"],[0.7777777777777778,\"#fb9f3a\"],[0.8888888888888888,\"#fdca26\"],[1.0,\"#f0f921\"]]},\"colorway\":[\"#636efa\",\"#EF553B\",\"#00cc96\",\"#ab63fa\",\"#FFA15A\",\"#19d3f3\",\"#FF6692\",\"#B6E880\",\"#FF97FF\",\"#FECB52\"],\"font\":{\"color\":\"#2a3f5f\"},\"geo\":{\"bgcolor\":\"white\",\"lakecolor\":\"white\",\"landcolor\":\"#E5ECF6\",\"showlakes\":true,\"showland\":true,\"subunitcolor\":\"white\"},\"hoverlabel\":{\"align\":\"left\"},\"hovermode\":\"closest\",\"mapbox\":{\"style\":\"light\"},\"paper_bgcolor\":\"white\",\"plot_bgcolor\":\"#E5ECF6\",\"polar\":{\"angularaxis\":{\"gridcolor\":\"white\",\"linecolor\":\"white\",\"ticks\":\"\"},\"bgcolor\":\"#E5ECF6\",\"radialaxis\":{\"gridcolor\":\"white\",\"linecolor\":\"white\",\"ticks\":\"\"}},\"scene\":{\"xaxis\":{\"backgroundcolor\":\"#E5ECF6\",\"gridcolor\":\"white\",\"gridwidth\":2,\"linecolor\":\"white\",\"showbackground\":true,\"ticks\":\"\",\"zerolinecolor\":\"white\"},\"yaxis\":{\"backgroundcolor\":\"#E5ECF6\",\"gridcolor\":\"white\",\"gridwidth\":2,\"linecolor\":\"white\",\"showbackground\":true,\"ticks\":\"\",\"zerolinecolor\":\"white\"},\"zaxis\":{\"backgroundcolor\":\"#E5ECF6\",\"gridcolor\":\"white\",\"gridwidth\":2,\"linecolor\":\"white\",\"showbackground\":true,\"ticks\":\"\",\"zerolinecolor\":\"white\"}},\"shapedefaults\":{\"line\":{\"color\":\"#2a3f5f\"}},\"ternary\":{\"aaxis\":{\"gridcolor\":\"white\",\"linecolor\":\"white\",\"ticks\":\"\"},\"baxis\":{\"gridcolor\":\"white\",\"linecolor\":\"white\",\"ticks\":\"\"},\"bgcolor\":\"#E5ECF6\",\"caxis\":{\"gridcolor\":\"white\",\"linecolor\":\"white\",\"ticks\":\"\"}},\"title\":{\"x\":0.05},\"xaxis\":{\"automargin\":true,\"gridcolor\":\"white\",\"linecolor\":\"white\",\"ticks\":\"\",\"title\":{\"standoff\":15},\"zerolinecolor\":\"white\",\"zerolinewidth\":2},\"yaxis\":{\"automargin\":true,\"gridcolor\":\"white\",\"linecolor\":\"white\",\"ticks\":\"\",\"title\":{\"standoff\":15},\"zerolinecolor\":\"white\",\"zerolinewidth\":2}}},\"xaxis\":{\"anchor\":\"y\",\"domain\":[0.0,1.0],\"type\":\"date\",\"tickformat\":\"%H:%M:%S\",\"tickformatstops\":[{\"dtickrange\":[1800000,10800000],\"value\":\"%H:%M\"}]},\"yaxis\":{\"anchor\":\"x\",\"domain\":[0.0,1.0],\"title\":{\"text\":\"Subject\"},\"categoryorder\":\"category ascending\"},\"legend\":{\"title\":{\"text\":\"Type\"},\"tracegroupgap\":0},\"margin\":{\"t\":60},\"barmode\":\"overlay\",\"plot_bgcolor\":\"rgba(0, 0, 0, 0)\",\"paper_bgcolor\":\"rgba(0, 0, 0, 0)\"},                        {\"responsive\": true}                    ).then(function(){\n",
       "                            \n",
       "var gd = document.getElementById('2b5eb79c-5e98-4107-bb52-4d4b955c9dbd');\n",
       "var x = new MutationObserver(function (mutations, observer) {{\n",
       "        var display = window.getComputedStyle(gd).display;\n",
       "        if (!display || display === 'none') {{\n",
       "            console.log([gd, 'removed!']);\n",
       "            Plotly.purge(gd);\n",
       "            observer.disconnect();\n",
       "        }}\n",
       "}});\n",
       "\n",
       "// Listen for the removal of the full notebook cells\n",
       "var notebookContainer = gd.closest('#notebook-container');\n",
       "if (notebookContainer) {{\n",
       "    x.observe(notebookContainer, {childList: true});\n",
       "}}\n",
       "\n",
       "// Listen for the clearing of the current output cell\n",
       "var outputEl = gd.closest('.output');\n",
       "if (outputEl) {{\n",
       "    x.observe(outputEl, {childList: true});\n",
       "}}\n",
       "\n",
       "                        })                };                });            </script>        </div>"
      ]
     },
     "metadata": {},
     "output_type": "display_data"
    }
   ],
   "source": [
    "make_timeline(timeline_data[timeline_data['Subject']==\"F1516\"])"
   ]
  },
  {
   "cell_type": "code",
   "execution_count": null,
   "id": "impressed-honolulu",
   "metadata": {},
   "outputs": [],
   "source": []
  }
 ],
 "metadata": {
  "kernelspec": {
   "display_name": "Python 3",
   "language": "python",
   "name": "python3"
  },
  "language_info": {
   "codemirror_mode": {
    "name": "ipython",
    "version": 3
   },
   "file_extension": ".py",
   "mimetype": "text/x-python",
   "name": "python",
   "nbconvert_exporter": "python",
   "pygments_lexer": "ipython3",
   "version": "3.9.1"
  }
 },
 "nbformat": 4,
 "nbformat_minor": 5
}
